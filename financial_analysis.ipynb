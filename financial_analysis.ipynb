{
 "cells": [
  {
   "cell_type": "code",
   "execution_count": 1,
   "metadata": {},
   "outputs": [
    {
     "data": {
      "text/html": [
       "        <script type=\"text/javascript\">\n",
       "        window.PlotlyConfig = {MathJaxConfig: 'local'};\n",
       "        if (window.MathJax && window.MathJax.Hub && window.MathJax.Hub.Config) {window.MathJax.Hub.Config({SVG: {font: \"STIX-Web\"}});}\n",
       "        if (typeof require !== 'undefined') {\n",
       "        require.undef(\"plotly\");\n",
       "        requirejs.config({\n",
       "            paths: {\n",
       "                'plotly': ['https://cdn.plot.ly/plotly-2.34.0.min']\n",
       "            }\n",
       "        });\n",
       "        require(['plotly'], function(Plotly) {\n",
       "            window._Plotly = Plotly;\n",
       "        });\n",
       "        }\n",
       "        </script>\n",
       "        "
      ]
     },
     "metadata": {},
     "output_type": "display_data"
    }
   ],
   "source": [
    "import finance as fn\n",
    "from finance import ReadData\n",
    "from finance import DataSummary\n",
    "from finance import ReturnAnalysis\n",
    "from finance import VolatilityAnalysis\n",
    "from finance import MovinAverageAnalysis"
   ]
  },
  {
   "cell_type": "markdown",
   "metadata": {},
   "source": [
    "# Read the DataFrame"
   ]
  },
  {
   "cell_type": "code",
   "execution_count": 2,
   "metadata": {},
   "outputs": [],
   "source": [
    "r = ReadData(start='2023-01-01',end='2024-02-01')"
   ]
  },
  {
   "cell_type": "code",
   "execution_count": 3,
   "metadata": {},
   "outputs": [
    {
     "name": "stderr",
     "output_type": "stream",
     "text": [
      "[*********************100%***********************]  1 of 1 completed\n",
      "[*********************100%***********************]  1 of 1 completed\n"
     ]
    }
   ],
   "source": [
    "df = r.read_dataframe(ticker='TCS')\n",
    "market_data = r.market_dataframe(ticker=\"NSEI\")"
   ]
  },
  {
   "cell_type": "code",
   "execution_count": 4,
   "metadata": {},
   "outputs": [
    {
     "data": {
      "text/plain": [
       "(266, 7)"
      ]
     },
     "execution_count": 4,
     "metadata": {},
     "output_type": "execute_result"
    }
   ],
   "source": [
    "df.shape"
   ]
  },
  {
   "cell_type": "code",
   "execution_count": 5,
   "metadata": {},
   "outputs": [
    {
     "data": {
      "text/plain": [
       "(266, 7)"
      ]
     },
     "execution_count": 5,
     "metadata": {},
     "output_type": "execute_result"
    }
   ],
   "source": [
    "market_data.shape"
   ]
  },
  {
   "cell_type": "code",
   "execution_count": 6,
   "metadata": {},
   "outputs": [
    {
     "data": {
      "text/html": [
       "<div>\n",
       "<style scoped>\n",
       "    .dataframe tbody tr th:only-of-type {\n",
       "        vertical-align: middle;\n",
       "    }\n",
       "\n",
       "    .dataframe tbody tr th {\n",
       "        vertical-align: top;\n",
       "    }\n",
       "\n",
       "    .dataframe thead th {\n",
       "        text-align: right;\n",
       "    }\n",
       "</style>\n",
       "<table border=\"1\" class=\"dataframe\">\n",
       "  <thead>\n",
       "    <tr style=\"text-align: right;\">\n",
       "      <th></th>\n",
       "      <th>Date</th>\n",
       "      <th>Open</th>\n",
       "      <th>High</th>\n",
       "      <th>Low</th>\n",
       "      <th>Close</th>\n",
       "      <th>Adj Close</th>\n",
       "      <th>Volume</th>\n",
       "    </tr>\n",
       "  </thead>\n",
       "  <tbody>\n",
       "    <tr>\n",
       "      <th>0</th>\n",
       "      <td>2023-01-02</td>\n",
       "      <td>18131.699219</td>\n",
       "      <td>18215.150391</td>\n",
       "      <td>18086.500000</td>\n",
       "      <td>18197.449219</td>\n",
       "      <td>18197.449219</td>\n",
       "      <td>256100</td>\n",
       "    </tr>\n",
       "    <tr>\n",
       "      <th>1</th>\n",
       "      <td>2023-01-03</td>\n",
       "      <td>18163.199219</td>\n",
       "      <td>18251.949219</td>\n",
       "      <td>18149.800781</td>\n",
       "      <td>18232.550781</td>\n",
       "      <td>18232.550781</td>\n",
       "      <td>208700</td>\n",
       "    </tr>\n",
       "    <tr>\n",
       "      <th>2</th>\n",
       "      <td>2023-01-04</td>\n",
       "      <td>18230.650391</td>\n",
       "      <td>18243.000000</td>\n",
       "      <td>18020.599609</td>\n",
       "      <td>18042.949219</td>\n",
       "      <td>18042.949219</td>\n",
       "      <td>235200</td>\n",
       "    </tr>\n",
       "    <tr>\n",
       "      <th>3</th>\n",
       "      <td>2023-01-05</td>\n",
       "      <td>18101.949219</td>\n",
       "      <td>18120.300781</td>\n",
       "      <td>17892.599609</td>\n",
       "      <td>17992.150391</td>\n",
       "      <td>17992.150391</td>\n",
       "      <td>269900</td>\n",
       "    </tr>\n",
       "    <tr>\n",
       "      <th>4</th>\n",
       "      <td>2023-01-06</td>\n",
       "      <td>18008.050781</td>\n",
       "      <td>18047.400391</td>\n",
       "      <td>17795.550781</td>\n",
       "      <td>17859.449219</td>\n",
       "      <td>17859.449219</td>\n",
       "      <td>238200</td>\n",
       "    </tr>\n",
       "    <tr>\n",
       "      <th>...</th>\n",
       "      <td>...</td>\n",
       "      <td>...</td>\n",
       "      <td>...</td>\n",
       "      <td>...</td>\n",
       "      <td>...</td>\n",
       "      <td>...</td>\n",
       "      <td>...</td>\n",
       "    </tr>\n",
       "    <tr>\n",
       "      <th>261</th>\n",
       "      <td>2024-01-24</td>\n",
       "      <td>21185.250000</td>\n",
       "      <td>21482.349609</td>\n",
       "      <td>21137.199219</td>\n",
       "      <td>21453.949219</td>\n",
       "      <td>21453.949219</td>\n",
       "      <td>407500</td>\n",
       "    </tr>\n",
       "    <tr>\n",
       "      <th>262</th>\n",
       "      <td>2024-01-25</td>\n",
       "      <td>21454.599609</td>\n",
       "      <td>21459.000000</td>\n",
       "      <td>21247.050781</td>\n",
       "      <td>21352.599609</td>\n",
       "      <td>21352.599609</td>\n",
       "      <td>418100</td>\n",
       "    </tr>\n",
       "    <tr>\n",
       "      <th>263</th>\n",
       "      <td>2024-01-29</td>\n",
       "      <td>21433.099609</td>\n",
       "      <td>21763.250000</td>\n",
       "      <td>21429.599609</td>\n",
       "      <td>21737.599609</td>\n",
       "      <td>21737.599609</td>\n",
       "      <td>376700</td>\n",
       "    </tr>\n",
       "    <tr>\n",
       "      <th>264</th>\n",
       "      <td>2024-01-30</td>\n",
       "      <td>21775.750000</td>\n",
       "      <td>21813.050781</td>\n",
       "      <td>21501.800781</td>\n",
       "      <td>21522.099609</td>\n",
       "      <td>21522.099609</td>\n",
       "      <td>375100</td>\n",
       "    </tr>\n",
       "    <tr>\n",
       "      <th>265</th>\n",
       "      <td>2024-01-31</td>\n",
       "      <td>21487.250000</td>\n",
       "      <td>21741.349609</td>\n",
       "      <td>21448.849609</td>\n",
       "      <td>21725.699219</td>\n",
       "      <td>21725.699219</td>\n",
       "      <td>410600</td>\n",
       "    </tr>\n",
       "  </tbody>\n",
       "</table>\n",
       "<p>266 rows × 7 columns</p>\n",
       "</div>"
      ],
      "text/plain": [
       "          Date          Open          High           Low         Close  \\\n",
       "0   2023-01-02  18131.699219  18215.150391  18086.500000  18197.449219   \n",
       "1   2023-01-03  18163.199219  18251.949219  18149.800781  18232.550781   \n",
       "2   2023-01-04  18230.650391  18243.000000  18020.599609  18042.949219   \n",
       "3   2023-01-05  18101.949219  18120.300781  17892.599609  17992.150391   \n",
       "4   2023-01-06  18008.050781  18047.400391  17795.550781  17859.449219   \n",
       "..         ...           ...           ...           ...           ...   \n",
       "261 2024-01-24  21185.250000  21482.349609  21137.199219  21453.949219   \n",
       "262 2024-01-25  21454.599609  21459.000000  21247.050781  21352.599609   \n",
       "263 2024-01-29  21433.099609  21763.250000  21429.599609  21737.599609   \n",
       "264 2024-01-30  21775.750000  21813.050781  21501.800781  21522.099609   \n",
       "265 2024-01-31  21487.250000  21741.349609  21448.849609  21725.699219   \n",
       "\n",
       "        Adj Close  Volume  \n",
       "0    18197.449219  256100  \n",
       "1    18232.550781  208700  \n",
       "2    18042.949219  235200  \n",
       "3    17992.150391  269900  \n",
       "4    17859.449219  238200  \n",
       "..            ...     ...  \n",
       "261  21453.949219  407500  \n",
       "262  21352.599609  418100  \n",
       "263  21737.599609  376700  \n",
       "264  21522.099609  375100  \n",
       "265  21725.699219  410600  \n",
       "\n",
       "[266 rows x 7 columns]"
      ]
     },
     "execution_count": 6,
     "metadata": {},
     "output_type": "execute_result"
    }
   ],
   "source": [
    "market_data"
   ]
  },
  {
   "cell_type": "code",
   "execution_count": 7,
   "metadata": {},
   "outputs": [],
   "source": [
    "newdf = df.set_index('Date')\n",
    "market_df = market_data.set_index('Date')"
   ]
  },
  {
   "cell_type": "code",
   "execution_count": 8,
   "metadata": {},
   "outputs": [
    {
     "data": {
      "text/html": [
       "<div>\n",
       "<style scoped>\n",
       "    .dataframe tbody tr th:only-of-type {\n",
       "        vertical-align: middle;\n",
       "    }\n",
       "\n",
       "    .dataframe tbody tr th {\n",
       "        vertical-align: top;\n",
       "    }\n",
       "\n",
       "    .dataframe thead th {\n",
       "        text-align: right;\n",
       "    }\n",
       "</style>\n",
       "<table border=\"1\" class=\"dataframe\">\n",
       "  <thead>\n",
       "    <tr style=\"text-align: right;\">\n",
       "      <th></th>\n",
       "      <th>Open</th>\n",
       "      <th>High</th>\n",
       "      <th>Low</th>\n",
       "      <th>Close</th>\n",
       "      <th>Adj Close</th>\n",
       "      <th>Volume</th>\n",
       "    </tr>\n",
       "    <tr>\n",
       "      <th>Date</th>\n",
       "      <th></th>\n",
       "      <th></th>\n",
       "      <th></th>\n",
       "      <th></th>\n",
       "      <th></th>\n",
       "      <th></th>\n",
       "    </tr>\n",
       "  </thead>\n",
       "  <tbody>\n",
       "    <tr>\n",
       "      <th>2023-01-02</th>\n",
       "      <td>3261.000000</td>\n",
       "      <td>3266.850098</td>\n",
       "      <td>3235.199951</td>\n",
       "      <td>3261.449951</td>\n",
       "      <td>3160.044434</td>\n",
       "      <td>709547</td>\n",
       "    </tr>\n",
       "    <tr>\n",
       "      <th>2023-01-03</th>\n",
       "      <td>3252.000000</td>\n",
       "      <td>3320.000000</td>\n",
       "      <td>3245.300049</td>\n",
       "      <td>3311.350098</td>\n",
       "      <td>3208.393311</td>\n",
       "      <td>1245178</td>\n",
       "    </tr>\n",
       "    <tr>\n",
       "      <th>2023-01-04</th>\n",
       "      <td>3306.699951</td>\n",
       "      <td>3327.350098</td>\n",
       "      <td>3286.199951</td>\n",
       "      <td>3314.649902</td>\n",
       "      <td>3211.590576</td>\n",
       "      <td>1231668</td>\n",
       "    </tr>\n",
       "    <tr>\n",
       "      <th>2023-01-05</th>\n",
       "      <td>3330.199951</td>\n",
       "      <td>3337.300049</td>\n",
       "      <td>3281.949951</td>\n",
       "      <td>3311.100098</td>\n",
       "      <td>3208.151123</td>\n",
       "      <td>1826057</td>\n",
       "    </tr>\n",
       "    <tr>\n",
       "      <th>2023-01-06</th>\n",
       "      <td>3300.000000</td>\n",
       "      <td>3301.550049</td>\n",
       "      <td>3200.000000</td>\n",
       "      <td>3211.550049</td>\n",
       "      <td>3111.695801</td>\n",
       "      <td>2488376</td>\n",
       "    </tr>\n",
       "    <tr>\n",
       "      <th>...</th>\n",
       "      <td>...</td>\n",
       "      <td>...</td>\n",
       "      <td>...</td>\n",
       "      <td>...</td>\n",
       "      <td>...</td>\n",
       "      <td>...</td>\n",
       "    </tr>\n",
       "    <tr>\n",
       "      <th>2024-01-24</th>\n",
       "      <td>3880.000000</td>\n",
       "      <td>3883.649902</td>\n",
       "      <td>3805.600098</td>\n",
       "      <td>3841.800049</td>\n",
       "      <td>3795.979980</td>\n",
       "      <td>2657709</td>\n",
       "    </tr>\n",
       "    <tr>\n",
       "      <th>2024-01-25</th>\n",
       "      <td>3839.899902</td>\n",
       "      <td>3861.000000</td>\n",
       "      <td>3778.699951</td>\n",
       "      <td>3810.300049</td>\n",
       "      <td>3764.855713</td>\n",
       "      <td>2205154</td>\n",
       "    </tr>\n",
       "    <tr>\n",
       "      <th>2024-01-29</th>\n",
       "      <td>3800.800049</td>\n",
       "      <td>3820.000000</td>\n",
       "      <td>3780.850098</td>\n",
       "      <td>3801.000000</td>\n",
       "      <td>3755.666504</td>\n",
       "      <td>1646747</td>\n",
       "    </tr>\n",
       "    <tr>\n",
       "      <th>2024-01-30</th>\n",
       "      <td>3807.449951</td>\n",
       "      <td>3847.800049</td>\n",
       "      <td>3787.000000</td>\n",
       "      <td>3800.550049</td>\n",
       "      <td>3755.222168</td>\n",
       "      <td>1411621</td>\n",
       "    </tr>\n",
       "    <tr>\n",
       "      <th>2024-01-31</th>\n",
       "      <td>3811.199951</td>\n",
       "      <td>3834.000000</td>\n",
       "      <td>3796.449951</td>\n",
       "      <td>3815.949951</td>\n",
       "      <td>3770.438232</td>\n",
       "      <td>2459358</td>\n",
       "    </tr>\n",
       "  </tbody>\n",
       "</table>\n",
       "<p>266 rows × 6 columns</p>\n",
       "</div>"
      ],
      "text/plain": [
       "                   Open         High          Low        Close    Adj Close  \\\n",
       "Date                                                                          \n",
       "2023-01-02  3261.000000  3266.850098  3235.199951  3261.449951  3160.044434   \n",
       "2023-01-03  3252.000000  3320.000000  3245.300049  3311.350098  3208.393311   \n",
       "2023-01-04  3306.699951  3327.350098  3286.199951  3314.649902  3211.590576   \n",
       "2023-01-05  3330.199951  3337.300049  3281.949951  3311.100098  3208.151123   \n",
       "2023-01-06  3300.000000  3301.550049  3200.000000  3211.550049  3111.695801   \n",
       "...                 ...          ...          ...          ...          ...   \n",
       "2024-01-24  3880.000000  3883.649902  3805.600098  3841.800049  3795.979980   \n",
       "2024-01-25  3839.899902  3861.000000  3778.699951  3810.300049  3764.855713   \n",
       "2024-01-29  3800.800049  3820.000000  3780.850098  3801.000000  3755.666504   \n",
       "2024-01-30  3807.449951  3847.800049  3787.000000  3800.550049  3755.222168   \n",
       "2024-01-31  3811.199951  3834.000000  3796.449951  3815.949951  3770.438232   \n",
       "\n",
       "             Volume  \n",
       "Date                 \n",
       "2023-01-02   709547  \n",
       "2023-01-03  1245178  \n",
       "2023-01-04  1231668  \n",
       "2023-01-05  1826057  \n",
       "2023-01-06  2488376  \n",
       "...             ...  \n",
       "2024-01-24  2657709  \n",
       "2024-01-25  2205154  \n",
       "2024-01-29  1646747  \n",
       "2024-01-30  1411621  \n",
       "2024-01-31  2459358  \n",
       "\n",
       "[266 rows x 6 columns]"
      ]
     },
     "execution_count": 8,
     "metadata": {},
     "output_type": "execute_result"
    }
   ],
   "source": [
    "newdf"
   ]
  },
  {
   "cell_type": "markdown",
   "metadata": {},
   "source": [
    "# Data Aggegration\n",
    "\n",
    "getting the average of 'Close' based on Month or Week "
   ]
  },
  {
   "cell_type": "code",
   "execution_count": 9,
   "metadata": {},
   "outputs": [],
   "source": [
    "# aggegration based on month\n",
    "data = DataSummary.summarized_data(dataframe=newdf,frequency='ME',featurename='Close')"
   ]
  },
  {
   "cell_type": "code",
   "execution_count": 10,
   "metadata": {},
   "outputs": [
    {
     "data": {
      "text/html": [
       "<div>\n",
       "<style scoped>\n",
       "    .dataframe tbody tr th:only-of-type {\n",
       "        vertical-align: middle;\n",
       "    }\n",
       "\n",
       "    .dataframe tbody tr th {\n",
       "        vertical-align: top;\n",
       "    }\n",
       "\n",
       "    .dataframe thead th {\n",
       "        text-align: right;\n",
       "    }\n",
       "</style>\n",
       "<table border=\"1\" class=\"dataframe\">\n",
       "  <thead>\n",
       "    <tr style=\"text-align: right;\">\n",
       "      <th></th>\n",
       "      <th>Close</th>\n",
       "    </tr>\n",
       "    <tr>\n",
       "      <th>Date</th>\n",
       "      <th></th>\n",
       "    </tr>\n",
       "  </thead>\n",
       "  <tbody>\n",
       "    <tr>\n",
       "      <th>2023-01-31</th>\n",
       "      <td>3351.288098</td>\n",
       "    </tr>\n",
       "    <tr>\n",
       "      <th>2023-02-28</th>\n",
       "      <td>3462.160022</td>\n",
       "    </tr>\n",
       "    <tr>\n",
       "      <th>2023-03-31</th>\n",
       "      <td>3226.088077</td>\n",
       "    </tr>\n",
       "    <tr>\n",
       "      <th>2023-04-30</th>\n",
       "      <td>3185.285300</td>\n",
       "    </tr>\n",
       "    <tr>\n",
       "      <th>2023-05-31</th>\n",
       "      <td>3264.543180</td>\n",
       "    </tr>\n",
       "    <tr>\n",
       "      <th>2023-06-30</th>\n",
       "      <td>3240.959508</td>\n",
       "    </tr>\n",
       "    <tr>\n",
       "      <th>2023-07-31</th>\n",
       "      <td>3374.230934</td>\n",
       "    </tr>\n",
       "    <tr>\n",
       "      <th>2023-08-31</th>\n",
       "      <td>3418.450007</td>\n",
       "    </tr>\n",
       "    <tr>\n",
       "      <th>2023-09-30</th>\n",
       "      <td>3528.019995</td>\n",
       "    </tr>\n",
       "    <tr>\n",
       "      <th>2023-10-31</th>\n",
       "      <td>3497.835010</td>\n",
       "    </tr>\n",
       "    <tr>\n",
       "      <th>2023-11-30</th>\n",
       "      <td>3429.387500</td>\n",
       "    </tr>\n",
       "    <tr>\n",
       "      <th>2023-12-31</th>\n",
       "      <td>3705.259985</td>\n",
       "    </tr>\n",
       "    <tr>\n",
       "      <th>2024-01-31</th>\n",
       "      <td>3800.645264</td>\n",
       "    </tr>\n",
       "  </tbody>\n",
       "</table>\n",
       "</div>"
      ],
      "text/plain": [
       "                  Close\n",
       "Date                   \n",
       "2023-01-31  3351.288098\n",
       "2023-02-28  3462.160022\n",
       "2023-03-31  3226.088077\n",
       "2023-04-30  3185.285300\n",
       "2023-05-31  3264.543180\n",
       "2023-06-30  3240.959508\n",
       "2023-07-31  3374.230934\n",
       "2023-08-31  3418.450007\n",
       "2023-09-30  3528.019995\n",
       "2023-10-31  3497.835010\n",
       "2023-11-30  3429.387500\n",
       "2023-12-31  3705.259985\n",
       "2024-01-31  3800.645264"
      ]
     },
     "execution_count": 10,
     "metadata": {},
     "output_type": "execute_result"
    }
   ],
   "source": [
    "data"
   ]
  },
  {
   "cell_type": "markdown",
   "metadata": {},
   "source": [
    "# Difference between Avg Open and Avg Close Summarized by Week or Month\n",
    "\n",
    "Analyzing the difference between Open and Close helps us to intrepret the overall performance of the stock Aggegrated to Week or Month"
   ]
  },
  {
   "cell_type": "code",
   "execution_count": 11,
   "metadata": {},
   "outputs": [],
   "source": [
    "difference_data = DataSummary.bullish_or_bearish_summary(dataframe=newdf,frequency='W',featurename='Close')"
   ]
  },
  {
   "cell_type": "code",
   "execution_count": 12,
   "metadata": {},
   "outputs": [
    {
     "data": {
      "text/html": [
       "<div>\n",
       "<style scoped>\n",
       "    .dataframe tbody tr th:only-of-type {\n",
       "        vertical-align: middle;\n",
       "    }\n",
       "\n",
       "    .dataframe tbody tr th {\n",
       "        vertical-align: top;\n",
       "    }\n",
       "\n",
       "    .dataframe thead th {\n",
       "        text-align: right;\n",
       "    }\n",
       "</style>\n",
       "<table border=\"1\" class=\"dataframe\">\n",
       "  <thead>\n",
       "    <tr style=\"text-align: right;\">\n",
       "      <th></th>\n",
       "      <th>open_close_difference</th>\n",
       "    </tr>\n",
       "    <tr>\n",
       "      <th>Date</th>\n",
       "      <th></th>\n",
       "    </tr>\n",
       "  </thead>\n",
       "  <tbody>\n",
       "    <tr>\n",
       "      <th>2023-01-08</th>\n",
       "      <td>-7.959961</td>\n",
       "    </tr>\n",
       "    <tr>\n",
       "      <th>2023-01-15</th>\n",
       "      <td>33.589990</td>\n",
       "    </tr>\n",
       "    <tr>\n",
       "      <th>2023-01-22</th>\n",
       "      <td>13.330029</td>\n",
       "    </tr>\n",
       "    <tr>\n",
       "      <th>2023-01-29</th>\n",
       "      <td>6.924988</td>\n",
       "    </tr>\n",
       "    <tr>\n",
       "      <th>2023-02-05</th>\n",
       "      <td>-3.920020</td>\n",
       "    </tr>\n",
       "    <tr>\n",
       "      <th>2023-02-12</th>\n",
       "      <td>15.180078</td>\n",
       "    </tr>\n",
       "    <tr>\n",
       "      <th>2023-02-19</th>\n",
       "      <td>-6.400000</td>\n",
       "    </tr>\n",
       "    <tr>\n",
       "      <th>2023-02-26</th>\n",
       "      <td>-20.069971</td>\n",
       "    </tr>\n",
       "    <tr>\n",
       "      <th>2023-03-05</th>\n",
       "      <td>-12.500000</td>\n",
       "    </tr>\n",
       "    <tr>\n",
       "      <th>2023-03-12</th>\n",
       "      <td>1.575073</td>\n",
       "    </tr>\n",
       "    <tr>\n",
       "      <th>2023-03-19</th>\n",
       "      <td>-32.280029</td>\n",
       "    </tr>\n",
       "    <tr>\n",
       "      <th>2023-03-26</th>\n",
       "      <td>-16.289941</td>\n",
       "    </tr>\n",
       "    <tr>\n",
       "      <th>2023-04-02</th>\n",
       "      <td>0.512451</td>\n",
       "    </tr>\n",
       "    <tr>\n",
       "      <th>2023-04-09</th>\n",
       "      <td>8.350016</td>\n",
       "    </tr>\n",
       "    <tr>\n",
       "      <th>2023-04-16</th>\n",
       "      <td>-3.562500</td>\n",
       "    </tr>\n",
       "    <tr>\n",
       "      <th>2023-04-23</th>\n",
       "      <td>1.140039</td>\n",
       "    </tr>\n",
       "    <tr>\n",
       "      <th>2023-04-30</th>\n",
       "      <td>11.129980</td>\n",
       "    </tr>\n",
       "    <tr>\n",
       "      <th>2023-05-07</th>\n",
       "      <td>-0.112549</td>\n",
       "    </tr>\n",
       "    <tr>\n",
       "      <th>2023-05-14</th>\n",
       "      <td>0.270020</td>\n",
       "    </tr>\n",
       "    <tr>\n",
       "      <th>2023-05-21</th>\n",
       "      <td>-17.499951</td>\n",
       "    </tr>\n",
       "    <tr>\n",
       "      <th>2023-05-28</th>\n",
       "      <td>24.400000</td>\n",
       "    </tr>\n",
       "    <tr>\n",
       "      <th>2023-06-04</th>\n",
       "      <td>-13.879980</td>\n",
       "    </tr>\n",
       "    <tr>\n",
       "      <th>2023-06-11</th>\n",
       "      <td>-22.430029</td>\n",
       "    </tr>\n",
       "    <tr>\n",
       "      <th>2023-06-18</th>\n",
       "      <td>-5.630029</td>\n",
       "    </tr>\n",
       "    <tr>\n",
       "      <th>2023-06-25</th>\n",
       "      <td>-0.030029</td>\n",
       "    </tr>\n",
       "    <tr>\n",
       "      <th>2023-07-02</th>\n",
       "      <td>17.424988</td>\n",
       "    </tr>\n",
       "    <tr>\n",
       "      <th>2023-07-09</th>\n",
       "      <td>4.079980</td>\n",
       "    </tr>\n",
       "    <tr>\n",
       "      <th>2023-07-16</th>\n",
       "      <td>21.949951</td>\n",
       "    </tr>\n",
       "    <tr>\n",
       "      <th>2023-07-23</th>\n",
       "      <td>-10.589990</td>\n",
       "    </tr>\n",
       "    <tr>\n",
       "      <th>2023-07-30</th>\n",
       "      <td>-4.860059</td>\n",
       "    </tr>\n",
       "    <tr>\n",
       "      <th>2023-08-06</th>\n",
       "      <td>24.410010</td>\n",
       "    </tr>\n",
       "    <tr>\n",
       "      <th>2023-08-13</th>\n",
       "      <td>3.410059</td>\n",
       "    </tr>\n",
       "    <tr>\n",
       "      <th>2023-08-20</th>\n",
       "      <td>-11.149963</td>\n",
       "    </tr>\n",
       "    <tr>\n",
       "      <th>2023-08-27</th>\n",
       "      <td>1.019971</td>\n",
       "    </tr>\n",
       "    <tr>\n",
       "      <th>2023-09-03</th>\n",
       "      <td>-12.280029</td>\n",
       "    </tr>\n",
       "    <tr>\n",
       "      <th>2023-09-10</th>\n",
       "      <td>11.369971</td>\n",
       "    </tr>\n",
       "    <tr>\n",
       "      <th>2023-09-17</th>\n",
       "      <td>24.929980</td>\n",
       "    </tr>\n",
       "    <tr>\n",
       "      <th>2023-09-24</th>\n",
       "      <td>17.137451</td>\n",
       "    </tr>\n",
       "    <tr>\n",
       "      <th>2023-10-01</th>\n",
       "      <td>-15.960010</td>\n",
       "    </tr>\n",
       "    <tr>\n",
       "      <th>2023-10-08</th>\n",
       "      <td>24.212524</td>\n",
       "    </tr>\n",
       "    <tr>\n",
       "      <th>2023-10-15</th>\n",
       "      <td>-9.910010</td>\n",
       "    </tr>\n",
       "    <tr>\n",
       "      <th>2023-10-22</th>\n",
       "      <td>-11.669971</td>\n",
       "    </tr>\n",
       "    <tr>\n",
       "      <th>2023-10-29</th>\n",
       "      <td>-23.400024</td>\n",
       "    </tr>\n",
       "    <tr>\n",
       "      <th>2023-11-05</th>\n",
       "      <td>-8.050000</td>\n",
       "    </tr>\n",
       "    <tr>\n",
       "      <th>2023-11-12</th>\n",
       "      <td>-7.880029</td>\n",
       "    </tr>\n",
       "    <tr>\n",
       "      <th>2023-11-19</th>\n",
       "      <td>17.287476</td>\n",
       "    </tr>\n",
       "    <tr>\n",
       "      <th>2023-11-26</th>\n",
       "      <td>-1.960010</td>\n",
       "    </tr>\n",
       "    <tr>\n",
       "      <th>2023-12-03</th>\n",
       "      <td>11.399963</td>\n",
       "    </tr>\n",
       "    <tr>\n",
       "      <th>2023-12-10</th>\n",
       "      <td>7.300000</td>\n",
       "    </tr>\n",
       "    <tr>\n",
       "      <th>2023-12-17</th>\n",
       "      <td>46.940039</td>\n",
       "    </tr>\n",
       "    <tr>\n",
       "      <th>2023-12-24</th>\n",
       "      <td>-3.930029</td>\n",
       "    </tr>\n",
       "    <tr>\n",
       "      <th>2023-12-31</th>\n",
       "      <td>-8.700073</td>\n",
       "    </tr>\n",
       "    <tr>\n",
       "      <th>2024-01-07</th>\n",
       "      <td>-10.820020</td>\n",
       "    </tr>\n",
       "    <tr>\n",
       "      <th>2024-01-14</th>\n",
       "      <td>-2.049951</td>\n",
       "    </tr>\n",
       "    <tr>\n",
       "      <th>2024-01-21</th>\n",
       "      <td>-5.129932</td>\n",
       "    </tr>\n",
       "    <tr>\n",
       "      <th>2024-01-28</th>\n",
       "      <td>-36.516602</td>\n",
       "    </tr>\n",
       "    <tr>\n",
       "      <th>2024-02-04</th>\n",
       "      <td>-0.649984</td>\n",
       "    </tr>\n",
       "  </tbody>\n",
       "</table>\n",
       "</div>"
      ],
      "text/plain": [
       "            open_close_difference\n",
       "Date                             \n",
       "2023-01-08              -7.959961\n",
       "2023-01-15              33.589990\n",
       "2023-01-22              13.330029\n",
       "2023-01-29               6.924988\n",
       "2023-02-05              -3.920020\n",
       "2023-02-12              15.180078\n",
       "2023-02-19              -6.400000\n",
       "2023-02-26             -20.069971\n",
       "2023-03-05             -12.500000\n",
       "2023-03-12               1.575073\n",
       "2023-03-19             -32.280029\n",
       "2023-03-26             -16.289941\n",
       "2023-04-02               0.512451\n",
       "2023-04-09               8.350016\n",
       "2023-04-16              -3.562500\n",
       "2023-04-23               1.140039\n",
       "2023-04-30              11.129980\n",
       "2023-05-07              -0.112549\n",
       "2023-05-14               0.270020\n",
       "2023-05-21             -17.499951\n",
       "2023-05-28              24.400000\n",
       "2023-06-04             -13.879980\n",
       "2023-06-11             -22.430029\n",
       "2023-06-18              -5.630029\n",
       "2023-06-25              -0.030029\n",
       "2023-07-02              17.424988\n",
       "2023-07-09               4.079980\n",
       "2023-07-16              21.949951\n",
       "2023-07-23             -10.589990\n",
       "2023-07-30              -4.860059\n",
       "2023-08-06              24.410010\n",
       "2023-08-13               3.410059\n",
       "2023-08-20             -11.149963\n",
       "2023-08-27               1.019971\n",
       "2023-09-03             -12.280029\n",
       "2023-09-10              11.369971\n",
       "2023-09-17              24.929980\n",
       "2023-09-24              17.137451\n",
       "2023-10-01             -15.960010\n",
       "2023-10-08              24.212524\n",
       "2023-10-15              -9.910010\n",
       "2023-10-22             -11.669971\n",
       "2023-10-29             -23.400024\n",
       "2023-11-05              -8.050000\n",
       "2023-11-12              -7.880029\n",
       "2023-11-19              17.287476\n",
       "2023-11-26              -1.960010\n",
       "2023-12-03              11.399963\n",
       "2023-12-10               7.300000\n",
       "2023-12-17              46.940039\n",
       "2023-12-24              -3.930029\n",
       "2023-12-31              -8.700073\n",
       "2024-01-07             -10.820020\n",
       "2024-01-14              -2.049951\n",
       "2024-01-21              -5.129932\n",
       "2024-01-28             -36.516602\n",
       "2024-02-04              -0.649984"
      ]
     },
     "execution_count": 12,
     "metadata": {},
     "output_type": "execute_result"
    }
   ],
   "source": [
    "difference_data"
   ]
  },
  {
   "cell_type": "code",
   "execution_count": 13,
   "metadata": {},
   "outputs": [
    {
     "name": "stderr",
     "output_type": "stream",
     "text": [
      "e:\\Python_for_finance\\finance.py:810: FutureWarning:\n",
      "\n",
      "Series.__getitem__ treating keys as positions is deprecated. In a future version, integer keys will always be treated as labels (consistent with DataFrame behavior). To access a value by position, use `ser.iloc[pos]`\n",
      "\n",
      "e:\\Python_for_finance\\finance.py:811: FutureWarning:\n",
      "\n",
      "Series.__getitem__ treating keys as positions is deprecated. In a future version, integer keys will always be treated as labels (consistent with DataFrame behavior). To access a value by position, use `ser.iloc[pos]`\n",
      "\n"
     ]
    },
    {
     "data": {
      "application/vnd.plotly.v1+json": {
       "config": {
        "plotlyServerURL": "https://plot.ly"
       },
       "data": [
        {
         "marker": {
          "color": "red"
         },
         "type": "bar",
         "x": [
          "2023-01-08T00:00:00"
         ],
         "y": [
          -7.9599609375
         ]
        },
        {
         "marker": {
          "color": "blue"
         },
         "type": "bar",
         "x": [
          "2023-01-15T00:00:00"
         ],
         "y": [
          33.589990234375
         ]
        },
        {
         "marker": {
          "color": "blue"
         },
         "type": "bar",
         "x": [
          "2023-01-22T00:00:00"
         ],
         "y": [
          13.330029296875
         ]
        },
        {
         "marker": {
          "color": "blue"
         },
         "type": "bar",
         "x": [
          "2023-01-29T00:00:00"
         ],
         "y": [
          6.92498779296875
         ]
        },
        {
         "marker": {
          "color": "red"
         },
         "type": "bar",
         "x": [
          "2023-02-05T00:00:00"
         ],
         "y": [
          -3.92001953125
         ]
        },
        {
         "marker": {
          "color": "blue"
         },
         "type": "bar",
         "x": [
          "2023-02-12T00:00:00"
         ],
         "y": [
          15.180078125
         ]
        },
        {
         "marker": {
          "color": "red"
         },
         "type": "bar",
         "x": [
          "2023-02-19T00:00:00"
         ],
         "y": [
          -6.4
         ]
        },
        {
         "marker": {
          "color": "red"
         },
         "type": "bar",
         "x": [
          "2023-02-26T00:00:00"
         ],
         "y": [
          -20.069970703125
         ]
        },
        {
         "marker": {
          "color": "red"
         },
         "type": "bar",
         "x": [
          "2023-03-05T00:00:00"
         ],
         "y": [
          -12.5
         ]
        },
        {
         "marker": {
          "color": "blue"
         },
         "type": "bar",
         "x": [
          "2023-03-12T00:00:00"
         ],
         "y": [
          1.5750732421875
         ]
        },
        {
         "marker": {
          "color": "red"
         },
         "type": "bar",
         "x": [
          "2023-03-19T00:00:00"
         ],
         "y": [
          -32.280029296875
         ]
        },
        {
         "marker": {
          "color": "red"
         },
         "type": "bar",
         "x": [
          "2023-03-26T00:00:00"
         ],
         "y": [
          -16.28994140625
         ]
        },
        {
         "marker": {
          "color": "blue"
         },
         "type": "bar",
         "x": [
          "2023-04-02T00:00:00"
         ],
         "y": [
          0.512451171875
         ]
        },
        {
         "marker": {
          "color": "blue"
         },
         "type": "bar",
         "x": [
          "2023-04-09T00:00:00"
         ],
         "y": [
          8.350016276041666
         ]
        },
        {
         "marker": {
          "color": "red"
         },
         "type": "bar",
         "x": [
          "2023-04-16T00:00:00"
         ],
         "y": [
          -3.5625
         ]
        },
        {
         "marker": {
          "color": "blue"
         },
         "type": "bar",
         "x": [
          "2023-04-23T00:00:00"
         ],
         "y": [
          1.1400390625
         ]
        },
        {
         "marker": {
          "color": "blue"
         },
         "type": "bar",
         "x": [
          "2023-04-30T00:00:00"
         ],
         "y": [
          11.12998046875
         ]
        },
        {
         "marker": {
          "color": "red"
         },
         "type": "bar",
         "x": [
          "2023-05-07T00:00:00"
         ],
         "y": [
          -0.112548828125
         ]
        },
        {
         "marker": {
          "color": "blue"
         },
         "type": "bar",
         "x": [
          "2023-05-14T00:00:00"
         ],
         "y": [
          0.27001953125
         ]
        },
        {
         "marker": {
          "color": "red"
         },
         "type": "bar",
         "x": [
          "2023-05-21T00:00:00"
         ],
         "y": [
          -17.499951171875
         ]
        },
        {
         "marker": {
          "color": "blue"
         },
         "type": "bar",
         "x": [
          "2023-05-28T00:00:00"
         ],
         "y": [
          24.4
         ]
        },
        {
         "marker": {
          "color": "red"
         },
         "type": "bar",
         "x": [
          "2023-06-04T00:00:00"
         ],
         "y": [
          -13.87998046875
         ]
        },
        {
         "marker": {
          "color": "red"
         },
         "type": "bar",
         "x": [
          "2023-06-11T00:00:00"
         ],
         "y": [
          -22.430029296875
         ]
        },
        {
         "marker": {
          "color": "red"
         },
         "type": "bar",
         "x": [
          "2023-06-18T00:00:00"
         ],
         "y": [
          -5.630029296875
         ]
        },
        {
         "marker": {
          "color": "red"
         },
         "type": "bar",
         "x": [
          "2023-06-25T00:00:00"
         ],
         "y": [
          -0.030029296875
         ]
        },
        {
         "marker": {
          "color": "blue"
         },
         "type": "bar",
         "x": [
          "2023-07-02T00:00:00"
         ],
         "y": [
          17.42498779296875
         ]
        },
        {
         "marker": {
          "color": "blue"
         },
         "type": "bar",
         "x": [
          "2023-07-09T00:00:00"
         ],
         "y": [
          4.07998046875
         ]
        },
        {
         "marker": {
          "color": "blue"
         },
         "type": "bar",
         "x": [
          "2023-07-16T00:00:00"
         ],
         "y": [
          21.949951171875
         ]
        },
        {
         "marker": {
          "color": "red"
         },
         "type": "bar",
         "x": [
          "2023-07-23T00:00:00"
         ],
         "y": [
          -10.589990234375
         ]
        },
        {
         "marker": {
          "color": "red"
         },
         "type": "bar",
         "x": [
          "2023-07-30T00:00:00"
         ],
         "y": [
          -4.86005859375
         ]
        },
        {
         "marker": {
          "color": "blue"
         },
         "type": "bar",
         "x": [
          "2023-08-06T00:00:00"
         ],
         "y": [
          24.410009765625
         ]
        },
        {
         "marker": {
          "color": "blue"
         },
         "type": "bar",
         "x": [
          "2023-08-13T00:00:00"
         ],
         "y": [
          3.41005859375
         ]
        },
        {
         "marker": {
          "color": "red"
         },
         "type": "bar",
         "x": [
          "2023-08-20T00:00:00"
         ],
         "y": [
          -11.14996337890625
         ]
        },
        {
         "marker": {
          "color": "blue"
         },
         "type": "bar",
         "x": [
          "2023-08-27T00:00:00"
         ],
         "y": [
          1.019970703125
         ]
        },
        {
         "marker": {
          "color": "red"
         },
         "type": "bar",
         "x": [
          "2023-09-03T00:00:00"
         ],
         "y": [
          -12.280029296875
         ]
        },
        {
         "marker": {
          "color": "blue"
         },
         "type": "bar",
         "x": [
          "2023-09-10T00:00:00"
         ],
         "y": [
          11.369970703125
         ]
        },
        {
         "marker": {
          "color": "blue"
         },
         "type": "bar",
         "x": [
          "2023-09-17T00:00:00"
         ],
         "y": [
          24.92998046875
         ]
        },
        {
         "marker": {
          "color": "blue"
         },
         "type": "bar",
         "x": [
          "2023-09-24T00:00:00"
         ],
         "y": [
          17.137451171875
         ]
        },
        {
         "marker": {
          "color": "red"
         },
         "type": "bar",
         "x": [
          "2023-10-01T00:00:00"
         ],
         "y": [
          -15.960009765625
         ]
        },
        {
         "marker": {
          "color": "blue"
         },
         "type": "bar",
         "x": [
          "2023-10-08T00:00:00"
         ],
         "y": [
          24.2125244140625
         ]
        },
        {
         "marker": {
          "color": "red"
         },
         "type": "bar",
         "x": [
          "2023-10-15T00:00:00"
         ],
         "y": [
          -9.910009765625
         ]
        },
        {
         "marker": {
          "color": "red"
         },
         "type": "bar",
         "x": [
          "2023-10-22T00:00:00"
         ],
         "y": [
          -11.669970703125
         ]
        },
        {
         "marker": {
          "color": "red"
         },
         "type": "bar",
         "x": [
          "2023-10-29T00:00:00"
         ],
         "y": [
          -23.4000244140625
         ]
        },
        {
         "marker": {
          "color": "red"
         },
         "type": "bar",
         "x": [
          "2023-11-05T00:00:00"
         ],
         "y": [
          -8.05
         ]
        },
        {
         "marker": {
          "color": "red"
         },
         "type": "bar",
         "x": [
          "2023-11-12T00:00:00"
         ],
         "y": [
          -7.880029296875
         ]
        },
        {
         "marker": {
          "color": "blue"
         },
         "type": "bar",
         "x": [
          "2023-11-19T00:00:00"
         ],
         "y": [
          17.2874755859375
         ]
        },
        {
         "marker": {
          "color": "red"
         },
         "type": "bar",
         "x": [
          "2023-11-26T00:00:00"
         ],
         "y": [
          -1.960009765625
         ]
        },
        {
         "marker": {
          "color": "blue"
         },
         "type": "bar",
         "x": [
          "2023-12-03T00:00:00"
         ],
         "y": [
          11.39996337890625
         ]
        },
        {
         "marker": {
          "color": "blue"
         },
         "type": "bar",
         "x": [
          "2023-12-10T00:00:00"
         ],
         "y": [
          7.3
         ]
        },
        {
         "marker": {
          "color": "blue"
         },
         "type": "bar",
         "x": [
          "2023-12-17T00:00:00"
         ],
         "y": [
          46.9400390625
         ]
        },
        {
         "marker": {
          "color": "red"
         },
         "type": "bar",
         "x": [
          "2023-12-24T00:00:00"
         ],
         "y": [
          -3.930029296875
         ]
        },
        {
         "marker": {
          "color": "red"
         },
         "type": "bar",
         "x": [
          "2023-12-31T00:00:00"
         ],
         "y": [
          -8.7000732421875
         ]
        },
        {
         "marker": {
          "color": "red"
         },
         "type": "bar",
         "x": [
          "2024-01-07T00:00:00"
         ],
         "y": [
          -10.82001953125
         ]
        },
        {
         "marker": {
          "color": "red"
         },
         "type": "bar",
         "x": [
          "2024-01-14T00:00:00"
         ],
         "y": [
          -2.049951171875
         ]
        },
        {
         "marker": {
          "color": "red"
         },
         "type": "bar",
         "x": [
          "2024-01-21T00:00:00"
         ],
         "y": [
          -5.129931640625
         ]
        },
        {
         "marker": {
          "color": "red"
         },
         "type": "bar",
         "x": [
          "2024-01-28T00:00:00"
         ],
         "y": [
          -36.5166015625
         ]
        },
        {
         "marker": {
          "color": "red"
         },
         "type": "bar",
         "x": [
          "2024-02-04T00:00:00"
         ],
         "y": [
          -0.6499837239583334
         ]
        }
       ],
       "layout": {
        "showlegend": false,
        "template": {
         "data": {
          "bar": [
           {
            "error_x": {
             "color": "#2a3f5f"
            },
            "error_y": {
             "color": "#2a3f5f"
            },
            "marker": {
             "line": {
              "color": "#E5ECF6",
              "width": 0.5
             },
             "pattern": {
              "fillmode": "overlay",
              "size": 10,
              "solidity": 0.2
             }
            },
            "type": "bar"
           }
          ],
          "barpolar": [
           {
            "marker": {
             "line": {
              "color": "#E5ECF6",
              "width": 0.5
             },
             "pattern": {
              "fillmode": "overlay",
              "size": 10,
              "solidity": 0.2
             }
            },
            "type": "barpolar"
           }
          ],
          "carpet": [
           {
            "aaxis": {
             "endlinecolor": "#2a3f5f",
             "gridcolor": "white",
             "linecolor": "white",
             "minorgridcolor": "white",
             "startlinecolor": "#2a3f5f"
            },
            "baxis": {
             "endlinecolor": "#2a3f5f",
             "gridcolor": "white",
             "linecolor": "white",
             "minorgridcolor": "white",
             "startlinecolor": "#2a3f5f"
            },
            "type": "carpet"
           }
          ],
          "choropleth": [
           {
            "colorbar": {
             "outlinewidth": 0,
             "ticks": ""
            },
            "type": "choropleth"
           }
          ],
          "contour": [
           {
            "colorbar": {
             "outlinewidth": 0,
             "ticks": ""
            },
            "colorscale": [
             [
              0,
              "#0d0887"
             ],
             [
              0.1111111111111111,
              "#46039f"
             ],
             [
              0.2222222222222222,
              "#7201a8"
             ],
             [
              0.3333333333333333,
              "#9c179e"
             ],
             [
              0.4444444444444444,
              "#bd3786"
             ],
             [
              0.5555555555555556,
              "#d8576b"
             ],
             [
              0.6666666666666666,
              "#ed7953"
             ],
             [
              0.7777777777777778,
              "#fb9f3a"
             ],
             [
              0.8888888888888888,
              "#fdca26"
             ],
             [
              1,
              "#f0f921"
             ]
            ],
            "type": "contour"
           }
          ],
          "contourcarpet": [
           {
            "colorbar": {
             "outlinewidth": 0,
             "ticks": ""
            },
            "type": "contourcarpet"
           }
          ],
          "heatmap": [
           {
            "colorbar": {
             "outlinewidth": 0,
             "ticks": ""
            },
            "colorscale": [
             [
              0,
              "#0d0887"
             ],
             [
              0.1111111111111111,
              "#46039f"
             ],
             [
              0.2222222222222222,
              "#7201a8"
             ],
             [
              0.3333333333333333,
              "#9c179e"
             ],
             [
              0.4444444444444444,
              "#bd3786"
             ],
             [
              0.5555555555555556,
              "#d8576b"
             ],
             [
              0.6666666666666666,
              "#ed7953"
             ],
             [
              0.7777777777777778,
              "#fb9f3a"
             ],
             [
              0.8888888888888888,
              "#fdca26"
             ],
             [
              1,
              "#f0f921"
             ]
            ],
            "type": "heatmap"
           }
          ],
          "heatmapgl": [
           {
            "colorbar": {
             "outlinewidth": 0,
             "ticks": ""
            },
            "colorscale": [
             [
              0,
              "#0d0887"
             ],
             [
              0.1111111111111111,
              "#46039f"
             ],
             [
              0.2222222222222222,
              "#7201a8"
             ],
             [
              0.3333333333333333,
              "#9c179e"
             ],
             [
              0.4444444444444444,
              "#bd3786"
             ],
             [
              0.5555555555555556,
              "#d8576b"
             ],
             [
              0.6666666666666666,
              "#ed7953"
             ],
             [
              0.7777777777777778,
              "#fb9f3a"
             ],
             [
              0.8888888888888888,
              "#fdca26"
             ],
             [
              1,
              "#f0f921"
             ]
            ],
            "type": "heatmapgl"
           }
          ],
          "histogram": [
           {
            "marker": {
             "pattern": {
              "fillmode": "overlay",
              "size": 10,
              "solidity": 0.2
             }
            },
            "type": "histogram"
           }
          ],
          "histogram2d": [
           {
            "colorbar": {
             "outlinewidth": 0,
             "ticks": ""
            },
            "colorscale": [
             [
              0,
              "#0d0887"
             ],
             [
              0.1111111111111111,
              "#46039f"
             ],
             [
              0.2222222222222222,
              "#7201a8"
             ],
             [
              0.3333333333333333,
              "#9c179e"
             ],
             [
              0.4444444444444444,
              "#bd3786"
             ],
             [
              0.5555555555555556,
              "#d8576b"
             ],
             [
              0.6666666666666666,
              "#ed7953"
             ],
             [
              0.7777777777777778,
              "#fb9f3a"
             ],
             [
              0.8888888888888888,
              "#fdca26"
             ],
             [
              1,
              "#f0f921"
             ]
            ],
            "type": "histogram2d"
           }
          ],
          "histogram2dcontour": [
           {
            "colorbar": {
             "outlinewidth": 0,
             "ticks": ""
            },
            "colorscale": [
             [
              0,
              "#0d0887"
             ],
             [
              0.1111111111111111,
              "#46039f"
             ],
             [
              0.2222222222222222,
              "#7201a8"
             ],
             [
              0.3333333333333333,
              "#9c179e"
             ],
             [
              0.4444444444444444,
              "#bd3786"
             ],
             [
              0.5555555555555556,
              "#d8576b"
             ],
             [
              0.6666666666666666,
              "#ed7953"
             ],
             [
              0.7777777777777778,
              "#fb9f3a"
             ],
             [
              0.8888888888888888,
              "#fdca26"
             ],
             [
              1,
              "#f0f921"
             ]
            ],
            "type": "histogram2dcontour"
           }
          ],
          "mesh3d": [
           {
            "colorbar": {
             "outlinewidth": 0,
             "ticks": ""
            },
            "type": "mesh3d"
           }
          ],
          "parcoords": [
           {
            "line": {
             "colorbar": {
              "outlinewidth": 0,
              "ticks": ""
             }
            },
            "type": "parcoords"
           }
          ],
          "pie": [
           {
            "automargin": true,
            "type": "pie"
           }
          ],
          "scatter": [
           {
            "fillpattern": {
             "fillmode": "overlay",
             "size": 10,
             "solidity": 0.2
            },
            "type": "scatter"
           }
          ],
          "scatter3d": [
           {
            "line": {
             "colorbar": {
              "outlinewidth": 0,
              "ticks": ""
             }
            },
            "marker": {
             "colorbar": {
              "outlinewidth": 0,
              "ticks": ""
             }
            },
            "type": "scatter3d"
           }
          ],
          "scattercarpet": [
           {
            "marker": {
             "colorbar": {
              "outlinewidth": 0,
              "ticks": ""
             }
            },
            "type": "scattercarpet"
           }
          ],
          "scattergeo": [
           {
            "marker": {
             "colorbar": {
              "outlinewidth": 0,
              "ticks": ""
             }
            },
            "type": "scattergeo"
           }
          ],
          "scattergl": [
           {
            "marker": {
             "colorbar": {
              "outlinewidth": 0,
              "ticks": ""
             }
            },
            "type": "scattergl"
           }
          ],
          "scattermapbox": [
           {
            "marker": {
             "colorbar": {
              "outlinewidth": 0,
              "ticks": ""
             }
            },
            "type": "scattermapbox"
           }
          ],
          "scatterpolar": [
           {
            "marker": {
             "colorbar": {
              "outlinewidth": 0,
              "ticks": ""
             }
            },
            "type": "scatterpolar"
           }
          ],
          "scatterpolargl": [
           {
            "marker": {
             "colorbar": {
              "outlinewidth": 0,
              "ticks": ""
             }
            },
            "type": "scatterpolargl"
           }
          ],
          "scatterternary": [
           {
            "marker": {
             "colorbar": {
              "outlinewidth": 0,
              "ticks": ""
             }
            },
            "type": "scatterternary"
           }
          ],
          "surface": [
           {
            "colorbar": {
             "outlinewidth": 0,
             "ticks": ""
            },
            "colorscale": [
             [
              0,
              "#0d0887"
             ],
             [
              0.1111111111111111,
              "#46039f"
             ],
             [
              0.2222222222222222,
              "#7201a8"
             ],
             [
              0.3333333333333333,
              "#9c179e"
             ],
             [
              0.4444444444444444,
              "#bd3786"
             ],
             [
              0.5555555555555556,
              "#d8576b"
             ],
             [
              0.6666666666666666,
              "#ed7953"
             ],
             [
              0.7777777777777778,
              "#fb9f3a"
             ],
             [
              0.8888888888888888,
              "#fdca26"
             ],
             [
              1,
              "#f0f921"
             ]
            ],
            "type": "surface"
           }
          ],
          "table": [
           {
            "cells": {
             "fill": {
              "color": "#EBF0F8"
             },
             "line": {
              "color": "white"
             }
            },
            "header": {
             "fill": {
              "color": "#C8D4E3"
             },
             "line": {
              "color": "white"
             }
            },
            "type": "table"
           }
          ]
         },
         "layout": {
          "annotationdefaults": {
           "arrowcolor": "#2a3f5f",
           "arrowhead": 0,
           "arrowwidth": 1
          },
          "autotypenumbers": "strict",
          "coloraxis": {
           "colorbar": {
            "outlinewidth": 0,
            "ticks": ""
           }
          },
          "colorscale": {
           "diverging": [
            [
             0,
             "#8e0152"
            ],
            [
             0.1,
             "#c51b7d"
            ],
            [
             0.2,
             "#de77ae"
            ],
            [
             0.3,
             "#f1b6da"
            ],
            [
             0.4,
             "#fde0ef"
            ],
            [
             0.5,
             "#f7f7f7"
            ],
            [
             0.6,
             "#e6f5d0"
            ],
            [
             0.7,
             "#b8e186"
            ],
            [
             0.8,
             "#7fbc41"
            ],
            [
             0.9,
             "#4d9221"
            ],
            [
             1,
             "#276419"
            ]
           ],
           "sequential": [
            [
             0,
             "#0d0887"
            ],
            [
             0.1111111111111111,
             "#46039f"
            ],
            [
             0.2222222222222222,
             "#7201a8"
            ],
            [
             0.3333333333333333,
             "#9c179e"
            ],
            [
             0.4444444444444444,
             "#bd3786"
            ],
            [
             0.5555555555555556,
             "#d8576b"
            ],
            [
             0.6666666666666666,
             "#ed7953"
            ],
            [
             0.7777777777777778,
             "#fb9f3a"
            ],
            [
             0.8888888888888888,
             "#fdca26"
            ],
            [
             1,
             "#f0f921"
            ]
           ],
           "sequentialminus": [
            [
             0,
             "#0d0887"
            ],
            [
             0.1111111111111111,
             "#46039f"
            ],
            [
             0.2222222222222222,
             "#7201a8"
            ],
            [
             0.3333333333333333,
             "#9c179e"
            ],
            [
             0.4444444444444444,
             "#bd3786"
            ],
            [
             0.5555555555555556,
             "#d8576b"
            ],
            [
             0.6666666666666666,
             "#ed7953"
            ],
            [
             0.7777777777777778,
             "#fb9f3a"
            ],
            [
             0.8888888888888888,
             "#fdca26"
            ],
            [
             1,
             "#f0f921"
            ]
           ]
          },
          "colorway": [
           "#636efa",
           "#EF553B",
           "#00cc96",
           "#ab63fa",
           "#FFA15A",
           "#19d3f3",
           "#FF6692",
           "#B6E880",
           "#FF97FF",
           "#FECB52"
          ],
          "font": {
           "color": "#2a3f5f"
          },
          "geo": {
           "bgcolor": "white",
           "lakecolor": "white",
           "landcolor": "#E5ECF6",
           "showlakes": true,
           "showland": true,
           "subunitcolor": "white"
          },
          "hoverlabel": {
           "align": "left"
          },
          "hovermode": "closest",
          "mapbox": {
           "style": "light"
          },
          "paper_bgcolor": "white",
          "plot_bgcolor": "#E5ECF6",
          "polar": {
           "angularaxis": {
            "gridcolor": "white",
            "linecolor": "white",
            "ticks": ""
           },
           "bgcolor": "#E5ECF6",
           "radialaxis": {
            "gridcolor": "white",
            "linecolor": "white",
            "ticks": ""
           }
          },
          "scene": {
           "xaxis": {
            "backgroundcolor": "#E5ECF6",
            "gridcolor": "white",
            "gridwidth": 2,
            "linecolor": "white",
            "showbackground": true,
            "ticks": "",
            "zerolinecolor": "white"
           },
           "yaxis": {
            "backgroundcolor": "#E5ECF6",
            "gridcolor": "white",
            "gridwidth": 2,
            "linecolor": "white",
            "showbackground": true,
            "ticks": "",
            "zerolinecolor": "white"
           },
           "zaxis": {
            "backgroundcolor": "#E5ECF6",
            "gridcolor": "white",
            "gridwidth": 2,
            "linecolor": "white",
            "showbackground": true,
            "ticks": "",
            "zerolinecolor": "white"
           }
          },
          "shapedefaults": {
           "line": {
            "color": "#2a3f5f"
           }
          },
          "ternary": {
           "aaxis": {
            "gridcolor": "white",
            "linecolor": "white",
            "ticks": ""
           },
           "baxis": {
            "gridcolor": "white",
            "linecolor": "white",
            "ticks": ""
           },
           "bgcolor": "#E5ECF6",
           "caxis": {
            "gridcolor": "white",
            "linecolor": "white",
            "ticks": ""
           }
          },
          "title": {
           "x": 0.05
          },
          "xaxis": {
           "automargin": true,
           "gridcolor": "white",
           "linecolor": "white",
           "ticks": "",
           "title": {
            "standoff": 15
           },
           "zerolinecolor": "white",
           "zerolinewidth": 2
          },
          "yaxis": {
           "automargin": true,
           "gridcolor": "white",
           "linecolor": "white",
           "ticks": "",
           "title": {
            "standoff": 15
           },
           "zerolinecolor": "white",
           "zerolinewidth": 2
          }
         }
        },
        "title": {
         "text": "Bar Plot with Conditional Coloring"
        },
        "xaxis": {
         "title": {
          "text": "Date"
         }
        },
        "yaxis": {
         "title": {
          "text": "open_close_difference"
         }
        }
       }
      },
      "text/html": [
       "<div>                            <div id=\"caf84336-4630-43eb-b200-b56666e14c81\" class=\"plotly-graph-div\" style=\"height:525px; width:100%;\"></div>            <script type=\"text/javascript\">                require([\"plotly\"], function(Plotly) {                    window.PLOTLYENV=window.PLOTLYENV || {};                                    if (document.getElementById(\"caf84336-4630-43eb-b200-b56666e14c81\")) {                    Plotly.newPlot(                        \"caf84336-4630-43eb-b200-b56666e14c81\",                        [{\"marker\":{\"color\":\"red\"},\"x\":[\"2023-01-08T00:00:00\"],\"y\":[-7.9599609375],\"type\":\"bar\"},{\"marker\":{\"color\":\"blue\"},\"x\":[\"2023-01-15T00:00:00\"],\"y\":[33.589990234375],\"type\":\"bar\"},{\"marker\":{\"color\":\"blue\"},\"x\":[\"2023-01-22T00:00:00\"],\"y\":[13.330029296875],\"type\":\"bar\"},{\"marker\":{\"color\":\"blue\"},\"x\":[\"2023-01-29T00:00:00\"],\"y\":[6.92498779296875],\"type\":\"bar\"},{\"marker\":{\"color\":\"red\"},\"x\":[\"2023-02-05T00:00:00\"],\"y\":[-3.92001953125],\"type\":\"bar\"},{\"marker\":{\"color\":\"blue\"},\"x\":[\"2023-02-12T00:00:00\"],\"y\":[15.180078125],\"type\":\"bar\"},{\"marker\":{\"color\":\"red\"},\"x\":[\"2023-02-19T00:00:00\"],\"y\":[-6.4],\"type\":\"bar\"},{\"marker\":{\"color\":\"red\"},\"x\":[\"2023-02-26T00:00:00\"],\"y\":[-20.069970703125],\"type\":\"bar\"},{\"marker\":{\"color\":\"red\"},\"x\":[\"2023-03-05T00:00:00\"],\"y\":[-12.5],\"type\":\"bar\"},{\"marker\":{\"color\":\"blue\"},\"x\":[\"2023-03-12T00:00:00\"],\"y\":[1.5750732421875],\"type\":\"bar\"},{\"marker\":{\"color\":\"red\"},\"x\":[\"2023-03-19T00:00:00\"],\"y\":[-32.280029296875],\"type\":\"bar\"},{\"marker\":{\"color\":\"red\"},\"x\":[\"2023-03-26T00:00:00\"],\"y\":[-16.28994140625],\"type\":\"bar\"},{\"marker\":{\"color\":\"blue\"},\"x\":[\"2023-04-02T00:00:00\"],\"y\":[0.512451171875],\"type\":\"bar\"},{\"marker\":{\"color\":\"blue\"},\"x\":[\"2023-04-09T00:00:00\"],\"y\":[8.350016276041666],\"type\":\"bar\"},{\"marker\":{\"color\":\"red\"},\"x\":[\"2023-04-16T00:00:00\"],\"y\":[-3.5625],\"type\":\"bar\"},{\"marker\":{\"color\":\"blue\"},\"x\":[\"2023-04-23T00:00:00\"],\"y\":[1.1400390625],\"type\":\"bar\"},{\"marker\":{\"color\":\"blue\"},\"x\":[\"2023-04-30T00:00:00\"],\"y\":[11.12998046875],\"type\":\"bar\"},{\"marker\":{\"color\":\"red\"},\"x\":[\"2023-05-07T00:00:00\"],\"y\":[-0.112548828125],\"type\":\"bar\"},{\"marker\":{\"color\":\"blue\"},\"x\":[\"2023-05-14T00:00:00\"],\"y\":[0.27001953125],\"type\":\"bar\"},{\"marker\":{\"color\":\"red\"},\"x\":[\"2023-05-21T00:00:00\"],\"y\":[-17.499951171875],\"type\":\"bar\"},{\"marker\":{\"color\":\"blue\"},\"x\":[\"2023-05-28T00:00:00\"],\"y\":[24.4],\"type\":\"bar\"},{\"marker\":{\"color\":\"red\"},\"x\":[\"2023-06-04T00:00:00\"],\"y\":[-13.87998046875],\"type\":\"bar\"},{\"marker\":{\"color\":\"red\"},\"x\":[\"2023-06-11T00:00:00\"],\"y\":[-22.430029296875],\"type\":\"bar\"},{\"marker\":{\"color\":\"red\"},\"x\":[\"2023-06-18T00:00:00\"],\"y\":[-5.630029296875],\"type\":\"bar\"},{\"marker\":{\"color\":\"red\"},\"x\":[\"2023-06-25T00:00:00\"],\"y\":[-0.030029296875],\"type\":\"bar\"},{\"marker\":{\"color\":\"blue\"},\"x\":[\"2023-07-02T00:00:00\"],\"y\":[17.42498779296875],\"type\":\"bar\"},{\"marker\":{\"color\":\"blue\"},\"x\":[\"2023-07-09T00:00:00\"],\"y\":[4.07998046875],\"type\":\"bar\"},{\"marker\":{\"color\":\"blue\"},\"x\":[\"2023-07-16T00:00:00\"],\"y\":[21.949951171875],\"type\":\"bar\"},{\"marker\":{\"color\":\"red\"},\"x\":[\"2023-07-23T00:00:00\"],\"y\":[-10.589990234375],\"type\":\"bar\"},{\"marker\":{\"color\":\"red\"},\"x\":[\"2023-07-30T00:00:00\"],\"y\":[-4.86005859375],\"type\":\"bar\"},{\"marker\":{\"color\":\"blue\"},\"x\":[\"2023-08-06T00:00:00\"],\"y\":[24.410009765625],\"type\":\"bar\"},{\"marker\":{\"color\":\"blue\"},\"x\":[\"2023-08-13T00:00:00\"],\"y\":[3.41005859375],\"type\":\"bar\"},{\"marker\":{\"color\":\"red\"},\"x\":[\"2023-08-20T00:00:00\"],\"y\":[-11.14996337890625],\"type\":\"bar\"},{\"marker\":{\"color\":\"blue\"},\"x\":[\"2023-08-27T00:00:00\"],\"y\":[1.019970703125],\"type\":\"bar\"},{\"marker\":{\"color\":\"red\"},\"x\":[\"2023-09-03T00:00:00\"],\"y\":[-12.280029296875],\"type\":\"bar\"},{\"marker\":{\"color\":\"blue\"},\"x\":[\"2023-09-10T00:00:00\"],\"y\":[11.369970703125],\"type\":\"bar\"},{\"marker\":{\"color\":\"blue\"},\"x\":[\"2023-09-17T00:00:00\"],\"y\":[24.92998046875],\"type\":\"bar\"},{\"marker\":{\"color\":\"blue\"},\"x\":[\"2023-09-24T00:00:00\"],\"y\":[17.137451171875],\"type\":\"bar\"},{\"marker\":{\"color\":\"red\"},\"x\":[\"2023-10-01T00:00:00\"],\"y\":[-15.960009765625],\"type\":\"bar\"},{\"marker\":{\"color\":\"blue\"},\"x\":[\"2023-10-08T00:00:00\"],\"y\":[24.2125244140625],\"type\":\"bar\"},{\"marker\":{\"color\":\"red\"},\"x\":[\"2023-10-15T00:00:00\"],\"y\":[-9.910009765625],\"type\":\"bar\"},{\"marker\":{\"color\":\"red\"},\"x\":[\"2023-10-22T00:00:00\"],\"y\":[-11.669970703125],\"type\":\"bar\"},{\"marker\":{\"color\":\"red\"},\"x\":[\"2023-10-29T00:00:00\"],\"y\":[-23.4000244140625],\"type\":\"bar\"},{\"marker\":{\"color\":\"red\"},\"x\":[\"2023-11-05T00:00:00\"],\"y\":[-8.05],\"type\":\"bar\"},{\"marker\":{\"color\":\"red\"},\"x\":[\"2023-11-12T00:00:00\"],\"y\":[-7.880029296875],\"type\":\"bar\"},{\"marker\":{\"color\":\"blue\"},\"x\":[\"2023-11-19T00:00:00\"],\"y\":[17.2874755859375],\"type\":\"bar\"},{\"marker\":{\"color\":\"red\"},\"x\":[\"2023-11-26T00:00:00\"],\"y\":[-1.960009765625],\"type\":\"bar\"},{\"marker\":{\"color\":\"blue\"},\"x\":[\"2023-12-03T00:00:00\"],\"y\":[11.39996337890625],\"type\":\"bar\"},{\"marker\":{\"color\":\"blue\"},\"x\":[\"2023-12-10T00:00:00\"],\"y\":[7.3],\"type\":\"bar\"},{\"marker\":{\"color\":\"blue\"},\"x\":[\"2023-12-17T00:00:00\"],\"y\":[46.9400390625],\"type\":\"bar\"},{\"marker\":{\"color\":\"red\"},\"x\":[\"2023-12-24T00:00:00\"],\"y\":[-3.930029296875],\"type\":\"bar\"},{\"marker\":{\"color\":\"red\"},\"x\":[\"2023-12-31T00:00:00\"],\"y\":[-8.7000732421875],\"type\":\"bar\"},{\"marker\":{\"color\":\"red\"},\"x\":[\"2024-01-07T00:00:00\"],\"y\":[-10.82001953125],\"type\":\"bar\"},{\"marker\":{\"color\":\"red\"},\"x\":[\"2024-01-14T00:00:00\"],\"y\":[-2.049951171875],\"type\":\"bar\"},{\"marker\":{\"color\":\"red\"},\"x\":[\"2024-01-21T00:00:00\"],\"y\":[-5.129931640625],\"type\":\"bar\"},{\"marker\":{\"color\":\"red\"},\"x\":[\"2024-01-28T00:00:00\"],\"y\":[-36.5166015625],\"type\":\"bar\"},{\"marker\":{\"color\":\"red\"},\"x\":[\"2024-02-04T00:00:00\"],\"y\":[-0.6499837239583334],\"type\":\"bar\"}],                        {\"template\":{\"data\":{\"histogram2dcontour\":[{\"type\":\"histogram2dcontour\",\"colorbar\":{\"outlinewidth\":0,\"ticks\":\"\"},\"colorscale\":[[0.0,\"#0d0887\"],[0.1111111111111111,\"#46039f\"],[0.2222222222222222,\"#7201a8\"],[0.3333333333333333,\"#9c179e\"],[0.4444444444444444,\"#bd3786\"],[0.5555555555555556,\"#d8576b\"],[0.6666666666666666,\"#ed7953\"],[0.7777777777777778,\"#fb9f3a\"],[0.8888888888888888,\"#fdca26\"],[1.0,\"#f0f921\"]]}],\"choropleth\":[{\"type\":\"choropleth\",\"colorbar\":{\"outlinewidth\":0,\"ticks\":\"\"}}],\"histogram2d\":[{\"type\":\"histogram2d\",\"colorbar\":{\"outlinewidth\":0,\"ticks\":\"\"},\"colorscale\":[[0.0,\"#0d0887\"],[0.1111111111111111,\"#46039f\"],[0.2222222222222222,\"#7201a8\"],[0.3333333333333333,\"#9c179e\"],[0.4444444444444444,\"#bd3786\"],[0.5555555555555556,\"#d8576b\"],[0.6666666666666666,\"#ed7953\"],[0.7777777777777778,\"#fb9f3a\"],[0.8888888888888888,\"#fdca26\"],[1.0,\"#f0f921\"]]}],\"heatmap\":[{\"type\":\"heatmap\",\"colorbar\":{\"outlinewidth\":0,\"ticks\":\"\"},\"colorscale\":[[0.0,\"#0d0887\"],[0.1111111111111111,\"#46039f\"],[0.2222222222222222,\"#7201a8\"],[0.3333333333333333,\"#9c179e\"],[0.4444444444444444,\"#bd3786\"],[0.5555555555555556,\"#d8576b\"],[0.6666666666666666,\"#ed7953\"],[0.7777777777777778,\"#fb9f3a\"],[0.8888888888888888,\"#fdca26\"],[1.0,\"#f0f921\"]]}],\"heatmapgl\":[{\"type\":\"heatmapgl\",\"colorbar\":{\"outlinewidth\":0,\"ticks\":\"\"},\"colorscale\":[[0.0,\"#0d0887\"],[0.1111111111111111,\"#46039f\"],[0.2222222222222222,\"#7201a8\"],[0.3333333333333333,\"#9c179e\"],[0.4444444444444444,\"#bd3786\"],[0.5555555555555556,\"#d8576b\"],[0.6666666666666666,\"#ed7953\"],[0.7777777777777778,\"#fb9f3a\"],[0.8888888888888888,\"#fdca26\"],[1.0,\"#f0f921\"]]}],\"contourcarpet\":[{\"type\":\"contourcarpet\",\"colorbar\":{\"outlinewidth\":0,\"ticks\":\"\"}}],\"contour\":[{\"type\":\"contour\",\"colorbar\":{\"outlinewidth\":0,\"ticks\":\"\"},\"colorscale\":[[0.0,\"#0d0887\"],[0.1111111111111111,\"#46039f\"],[0.2222222222222222,\"#7201a8\"],[0.3333333333333333,\"#9c179e\"],[0.4444444444444444,\"#bd3786\"],[0.5555555555555556,\"#d8576b\"],[0.6666666666666666,\"#ed7953\"],[0.7777777777777778,\"#fb9f3a\"],[0.8888888888888888,\"#fdca26\"],[1.0,\"#f0f921\"]]}],\"surface\":[{\"type\":\"surface\",\"colorbar\":{\"outlinewidth\":0,\"ticks\":\"\"},\"colorscale\":[[0.0,\"#0d0887\"],[0.1111111111111111,\"#46039f\"],[0.2222222222222222,\"#7201a8\"],[0.3333333333333333,\"#9c179e\"],[0.4444444444444444,\"#bd3786\"],[0.5555555555555556,\"#d8576b\"],[0.6666666666666666,\"#ed7953\"],[0.7777777777777778,\"#fb9f3a\"],[0.8888888888888888,\"#fdca26\"],[1.0,\"#f0f921\"]]}],\"mesh3d\":[{\"type\":\"mesh3d\",\"colorbar\":{\"outlinewidth\":0,\"ticks\":\"\"}}],\"scatter\":[{\"fillpattern\":{\"fillmode\":\"overlay\",\"size\":10,\"solidity\":0.2},\"type\":\"scatter\"}],\"parcoords\":[{\"type\":\"parcoords\",\"line\":{\"colorbar\":{\"outlinewidth\":0,\"ticks\":\"\"}}}],\"scatterpolargl\":[{\"type\":\"scatterpolargl\",\"marker\":{\"colorbar\":{\"outlinewidth\":0,\"ticks\":\"\"}}}],\"bar\":[{\"error_x\":{\"color\":\"#2a3f5f\"},\"error_y\":{\"color\":\"#2a3f5f\"},\"marker\":{\"line\":{\"color\":\"#E5ECF6\",\"width\":0.5},\"pattern\":{\"fillmode\":\"overlay\",\"size\":10,\"solidity\":0.2}},\"type\":\"bar\"}],\"scattergeo\":[{\"type\":\"scattergeo\",\"marker\":{\"colorbar\":{\"outlinewidth\":0,\"ticks\":\"\"}}}],\"scatterpolar\":[{\"type\":\"scatterpolar\",\"marker\":{\"colorbar\":{\"outlinewidth\":0,\"ticks\":\"\"}}}],\"histogram\":[{\"marker\":{\"pattern\":{\"fillmode\":\"overlay\",\"size\":10,\"solidity\":0.2}},\"type\":\"histogram\"}],\"scattergl\":[{\"type\":\"scattergl\",\"marker\":{\"colorbar\":{\"outlinewidth\":0,\"ticks\":\"\"}}}],\"scatter3d\":[{\"type\":\"scatter3d\",\"line\":{\"colorbar\":{\"outlinewidth\":0,\"ticks\":\"\"}},\"marker\":{\"colorbar\":{\"outlinewidth\":0,\"ticks\":\"\"}}}],\"scattermapbox\":[{\"type\":\"scattermapbox\",\"marker\":{\"colorbar\":{\"outlinewidth\":0,\"ticks\":\"\"}}}],\"scatterternary\":[{\"type\":\"scatterternary\",\"marker\":{\"colorbar\":{\"outlinewidth\":0,\"ticks\":\"\"}}}],\"scattercarpet\":[{\"type\":\"scattercarpet\",\"marker\":{\"colorbar\":{\"outlinewidth\":0,\"ticks\":\"\"}}}],\"carpet\":[{\"aaxis\":{\"endlinecolor\":\"#2a3f5f\",\"gridcolor\":\"white\",\"linecolor\":\"white\",\"minorgridcolor\":\"white\",\"startlinecolor\":\"#2a3f5f\"},\"baxis\":{\"endlinecolor\":\"#2a3f5f\",\"gridcolor\":\"white\",\"linecolor\":\"white\",\"minorgridcolor\":\"white\",\"startlinecolor\":\"#2a3f5f\"},\"type\":\"carpet\"}],\"table\":[{\"cells\":{\"fill\":{\"color\":\"#EBF0F8\"},\"line\":{\"color\":\"white\"}},\"header\":{\"fill\":{\"color\":\"#C8D4E3\"},\"line\":{\"color\":\"white\"}},\"type\":\"table\"}],\"barpolar\":[{\"marker\":{\"line\":{\"color\":\"#E5ECF6\",\"width\":0.5},\"pattern\":{\"fillmode\":\"overlay\",\"size\":10,\"solidity\":0.2}},\"type\":\"barpolar\"}],\"pie\":[{\"automargin\":true,\"type\":\"pie\"}]},\"layout\":{\"autotypenumbers\":\"strict\",\"colorway\":[\"#636efa\",\"#EF553B\",\"#00cc96\",\"#ab63fa\",\"#FFA15A\",\"#19d3f3\",\"#FF6692\",\"#B6E880\",\"#FF97FF\",\"#FECB52\"],\"font\":{\"color\":\"#2a3f5f\"},\"hovermode\":\"closest\",\"hoverlabel\":{\"align\":\"left\"},\"paper_bgcolor\":\"white\",\"plot_bgcolor\":\"#E5ECF6\",\"polar\":{\"bgcolor\":\"#E5ECF6\",\"angularaxis\":{\"gridcolor\":\"white\",\"linecolor\":\"white\",\"ticks\":\"\"},\"radialaxis\":{\"gridcolor\":\"white\",\"linecolor\":\"white\",\"ticks\":\"\"}},\"ternary\":{\"bgcolor\":\"#E5ECF6\",\"aaxis\":{\"gridcolor\":\"white\",\"linecolor\":\"white\",\"ticks\":\"\"},\"baxis\":{\"gridcolor\":\"white\",\"linecolor\":\"white\",\"ticks\":\"\"},\"caxis\":{\"gridcolor\":\"white\",\"linecolor\":\"white\",\"ticks\":\"\"}},\"coloraxis\":{\"colorbar\":{\"outlinewidth\":0,\"ticks\":\"\"}},\"colorscale\":{\"sequential\":[[0.0,\"#0d0887\"],[0.1111111111111111,\"#46039f\"],[0.2222222222222222,\"#7201a8\"],[0.3333333333333333,\"#9c179e\"],[0.4444444444444444,\"#bd3786\"],[0.5555555555555556,\"#d8576b\"],[0.6666666666666666,\"#ed7953\"],[0.7777777777777778,\"#fb9f3a\"],[0.8888888888888888,\"#fdca26\"],[1.0,\"#f0f921\"]],\"sequentialminus\":[[0.0,\"#0d0887\"],[0.1111111111111111,\"#46039f\"],[0.2222222222222222,\"#7201a8\"],[0.3333333333333333,\"#9c179e\"],[0.4444444444444444,\"#bd3786\"],[0.5555555555555556,\"#d8576b\"],[0.6666666666666666,\"#ed7953\"],[0.7777777777777778,\"#fb9f3a\"],[0.8888888888888888,\"#fdca26\"],[1.0,\"#f0f921\"]],\"diverging\":[[0,\"#8e0152\"],[0.1,\"#c51b7d\"],[0.2,\"#de77ae\"],[0.3,\"#f1b6da\"],[0.4,\"#fde0ef\"],[0.5,\"#f7f7f7\"],[0.6,\"#e6f5d0\"],[0.7,\"#b8e186\"],[0.8,\"#7fbc41\"],[0.9,\"#4d9221\"],[1,\"#276419\"]]},\"xaxis\":{\"gridcolor\":\"white\",\"linecolor\":\"white\",\"ticks\":\"\",\"title\":{\"standoff\":15},\"zerolinecolor\":\"white\",\"automargin\":true,\"zerolinewidth\":2},\"yaxis\":{\"gridcolor\":\"white\",\"linecolor\":\"white\",\"ticks\":\"\",\"title\":{\"standoff\":15},\"zerolinecolor\":\"white\",\"automargin\":true,\"zerolinewidth\":2},\"scene\":{\"xaxis\":{\"backgroundcolor\":\"#E5ECF6\",\"gridcolor\":\"white\",\"linecolor\":\"white\",\"showbackground\":true,\"ticks\":\"\",\"zerolinecolor\":\"white\",\"gridwidth\":2},\"yaxis\":{\"backgroundcolor\":\"#E5ECF6\",\"gridcolor\":\"white\",\"linecolor\":\"white\",\"showbackground\":true,\"ticks\":\"\",\"zerolinecolor\":\"white\",\"gridwidth\":2},\"zaxis\":{\"backgroundcolor\":\"#E5ECF6\",\"gridcolor\":\"white\",\"linecolor\":\"white\",\"showbackground\":true,\"ticks\":\"\",\"zerolinecolor\":\"white\",\"gridwidth\":2}},\"shapedefaults\":{\"line\":{\"color\":\"#2a3f5f\"}},\"annotationdefaults\":{\"arrowcolor\":\"#2a3f5f\",\"arrowhead\":0,\"arrowwidth\":1},\"geo\":{\"bgcolor\":\"white\",\"landcolor\":\"#E5ECF6\",\"subunitcolor\":\"white\",\"showland\":true,\"showlakes\":true,\"lakecolor\":\"white\"},\"title\":{\"x\":0.05},\"mapbox\":{\"style\":\"light\"}}},\"title\":{\"text\":\"Bar Plot with Conditional Coloring\"},\"xaxis\":{\"title\":{\"text\":\"Date\"}},\"yaxis\":{\"title\":{\"text\":\"open_close_difference\"}},\"showlegend\":false},                        {\"responsive\": true}                    ).then(function(){\n",
       "                            \n",
       "var gd = document.getElementById('caf84336-4630-43eb-b200-b56666e14c81');\n",
       "var x = new MutationObserver(function (mutations, observer) {{\n",
       "        var display = window.getComputedStyle(gd).display;\n",
       "        if (!display || display === 'none') {{\n",
       "            console.log([gd, 'removed!']);\n",
       "            Plotly.purge(gd);\n",
       "            observer.disconnect();\n",
       "        }}\n",
       "}});\n",
       "\n",
       "// Listen for the removal of the full notebook cells\n",
       "var notebookContainer = gd.closest('#notebook-container');\n",
       "if (notebookContainer) {{\n",
       "    x.observe(notebookContainer, {childList: true});\n",
       "}}\n",
       "\n",
       "// Listen for the clearing of the current output cell\n",
       "var outputEl = gd.closest('.output');\n",
       "if (outputEl) {{\n",
       "    x.observe(outputEl, {childList: true});\n",
       "}}\n",
       "\n",
       "                        })                };                });            </script>        </div>"
      ]
     },
     "metadata": {},
     "output_type": "display_data"
    }
   ],
   "source": [
    "fn.plot_conditional_bar_chart(data=difference_data,y_col='open_close_difference')"
   ]
  },
  {
   "cell_type": "code",
   "execution_count": 14,
   "metadata": {},
   "outputs": [
    {
     "data": {
      "text/plain": [
       "open_close_difference    0\n",
       "dtype: int64"
      ]
     },
     "execution_count": 14,
     "metadata": {},
     "output_type": "execute_result"
    }
   ],
   "source": [
    "difference_data.isnull().sum()"
   ]
  },
  {
   "cell_type": "code",
   "execution_count": 15,
   "metadata": {},
   "outputs": [
    {
     "data": {
      "application/vnd.plotly.v1+json": {
       "config": {
        "plotlyServerURL": "https://plot.ly"
       },
       "data": [
        {
         "mode": "lines",
         "name": "Open Chart",
         "type": "scatter",
         "x": [
          "2023-01-02T00:00:00",
          "2023-01-03T00:00:00",
          "2023-01-04T00:00:00",
          "2023-01-05T00:00:00",
          "2023-01-06T00:00:00",
          "2023-01-09T00:00:00",
          "2023-01-10T00:00:00",
          "2023-01-11T00:00:00",
          "2023-01-12T00:00:00",
          "2023-01-13T00:00:00",
          "2023-01-16T00:00:00",
          "2023-01-17T00:00:00",
          "2023-01-18T00:00:00",
          "2023-01-19T00:00:00",
          "2023-01-20T00:00:00",
          "2023-01-23T00:00:00",
          "2023-01-24T00:00:00",
          "2023-01-25T00:00:00",
          "2023-01-27T00:00:00",
          "2023-01-30T00:00:00",
          "2023-01-31T00:00:00",
          "2023-02-01T00:00:00",
          "2023-02-02T00:00:00",
          "2023-02-03T00:00:00",
          "2023-02-06T00:00:00",
          "2023-02-07T00:00:00",
          "2023-02-08T00:00:00",
          "2023-02-09T00:00:00",
          "2023-02-10T00:00:00",
          "2023-02-13T00:00:00",
          "2023-02-14T00:00:00",
          "2023-02-15T00:00:00",
          "2023-02-16T00:00:00",
          "2023-02-17T00:00:00",
          "2023-02-20T00:00:00",
          "2023-02-21T00:00:00",
          "2023-02-22T00:00:00",
          "2023-02-23T00:00:00",
          "2023-02-24T00:00:00",
          "2023-02-27T00:00:00",
          "2023-02-28T00:00:00",
          "2023-03-01T00:00:00",
          "2023-03-02T00:00:00",
          "2023-03-03T00:00:00",
          "2023-03-06T00:00:00",
          "2023-03-08T00:00:00",
          "2023-03-09T00:00:00",
          "2023-03-10T00:00:00",
          "2023-03-13T00:00:00",
          "2023-03-14T00:00:00",
          "2023-03-15T00:00:00",
          "2023-03-16T00:00:00",
          "2023-03-17T00:00:00",
          "2023-03-20T00:00:00",
          "2023-03-21T00:00:00",
          "2023-03-22T00:00:00",
          "2023-03-23T00:00:00",
          "2023-03-24T00:00:00",
          "2023-03-27T00:00:00",
          "2023-03-28T00:00:00",
          "2023-03-29T00:00:00",
          "2023-03-31T00:00:00",
          "2023-04-03T00:00:00",
          "2023-04-05T00:00:00",
          "2023-04-06T00:00:00",
          "2023-04-10T00:00:00",
          "2023-04-11T00:00:00",
          "2023-04-12T00:00:00",
          "2023-04-13T00:00:00",
          "2023-04-17T00:00:00",
          "2023-04-18T00:00:00",
          "2023-04-19T00:00:00",
          "2023-04-20T00:00:00",
          "2023-04-21T00:00:00",
          "2023-04-24T00:00:00",
          "2023-04-25T00:00:00",
          "2023-04-26T00:00:00",
          "2023-04-27T00:00:00",
          "2023-04-28T00:00:00",
          "2023-05-02T00:00:00",
          "2023-05-03T00:00:00",
          "2023-05-04T00:00:00",
          "2023-05-05T00:00:00",
          "2023-05-08T00:00:00",
          "2023-05-09T00:00:00",
          "2023-05-10T00:00:00",
          "2023-05-11T00:00:00",
          "2023-05-12T00:00:00",
          "2023-05-15T00:00:00",
          "2023-05-16T00:00:00",
          "2023-05-17T00:00:00",
          "2023-05-18T00:00:00",
          "2023-05-19T00:00:00",
          "2023-05-22T00:00:00",
          "2023-05-23T00:00:00",
          "2023-05-24T00:00:00",
          "2023-05-25T00:00:00",
          "2023-05-26T00:00:00",
          "2023-05-29T00:00:00",
          "2023-05-30T00:00:00",
          "2023-05-31T00:00:00",
          "2023-06-01T00:00:00",
          "2023-06-02T00:00:00",
          "2023-06-05T00:00:00",
          "2023-06-06T00:00:00",
          "2023-06-07T00:00:00",
          "2023-06-08T00:00:00",
          "2023-06-09T00:00:00",
          "2023-06-12T00:00:00",
          "2023-06-13T00:00:00",
          "2023-06-14T00:00:00",
          "2023-06-15T00:00:00",
          "2023-06-16T00:00:00",
          "2023-06-19T00:00:00",
          "2023-06-20T00:00:00",
          "2023-06-21T00:00:00",
          "2023-06-22T00:00:00",
          "2023-06-23T00:00:00",
          "2023-06-26T00:00:00",
          "2023-06-27T00:00:00",
          "2023-06-28T00:00:00",
          "2023-06-30T00:00:00",
          "2023-07-03T00:00:00",
          "2023-07-04T00:00:00",
          "2023-07-05T00:00:00",
          "2023-07-06T00:00:00",
          "2023-07-07T00:00:00",
          "2023-07-10T00:00:00",
          "2023-07-11T00:00:00",
          "2023-07-12T00:00:00",
          "2023-07-13T00:00:00",
          "2023-07-14T00:00:00",
          "2023-07-17T00:00:00",
          "2023-07-18T00:00:00",
          "2023-07-19T00:00:00",
          "2023-07-20T00:00:00",
          "2023-07-21T00:00:00",
          "2023-07-24T00:00:00",
          "2023-07-25T00:00:00",
          "2023-07-26T00:00:00",
          "2023-07-27T00:00:00",
          "2023-07-28T00:00:00",
          "2023-07-31T00:00:00",
          "2023-08-01T00:00:00",
          "2023-08-02T00:00:00",
          "2023-08-03T00:00:00",
          "2023-08-04T00:00:00",
          "2023-08-07T00:00:00",
          "2023-08-08T00:00:00",
          "2023-08-09T00:00:00",
          "2023-08-10T00:00:00",
          "2023-08-11T00:00:00",
          "2023-08-14T00:00:00",
          "2023-08-16T00:00:00",
          "2023-08-17T00:00:00",
          "2023-08-18T00:00:00",
          "2023-08-21T00:00:00",
          "2023-08-22T00:00:00",
          "2023-08-23T00:00:00",
          "2023-08-24T00:00:00",
          "2023-08-25T00:00:00",
          "2023-08-28T00:00:00",
          "2023-08-29T00:00:00",
          "2023-08-30T00:00:00",
          "2023-08-31T00:00:00",
          "2023-09-01T00:00:00",
          "2023-09-04T00:00:00",
          "2023-09-05T00:00:00",
          "2023-09-06T00:00:00",
          "2023-09-07T00:00:00",
          "2023-09-08T00:00:00",
          "2023-09-11T00:00:00",
          "2023-09-12T00:00:00",
          "2023-09-13T00:00:00",
          "2023-09-14T00:00:00",
          "2023-09-15T00:00:00",
          "2023-09-18T00:00:00",
          "2023-09-20T00:00:00",
          "2023-09-21T00:00:00",
          "2023-09-22T00:00:00",
          "2023-09-25T00:00:00",
          "2023-09-26T00:00:00",
          "2023-09-27T00:00:00",
          "2023-09-28T00:00:00",
          "2023-09-29T00:00:00",
          "2023-10-03T00:00:00",
          "2023-10-04T00:00:00",
          "2023-10-05T00:00:00",
          "2023-10-06T00:00:00",
          "2023-10-09T00:00:00",
          "2023-10-10T00:00:00",
          "2023-10-11T00:00:00",
          "2023-10-12T00:00:00",
          "2023-10-13T00:00:00",
          "2023-10-16T00:00:00",
          "2023-10-17T00:00:00",
          "2023-10-18T00:00:00",
          "2023-10-19T00:00:00",
          "2023-10-20T00:00:00",
          "2023-10-23T00:00:00",
          "2023-10-25T00:00:00",
          "2023-10-26T00:00:00",
          "2023-10-27T00:00:00",
          "2023-10-30T00:00:00",
          "2023-10-31T00:00:00",
          "2023-11-01T00:00:00",
          "2023-11-02T00:00:00",
          "2023-11-03T00:00:00",
          "2023-11-06T00:00:00",
          "2023-11-07T00:00:00",
          "2023-11-08T00:00:00",
          "2023-11-09T00:00:00",
          "2023-11-10T00:00:00",
          "2023-11-13T00:00:00",
          "2023-11-15T00:00:00",
          "2023-11-16T00:00:00",
          "2023-11-17T00:00:00",
          "2023-11-20T00:00:00",
          "2023-11-21T00:00:00",
          "2023-11-22T00:00:00",
          "2023-11-23T00:00:00",
          "2023-11-24T00:00:00",
          "2023-11-28T00:00:00",
          "2023-11-29T00:00:00",
          "2023-11-30T00:00:00",
          "2023-12-01T00:00:00",
          "2023-12-04T00:00:00",
          "2023-12-05T00:00:00",
          "2023-12-06T00:00:00",
          "2023-12-07T00:00:00",
          "2023-12-08T00:00:00",
          "2023-12-11T00:00:00",
          "2023-12-12T00:00:00",
          "2023-12-13T00:00:00",
          "2023-12-14T00:00:00",
          "2023-12-15T00:00:00",
          "2023-12-18T00:00:00",
          "2023-12-19T00:00:00",
          "2023-12-20T00:00:00",
          "2023-12-21T00:00:00",
          "2023-12-22T00:00:00",
          "2023-12-26T00:00:00",
          "2023-12-27T00:00:00",
          "2023-12-28T00:00:00",
          "2023-12-29T00:00:00",
          "2024-01-01T00:00:00",
          "2024-01-02T00:00:00",
          "2024-01-03T00:00:00",
          "2024-01-04T00:00:00",
          "2024-01-05T00:00:00",
          "2024-01-08T00:00:00",
          "2024-01-09T00:00:00",
          "2024-01-10T00:00:00",
          "2024-01-11T00:00:00",
          "2024-01-12T00:00:00",
          "2024-01-15T00:00:00",
          "2024-01-16T00:00:00",
          "2024-01-17T00:00:00",
          "2024-01-18T00:00:00",
          "2024-01-19T00:00:00",
          "2024-01-23T00:00:00",
          "2024-01-24T00:00:00",
          "2024-01-25T00:00:00",
          "2024-01-29T00:00:00",
          "2024-01-30T00:00:00",
          "2024-01-31T00:00:00"
         ],
         "y": [
          3261,
          3252,
          3306.699951171875,
          3330.199951171875,
          3300,
          3229,
          3285,
          3290.10009765625,
          3329,
          3342.89990234375,
          3317,
          3330,
          3380,
          3380,
          3365,
          3388,
          3425,
          3425.300048828125,
          3426,
          3420,
          3449,
          3363,
          3427,
          3504,
          3473.14990234375,
          3468.89990234375,
          3478.050048828125,
          3515,
          3520,
          3549,
          3505,
          3487,
          3527.199951171875,
          3526.14990234375,
          3502,
          3494,
          3414.949951171875,
          3421,
          3422.5,
          3390,
          3328.5,
          3323,
          3361,
          3354,
          3361.89990234375,
          3364,
          3385,
          3312.89990234375,
          3333,
          3280,
          3250,
          3208,
          3150.5,
          3169.64990234375,
          3143.300048828125,
          3130.050048828125,
          3114.89990234375,
          3148.89990234375,
          3135,
          3127,
          3129,
          3189.949951171875,
          3224.949951171875,
          3185.5,
          3225,
          3220,
          3264,
          3227.949951171875,
          3210,
          3134.10009765625,
          3154.949951171875,
          3130.75,
          3090,
          3110,
          3151.10009765625,
          3183,
          3181,
          3185,
          3200.39990234375,
          3235,
          3216,
          3180.14990234375,
          3220,
          3245,
          3252.60009765625,
          3290,
          3309,
          3279.14990234375,
          3284,
          3256.199951171875,
          3255.949951171875,
          3225.949951171875,
          3210,
          3230,
          3306,
          3276,
          3294,
          3293.5,
          3360.800048828125,
          3315,
          3309,
          3314,
          3326.25,
          3315,
          3280,
          3253,
          3261,
          3245,
          3215,
          3260,
          3243.699951171875,
          3245.300048828125,
          3197,
          3190,
          3214,
          3250,
          3260,
          3237.300048828125,
          3205,
          3202,
          3208,
          3220,
          3314.300048828125,
          3290,
          3320,
          3306.550048828125,
          3302,
          3324.75,
          3295,
          3280.949951171875,
          3284,
          3365,
          3510,
          3476,
          3500,
          3453.10009765625,
          3404.050048828125,
          3381,
          3397.5,
          3400.35009765625,
          3394.949951171875,
          3385,
          3364.39990234375,
          3415,
          3434.949951171875,
          3420,
          3401.25,
          3453.949951171875,
          3484.050048828125,
          3464.89990234375,
          3450,
          3438.10009765625,
          3440.699951171875,
          3450,
          3455,
          3410,
          3375,
          3400,
          3388,
          3408,
          3375,
          3394,
          3381.050048828125,
          3398,
          3401,
          3366,
          3378,
          3420,
          3434,
          3430.800048828125,
          3455.25,
          3462,
          3492,
          3571.10009765625,
          3570.050048828125,
          3567.85009765625,
          3580.050048828125,
          3580,
          3588.550048828125,
          3584,
          3602.5,
          3567.60009765625,
          3590,
          3600,
          3537.199951171875,
          3534.199951171875,
          3486.300048828125,
          3554,
          3591,
          3645.050048828125,
          3640.050048828125,
          3650,
          3575,
          3530,
          3566,
          3530,
          3511,
          3469.5,
          3450.39990234375,
          3473,
          3390.5,
          3368.050048828125,
          3350,
          3350,
          3399,
          3355,
          3343.199951171875,
          3382,
          3375,
          3378,
          3371.449951171875,
          3390.10009765625,
          3338,
          3356,
          3383.10009765625,
          3430.050048828125,
          3497.85009765625,
          3491.25,
          3519.60009765625,
          3500,
          3530,
          3494.25,
          3457.10009765625,
          3481,
          3499.449951171875,
          3500,
          3544.64990234375,
          3538,
          3532.60009765625,
          3605,
          3633,
          3622.89990234375,
          3638.949951171875,
          3643.550048828125,
          3630,
          3666.699951171875,
          3858.10009765625,
          3845,
          3827.25,
          3756.25,
          3800,
          3819.85009765625,
          3799,
          3824,
          3792,
          3790,
          3811.10009765625,
          3767,
          3701.75,
          3675,
          3737.89990234375,
          3709.949951171875,
          3690,
          3724,
          3848,
          3960,
          3899,
          3819,
          3898,
          3945,
          3900,
          3880,
          3839.89990234375,
          3800.800048828125,
          3807.449951171875,
          3811.199951171875
         ]
        },
        {
         "mode": "lines",
         "name": "Close Chart",
         "type": "scatter",
         "x": [
          "2023-01-02T00:00:00",
          "2023-01-03T00:00:00",
          "2023-01-04T00:00:00",
          "2023-01-05T00:00:00",
          "2023-01-06T00:00:00",
          "2023-01-09T00:00:00",
          "2023-01-10T00:00:00",
          "2023-01-11T00:00:00",
          "2023-01-12T00:00:00",
          "2023-01-13T00:00:00",
          "2023-01-16T00:00:00",
          "2023-01-17T00:00:00",
          "2023-01-18T00:00:00",
          "2023-01-19T00:00:00",
          "2023-01-20T00:00:00",
          "2023-01-23T00:00:00",
          "2023-01-24T00:00:00",
          "2023-01-25T00:00:00",
          "2023-01-27T00:00:00",
          "2023-01-30T00:00:00",
          "2023-01-31T00:00:00",
          "2023-02-01T00:00:00",
          "2023-02-02T00:00:00",
          "2023-02-03T00:00:00",
          "2023-02-06T00:00:00",
          "2023-02-07T00:00:00",
          "2023-02-08T00:00:00",
          "2023-02-09T00:00:00",
          "2023-02-10T00:00:00",
          "2023-02-13T00:00:00",
          "2023-02-14T00:00:00",
          "2023-02-15T00:00:00",
          "2023-02-16T00:00:00",
          "2023-02-17T00:00:00",
          "2023-02-20T00:00:00",
          "2023-02-21T00:00:00",
          "2023-02-22T00:00:00",
          "2023-02-23T00:00:00",
          "2023-02-24T00:00:00",
          "2023-02-27T00:00:00",
          "2023-02-28T00:00:00",
          "2023-03-01T00:00:00",
          "2023-03-02T00:00:00",
          "2023-03-03T00:00:00",
          "2023-03-06T00:00:00",
          "2023-03-08T00:00:00",
          "2023-03-09T00:00:00",
          "2023-03-10T00:00:00",
          "2023-03-13T00:00:00",
          "2023-03-14T00:00:00",
          "2023-03-15T00:00:00",
          "2023-03-16T00:00:00",
          "2023-03-17T00:00:00",
          "2023-03-20T00:00:00",
          "2023-03-21T00:00:00",
          "2023-03-22T00:00:00",
          "2023-03-23T00:00:00",
          "2023-03-24T00:00:00",
          "2023-03-27T00:00:00",
          "2023-03-28T00:00:00",
          "2023-03-29T00:00:00",
          "2023-03-31T00:00:00",
          "2023-04-03T00:00:00",
          "2023-04-05T00:00:00",
          "2023-04-06T00:00:00",
          "2023-04-10T00:00:00",
          "2023-04-11T00:00:00",
          "2023-04-12T00:00:00",
          "2023-04-13T00:00:00",
          "2023-04-17T00:00:00",
          "2023-04-18T00:00:00",
          "2023-04-19T00:00:00",
          "2023-04-20T00:00:00",
          "2023-04-21T00:00:00",
          "2023-04-24T00:00:00",
          "2023-04-25T00:00:00",
          "2023-04-26T00:00:00",
          "2023-04-27T00:00:00",
          "2023-04-28T00:00:00",
          "2023-05-02T00:00:00",
          "2023-05-03T00:00:00",
          "2023-05-04T00:00:00",
          "2023-05-05T00:00:00",
          "2023-05-08T00:00:00",
          "2023-05-09T00:00:00",
          "2023-05-10T00:00:00",
          "2023-05-11T00:00:00",
          "2023-05-12T00:00:00",
          "2023-05-15T00:00:00",
          "2023-05-16T00:00:00",
          "2023-05-17T00:00:00",
          "2023-05-18T00:00:00",
          "2023-05-19T00:00:00",
          "2023-05-22T00:00:00",
          "2023-05-23T00:00:00",
          "2023-05-24T00:00:00",
          "2023-05-25T00:00:00",
          "2023-05-26T00:00:00",
          "2023-05-29T00:00:00",
          "2023-05-30T00:00:00",
          "2023-05-31T00:00:00",
          "2023-06-01T00:00:00",
          "2023-06-02T00:00:00",
          "2023-06-05T00:00:00",
          "2023-06-06T00:00:00",
          "2023-06-07T00:00:00",
          "2023-06-08T00:00:00",
          "2023-06-09T00:00:00",
          "2023-06-12T00:00:00",
          "2023-06-13T00:00:00",
          "2023-06-14T00:00:00",
          "2023-06-15T00:00:00",
          "2023-06-16T00:00:00",
          "2023-06-19T00:00:00",
          "2023-06-20T00:00:00",
          "2023-06-21T00:00:00",
          "2023-06-22T00:00:00",
          "2023-06-23T00:00:00",
          "2023-06-26T00:00:00",
          "2023-06-27T00:00:00",
          "2023-06-28T00:00:00",
          "2023-06-30T00:00:00",
          "2023-07-03T00:00:00",
          "2023-07-04T00:00:00",
          "2023-07-05T00:00:00",
          "2023-07-06T00:00:00",
          "2023-07-07T00:00:00",
          "2023-07-10T00:00:00",
          "2023-07-11T00:00:00",
          "2023-07-12T00:00:00",
          "2023-07-13T00:00:00",
          "2023-07-14T00:00:00",
          "2023-07-17T00:00:00",
          "2023-07-18T00:00:00",
          "2023-07-19T00:00:00",
          "2023-07-20T00:00:00",
          "2023-07-21T00:00:00",
          "2023-07-24T00:00:00",
          "2023-07-25T00:00:00",
          "2023-07-26T00:00:00",
          "2023-07-27T00:00:00",
          "2023-07-28T00:00:00",
          "2023-07-31T00:00:00",
          "2023-08-01T00:00:00",
          "2023-08-02T00:00:00",
          "2023-08-03T00:00:00",
          "2023-08-04T00:00:00",
          "2023-08-07T00:00:00",
          "2023-08-08T00:00:00",
          "2023-08-09T00:00:00",
          "2023-08-10T00:00:00",
          "2023-08-11T00:00:00",
          "2023-08-14T00:00:00",
          "2023-08-16T00:00:00",
          "2023-08-17T00:00:00",
          "2023-08-18T00:00:00",
          "2023-08-21T00:00:00",
          "2023-08-22T00:00:00",
          "2023-08-23T00:00:00",
          "2023-08-24T00:00:00",
          "2023-08-25T00:00:00",
          "2023-08-28T00:00:00",
          "2023-08-29T00:00:00",
          "2023-08-30T00:00:00",
          "2023-08-31T00:00:00",
          "2023-09-01T00:00:00",
          "2023-09-04T00:00:00",
          "2023-09-05T00:00:00",
          "2023-09-06T00:00:00",
          "2023-09-07T00:00:00",
          "2023-09-08T00:00:00",
          "2023-09-11T00:00:00",
          "2023-09-12T00:00:00",
          "2023-09-13T00:00:00",
          "2023-09-14T00:00:00",
          "2023-09-15T00:00:00",
          "2023-09-18T00:00:00",
          "2023-09-20T00:00:00",
          "2023-09-21T00:00:00",
          "2023-09-22T00:00:00",
          "2023-09-25T00:00:00",
          "2023-09-26T00:00:00",
          "2023-09-27T00:00:00",
          "2023-09-28T00:00:00",
          "2023-09-29T00:00:00",
          "2023-10-03T00:00:00",
          "2023-10-04T00:00:00",
          "2023-10-05T00:00:00",
          "2023-10-06T00:00:00",
          "2023-10-09T00:00:00",
          "2023-10-10T00:00:00",
          "2023-10-11T00:00:00",
          "2023-10-12T00:00:00",
          "2023-10-13T00:00:00",
          "2023-10-16T00:00:00",
          "2023-10-17T00:00:00",
          "2023-10-18T00:00:00",
          "2023-10-19T00:00:00",
          "2023-10-20T00:00:00",
          "2023-10-23T00:00:00",
          "2023-10-25T00:00:00",
          "2023-10-26T00:00:00",
          "2023-10-27T00:00:00",
          "2023-10-30T00:00:00",
          "2023-10-31T00:00:00",
          "2023-11-01T00:00:00",
          "2023-11-02T00:00:00",
          "2023-11-03T00:00:00",
          "2023-11-06T00:00:00",
          "2023-11-07T00:00:00",
          "2023-11-08T00:00:00",
          "2023-11-09T00:00:00",
          "2023-11-10T00:00:00",
          "2023-11-13T00:00:00",
          "2023-11-15T00:00:00",
          "2023-11-16T00:00:00",
          "2023-11-17T00:00:00",
          "2023-11-20T00:00:00",
          "2023-11-21T00:00:00",
          "2023-11-22T00:00:00",
          "2023-11-23T00:00:00",
          "2023-11-24T00:00:00",
          "2023-11-28T00:00:00",
          "2023-11-29T00:00:00",
          "2023-11-30T00:00:00",
          "2023-12-01T00:00:00",
          "2023-12-04T00:00:00",
          "2023-12-05T00:00:00",
          "2023-12-06T00:00:00",
          "2023-12-07T00:00:00",
          "2023-12-08T00:00:00",
          "2023-12-11T00:00:00",
          "2023-12-12T00:00:00",
          "2023-12-13T00:00:00",
          "2023-12-14T00:00:00",
          "2023-12-15T00:00:00",
          "2023-12-18T00:00:00",
          "2023-12-19T00:00:00",
          "2023-12-20T00:00:00",
          "2023-12-21T00:00:00",
          "2023-12-22T00:00:00",
          "2023-12-26T00:00:00",
          "2023-12-27T00:00:00",
          "2023-12-28T00:00:00",
          "2023-12-29T00:00:00",
          "2024-01-01T00:00:00",
          "2024-01-02T00:00:00",
          "2024-01-03T00:00:00",
          "2024-01-04T00:00:00",
          "2024-01-05T00:00:00",
          "2024-01-08T00:00:00",
          "2024-01-09T00:00:00",
          "2024-01-10T00:00:00",
          "2024-01-11T00:00:00",
          "2024-01-12T00:00:00",
          "2024-01-15T00:00:00",
          "2024-01-16T00:00:00",
          "2024-01-17T00:00:00",
          "2024-01-18T00:00:00",
          "2024-01-19T00:00:00",
          "2024-01-23T00:00:00",
          "2024-01-24T00:00:00",
          "2024-01-25T00:00:00",
          "2024-01-29T00:00:00",
          "2024-01-30T00:00:00",
          "2024-01-31T00:00:00"
         ],
         "y": [
          3261.449951171875,
          3311.35009765625,
          3314.64990234375,
          3311.10009765625,
          3211.550048828125,
          3319.949951171875,
          3286.39990234375,
          3328.699951171875,
          3334.35009765625,
          3374.550048828125,
          3334.050048828125,
          3378.39990234375,
          3390,
          3373.10009765625,
          3363.10009765625,
          3414.89990234375,
          3436.300048828125,
          3429.75,
          3411.050048828125,
          3433.64990234375,
          3358.699951171875,
          3408.35009765625,
          3460.39990234375,
          3482.300048828125,
          3459.949951171875,
          3472.550048828125,
          3520.10009765625,
          3540.85009765625,
          3537.550048828125,
          3482.39990234375,
          3500.10009765625,
          3520.64990234375,
          3558.050048828125,
          3501.14990234375,
          3487.300048828125,
          3451,
          3401.550048828125,
          3413.800048828125,
          3400.449951171875,
          3331.85009765625,
          3312.85009765625,
          3385.699951171875,
          3321.449951171875,
          3342.14990234375,
          3371.85009765625,
          3390.39990234375,
          3336.85009765625,
          3331,
          3281.949951171875,
          3214.949951171875,
          3198.89990234375,
          3185,
          3179.300048828125,
          3143.300048828125,
          3106.10009765625,
          3130.800048828125,
          3124.64990234375,
          3120.5,
          3122.300048828125,
          3115.89990234375,
          3138.89990234375,
          3205.89990234375,
          3200,
          3239.800048828125,
          3220.699951171875,
          3263.39990234375,
          3213.800048828125,
          3241.64990234375,
          3188.85009765625,
          3139.5,
          3130.75,
          3089.60009765625,
          3104.800048828125,
          3160.85009765625,
          3174.800048828125,
          3176,
          3198.14990234375,
          3187.949951171875,
          3219.25,
          3219.39990234375,
          3179.89990234375,
          3220.699951171875,
          3230.699951171875,
          3250.60009765625,
          3283.25,
          3286.800048828125,
          3282.14990234375,
          3274.300048828125,
          3255.050048828125,
          3258.14990234375,
          3208.699951171875,
          3199.85009765625,
          3222.85009765625,
          3298.699951171875,
          3297.050048828125,
          3303.35009765625,
          3293.5,
          3328.89990234375,
          3320.35009765625,
          3316.199951171875,
          3289.5,
          3324,
          3305.60009765625,
          3288.89990234375,
          3232.300048828125,
          3274.89990234375,
          3236.449951171875,
          3209.300048828125,
          3246.89990234375,
          3243.699951171875,
          3251.050048828125,
          3216.300048828125,
          3174.89990234375,
          3210.39990234375,
          3227.699951171875,
          3258.199951171875,
          3238.5,
          3216.35009765625,
          3189.64990234375,
          3197.35009765625,
          3215.449951171875,
          3302.25,
          3272.300048828125,
          3308.85009765625,
          3319.949951171875,
          3322.89990234375,
          3329.25,
          3271.949951171875,
          3272.39990234375,
          3259.89990234375,
          3340.550048828125,
          3514.64990234375,
          3491.699951171875,
          3496.85009765625,
          3470.050048828125,
          3463.300048828125,
          3368.300048828125,
          3394.75,
          3399.14990234375,
          3388.300048828125,
          3396.89990234375,
          3355.39990234375,
          3421.449951171875,
          3452.050048828125,
          3440.64990234375,
          3399.949951171875,
          3443.550048828125,
          3484.050048828125,
          3470.60009765625,
          3462.5,
          3442.10009765625,
          3448.800048828125,
          3449.85009765625,
          3458.39990234375,
          3435.75,
          3367.10009765625,
          3401.64990234375,
          3382.14990234375,
          3398.25,
          3387.75,
          3381.300048828125,
          3375.550048828125,
          3376.14990234375,
          3390.949951171875,
          3356.800048828125,
          3379.199951171875,
          3418.5,
          3429.35009765625,
          3429.89990234375,
          3455.25,
          3441.89990234375,
          3480.64990234375,
          3580.800048828125,
          3567.85009765625,
          3560.050048828125,
          3598.300048828125,
          3606.14990234375,
          3606.050048828125,
          3585.300048828125,
          3603.64990234375,
          3577.14990234375,
          3585.699951171875,
          3589.300048828125,
          3536.75,
          3528.60009765625,
          3513.85009765625,
          3537.75,
          3589.35009765625,
          3621.39990234375,
          3638.35009765625,
          3628.89990234375,
          3609.89990234375,
          3542.550048828125,
          3570.85009765625,
          3524.050048828125,
          3507.050048828125,
          3487.25,
          3455.64990234375,
          3494.550048828125,
          3410.14990234375,
          3390.10009765625,
          3336.75,
          3350.949951171875,
          3378.550048828125,
          3368.75,
          3330.64990234375,
          3360.10009765625,
          3350.89990234375,
          3380.25,
          3370.449951171875,
          3381.550048828125,
          3347.449951171875,
          3333.449951171875,
          3331.550048828125,
          3404.300048828125,
          3497.85009765625,
          3502.449951171875,
          3519.60009765625,
          3510.199951171875,
          3530.14990234375,
          3508.25,
          3457.10009765625,
          3470.14990234375,
          3513.75,
          3487.60009765625,
          3511.64990234375,
          3512.449951171875,
          3531.60009765625,
          3604.10009765625,
          3614.89990234375,
          3626.699951171875,
          3642.89990234375,
          3672.10009765625,
          3593.550048828125,
          3667.25,
          3861,
          3859.199951171875,
          3816.199951171875,
          3780.050048828125,
          3787.5,
          3824,
          3795.550048828125,
          3811.199951171875,
          3799.89990234375,
          3793.39990234375,
          3811.10009765625,
          3783.199951171875,
          3691.75,
          3666.800048828125,
          3737.89990234375,
          3678.300048828125,
          3689.89990234375,
          3713.050048828125,
          3735.550048828125,
          3882.800048828125,
          3903.800048828125,
          3861.300048828125,
          3884.60009765625,
          3902.60009765625,
          3943.050048828125,
          3858.25,
          3841.800048828125,
          3810.300048828125,
          3801,
          3800.550048828125,
          3815.949951171875
         ]
        }
       ],
       "layout": {
        "template": {
         "data": {
          "bar": [
           {
            "error_x": {
             "color": "#2a3f5f"
            },
            "error_y": {
             "color": "#2a3f5f"
            },
            "marker": {
             "line": {
              "color": "#E5ECF6",
              "width": 0.5
             },
             "pattern": {
              "fillmode": "overlay",
              "size": 10,
              "solidity": 0.2
             }
            },
            "type": "bar"
           }
          ],
          "barpolar": [
           {
            "marker": {
             "line": {
              "color": "#E5ECF6",
              "width": 0.5
             },
             "pattern": {
              "fillmode": "overlay",
              "size": 10,
              "solidity": 0.2
             }
            },
            "type": "barpolar"
           }
          ],
          "carpet": [
           {
            "aaxis": {
             "endlinecolor": "#2a3f5f",
             "gridcolor": "white",
             "linecolor": "white",
             "minorgridcolor": "white",
             "startlinecolor": "#2a3f5f"
            },
            "baxis": {
             "endlinecolor": "#2a3f5f",
             "gridcolor": "white",
             "linecolor": "white",
             "minorgridcolor": "white",
             "startlinecolor": "#2a3f5f"
            },
            "type": "carpet"
           }
          ],
          "choropleth": [
           {
            "colorbar": {
             "outlinewidth": 0,
             "ticks": ""
            },
            "type": "choropleth"
           }
          ],
          "contour": [
           {
            "colorbar": {
             "outlinewidth": 0,
             "ticks": ""
            },
            "colorscale": [
             [
              0,
              "#0d0887"
             ],
             [
              0.1111111111111111,
              "#46039f"
             ],
             [
              0.2222222222222222,
              "#7201a8"
             ],
             [
              0.3333333333333333,
              "#9c179e"
             ],
             [
              0.4444444444444444,
              "#bd3786"
             ],
             [
              0.5555555555555556,
              "#d8576b"
             ],
             [
              0.6666666666666666,
              "#ed7953"
             ],
             [
              0.7777777777777778,
              "#fb9f3a"
             ],
             [
              0.8888888888888888,
              "#fdca26"
             ],
             [
              1,
              "#f0f921"
             ]
            ],
            "type": "contour"
           }
          ],
          "contourcarpet": [
           {
            "colorbar": {
             "outlinewidth": 0,
             "ticks": ""
            },
            "type": "contourcarpet"
           }
          ],
          "heatmap": [
           {
            "colorbar": {
             "outlinewidth": 0,
             "ticks": ""
            },
            "colorscale": [
             [
              0,
              "#0d0887"
             ],
             [
              0.1111111111111111,
              "#46039f"
             ],
             [
              0.2222222222222222,
              "#7201a8"
             ],
             [
              0.3333333333333333,
              "#9c179e"
             ],
             [
              0.4444444444444444,
              "#bd3786"
             ],
             [
              0.5555555555555556,
              "#d8576b"
             ],
             [
              0.6666666666666666,
              "#ed7953"
             ],
             [
              0.7777777777777778,
              "#fb9f3a"
             ],
             [
              0.8888888888888888,
              "#fdca26"
             ],
             [
              1,
              "#f0f921"
             ]
            ],
            "type": "heatmap"
           }
          ],
          "heatmapgl": [
           {
            "colorbar": {
             "outlinewidth": 0,
             "ticks": ""
            },
            "colorscale": [
             [
              0,
              "#0d0887"
             ],
             [
              0.1111111111111111,
              "#46039f"
             ],
             [
              0.2222222222222222,
              "#7201a8"
             ],
             [
              0.3333333333333333,
              "#9c179e"
             ],
             [
              0.4444444444444444,
              "#bd3786"
             ],
             [
              0.5555555555555556,
              "#d8576b"
             ],
             [
              0.6666666666666666,
              "#ed7953"
             ],
             [
              0.7777777777777778,
              "#fb9f3a"
             ],
             [
              0.8888888888888888,
              "#fdca26"
             ],
             [
              1,
              "#f0f921"
             ]
            ],
            "type": "heatmapgl"
           }
          ],
          "histogram": [
           {
            "marker": {
             "pattern": {
              "fillmode": "overlay",
              "size": 10,
              "solidity": 0.2
             }
            },
            "type": "histogram"
           }
          ],
          "histogram2d": [
           {
            "colorbar": {
             "outlinewidth": 0,
             "ticks": ""
            },
            "colorscale": [
             [
              0,
              "#0d0887"
             ],
             [
              0.1111111111111111,
              "#46039f"
             ],
             [
              0.2222222222222222,
              "#7201a8"
             ],
             [
              0.3333333333333333,
              "#9c179e"
             ],
             [
              0.4444444444444444,
              "#bd3786"
             ],
             [
              0.5555555555555556,
              "#d8576b"
             ],
             [
              0.6666666666666666,
              "#ed7953"
             ],
             [
              0.7777777777777778,
              "#fb9f3a"
             ],
             [
              0.8888888888888888,
              "#fdca26"
             ],
             [
              1,
              "#f0f921"
             ]
            ],
            "type": "histogram2d"
           }
          ],
          "histogram2dcontour": [
           {
            "colorbar": {
             "outlinewidth": 0,
             "ticks": ""
            },
            "colorscale": [
             [
              0,
              "#0d0887"
             ],
             [
              0.1111111111111111,
              "#46039f"
             ],
             [
              0.2222222222222222,
              "#7201a8"
             ],
             [
              0.3333333333333333,
              "#9c179e"
             ],
             [
              0.4444444444444444,
              "#bd3786"
             ],
             [
              0.5555555555555556,
              "#d8576b"
             ],
             [
              0.6666666666666666,
              "#ed7953"
             ],
             [
              0.7777777777777778,
              "#fb9f3a"
             ],
             [
              0.8888888888888888,
              "#fdca26"
             ],
             [
              1,
              "#f0f921"
             ]
            ],
            "type": "histogram2dcontour"
           }
          ],
          "mesh3d": [
           {
            "colorbar": {
             "outlinewidth": 0,
             "ticks": ""
            },
            "type": "mesh3d"
           }
          ],
          "parcoords": [
           {
            "line": {
             "colorbar": {
              "outlinewidth": 0,
              "ticks": ""
             }
            },
            "type": "parcoords"
           }
          ],
          "pie": [
           {
            "automargin": true,
            "type": "pie"
           }
          ],
          "scatter": [
           {
            "fillpattern": {
             "fillmode": "overlay",
             "size": 10,
             "solidity": 0.2
            },
            "type": "scatter"
           }
          ],
          "scatter3d": [
           {
            "line": {
             "colorbar": {
              "outlinewidth": 0,
              "ticks": ""
             }
            },
            "marker": {
             "colorbar": {
              "outlinewidth": 0,
              "ticks": ""
             }
            },
            "type": "scatter3d"
           }
          ],
          "scattercarpet": [
           {
            "marker": {
             "colorbar": {
              "outlinewidth": 0,
              "ticks": ""
             }
            },
            "type": "scattercarpet"
           }
          ],
          "scattergeo": [
           {
            "marker": {
             "colorbar": {
              "outlinewidth": 0,
              "ticks": ""
             }
            },
            "type": "scattergeo"
           }
          ],
          "scattergl": [
           {
            "marker": {
             "colorbar": {
              "outlinewidth": 0,
              "ticks": ""
             }
            },
            "type": "scattergl"
           }
          ],
          "scattermapbox": [
           {
            "marker": {
             "colorbar": {
              "outlinewidth": 0,
              "ticks": ""
             }
            },
            "type": "scattermapbox"
           }
          ],
          "scatterpolar": [
           {
            "marker": {
             "colorbar": {
              "outlinewidth": 0,
              "ticks": ""
             }
            },
            "type": "scatterpolar"
           }
          ],
          "scatterpolargl": [
           {
            "marker": {
             "colorbar": {
              "outlinewidth": 0,
              "ticks": ""
             }
            },
            "type": "scatterpolargl"
           }
          ],
          "scatterternary": [
           {
            "marker": {
             "colorbar": {
              "outlinewidth": 0,
              "ticks": ""
             }
            },
            "type": "scatterternary"
           }
          ],
          "surface": [
           {
            "colorbar": {
             "outlinewidth": 0,
             "ticks": ""
            },
            "colorscale": [
             [
              0,
              "#0d0887"
             ],
             [
              0.1111111111111111,
              "#46039f"
             ],
             [
              0.2222222222222222,
              "#7201a8"
             ],
             [
              0.3333333333333333,
              "#9c179e"
             ],
             [
              0.4444444444444444,
              "#bd3786"
             ],
             [
              0.5555555555555556,
              "#d8576b"
             ],
             [
              0.6666666666666666,
              "#ed7953"
             ],
             [
              0.7777777777777778,
              "#fb9f3a"
             ],
             [
              0.8888888888888888,
              "#fdca26"
             ],
             [
              1,
              "#f0f921"
             ]
            ],
            "type": "surface"
           }
          ],
          "table": [
           {
            "cells": {
             "fill": {
              "color": "#EBF0F8"
             },
             "line": {
              "color": "white"
             }
            },
            "header": {
             "fill": {
              "color": "#C8D4E3"
             },
             "line": {
              "color": "white"
             }
            },
            "type": "table"
           }
          ]
         },
         "layout": {
          "annotationdefaults": {
           "arrowcolor": "#2a3f5f",
           "arrowhead": 0,
           "arrowwidth": 1
          },
          "autotypenumbers": "strict",
          "coloraxis": {
           "colorbar": {
            "outlinewidth": 0,
            "ticks": ""
           }
          },
          "colorscale": {
           "diverging": [
            [
             0,
             "#8e0152"
            ],
            [
             0.1,
             "#c51b7d"
            ],
            [
             0.2,
             "#de77ae"
            ],
            [
             0.3,
             "#f1b6da"
            ],
            [
             0.4,
             "#fde0ef"
            ],
            [
             0.5,
             "#f7f7f7"
            ],
            [
             0.6,
             "#e6f5d0"
            ],
            [
             0.7,
             "#b8e186"
            ],
            [
             0.8,
             "#7fbc41"
            ],
            [
             0.9,
             "#4d9221"
            ],
            [
             1,
             "#276419"
            ]
           ],
           "sequential": [
            [
             0,
             "#0d0887"
            ],
            [
             0.1111111111111111,
             "#46039f"
            ],
            [
             0.2222222222222222,
             "#7201a8"
            ],
            [
             0.3333333333333333,
             "#9c179e"
            ],
            [
             0.4444444444444444,
             "#bd3786"
            ],
            [
             0.5555555555555556,
             "#d8576b"
            ],
            [
             0.6666666666666666,
             "#ed7953"
            ],
            [
             0.7777777777777778,
             "#fb9f3a"
            ],
            [
             0.8888888888888888,
             "#fdca26"
            ],
            [
             1,
             "#f0f921"
            ]
           ],
           "sequentialminus": [
            [
             0,
             "#0d0887"
            ],
            [
             0.1111111111111111,
             "#46039f"
            ],
            [
             0.2222222222222222,
             "#7201a8"
            ],
            [
             0.3333333333333333,
             "#9c179e"
            ],
            [
             0.4444444444444444,
             "#bd3786"
            ],
            [
             0.5555555555555556,
             "#d8576b"
            ],
            [
             0.6666666666666666,
             "#ed7953"
            ],
            [
             0.7777777777777778,
             "#fb9f3a"
            ],
            [
             0.8888888888888888,
             "#fdca26"
            ],
            [
             1,
             "#f0f921"
            ]
           ]
          },
          "colorway": [
           "#636efa",
           "#EF553B",
           "#00cc96",
           "#ab63fa",
           "#FFA15A",
           "#19d3f3",
           "#FF6692",
           "#B6E880",
           "#FF97FF",
           "#FECB52"
          ],
          "font": {
           "color": "#2a3f5f"
          },
          "geo": {
           "bgcolor": "white",
           "lakecolor": "white",
           "landcolor": "#E5ECF6",
           "showlakes": true,
           "showland": true,
           "subunitcolor": "white"
          },
          "hoverlabel": {
           "align": "left"
          },
          "hovermode": "closest",
          "mapbox": {
           "style": "light"
          },
          "paper_bgcolor": "white",
          "plot_bgcolor": "#E5ECF6",
          "polar": {
           "angularaxis": {
            "gridcolor": "white",
            "linecolor": "white",
            "ticks": ""
           },
           "bgcolor": "#E5ECF6",
           "radialaxis": {
            "gridcolor": "white",
            "linecolor": "white",
            "ticks": ""
           }
          },
          "scene": {
           "xaxis": {
            "backgroundcolor": "#E5ECF6",
            "gridcolor": "white",
            "gridwidth": 2,
            "linecolor": "white",
            "showbackground": true,
            "ticks": "",
            "zerolinecolor": "white"
           },
           "yaxis": {
            "backgroundcolor": "#E5ECF6",
            "gridcolor": "white",
            "gridwidth": 2,
            "linecolor": "white",
            "showbackground": true,
            "ticks": "",
            "zerolinecolor": "white"
           },
           "zaxis": {
            "backgroundcolor": "#E5ECF6",
            "gridcolor": "white",
            "gridwidth": 2,
            "linecolor": "white",
            "showbackground": true,
            "ticks": "",
            "zerolinecolor": "white"
           }
          },
          "shapedefaults": {
           "line": {
            "color": "#2a3f5f"
           }
          },
          "ternary": {
           "aaxis": {
            "gridcolor": "white",
            "linecolor": "white",
            "ticks": ""
           },
           "baxis": {
            "gridcolor": "white",
            "linecolor": "white",
            "ticks": ""
           },
           "bgcolor": "#E5ECF6",
           "caxis": {
            "gridcolor": "white",
            "linecolor": "white",
            "ticks": ""
           }
          },
          "title": {
           "x": 0.05
          },
          "xaxis": {
           "automargin": true,
           "gridcolor": "white",
           "linecolor": "white",
           "ticks": "",
           "title": {
            "standoff": 15
           },
           "zerolinecolor": "white",
           "zerolinewidth": 2
          },
          "yaxis": {
           "automargin": true,
           "gridcolor": "white",
           "linecolor": "white",
           "ticks": "",
           "title": {
            "standoff": 15
           },
           "zerolinecolor": "white",
           "zerolinewidth": 2
          }
         }
        },
        "title": {
         "text": "Open vs Close"
        },
        "xaxis": {
         "title": {
          "text": "Date"
         }
        },
        "yaxis": {
         "title": {
          "text": "Open vs Close"
         }
        }
       }
      },
      "text/html": [
       "<div>                            <div id=\"acb16abd-831e-4e72-99b3-35a960ee6175\" class=\"plotly-graph-div\" style=\"height:525px; width:100%;\"></div>            <script type=\"text/javascript\">                require([\"plotly\"], function(Plotly) {                    window.PLOTLYENV=window.PLOTLYENV || {};                                    if (document.getElementById(\"acb16abd-831e-4e72-99b3-35a960ee6175\")) {                    Plotly.newPlot(                        \"acb16abd-831e-4e72-99b3-35a960ee6175\",                        [{\"mode\":\"lines\",\"name\":\"Open Chart\",\"x\":[\"2023-01-02T00:00:00\",\"2023-01-03T00:00:00\",\"2023-01-04T00:00:00\",\"2023-01-05T00:00:00\",\"2023-01-06T00:00:00\",\"2023-01-09T00:00:00\",\"2023-01-10T00:00:00\",\"2023-01-11T00:00:00\",\"2023-01-12T00:00:00\",\"2023-01-13T00:00:00\",\"2023-01-16T00:00:00\",\"2023-01-17T00:00:00\",\"2023-01-18T00:00:00\",\"2023-01-19T00:00:00\",\"2023-01-20T00:00:00\",\"2023-01-23T00:00:00\",\"2023-01-24T00:00:00\",\"2023-01-25T00:00:00\",\"2023-01-27T00:00:00\",\"2023-01-30T00:00:00\",\"2023-01-31T00:00:00\",\"2023-02-01T00:00:00\",\"2023-02-02T00:00:00\",\"2023-02-03T00:00:00\",\"2023-02-06T00:00:00\",\"2023-02-07T00:00:00\",\"2023-02-08T00:00:00\",\"2023-02-09T00:00:00\",\"2023-02-10T00:00:00\",\"2023-02-13T00:00:00\",\"2023-02-14T00:00:00\",\"2023-02-15T00:00:00\",\"2023-02-16T00:00:00\",\"2023-02-17T00:00:00\",\"2023-02-20T00:00:00\",\"2023-02-21T00:00:00\",\"2023-02-22T00:00:00\",\"2023-02-23T00:00:00\",\"2023-02-24T00:00:00\",\"2023-02-27T00:00:00\",\"2023-02-28T00:00:00\",\"2023-03-01T00:00:00\",\"2023-03-02T00:00:00\",\"2023-03-03T00:00:00\",\"2023-03-06T00:00:00\",\"2023-03-08T00:00:00\",\"2023-03-09T00:00:00\",\"2023-03-10T00:00:00\",\"2023-03-13T00:00:00\",\"2023-03-14T00:00:00\",\"2023-03-15T00:00:00\",\"2023-03-16T00:00:00\",\"2023-03-17T00:00:00\",\"2023-03-20T00:00:00\",\"2023-03-21T00:00:00\",\"2023-03-22T00:00:00\",\"2023-03-23T00:00:00\",\"2023-03-24T00:00:00\",\"2023-03-27T00:00:00\",\"2023-03-28T00:00:00\",\"2023-03-29T00:00:00\",\"2023-03-31T00:00:00\",\"2023-04-03T00:00:00\",\"2023-04-05T00:00:00\",\"2023-04-06T00:00:00\",\"2023-04-10T00:00:00\",\"2023-04-11T00:00:00\",\"2023-04-12T00:00:00\",\"2023-04-13T00:00:00\",\"2023-04-17T00:00:00\",\"2023-04-18T00:00:00\",\"2023-04-19T00:00:00\",\"2023-04-20T00:00:00\",\"2023-04-21T00:00:00\",\"2023-04-24T00:00:00\",\"2023-04-25T00:00:00\",\"2023-04-26T00:00:00\",\"2023-04-27T00:00:00\",\"2023-04-28T00:00:00\",\"2023-05-02T00:00:00\",\"2023-05-03T00:00:00\",\"2023-05-04T00:00:00\",\"2023-05-05T00:00:00\",\"2023-05-08T00:00:00\",\"2023-05-09T00:00:00\",\"2023-05-10T00:00:00\",\"2023-05-11T00:00:00\",\"2023-05-12T00:00:00\",\"2023-05-15T00:00:00\",\"2023-05-16T00:00:00\",\"2023-05-17T00:00:00\",\"2023-05-18T00:00:00\",\"2023-05-19T00:00:00\",\"2023-05-22T00:00:00\",\"2023-05-23T00:00:00\",\"2023-05-24T00:00:00\",\"2023-05-25T00:00:00\",\"2023-05-26T00:00:00\",\"2023-05-29T00:00:00\",\"2023-05-30T00:00:00\",\"2023-05-31T00:00:00\",\"2023-06-01T00:00:00\",\"2023-06-02T00:00:00\",\"2023-06-05T00:00:00\",\"2023-06-06T00:00:00\",\"2023-06-07T00:00:00\",\"2023-06-08T00:00:00\",\"2023-06-09T00:00:00\",\"2023-06-12T00:00:00\",\"2023-06-13T00:00:00\",\"2023-06-14T00:00:00\",\"2023-06-15T00:00:00\",\"2023-06-16T00:00:00\",\"2023-06-19T00:00:00\",\"2023-06-20T00:00:00\",\"2023-06-21T00:00:00\",\"2023-06-22T00:00:00\",\"2023-06-23T00:00:00\",\"2023-06-26T00:00:00\",\"2023-06-27T00:00:00\",\"2023-06-28T00:00:00\",\"2023-06-30T00:00:00\",\"2023-07-03T00:00:00\",\"2023-07-04T00:00:00\",\"2023-07-05T00:00:00\",\"2023-07-06T00:00:00\",\"2023-07-07T00:00:00\",\"2023-07-10T00:00:00\",\"2023-07-11T00:00:00\",\"2023-07-12T00:00:00\",\"2023-07-13T00:00:00\",\"2023-07-14T00:00:00\",\"2023-07-17T00:00:00\",\"2023-07-18T00:00:00\",\"2023-07-19T00:00:00\",\"2023-07-20T00:00:00\",\"2023-07-21T00:00:00\",\"2023-07-24T00:00:00\",\"2023-07-25T00:00:00\",\"2023-07-26T00:00:00\",\"2023-07-27T00:00:00\",\"2023-07-28T00:00:00\",\"2023-07-31T00:00:00\",\"2023-08-01T00:00:00\",\"2023-08-02T00:00:00\",\"2023-08-03T00:00:00\",\"2023-08-04T00:00:00\",\"2023-08-07T00:00:00\",\"2023-08-08T00:00:00\",\"2023-08-09T00:00:00\",\"2023-08-10T00:00:00\",\"2023-08-11T00:00:00\",\"2023-08-14T00:00:00\",\"2023-08-16T00:00:00\",\"2023-08-17T00:00:00\",\"2023-08-18T00:00:00\",\"2023-08-21T00:00:00\",\"2023-08-22T00:00:00\",\"2023-08-23T00:00:00\",\"2023-08-24T00:00:00\",\"2023-08-25T00:00:00\",\"2023-08-28T00:00:00\",\"2023-08-29T00:00:00\",\"2023-08-30T00:00:00\",\"2023-08-31T00:00:00\",\"2023-09-01T00:00:00\",\"2023-09-04T00:00:00\",\"2023-09-05T00:00:00\",\"2023-09-06T00:00:00\",\"2023-09-07T00:00:00\",\"2023-09-08T00:00:00\",\"2023-09-11T00:00:00\",\"2023-09-12T00:00:00\",\"2023-09-13T00:00:00\",\"2023-09-14T00:00:00\",\"2023-09-15T00:00:00\",\"2023-09-18T00:00:00\",\"2023-09-20T00:00:00\",\"2023-09-21T00:00:00\",\"2023-09-22T00:00:00\",\"2023-09-25T00:00:00\",\"2023-09-26T00:00:00\",\"2023-09-27T00:00:00\",\"2023-09-28T00:00:00\",\"2023-09-29T00:00:00\",\"2023-10-03T00:00:00\",\"2023-10-04T00:00:00\",\"2023-10-05T00:00:00\",\"2023-10-06T00:00:00\",\"2023-10-09T00:00:00\",\"2023-10-10T00:00:00\",\"2023-10-11T00:00:00\",\"2023-10-12T00:00:00\",\"2023-10-13T00:00:00\",\"2023-10-16T00:00:00\",\"2023-10-17T00:00:00\",\"2023-10-18T00:00:00\",\"2023-10-19T00:00:00\",\"2023-10-20T00:00:00\",\"2023-10-23T00:00:00\",\"2023-10-25T00:00:00\",\"2023-10-26T00:00:00\",\"2023-10-27T00:00:00\",\"2023-10-30T00:00:00\",\"2023-10-31T00:00:00\",\"2023-11-01T00:00:00\",\"2023-11-02T00:00:00\",\"2023-11-03T00:00:00\",\"2023-11-06T00:00:00\",\"2023-11-07T00:00:00\",\"2023-11-08T00:00:00\",\"2023-11-09T00:00:00\",\"2023-11-10T00:00:00\",\"2023-11-13T00:00:00\",\"2023-11-15T00:00:00\",\"2023-11-16T00:00:00\",\"2023-11-17T00:00:00\",\"2023-11-20T00:00:00\",\"2023-11-21T00:00:00\",\"2023-11-22T00:00:00\",\"2023-11-23T00:00:00\",\"2023-11-24T00:00:00\",\"2023-11-28T00:00:00\",\"2023-11-29T00:00:00\",\"2023-11-30T00:00:00\",\"2023-12-01T00:00:00\",\"2023-12-04T00:00:00\",\"2023-12-05T00:00:00\",\"2023-12-06T00:00:00\",\"2023-12-07T00:00:00\",\"2023-12-08T00:00:00\",\"2023-12-11T00:00:00\",\"2023-12-12T00:00:00\",\"2023-12-13T00:00:00\",\"2023-12-14T00:00:00\",\"2023-12-15T00:00:00\",\"2023-12-18T00:00:00\",\"2023-12-19T00:00:00\",\"2023-12-20T00:00:00\",\"2023-12-21T00:00:00\",\"2023-12-22T00:00:00\",\"2023-12-26T00:00:00\",\"2023-12-27T00:00:00\",\"2023-12-28T00:00:00\",\"2023-12-29T00:00:00\",\"2024-01-01T00:00:00\",\"2024-01-02T00:00:00\",\"2024-01-03T00:00:00\",\"2024-01-04T00:00:00\",\"2024-01-05T00:00:00\",\"2024-01-08T00:00:00\",\"2024-01-09T00:00:00\",\"2024-01-10T00:00:00\",\"2024-01-11T00:00:00\",\"2024-01-12T00:00:00\",\"2024-01-15T00:00:00\",\"2024-01-16T00:00:00\",\"2024-01-17T00:00:00\",\"2024-01-18T00:00:00\",\"2024-01-19T00:00:00\",\"2024-01-23T00:00:00\",\"2024-01-24T00:00:00\",\"2024-01-25T00:00:00\",\"2024-01-29T00:00:00\",\"2024-01-30T00:00:00\",\"2024-01-31T00:00:00\"],\"y\":[3261.0,3252.0,3306.699951171875,3330.199951171875,3300.0,3229.0,3285.0,3290.10009765625,3329.0,3342.89990234375,3317.0,3330.0,3380.0,3380.0,3365.0,3388.0,3425.0,3425.300048828125,3426.0,3420.0,3449.0,3363.0,3427.0,3504.0,3473.14990234375,3468.89990234375,3478.050048828125,3515.0,3520.0,3549.0,3505.0,3487.0,3527.199951171875,3526.14990234375,3502.0,3494.0,3414.949951171875,3421.0,3422.5,3390.0,3328.5,3323.0,3361.0,3354.0,3361.89990234375,3364.0,3385.0,3312.89990234375,3333.0,3280.0,3250.0,3208.0,3150.5,3169.64990234375,3143.300048828125,3130.050048828125,3114.89990234375,3148.89990234375,3135.0,3127.0,3129.0,3189.949951171875,3224.949951171875,3185.5,3225.0,3220.0,3264.0,3227.949951171875,3210.0,3134.10009765625,3154.949951171875,3130.75,3090.0,3110.0,3151.10009765625,3183.0,3181.0,3185.0,3200.39990234375,3235.0,3216.0,3180.14990234375,3220.0,3245.0,3252.60009765625,3290.0,3309.0,3279.14990234375,3284.0,3256.199951171875,3255.949951171875,3225.949951171875,3210.0,3230.0,3306.0,3276.0,3294.0,3293.5,3360.800048828125,3315.0,3309.0,3314.0,3326.25,3315.0,3280.0,3253.0,3261.0,3245.0,3215.0,3260.0,3243.699951171875,3245.300048828125,3197.0,3190.0,3214.0,3250.0,3260.0,3237.300048828125,3205.0,3202.0,3208.0,3220.0,3314.300048828125,3290.0,3320.0,3306.550048828125,3302.0,3324.75,3295.0,3280.949951171875,3284.0,3365.0,3510.0,3476.0,3500.0,3453.10009765625,3404.050048828125,3381.0,3397.5,3400.35009765625,3394.949951171875,3385.0,3364.39990234375,3415.0,3434.949951171875,3420.0,3401.25,3453.949951171875,3484.050048828125,3464.89990234375,3450.0,3438.10009765625,3440.699951171875,3450.0,3455.0,3410.0,3375.0,3400.0,3388.0,3408.0,3375.0,3394.0,3381.050048828125,3398.0,3401.0,3366.0,3378.0,3420.0,3434.0,3430.800048828125,3455.25,3462.0,3492.0,3571.10009765625,3570.050048828125,3567.85009765625,3580.050048828125,3580.0,3588.550048828125,3584.0,3602.5,3567.60009765625,3590.0,3600.0,3537.199951171875,3534.199951171875,3486.300048828125,3554.0,3591.0,3645.050048828125,3640.050048828125,3650.0,3575.0,3530.0,3566.0,3530.0,3511.0,3469.5,3450.39990234375,3473.0,3390.5,3368.050048828125,3350.0,3350.0,3399.0,3355.0,3343.199951171875,3382.0,3375.0,3378.0,3371.449951171875,3390.10009765625,3338.0,3356.0,3383.10009765625,3430.050048828125,3497.85009765625,3491.25,3519.60009765625,3500.0,3530.0,3494.25,3457.10009765625,3481.0,3499.449951171875,3500.0,3544.64990234375,3538.0,3532.60009765625,3605.0,3633.0,3622.89990234375,3638.949951171875,3643.550048828125,3630.0,3666.699951171875,3858.10009765625,3845.0,3827.25,3756.25,3800.0,3819.85009765625,3799.0,3824.0,3792.0,3790.0,3811.10009765625,3767.0,3701.75,3675.0,3737.89990234375,3709.949951171875,3690.0,3724.0,3848.0,3960.0,3899.0,3819.0,3898.0,3945.0,3900.0,3880.0,3839.89990234375,3800.800048828125,3807.449951171875,3811.199951171875],\"type\":\"scatter\"},{\"mode\":\"lines\",\"name\":\"Close Chart\",\"x\":[\"2023-01-02T00:00:00\",\"2023-01-03T00:00:00\",\"2023-01-04T00:00:00\",\"2023-01-05T00:00:00\",\"2023-01-06T00:00:00\",\"2023-01-09T00:00:00\",\"2023-01-10T00:00:00\",\"2023-01-11T00:00:00\",\"2023-01-12T00:00:00\",\"2023-01-13T00:00:00\",\"2023-01-16T00:00:00\",\"2023-01-17T00:00:00\",\"2023-01-18T00:00:00\",\"2023-01-19T00:00:00\",\"2023-01-20T00:00:00\",\"2023-01-23T00:00:00\",\"2023-01-24T00:00:00\",\"2023-01-25T00:00:00\",\"2023-01-27T00:00:00\",\"2023-01-30T00:00:00\",\"2023-01-31T00:00:00\",\"2023-02-01T00:00:00\",\"2023-02-02T00:00:00\",\"2023-02-03T00:00:00\",\"2023-02-06T00:00:00\",\"2023-02-07T00:00:00\",\"2023-02-08T00:00:00\",\"2023-02-09T00:00:00\",\"2023-02-10T00:00:00\",\"2023-02-13T00:00:00\",\"2023-02-14T00:00:00\",\"2023-02-15T00:00:00\",\"2023-02-16T00:00:00\",\"2023-02-17T00:00:00\",\"2023-02-20T00:00:00\",\"2023-02-21T00:00:00\",\"2023-02-22T00:00:00\",\"2023-02-23T00:00:00\",\"2023-02-24T00:00:00\",\"2023-02-27T00:00:00\",\"2023-02-28T00:00:00\",\"2023-03-01T00:00:00\",\"2023-03-02T00:00:00\",\"2023-03-03T00:00:00\",\"2023-03-06T00:00:00\",\"2023-03-08T00:00:00\",\"2023-03-09T00:00:00\",\"2023-03-10T00:00:00\",\"2023-03-13T00:00:00\",\"2023-03-14T00:00:00\",\"2023-03-15T00:00:00\",\"2023-03-16T00:00:00\",\"2023-03-17T00:00:00\",\"2023-03-20T00:00:00\",\"2023-03-21T00:00:00\",\"2023-03-22T00:00:00\",\"2023-03-23T00:00:00\",\"2023-03-24T00:00:00\",\"2023-03-27T00:00:00\",\"2023-03-28T00:00:00\",\"2023-03-29T00:00:00\",\"2023-03-31T00:00:00\",\"2023-04-03T00:00:00\",\"2023-04-05T00:00:00\",\"2023-04-06T00:00:00\",\"2023-04-10T00:00:00\",\"2023-04-11T00:00:00\",\"2023-04-12T00:00:00\",\"2023-04-13T00:00:00\",\"2023-04-17T00:00:00\",\"2023-04-18T00:00:00\",\"2023-04-19T00:00:00\",\"2023-04-20T00:00:00\",\"2023-04-21T00:00:00\",\"2023-04-24T00:00:00\",\"2023-04-25T00:00:00\",\"2023-04-26T00:00:00\",\"2023-04-27T00:00:00\",\"2023-04-28T00:00:00\",\"2023-05-02T00:00:00\",\"2023-05-03T00:00:00\",\"2023-05-04T00:00:00\",\"2023-05-05T00:00:00\",\"2023-05-08T00:00:00\",\"2023-05-09T00:00:00\",\"2023-05-10T00:00:00\",\"2023-05-11T00:00:00\",\"2023-05-12T00:00:00\",\"2023-05-15T00:00:00\",\"2023-05-16T00:00:00\",\"2023-05-17T00:00:00\",\"2023-05-18T00:00:00\",\"2023-05-19T00:00:00\",\"2023-05-22T00:00:00\",\"2023-05-23T00:00:00\",\"2023-05-24T00:00:00\",\"2023-05-25T00:00:00\",\"2023-05-26T00:00:00\",\"2023-05-29T00:00:00\",\"2023-05-30T00:00:00\",\"2023-05-31T00:00:00\",\"2023-06-01T00:00:00\",\"2023-06-02T00:00:00\",\"2023-06-05T00:00:00\",\"2023-06-06T00:00:00\",\"2023-06-07T00:00:00\",\"2023-06-08T00:00:00\",\"2023-06-09T00:00:00\",\"2023-06-12T00:00:00\",\"2023-06-13T00:00:00\",\"2023-06-14T00:00:00\",\"2023-06-15T00:00:00\",\"2023-06-16T00:00:00\",\"2023-06-19T00:00:00\",\"2023-06-20T00:00:00\",\"2023-06-21T00:00:00\",\"2023-06-22T00:00:00\",\"2023-06-23T00:00:00\",\"2023-06-26T00:00:00\",\"2023-06-27T00:00:00\",\"2023-06-28T00:00:00\",\"2023-06-30T00:00:00\",\"2023-07-03T00:00:00\",\"2023-07-04T00:00:00\",\"2023-07-05T00:00:00\",\"2023-07-06T00:00:00\",\"2023-07-07T00:00:00\",\"2023-07-10T00:00:00\",\"2023-07-11T00:00:00\",\"2023-07-12T00:00:00\",\"2023-07-13T00:00:00\",\"2023-07-14T00:00:00\",\"2023-07-17T00:00:00\",\"2023-07-18T00:00:00\",\"2023-07-19T00:00:00\",\"2023-07-20T00:00:00\",\"2023-07-21T00:00:00\",\"2023-07-24T00:00:00\",\"2023-07-25T00:00:00\",\"2023-07-26T00:00:00\",\"2023-07-27T00:00:00\",\"2023-07-28T00:00:00\",\"2023-07-31T00:00:00\",\"2023-08-01T00:00:00\",\"2023-08-02T00:00:00\",\"2023-08-03T00:00:00\",\"2023-08-04T00:00:00\",\"2023-08-07T00:00:00\",\"2023-08-08T00:00:00\",\"2023-08-09T00:00:00\",\"2023-08-10T00:00:00\",\"2023-08-11T00:00:00\",\"2023-08-14T00:00:00\",\"2023-08-16T00:00:00\",\"2023-08-17T00:00:00\",\"2023-08-18T00:00:00\",\"2023-08-21T00:00:00\",\"2023-08-22T00:00:00\",\"2023-08-23T00:00:00\",\"2023-08-24T00:00:00\",\"2023-08-25T00:00:00\",\"2023-08-28T00:00:00\",\"2023-08-29T00:00:00\",\"2023-08-30T00:00:00\",\"2023-08-31T00:00:00\",\"2023-09-01T00:00:00\",\"2023-09-04T00:00:00\",\"2023-09-05T00:00:00\",\"2023-09-06T00:00:00\",\"2023-09-07T00:00:00\",\"2023-09-08T00:00:00\",\"2023-09-11T00:00:00\",\"2023-09-12T00:00:00\",\"2023-09-13T00:00:00\",\"2023-09-14T00:00:00\",\"2023-09-15T00:00:00\",\"2023-09-18T00:00:00\",\"2023-09-20T00:00:00\",\"2023-09-21T00:00:00\",\"2023-09-22T00:00:00\",\"2023-09-25T00:00:00\",\"2023-09-26T00:00:00\",\"2023-09-27T00:00:00\",\"2023-09-28T00:00:00\",\"2023-09-29T00:00:00\",\"2023-10-03T00:00:00\",\"2023-10-04T00:00:00\",\"2023-10-05T00:00:00\",\"2023-10-06T00:00:00\",\"2023-10-09T00:00:00\",\"2023-10-10T00:00:00\",\"2023-10-11T00:00:00\",\"2023-10-12T00:00:00\",\"2023-10-13T00:00:00\",\"2023-10-16T00:00:00\",\"2023-10-17T00:00:00\",\"2023-10-18T00:00:00\",\"2023-10-19T00:00:00\",\"2023-10-20T00:00:00\",\"2023-10-23T00:00:00\",\"2023-10-25T00:00:00\",\"2023-10-26T00:00:00\",\"2023-10-27T00:00:00\",\"2023-10-30T00:00:00\",\"2023-10-31T00:00:00\",\"2023-11-01T00:00:00\",\"2023-11-02T00:00:00\",\"2023-11-03T00:00:00\",\"2023-11-06T00:00:00\",\"2023-11-07T00:00:00\",\"2023-11-08T00:00:00\",\"2023-11-09T00:00:00\",\"2023-11-10T00:00:00\",\"2023-11-13T00:00:00\",\"2023-11-15T00:00:00\",\"2023-11-16T00:00:00\",\"2023-11-17T00:00:00\",\"2023-11-20T00:00:00\",\"2023-11-21T00:00:00\",\"2023-11-22T00:00:00\",\"2023-11-23T00:00:00\",\"2023-11-24T00:00:00\",\"2023-11-28T00:00:00\",\"2023-11-29T00:00:00\",\"2023-11-30T00:00:00\",\"2023-12-01T00:00:00\",\"2023-12-04T00:00:00\",\"2023-12-05T00:00:00\",\"2023-12-06T00:00:00\",\"2023-12-07T00:00:00\",\"2023-12-08T00:00:00\",\"2023-12-11T00:00:00\",\"2023-12-12T00:00:00\",\"2023-12-13T00:00:00\",\"2023-12-14T00:00:00\",\"2023-12-15T00:00:00\",\"2023-12-18T00:00:00\",\"2023-12-19T00:00:00\",\"2023-12-20T00:00:00\",\"2023-12-21T00:00:00\",\"2023-12-22T00:00:00\",\"2023-12-26T00:00:00\",\"2023-12-27T00:00:00\",\"2023-12-28T00:00:00\",\"2023-12-29T00:00:00\",\"2024-01-01T00:00:00\",\"2024-01-02T00:00:00\",\"2024-01-03T00:00:00\",\"2024-01-04T00:00:00\",\"2024-01-05T00:00:00\",\"2024-01-08T00:00:00\",\"2024-01-09T00:00:00\",\"2024-01-10T00:00:00\",\"2024-01-11T00:00:00\",\"2024-01-12T00:00:00\",\"2024-01-15T00:00:00\",\"2024-01-16T00:00:00\",\"2024-01-17T00:00:00\",\"2024-01-18T00:00:00\",\"2024-01-19T00:00:00\",\"2024-01-23T00:00:00\",\"2024-01-24T00:00:00\",\"2024-01-25T00:00:00\",\"2024-01-29T00:00:00\",\"2024-01-30T00:00:00\",\"2024-01-31T00:00:00\"],\"y\":[3261.449951171875,3311.35009765625,3314.64990234375,3311.10009765625,3211.550048828125,3319.949951171875,3286.39990234375,3328.699951171875,3334.35009765625,3374.550048828125,3334.050048828125,3378.39990234375,3390.0,3373.10009765625,3363.10009765625,3414.89990234375,3436.300048828125,3429.75,3411.050048828125,3433.64990234375,3358.699951171875,3408.35009765625,3460.39990234375,3482.300048828125,3459.949951171875,3472.550048828125,3520.10009765625,3540.85009765625,3537.550048828125,3482.39990234375,3500.10009765625,3520.64990234375,3558.050048828125,3501.14990234375,3487.300048828125,3451.0,3401.550048828125,3413.800048828125,3400.449951171875,3331.85009765625,3312.85009765625,3385.699951171875,3321.449951171875,3342.14990234375,3371.85009765625,3390.39990234375,3336.85009765625,3331.0,3281.949951171875,3214.949951171875,3198.89990234375,3185.0,3179.300048828125,3143.300048828125,3106.10009765625,3130.800048828125,3124.64990234375,3120.5,3122.300048828125,3115.89990234375,3138.89990234375,3205.89990234375,3200.0,3239.800048828125,3220.699951171875,3263.39990234375,3213.800048828125,3241.64990234375,3188.85009765625,3139.5,3130.75,3089.60009765625,3104.800048828125,3160.85009765625,3174.800048828125,3176.0,3198.14990234375,3187.949951171875,3219.25,3219.39990234375,3179.89990234375,3220.699951171875,3230.699951171875,3250.60009765625,3283.25,3286.800048828125,3282.14990234375,3274.300048828125,3255.050048828125,3258.14990234375,3208.699951171875,3199.85009765625,3222.85009765625,3298.699951171875,3297.050048828125,3303.35009765625,3293.5,3328.89990234375,3320.35009765625,3316.199951171875,3289.5,3324.0,3305.60009765625,3288.89990234375,3232.300048828125,3274.89990234375,3236.449951171875,3209.300048828125,3246.89990234375,3243.699951171875,3251.050048828125,3216.300048828125,3174.89990234375,3210.39990234375,3227.699951171875,3258.199951171875,3238.5,3216.35009765625,3189.64990234375,3197.35009765625,3215.449951171875,3302.25,3272.300048828125,3308.85009765625,3319.949951171875,3322.89990234375,3329.25,3271.949951171875,3272.39990234375,3259.89990234375,3340.550048828125,3514.64990234375,3491.699951171875,3496.85009765625,3470.050048828125,3463.300048828125,3368.300048828125,3394.75,3399.14990234375,3388.300048828125,3396.89990234375,3355.39990234375,3421.449951171875,3452.050048828125,3440.64990234375,3399.949951171875,3443.550048828125,3484.050048828125,3470.60009765625,3462.5,3442.10009765625,3448.800048828125,3449.85009765625,3458.39990234375,3435.75,3367.10009765625,3401.64990234375,3382.14990234375,3398.25,3387.75,3381.300048828125,3375.550048828125,3376.14990234375,3390.949951171875,3356.800048828125,3379.199951171875,3418.5,3429.35009765625,3429.89990234375,3455.25,3441.89990234375,3480.64990234375,3580.800048828125,3567.85009765625,3560.050048828125,3598.300048828125,3606.14990234375,3606.050048828125,3585.300048828125,3603.64990234375,3577.14990234375,3585.699951171875,3589.300048828125,3536.75,3528.60009765625,3513.85009765625,3537.75,3589.35009765625,3621.39990234375,3638.35009765625,3628.89990234375,3609.89990234375,3542.550048828125,3570.85009765625,3524.050048828125,3507.050048828125,3487.25,3455.64990234375,3494.550048828125,3410.14990234375,3390.10009765625,3336.75,3350.949951171875,3378.550048828125,3368.75,3330.64990234375,3360.10009765625,3350.89990234375,3380.25,3370.449951171875,3381.550048828125,3347.449951171875,3333.449951171875,3331.550048828125,3404.300048828125,3497.85009765625,3502.449951171875,3519.60009765625,3510.199951171875,3530.14990234375,3508.25,3457.10009765625,3470.14990234375,3513.75,3487.60009765625,3511.64990234375,3512.449951171875,3531.60009765625,3604.10009765625,3614.89990234375,3626.699951171875,3642.89990234375,3672.10009765625,3593.550048828125,3667.25,3861.0,3859.199951171875,3816.199951171875,3780.050048828125,3787.5,3824.0,3795.550048828125,3811.199951171875,3799.89990234375,3793.39990234375,3811.10009765625,3783.199951171875,3691.75,3666.800048828125,3737.89990234375,3678.300048828125,3689.89990234375,3713.050048828125,3735.550048828125,3882.800048828125,3903.800048828125,3861.300048828125,3884.60009765625,3902.60009765625,3943.050048828125,3858.25,3841.800048828125,3810.300048828125,3801.0,3800.550048828125,3815.949951171875],\"type\":\"scatter\"}],                        {\"template\":{\"data\":{\"histogram2dcontour\":[{\"type\":\"histogram2dcontour\",\"colorbar\":{\"outlinewidth\":0,\"ticks\":\"\"},\"colorscale\":[[0.0,\"#0d0887\"],[0.1111111111111111,\"#46039f\"],[0.2222222222222222,\"#7201a8\"],[0.3333333333333333,\"#9c179e\"],[0.4444444444444444,\"#bd3786\"],[0.5555555555555556,\"#d8576b\"],[0.6666666666666666,\"#ed7953\"],[0.7777777777777778,\"#fb9f3a\"],[0.8888888888888888,\"#fdca26\"],[1.0,\"#f0f921\"]]}],\"choropleth\":[{\"type\":\"choropleth\",\"colorbar\":{\"outlinewidth\":0,\"ticks\":\"\"}}],\"histogram2d\":[{\"type\":\"histogram2d\",\"colorbar\":{\"outlinewidth\":0,\"ticks\":\"\"},\"colorscale\":[[0.0,\"#0d0887\"],[0.1111111111111111,\"#46039f\"],[0.2222222222222222,\"#7201a8\"],[0.3333333333333333,\"#9c179e\"],[0.4444444444444444,\"#bd3786\"],[0.5555555555555556,\"#d8576b\"],[0.6666666666666666,\"#ed7953\"],[0.7777777777777778,\"#fb9f3a\"],[0.8888888888888888,\"#fdca26\"],[1.0,\"#f0f921\"]]}],\"heatmap\":[{\"type\":\"heatmap\",\"colorbar\":{\"outlinewidth\":0,\"ticks\":\"\"},\"colorscale\":[[0.0,\"#0d0887\"],[0.1111111111111111,\"#46039f\"],[0.2222222222222222,\"#7201a8\"],[0.3333333333333333,\"#9c179e\"],[0.4444444444444444,\"#bd3786\"],[0.5555555555555556,\"#d8576b\"],[0.6666666666666666,\"#ed7953\"],[0.7777777777777778,\"#fb9f3a\"],[0.8888888888888888,\"#fdca26\"],[1.0,\"#f0f921\"]]}],\"heatmapgl\":[{\"type\":\"heatmapgl\",\"colorbar\":{\"outlinewidth\":0,\"ticks\":\"\"},\"colorscale\":[[0.0,\"#0d0887\"],[0.1111111111111111,\"#46039f\"],[0.2222222222222222,\"#7201a8\"],[0.3333333333333333,\"#9c179e\"],[0.4444444444444444,\"#bd3786\"],[0.5555555555555556,\"#d8576b\"],[0.6666666666666666,\"#ed7953\"],[0.7777777777777778,\"#fb9f3a\"],[0.8888888888888888,\"#fdca26\"],[1.0,\"#f0f921\"]]}],\"contourcarpet\":[{\"type\":\"contourcarpet\",\"colorbar\":{\"outlinewidth\":0,\"ticks\":\"\"}}],\"contour\":[{\"type\":\"contour\",\"colorbar\":{\"outlinewidth\":0,\"ticks\":\"\"},\"colorscale\":[[0.0,\"#0d0887\"],[0.1111111111111111,\"#46039f\"],[0.2222222222222222,\"#7201a8\"],[0.3333333333333333,\"#9c179e\"],[0.4444444444444444,\"#bd3786\"],[0.5555555555555556,\"#d8576b\"],[0.6666666666666666,\"#ed7953\"],[0.7777777777777778,\"#fb9f3a\"],[0.8888888888888888,\"#fdca26\"],[1.0,\"#f0f921\"]]}],\"surface\":[{\"type\":\"surface\",\"colorbar\":{\"outlinewidth\":0,\"ticks\":\"\"},\"colorscale\":[[0.0,\"#0d0887\"],[0.1111111111111111,\"#46039f\"],[0.2222222222222222,\"#7201a8\"],[0.3333333333333333,\"#9c179e\"],[0.4444444444444444,\"#bd3786\"],[0.5555555555555556,\"#d8576b\"],[0.6666666666666666,\"#ed7953\"],[0.7777777777777778,\"#fb9f3a\"],[0.8888888888888888,\"#fdca26\"],[1.0,\"#f0f921\"]]}],\"mesh3d\":[{\"type\":\"mesh3d\",\"colorbar\":{\"outlinewidth\":0,\"ticks\":\"\"}}],\"scatter\":[{\"fillpattern\":{\"fillmode\":\"overlay\",\"size\":10,\"solidity\":0.2},\"type\":\"scatter\"}],\"parcoords\":[{\"type\":\"parcoords\",\"line\":{\"colorbar\":{\"outlinewidth\":0,\"ticks\":\"\"}}}],\"scatterpolargl\":[{\"type\":\"scatterpolargl\",\"marker\":{\"colorbar\":{\"outlinewidth\":0,\"ticks\":\"\"}}}],\"bar\":[{\"error_x\":{\"color\":\"#2a3f5f\"},\"error_y\":{\"color\":\"#2a3f5f\"},\"marker\":{\"line\":{\"color\":\"#E5ECF6\",\"width\":0.5},\"pattern\":{\"fillmode\":\"overlay\",\"size\":10,\"solidity\":0.2}},\"type\":\"bar\"}],\"scattergeo\":[{\"type\":\"scattergeo\",\"marker\":{\"colorbar\":{\"outlinewidth\":0,\"ticks\":\"\"}}}],\"scatterpolar\":[{\"type\":\"scatterpolar\",\"marker\":{\"colorbar\":{\"outlinewidth\":0,\"ticks\":\"\"}}}],\"histogram\":[{\"marker\":{\"pattern\":{\"fillmode\":\"overlay\",\"size\":10,\"solidity\":0.2}},\"type\":\"histogram\"}],\"scattergl\":[{\"type\":\"scattergl\",\"marker\":{\"colorbar\":{\"outlinewidth\":0,\"ticks\":\"\"}}}],\"scatter3d\":[{\"type\":\"scatter3d\",\"line\":{\"colorbar\":{\"outlinewidth\":0,\"ticks\":\"\"}},\"marker\":{\"colorbar\":{\"outlinewidth\":0,\"ticks\":\"\"}}}],\"scattermapbox\":[{\"type\":\"scattermapbox\",\"marker\":{\"colorbar\":{\"outlinewidth\":0,\"ticks\":\"\"}}}],\"scatterternary\":[{\"type\":\"scatterternary\",\"marker\":{\"colorbar\":{\"outlinewidth\":0,\"ticks\":\"\"}}}],\"scattercarpet\":[{\"type\":\"scattercarpet\",\"marker\":{\"colorbar\":{\"outlinewidth\":0,\"ticks\":\"\"}}}],\"carpet\":[{\"aaxis\":{\"endlinecolor\":\"#2a3f5f\",\"gridcolor\":\"white\",\"linecolor\":\"white\",\"minorgridcolor\":\"white\",\"startlinecolor\":\"#2a3f5f\"},\"baxis\":{\"endlinecolor\":\"#2a3f5f\",\"gridcolor\":\"white\",\"linecolor\":\"white\",\"minorgridcolor\":\"white\",\"startlinecolor\":\"#2a3f5f\"},\"type\":\"carpet\"}],\"table\":[{\"cells\":{\"fill\":{\"color\":\"#EBF0F8\"},\"line\":{\"color\":\"white\"}},\"header\":{\"fill\":{\"color\":\"#C8D4E3\"},\"line\":{\"color\":\"white\"}},\"type\":\"table\"}],\"barpolar\":[{\"marker\":{\"line\":{\"color\":\"#E5ECF6\",\"width\":0.5},\"pattern\":{\"fillmode\":\"overlay\",\"size\":10,\"solidity\":0.2}},\"type\":\"barpolar\"}],\"pie\":[{\"automargin\":true,\"type\":\"pie\"}]},\"layout\":{\"autotypenumbers\":\"strict\",\"colorway\":[\"#636efa\",\"#EF553B\",\"#00cc96\",\"#ab63fa\",\"#FFA15A\",\"#19d3f3\",\"#FF6692\",\"#B6E880\",\"#FF97FF\",\"#FECB52\"],\"font\":{\"color\":\"#2a3f5f\"},\"hovermode\":\"closest\",\"hoverlabel\":{\"align\":\"left\"},\"paper_bgcolor\":\"white\",\"plot_bgcolor\":\"#E5ECF6\",\"polar\":{\"bgcolor\":\"#E5ECF6\",\"angularaxis\":{\"gridcolor\":\"white\",\"linecolor\":\"white\",\"ticks\":\"\"},\"radialaxis\":{\"gridcolor\":\"white\",\"linecolor\":\"white\",\"ticks\":\"\"}},\"ternary\":{\"bgcolor\":\"#E5ECF6\",\"aaxis\":{\"gridcolor\":\"white\",\"linecolor\":\"white\",\"ticks\":\"\"},\"baxis\":{\"gridcolor\":\"white\",\"linecolor\":\"white\",\"ticks\":\"\"},\"caxis\":{\"gridcolor\":\"white\",\"linecolor\":\"white\",\"ticks\":\"\"}},\"coloraxis\":{\"colorbar\":{\"outlinewidth\":0,\"ticks\":\"\"}},\"colorscale\":{\"sequential\":[[0.0,\"#0d0887\"],[0.1111111111111111,\"#46039f\"],[0.2222222222222222,\"#7201a8\"],[0.3333333333333333,\"#9c179e\"],[0.4444444444444444,\"#bd3786\"],[0.5555555555555556,\"#d8576b\"],[0.6666666666666666,\"#ed7953\"],[0.7777777777777778,\"#fb9f3a\"],[0.8888888888888888,\"#fdca26\"],[1.0,\"#f0f921\"]],\"sequentialminus\":[[0.0,\"#0d0887\"],[0.1111111111111111,\"#46039f\"],[0.2222222222222222,\"#7201a8\"],[0.3333333333333333,\"#9c179e\"],[0.4444444444444444,\"#bd3786\"],[0.5555555555555556,\"#d8576b\"],[0.6666666666666666,\"#ed7953\"],[0.7777777777777778,\"#fb9f3a\"],[0.8888888888888888,\"#fdca26\"],[1.0,\"#f0f921\"]],\"diverging\":[[0,\"#8e0152\"],[0.1,\"#c51b7d\"],[0.2,\"#de77ae\"],[0.3,\"#f1b6da\"],[0.4,\"#fde0ef\"],[0.5,\"#f7f7f7\"],[0.6,\"#e6f5d0\"],[0.7,\"#b8e186\"],[0.8,\"#7fbc41\"],[0.9,\"#4d9221\"],[1,\"#276419\"]]},\"xaxis\":{\"gridcolor\":\"white\",\"linecolor\":\"white\",\"ticks\":\"\",\"title\":{\"standoff\":15},\"zerolinecolor\":\"white\",\"automargin\":true,\"zerolinewidth\":2},\"yaxis\":{\"gridcolor\":\"white\",\"linecolor\":\"white\",\"ticks\":\"\",\"title\":{\"standoff\":15},\"zerolinecolor\":\"white\",\"automargin\":true,\"zerolinewidth\":2},\"scene\":{\"xaxis\":{\"backgroundcolor\":\"#E5ECF6\",\"gridcolor\":\"white\",\"linecolor\":\"white\",\"showbackground\":true,\"ticks\":\"\",\"zerolinecolor\":\"white\",\"gridwidth\":2},\"yaxis\":{\"backgroundcolor\":\"#E5ECF6\",\"gridcolor\":\"white\",\"linecolor\":\"white\",\"showbackground\":true,\"ticks\":\"\",\"zerolinecolor\":\"white\",\"gridwidth\":2},\"zaxis\":{\"backgroundcolor\":\"#E5ECF6\",\"gridcolor\":\"white\",\"linecolor\":\"white\",\"showbackground\":true,\"ticks\":\"\",\"zerolinecolor\":\"white\",\"gridwidth\":2}},\"shapedefaults\":{\"line\":{\"color\":\"#2a3f5f\"}},\"annotationdefaults\":{\"arrowcolor\":\"#2a3f5f\",\"arrowhead\":0,\"arrowwidth\":1},\"geo\":{\"bgcolor\":\"white\",\"landcolor\":\"#E5ECF6\",\"subunitcolor\":\"white\",\"showland\":true,\"showlakes\":true,\"lakecolor\":\"white\"},\"title\":{\"x\":0.05},\"mapbox\":{\"style\":\"light\"}}},\"title\":{\"text\":\"Open vs Close\"},\"xaxis\":{\"title\":{\"text\":\"Date\"}},\"yaxis\":{\"title\":{\"text\":\"Open vs Close\"}}},                        {\"responsive\": true}                    ).then(function(){\n",
       "                            \n",
       "var gd = document.getElementById('acb16abd-831e-4e72-99b3-35a960ee6175');\n",
       "var x = new MutationObserver(function (mutations, observer) {{\n",
       "        var display = window.getComputedStyle(gd).display;\n",
       "        if (!display || display === 'none') {{\n",
       "            console.log([gd, 'removed!']);\n",
       "            Plotly.purge(gd);\n",
       "            observer.disconnect();\n",
       "        }}\n",
       "}});\n",
       "\n",
       "// Listen for the removal of the full notebook cells\n",
       "var notebookContainer = gd.closest('#notebook-container');\n",
       "if (notebookContainer) {{\n",
       "    x.observe(notebookContainer, {childList: true});\n",
       "}}\n",
       "\n",
       "// Listen for the clearing of the current output cell\n",
       "var outputEl = gd.closest('.output');\n",
       "if (outputEl) {{\n",
       "    x.observe(outputEl, {childList: true});\n",
       "}}\n",
       "\n",
       "                        })                };                });            </script>        </div>"
      ]
     },
     "metadata": {},
     "output_type": "display_data"
    }
   ],
   "source": [
    "fn.multiple_line_chart(dataframe=df,feature1='Open',feature2='Close',name1='Open Chart',name2='Close Chart')"
   ]
  },
  {
   "cell_type": "code",
   "execution_count": 16,
   "metadata": {},
   "outputs": [],
   "source": [
    "r = ReturnAnalysis(feature='Adj Close')"
   ]
  },
  {
   "cell_type": "markdown",
   "metadata": {},
   "source": [
    "# Simple Daily Return\n",
    "\n",
    "\"SMA\" stands for Simple Moving Average, which is a technical analysis tool used in the stock market to smooth out price data over a specific period of time. It is calculated by adding up the closing prices of a stock over a certain number of periods (days, weeks, months, etc.) and then dividing that sum by the number of periods."
   ]
  },
  {
   "cell_type": "code",
   "execution_count": 17,
   "metadata": {},
   "outputs": [],
   "source": [
    "# most basic yet effective stock indicator\n",
    "new_df = r.daily_return_analysis(data=df,days=1)"
   ]
  },
  {
   "cell_type": "code",
   "execution_count": 18,
   "metadata": {},
   "outputs": [
    {
     "data": {
      "text/html": [
       "<div>\n",
       "<style scoped>\n",
       "    .dataframe tbody tr th:only-of-type {\n",
       "        vertical-align: middle;\n",
       "    }\n",
       "\n",
       "    .dataframe tbody tr th {\n",
       "        vertical-align: top;\n",
       "    }\n",
       "\n",
       "    .dataframe thead th {\n",
       "        text-align: right;\n",
       "    }\n",
       "</style>\n",
       "<table border=\"1\" class=\"dataframe\">\n",
       "  <thead>\n",
       "    <tr style=\"text-align: right;\">\n",
       "      <th></th>\n",
       "      <th>Date</th>\n",
       "      <th>Open</th>\n",
       "      <th>High</th>\n",
       "      <th>Low</th>\n",
       "      <th>Close</th>\n",
       "      <th>Adj Close</th>\n",
       "      <th>Volume</th>\n",
       "      <th>daily_return</th>\n",
       "    </tr>\n",
       "  </thead>\n",
       "  <tbody>\n",
       "    <tr>\n",
       "      <th>0</th>\n",
       "      <td>2023-01-02</td>\n",
       "      <td>3261.000000</td>\n",
       "      <td>3266.850098</td>\n",
       "      <td>3235.199951</td>\n",
       "      <td>3261.449951</td>\n",
       "      <td>3160.044434</td>\n",
       "      <td>709547</td>\n",
       "      <td>NaN</td>\n",
       "    </tr>\n",
       "    <tr>\n",
       "      <th>1</th>\n",
       "      <td>2023-01-03</td>\n",
       "      <td>3252.000000</td>\n",
       "      <td>3320.000000</td>\n",
       "      <td>3245.300049</td>\n",
       "      <td>3311.350098</td>\n",
       "      <td>3208.393311</td>\n",
       "      <td>1245178</td>\n",
       "      <td>0.015300</td>\n",
       "    </tr>\n",
       "    <tr>\n",
       "      <th>2</th>\n",
       "      <td>2023-01-04</td>\n",
       "      <td>3306.699951</td>\n",
       "      <td>3327.350098</td>\n",
       "      <td>3286.199951</td>\n",
       "      <td>3314.649902</td>\n",
       "      <td>3211.590576</td>\n",
       "      <td>1231668</td>\n",
       "      <td>0.000997</td>\n",
       "    </tr>\n",
       "    <tr>\n",
       "      <th>3</th>\n",
       "      <td>2023-01-05</td>\n",
       "      <td>3330.199951</td>\n",
       "      <td>3337.300049</td>\n",
       "      <td>3281.949951</td>\n",
       "      <td>3311.100098</td>\n",
       "      <td>3208.151123</td>\n",
       "      <td>1826057</td>\n",
       "      <td>-0.001071</td>\n",
       "    </tr>\n",
       "    <tr>\n",
       "      <th>4</th>\n",
       "      <td>2023-01-06</td>\n",
       "      <td>3300.000000</td>\n",
       "      <td>3301.550049</td>\n",
       "      <td>3200.000000</td>\n",
       "      <td>3211.550049</td>\n",
       "      <td>3111.695801</td>\n",
       "      <td>2488376</td>\n",
       "      <td>-0.030066</td>\n",
       "    </tr>\n",
       "    <tr>\n",
       "      <th>...</th>\n",
       "      <td>...</td>\n",
       "      <td>...</td>\n",
       "      <td>...</td>\n",
       "      <td>...</td>\n",
       "      <td>...</td>\n",
       "      <td>...</td>\n",
       "      <td>...</td>\n",
       "      <td>...</td>\n",
       "    </tr>\n",
       "    <tr>\n",
       "      <th>261</th>\n",
       "      <td>2024-01-24</td>\n",
       "      <td>3880.000000</td>\n",
       "      <td>3883.649902</td>\n",
       "      <td>3805.600098</td>\n",
       "      <td>3841.800049</td>\n",
       "      <td>3795.979980</td>\n",
       "      <td>2657709</td>\n",
       "      <td>-0.004264</td>\n",
       "    </tr>\n",
       "    <tr>\n",
       "      <th>262</th>\n",
       "      <td>2024-01-25</td>\n",
       "      <td>3839.899902</td>\n",
       "      <td>3861.000000</td>\n",
       "      <td>3778.699951</td>\n",
       "      <td>3810.300049</td>\n",
       "      <td>3764.855713</td>\n",
       "      <td>2205154</td>\n",
       "      <td>-0.008199</td>\n",
       "    </tr>\n",
       "    <tr>\n",
       "      <th>263</th>\n",
       "      <td>2024-01-29</td>\n",
       "      <td>3800.800049</td>\n",
       "      <td>3820.000000</td>\n",
       "      <td>3780.850098</td>\n",
       "      <td>3801.000000</td>\n",
       "      <td>3755.666504</td>\n",
       "      <td>1646747</td>\n",
       "      <td>-0.002441</td>\n",
       "    </tr>\n",
       "    <tr>\n",
       "      <th>264</th>\n",
       "      <td>2024-01-30</td>\n",
       "      <td>3807.449951</td>\n",
       "      <td>3847.800049</td>\n",
       "      <td>3787.000000</td>\n",
       "      <td>3800.550049</td>\n",
       "      <td>3755.222168</td>\n",
       "      <td>1411621</td>\n",
       "      <td>-0.000118</td>\n",
       "    </tr>\n",
       "    <tr>\n",
       "      <th>265</th>\n",
       "      <td>2024-01-31</td>\n",
       "      <td>3811.199951</td>\n",
       "      <td>3834.000000</td>\n",
       "      <td>3796.449951</td>\n",
       "      <td>3815.949951</td>\n",
       "      <td>3770.438232</td>\n",
       "      <td>2459358</td>\n",
       "      <td>0.004052</td>\n",
       "    </tr>\n",
       "  </tbody>\n",
       "</table>\n",
       "<p>266 rows × 8 columns</p>\n",
       "</div>"
      ],
      "text/plain": [
       "          Date         Open         High          Low        Close  \\\n",
       "0   2023-01-02  3261.000000  3266.850098  3235.199951  3261.449951   \n",
       "1   2023-01-03  3252.000000  3320.000000  3245.300049  3311.350098   \n",
       "2   2023-01-04  3306.699951  3327.350098  3286.199951  3314.649902   \n",
       "3   2023-01-05  3330.199951  3337.300049  3281.949951  3311.100098   \n",
       "4   2023-01-06  3300.000000  3301.550049  3200.000000  3211.550049   \n",
       "..         ...          ...          ...          ...          ...   \n",
       "261 2024-01-24  3880.000000  3883.649902  3805.600098  3841.800049   \n",
       "262 2024-01-25  3839.899902  3861.000000  3778.699951  3810.300049   \n",
       "263 2024-01-29  3800.800049  3820.000000  3780.850098  3801.000000   \n",
       "264 2024-01-30  3807.449951  3847.800049  3787.000000  3800.550049   \n",
       "265 2024-01-31  3811.199951  3834.000000  3796.449951  3815.949951   \n",
       "\n",
       "       Adj Close   Volume  daily_return  \n",
       "0    3160.044434   709547           NaN  \n",
       "1    3208.393311  1245178      0.015300  \n",
       "2    3211.590576  1231668      0.000997  \n",
       "3    3208.151123  1826057     -0.001071  \n",
       "4    3111.695801  2488376     -0.030066  \n",
       "..           ...      ...           ...  \n",
       "261  3795.979980  2657709     -0.004264  \n",
       "262  3764.855713  2205154     -0.008199  \n",
       "263  3755.666504  1646747     -0.002441  \n",
       "264  3755.222168  1411621     -0.000118  \n",
       "265  3770.438232  2459358      0.004052  \n",
       "\n",
       "[266 rows x 8 columns]"
      ]
     },
     "execution_count": 18,
     "metadata": {},
     "output_type": "execute_result"
    }
   ],
   "source": [
    "new_df"
   ]
  },
  {
   "cell_type": "code",
   "execution_count": 19,
   "metadata": {},
   "outputs": [
    {
     "data": {
      "application/vnd.plotly.v1+json": {
       "config": {
        "plotlyServerURL": "https://plot.ly"
       },
       "data": [
        {
         "line": {
          "color": "red"
         },
         "mode": "lines",
         "name": "day return over time",
         "type": "scatter",
         "x": [
          "2023-01-02T00:00:00",
          "2023-01-03T00:00:00",
          "2023-01-04T00:00:00",
          "2023-01-05T00:00:00",
          "2023-01-06T00:00:00",
          "2023-01-09T00:00:00",
          "2023-01-10T00:00:00",
          "2023-01-11T00:00:00",
          "2023-01-12T00:00:00",
          "2023-01-13T00:00:00",
          "2023-01-16T00:00:00",
          "2023-01-17T00:00:00",
          "2023-01-18T00:00:00",
          "2023-01-19T00:00:00",
          "2023-01-20T00:00:00",
          "2023-01-23T00:00:00",
          "2023-01-24T00:00:00",
          "2023-01-25T00:00:00",
          "2023-01-27T00:00:00",
          "2023-01-30T00:00:00",
          "2023-01-31T00:00:00",
          "2023-02-01T00:00:00",
          "2023-02-02T00:00:00",
          "2023-02-03T00:00:00",
          "2023-02-06T00:00:00",
          "2023-02-07T00:00:00",
          "2023-02-08T00:00:00",
          "2023-02-09T00:00:00",
          "2023-02-10T00:00:00",
          "2023-02-13T00:00:00",
          "2023-02-14T00:00:00",
          "2023-02-15T00:00:00",
          "2023-02-16T00:00:00",
          "2023-02-17T00:00:00",
          "2023-02-20T00:00:00",
          "2023-02-21T00:00:00",
          "2023-02-22T00:00:00",
          "2023-02-23T00:00:00",
          "2023-02-24T00:00:00",
          "2023-02-27T00:00:00",
          "2023-02-28T00:00:00",
          "2023-03-01T00:00:00",
          "2023-03-02T00:00:00",
          "2023-03-03T00:00:00",
          "2023-03-06T00:00:00",
          "2023-03-08T00:00:00",
          "2023-03-09T00:00:00",
          "2023-03-10T00:00:00",
          "2023-03-13T00:00:00",
          "2023-03-14T00:00:00",
          "2023-03-15T00:00:00",
          "2023-03-16T00:00:00",
          "2023-03-17T00:00:00",
          "2023-03-20T00:00:00",
          "2023-03-21T00:00:00",
          "2023-03-22T00:00:00",
          "2023-03-23T00:00:00",
          "2023-03-24T00:00:00",
          "2023-03-27T00:00:00",
          "2023-03-28T00:00:00",
          "2023-03-29T00:00:00",
          "2023-03-31T00:00:00",
          "2023-04-03T00:00:00",
          "2023-04-05T00:00:00",
          "2023-04-06T00:00:00",
          "2023-04-10T00:00:00",
          "2023-04-11T00:00:00",
          "2023-04-12T00:00:00",
          "2023-04-13T00:00:00",
          "2023-04-17T00:00:00",
          "2023-04-18T00:00:00",
          "2023-04-19T00:00:00",
          "2023-04-20T00:00:00",
          "2023-04-21T00:00:00",
          "2023-04-24T00:00:00",
          "2023-04-25T00:00:00",
          "2023-04-26T00:00:00",
          "2023-04-27T00:00:00",
          "2023-04-28T00:00:00",
          "2023-05-02T00:00:00",
          "2023-05-03T00:00:00",
          "2023-05-04T00:00:00",
          "2023-05-05T00:00:00",
          "2023-05-08T00:00:00",
          "2023-05-09T00:00:00",
          "2023-05-10T00:00:00",
          "2023-05-11T00:00:00",
          "2023-05-12T00:00:00",
          "2023-05-15T00:00:00",
          "2023-05-16T00:00:00",
          "2023-05-17T00:00:00",
          "2023-05-18T00:00:00",
          "2023-05-19T00:00:00",
          "2023-05-22T00:00:00",
          "2023-05-23T00:00:00",
          "2023-05-24T00:00:00",
          "2023-05-25T00:00:00",
          "2023-05-26T00:00:00",
          "2023-05-29T00:00:00",
          "2023-05-30T00:00:00",
          "2023-05-31T00:00:00",
          "2023-06-01T00:00:00",
          "2023-06-02T00:00:00",
          "2023-06-05T00:00:00",
          "2023-06-06T00:00:00",
          "2023-06-07T00:00:00",
          "2023-06-08T00:00:00",
          "2023-06-09T00:00:00",
          "2023-06-12T00:00:00",
          "2023-06-13T00:00:00",
          "2023-06-14T00:00:00",
          "2023-06-15T00:00:00",
          "2023-06-16T00:00:00",
          "2023-06-19T00:00:00",
          "2023-06-20T00:00:00",
          "2023-06-21T00:00:00",
          "2023-06-22T00:00:00",
          "2023-06-23T00:00:00",
          "2023-06-26T00:00:00",
          "2023-06-27T00:00:00",
          "2023-06-28T00:00:00",
          "2023-06-30T00:00:00",
          "2023-07-03T00:00:00",
          "2023-07-04T00:00:00",
          "2023-07-05T00:00:00",
          "2023-07-06T00:00:00",
          "2023-07-07T00:00:00",
          "2023-07-10T00:00:00",
          "2023-07-11T00:00:00",
          "2023-07-12T00:00:00",
          "2023-07-13T00:00:00",
          "2023-07-14T00:00:00",
          "2023-07-17T00:00:00",
          "2023-07-18T00:00:00",
          "2023-07-19T00:00:00",
          "2023-07-20T00:00:00",
          "2023-07-21T00:00:00",
          "2023-07-24T00:00:00",
          "2023-07-25T00:00:00",
          "2023-07-26T00:00:00",
          "2023-07-27T00:00:00",
          "2023-07-28T00:00:00",
          "2023-07-31T00:00:00",
          "2023-08-01T00:00:00",
          "2023-08-02T00:00:00",
          "2023-08-03T00:00:00",
          "2023-08-04T00:00:00",
          "2023-08-07T00:00:00",
          "2023-08-08T00:00:00",
          "2023-08-09T00:00:00",
          "2023-08-10T00:00:00",
          "2023-08-11T00:00:00",
          "2023-08-14T00:00:00",
          "2023-08-16T00:00:00",
          "2023-08-17T00:00:00",
          "2023-08-18T00:00:00",
          "2023-08-21T00:00:00",
          "2023-08-22T00:00:00",
          "2023-08-23T00:00:00",
          "2023-08-24T00:00:00",
          "2023-08-25T00:00:00",
          "2023-08-28T00:00:00",
          "2023-08-29T00:00:00",
          "2023-08-30T00:00:00",
          "2023-08-31T00:00:00",
          "2023-09-01T00:00:00",
          "2023-09-04T00:00:00",
          "2023-09-05T00:00:00",
          "2023-09-06T00:00:00",
          "2023-09-07T00:00:00",
          "2023-09-08T00:00:00",
          "2023-09-11T00:00:00",
          "2023-09-12T00:00:00",
          "2023-09-13T00:00:00",
          "2023-09-14T00:00:00",
          "2023-09-15T00:00:00",
          "2023-09-18T00:00:00",
          "2023-09-20T00:00:00",
          "2023-09-21T00:00:00",
          "2023-09-22T00:00:00",
          "2023-09-25T00:00:00",
          "2023-09-26T00:00:00",
          "2023-09-27T00:00:00",
          "2023-09-28T00:00:00",
          "2023-09-29T00:00:00",
          "2023-10-03T00:00:00",
          "2023-10-04T00:00:00",
          "2023-10-05T00:00:00",
          "2023-10-06T00:00:00",
          "2023-10-09T00:00:00",
          "2023-10-10T00:00:00",
          "2023-10-11T00:00:00",
          "2023-10-12T00:00:00",
          "2023-10-13T00:00:00",
          "2023-10-16T00:00:00",
          "2023-10-17T00:00:00",
          "2023-10-18T00:00:00",
          "2023-10-19T00:00:00",
          "2023-10-20T00:00:00",
          "2023-10-23T00:00:00",
          "2023-10-25T00:00:00",
          "2023-10-26T00:00:00",
          "2023-10-27T00:00:00",
          "2023-10-30T00:00:00",
          "2023-10-31T00:00:00",
          "2023-11-01T00:00:00",
          "2023-11-02T00:00:00",
          "2023-11-03T00:00:00",
          "2023-11-06T00:00:00",
          "2023-11-07T00:00:00",
          "2023-11-08T00:00:00",
          "2023-11-09T00:00:00",
          "2023-11-10T00:00:00",
          "2023-11-13T00:00:00",
          "2023-11-15T00:00:00",
          "2023-11-16T00:00:00",
          "2023-11-17T00:00:00",
          "2023-11-20T00:00:00",
          "2023-11-21T00:00:00",
          "2023-11-22T00:00:00",
          "2023-11-23T00:00:00",
          "2023-11-24T00:00:00",
          "2023-11-28T00:00:00",
          "2023-11-29T00:00:00",
          "2023-11-30T00:00:00",
          "2023-12-01T00:00:00",
          "2023-12-04T00:00:00",
          "2023-12-05T00:00:00",
          "2023-12-06T00:00:00",
          "2023-12-07T00:00:00",
          "2023-12-08T00:00:00",
          "2023-12-11T00:00:00",
          "2023-12-12T00:00:00",
          "2023-12-13T00:00:00",
          "2023-12-14T00:00:00",
          "2023-12-15T00:00:00",
          "2023-12-18T00:00:00",
          "2023-12-19T00:00:00",
          "2023-12-20T00:00:00",
          "2023-12-21T00:00:00",
          "2023-12-22T00:00:00",
          "2023-12-26T00:00:00",
          "2023-12-27T00:00:00",
          "2023-12-28T00:00:00",
          "2023-12-29T00:00:00",
          "2024-01-01T00:00:00",
          "2024-01-02T00:00:00",
          "2024-01-03T00:00:00",
          "2024-01-04T00:00:00",
          "2024-01-05T00:00:00",
          "2024-01-08T00:00:00",
          "2024-01-09T00:00:00",
          "2024-01-10T00:00:00",
          "2024-01-11T00:00:00",
          "2024-01-12T00:00:00",
          "2024-01-15T00:00:00",
          "2024-01-16T00:00:00",
          "2024-01-17T00:00:00",
          "2024-01-18T00:00:00",
          "2024-01-19T00:00:00",
          "2024-01-23T00:00:00",
          "2024-01-24T00:00:00",
          "2024-01-25T00:00:00",
          "2024-01-29T00:00:00",
          "2024-01-30T00:00:00",
          "2024-01-31T00:00:00"
         ],
         "y": [
          null,
          0.015300062378597712,
          0.0009965316953159942,
          -0.0010709500614800582,
          -0.03006570406634046,
          0.03375330881331817,
          -0.01010556623556269,
          0.012871168476804584,
          0.0016973704270426548,
          0.012056353363449679,
          -0.009653835680050404,
          0.013302235546733376,
          0.003433600172862983,
          -0.004985286619499596,
          -0.0029646485355168117,
          0.015402424440749796,
          0.006266738914415537,
          -0.0019061631095367293,
          -0.005452361847260834,
          0.006625559041907536,
          -0.021828016990003807,
          0.014782537756798275,
          0.015271248341099719,
          0.0063287553012043585,
          -0.006418169244473693,
          0.0036416145074633643,
          0.01369320981581601,
          0.005894639180440642,
          -0.0009320040301649124,
          -0.015589887560606974,
          0.005082775841089182,
          0.005871296863542375,
          0.010622958825940332,
          -0.015991932853282598,
          -0.003955672686214329,
          -0.010409254054278505,
          -0.014329256100534149,
          0.003601339971607276,
          -0.003910646859045408,
          -0.020173717444797012,
          -0.005702576790020508,
          0.021990055980165124,
          -0.01897676346951871,
          0.00623220169670935,
          0.008886576966518955,
          0.005501255714119857,
          -0.015794444451858847,
          -0.0017532440627531232,
          -0.01472532930968029,
          -0.020414753476065806,
          -0.004992212252097894,
          -0.004345064423145639,
          -0.0017898719670912389,
          -0.011323184609893677,
          -0.011834656452360481,
          0.007952051696995532,
          -0.0019643398252496835,
          -0.0013282273410328838,
          0.0005767871681932046,
          -0.002049634518878962,
          0.0073815116754401,
          0.021345039144971434,
          -0.0018403835236628918,
          0.012437382407285424,
          -0.005895404120443759,
          0.013258072739142035,
          -0.015198898726311416,
          0.008665639505079037,
          -0.0162878869537314,
          -0.015475866803126959,
          -0.0027869737422187013,
          -0.013143743074216507,
          0.00491958534400494,
          0.01805283482044362,
          0.004413275279646189,
          0.00037792167781081076,
          0.006974227611118655,
          -0.0031893916355517637,
          0.009818393314825036,
          0.000046461042845002964,
          -0.012269283814044796,
          0.012830467300506188,
          0.0031049326914656117,
          0.0061596758474864455,
          0.010044436147504054,
          0.0010810790117927738,
          -0.0014147453049278003,
          -0.0023916553767594495,
          -0.005879196217857041,
          0.0009524404539371645,
          -0.01517732884382228,
          -0.002758048951236325,
          0.00718785304997871,
          0.023534896440137842,
          -0.0005001339685383188,
          0.0019108074835156863,
          -0.0029818165048992595,
          0.010748447598684763,
          -0.0025684488639448055,
          -0.0012498665643091433,
          -0.008051408945398464,
          0.010488017395230198,
          -0.005535527100200444,
          -0.005051964519365626,
          -0.01720946098448728,
          0.013179382939058737,
          -0.011740733627749744,
          -0.00838875792727678,
          0.011715814540255387,
          -0.0009854897874178592,
          0.002266018304375006,
          -0.0033312634235812544,
          -0.012871912841796118,
          0.011181371543118157,
          0.005388769739508303,
          0.009449396565352819,
          -0.006046286011514357,
          -0.006839529365426755,
          -0.008301287939346702,
          0.002413979017830137,
          0.005660804960112786,
          0.02699488974417208,
          -0.00906976088736644,
          0.011169660541661575,
          0.00335463503327893,
          0.0008884468241916466,
          0.001911157137275632,
          -0.017211149263174796,
          0.00013757472236819446,
          -0.0038198421646341574,
          0.02474001847131424,
          0.05211707674151089,
          -0.006529820348296411,
          0.001474964514025956,
          -0.007664013856805374,
          0.0006500420801576201,
          -0.02743041163474813,
          0.007852526744452915,
          0.0012961504332134055,
          -0.0031919585721909005,
          0.002538107232331166,
          -0.012216984487763316,
          0.019684725455581198,
          0.008943620725422985,
          -0.003302445526987552,
          -0.011829156872388169,
          0.012823755184998342,
          0.01176115941660294,
          -0.003860575265359656,
          -0.0023337839554988804,
          -0.005891701627134371,
          0.0019464739545864695,
          0.0003044545108230601,
          0.002478323506560187,
          -0.0065492268934461695,
          -0.01998111572251915,
          0.01026099442151196,
          -0.005732537993346165,
          0.004760421152273153,
          -0.0030899068340835,
          -0.001903871111540112,
          -0.0017006039149587426,
          0.0001776860920819079,
          0.004383791272887239,
          -0.01007088082280938,
          0.006672940434716779,
          0.011629992272007117,
          0.0031738908672520605,
          0.00016038413233410154,
          0.007390926529144526,
          -0.0038637267424243005,
          0.01125833297480927,
          0.028773420787433057,
          -0.0036164965174348973,
          -0.0021862560097277717,
          0.010744319547401071,
          0.0021814497234282637,
          -0.00002767461144259631,
          -0.005754200963544842,
          0.005118131361438127,
          -0.007353776520360733,
          0.002390266946537656,
          0.0010040502105617133,
          -0.014640851492485951,
          -0.002304277825002643,
          -0.004180145679843705,
          0.006801711204100336,
          0.014585458438914456,
          0.008929150887874382,
          0.004680611233893073,
          -0.0025974063284862625,
          -0.0052357047867096496,
          -0.01865709508604141,
          0.0079886808345917,
          -0.01310609759786363,
          -0.004824034465702232,
          -0.005645836136416893,
          -0.006497472000022819,
          0.011256932141907372,
          -0.024151905172211663,
          -0.0058794301182014674,
          -0.01573710862069122,
          0.004255680036542087,
          0.008236463682399942,
          -0.002900717435295519,
          -0.011309749519303969,
          0.008842134227769805,
          -0.0027380853615084355,
          0.00875884637112656,
          -0.002899185255433645,
          0.003293391894633846,
          -0.01008419005246608,
          -0.004182381495483223,
          -0.0005698971012917387,
          0.021836755845483946,
          0.027479918565920247,
          0.0013150215342760951,
          0.004896682063798785,
          -0.002670777261915891,
          0.005683351465294306,
          -0.00620365043794302,
          -0.014579931111192823,
          0.0037748630111462678,
          0.012564241687879285,
          -0.007442135951795659,
          0.006895861074075915,
          0.00022768694451835714,
          0.005452147225996518,
          0.020528945521486097,
          0.0029964770422308273,
          0.0032643307946764732,
          0.004466912017603075,
          0.0080156152951667,
          -0.02139108213912444,
          0.02050903153783401,
          0.052832483464084756,
          -0.00046624761387237257,
          -0.011142160900228792,
          -0.009472799639327234,
          0.001970861173476779,
          0.009636991997508337,
          -0.007439834291826264,
          0.004123201482665095,
          -0.0029649559171067708,
          -0.0017105629499577502,
          0.004666056479143865,
          -0.007320809960511765,
          -0.02417261844224783,
          -0.006758338709154654,
          0.019390135215228366,
          -0.015944618094536622,
          0.0031535371526074663,
          0.006273994356963852,
          0.006059719130036001,
          0.0394184972085434,
          0.0054084609764561975,
          -0.0108867987851754,
          0.006034197234412453,
          0.004633703066367234,
          0.01504666969266144,
          -0.021506244881520753,
          -0.004263617273490561,
          -0.008199270738588504,
          -0.002440786496255787,
          -0.00011831080769231228,
          0.004051974496453115
         ]
        }
       ],
       "layout": {
        "template": {
         "data": {
          "bar": [
           {
            "error_x": {
             "color": "#2a3f5f"
            },
            "error_y": {
             "color": "#2a3f5f"
            },
            "marker": {
             "line": {
              "color": "#E5ECF6",
              "width": 0.5
             },
             "pattern": {
              "fillmode": "overlay",
              "size": 10,
              "solidity": 0.2
             }
            },
            "type": "bar"
           }
          ],
          "barpolar": [
           {
            "marker": {
             "line": {
              "color": "#E5ECF6",
              "width": 0.5
             },
             "pattern": {
              "fillmode": "overlay",
              "size": 10,
              "solidity": 0.2
             }
            },
            "type": "barpolar"
           }
          ],
          "carpet": [
           {
            "aaxis": {
             "endlinecolor": "#2a3f5f",
             "gridcolor": "white",
             "linecolor": "white",
             "minorgridcolor": "white",
             "startlinecolor": "#2a3f5f"
            },
            "baxis": {
             "endlinecolor": "#2a3f5f",
             "gridcolor": "white",
             "linecolor": "white",
             "minorgridcolor": "white",
             "startlinecolor": "#2a3f5f"
            },
            "type": "carpet"
           }
          ],
          "choropleth": [
           {
            "colorbar": {
             "outlinewidth": 0,
             "ticks": ""
            },
            "type": "choropleth"
           }
          ],
          "contour": [
           {
            "colorbar": {
             "outlinewidth": 0,
             "ticks": ""
            },
            "colorscale": [
             [
              0,
              "#0d0887"
             ],
             [
              0.1111111111111111,
              "#46039f"
             ],
             [
              0.2222222222222222,
              "#7201a8"
             ],
             [
              0.3333333333333333,
              "#9c179e"
             ],
             [
              0.4444444444444444,
              "#bd3786"
             ],
             [
              0.5555555555555556,
              "#d8576b"
             ],
             [
              0.6666666666666666,
              "#ed7953"
             ],
             [
              0.7777777777777778,
              "#fb9f3a"
             ],
             [
              0.8888888888888888,
              "#fdca26"
             ],
             [
              1,
              "#f0f921"
             ]
            ],
            "type": "contour"
           }
          ],
          "contourcarpet": [
           {
            "colorbar": {
             "outlinewidth": 0,
             "ticks": ""
            },
            "type": "contourcarpet"
           }
          ],
          "heatmap": [
           {
            "colorbar": {
             "outlinewidth": 0,
             "ticks": ""
            },
            "colorscale": [
             [
              0,
              "#0d0887"
             ],
             [
              0.1111111111111111,
              "#46039f"
             ],
             [
              0.2222222222222222,
              "#7201a8"
             ],
             [
              0.3333333333333333,
              "#9c179e"
             ],
             [
              0.4444444444444444,
              "#bd3786"
             ],
             [
              0.5555555555555556,
              "#d8576b"
             ],
             [
              0.6666666666666666,
              "#ed7953"
             ],
             [
              0.7777777777777778,
              "#fb9f3a"
             ],
             [
              0.8888888888888888,
              "#fdca26"
             ],
             [
              1,
              "#f0f921"
             ]
            ],
            "type": "heatmap"
           }
          ],
          "heatmapgl": [
           {
            "colorbar": {
             "outlinewidth": 0,
             "ticks": ""
            },
            "colorscale": [
             [
              0,
              "#0d0887"
             ],
             [
              0.1111111111111111,
              "#46039f"
             ],
             [
              0.2222222222222222,
              "#7201a8"
             ],
             [
              0.3333333333333333,
              "#9c179e"
             ],
             [
              0.4444444444444444,
              "#bd3786"
             ],
             [
              0.5555555555555556,
              "#d8576b"
             ],
             [
              0.6666666666666666,
              "#ed7953"
             ],
             [
              0.7777777777777778,
              "#fb9f3a"
             ],
             [
              0.8888888888888888,
              "#fdca26"
             ],
             [
              1,
              "#f0f921"
             ]
            ],
            "type": "heatmapgl"
           }
          ],
          "histogram": [
           {
            "marker": {
             "pattern": {
              "fillmode": "overlay",
              "size": 10,
              "solidity": 0.2
             }
            },
            "type": "histogram"
           }
          ],
          "histogram2d": [
           {
            "colorbar": {
             "outlinewidth": 0,
             "ticks": ""
            },
            "colorscale": [
             [
              0,
              "#0d0887"
             ],
             [
              0.1111111111111111,
              "#46039f"
             ],
             [
              0.2222222222222222,
              "#7201a8"
             ],
             [
              0.3333333333333333,
              "#9c179e"
             ],
             [
              0.4444444444444444,
              "#bd3786"
             ],
             [
              0.5555555555555556,
              "#d8576b"
             ],
             [
              0.6666666666666666,
              "#ed7953"
             ],
             [
              0.7777777777777778,
              "#fb9f3a"
             ],
             [
              0.8888888888888888,
              "#fdca26"
             ],
             [
              1,
              "#f0f921"
             ]
            ],
            "type": "histogram2d"
           }
          ],
          "histogram2dcontour": [
           {
            "colorbar": {
             "outlinewidth": 0,
             "ticks": ""
            },
            "colorscale": [
             [
              0,
              "#0d0887"
             ],
             [
              0.1111111111111111,
              "#46039f"
             ],
             [
              0.2222222222222222,
              "#7201a8"
             ],
             [
              0.3333333333333333,
              "#9c179e"
             ],
             [
              0.4444444444444444,
              "#bd3786"
             ],
             [
              0.5555555555555556,
              "#d8576b"
             ],
             [
              0.6666666666666666,
              "#ed7953"
             ],
             [
              0.7777777777777778,
              "#fb9f3a"
             ],
             [
              0.8888888888888888,
              "#fdca26"
             ],
             [
              1,
              "#f0f921"
             ]
            ],
            "type": "histogram2dcontour"
           }
          ],
          "mesh3d": [
           {
            "colorbar": {
             "outlinewidth": 0,
             "ticks": ""
            },
            "type": "mesh3d"
           }
          ],
          "parcoords": [
           {
            "line": {
             "colorbar": {
              "outlinewidth": 0,
              "ticks": ""
             }
            },
            "type": "parcoords"
           }
          ],
          "pie": [
           {
            "automargin": true,
            "type": "pie"
           }
          ],
          "scatter": [
           {
            "fillpattern": {
             "fillmode": "overlay",
             "size": 10,
             "solidity": 0.2
            },
            "type": "scatter"
           }
          ],
          "scatter3d": [
           {
            "line": {
             "colorbar": {
              "outlinewidth": 0,
              "ticks": ""
             }
            },
            "marker": {
             "colorbar": {
              "outlinewidth": 0,
              "ticks": ""
             }
            },
            "type": "scatter3d"
           }
          ],
          "scattercarpet": [
           {
            "marker": {
             "colorbar": {
              "outlinewidth": 0,
              "ticks": ""
             }
            },
            "type": "scattercarpet"
           }
          ],
          "scattergeo": [
           {
            "marker": {
             "colorbar": {
              "outlinewidth": 0,
              "ticks": ""
             }
            },
            "type": "scattergeo"
           }
          ],
          "scattergl": [
           {
            "marker": {
             "colorbar": {
              "outlinewidth": 0,
              "ticks": ""
             }
            },
            "type": "scattergl"
           }
          ],
          "scattermapbox": [
           {
            "marker": {
             "colorbar": {
              "outlinewidth": 0,
              "ticks": ""
             }
            },
            "type": "scattermapbox"
           }
          ],
          "scatterpolar": [
           {
            "marker": {
             "colorbar": {
              "outlinewidth": 0,
              "ticks": ""
             }
            },
            "type": "scatterpolar"
           }
          ],
          "scatterpolargl": [
           {
            "marker": {
             "colorbar": {
              "outlinewidth": 0,
              "ticks": ""
             }
            },
            "type": "scatterpolargl"
           }
          ],
          "scatterternary": [
           {
            "marker": {
             "colorbar": {
              "outlinewidth": 0,
              "ticks": ""
             }
            },
            "type": "scatterternary"
           }
          ],
          "surface": [
           {
            "colorbar": {
             "outlinewidth": 0,
             "ticks": ""
            },
            "colorscale": [
             [
              0,
              "#0d0887"
             ],
             [
              0.1111111111111111,
              "#46039f"
             ],
             [
              0.2222222222222222,
              "#7201a8"
             ],
             [
              0.3333333333333333,
              "#9c179e"
             ],
             [
              0.4444444444444444,
              "#bd3786"
             ],
             [
              0.5555555555555556,
              "#d8576b"
             ],
             [
              0.6666666666666666,
              "#ed7953"
             ],
             [
              0.7777777777777778,
              "#fb9f3a"
             ],
             [
              0.8888888888888888,
              "#fdca26"
             ],
             [
              1,
              "#f0f921"
             ]
            ],
            "type": "surface"
           }
          ],
          "table": [
           {
            "cells": {
             "fill": {
              "color": "#EBF0F8"
             },
             "line": {
              "color": "white"
             }
            },
            "header": {
             "fill": {
              "color": "#C8D4E3"
             },
             "line": {
              "color": "white"
             }
            },
            "type": "table"
           }
          ]
         },
         "layout": {
          "annotationdefaults": {
           "arrowcolor": "#2a3f5f",
           "arrowhead": 0,
           "arrowwidth": 1
          },
          "autotypenumbers": "strict",
          "coloraxis": {
           "colorbar": {
            "outlinewidth": 0,
            "ticks": ""
           }
          },
          "colorscale": {
           "diverging": [
            [
             0,
             "#8e0152"
            ],
            [
             0.1,
             "#c51b7d"
            ],
            [
             0.2,
             "#de77ae"
            ],
            [
             0.3,
             "#f1b6da"
            ],
            [
             0.4,
             "#fde0ef"
            ],
            [
             0.5,
             "#f7f7f7"
            ],
            [
             0.6,
             "#e6f5d0"
            ],
            [
             0.7,
             "#b8e186"
            ],
            [
             0.8,
             "#7fbc41"
            ],
            [
             0.9,
             "#4d9221"
            ],
            [
             1,
             "#276419"
            ]
           ],
           "sequential": [
            [
             0,
             "#0d0887"
            ],
            [
             0.1111111111111111,
             "#46039f"
            ],
            [
             0.2222222222222222,
             "#7201a8"
            ],
            [
             0.3333333333333333,
             "#9c179e"
            ],
            [
             0.4444444444444444,
             "#bd3786"
            ],
            [
             0.5555555555555556,
             "#d8576b"
            ],
            [
             0.6666666666666666,
             "#ed7953"
            ],
            [
             0.7777777777777778,
             "#fb9f3a"
            ],
            [
             0.8888888888888888,
             "#fdca26"
            ],
            [
             1,
             "#f0f921"
            ]
           ],
           "sequentialminus": [
            [
             0,
             "#0d0887"
            ],
            [
             0.1111111111111111,
             "#46039f"
            ],
            [
             0.2222222222222222,
             "#7201a8"
            ],
            [
             0.3333333333333333,
             "#9c179e"
            ],
            [
             0.4444444444444444,
             "#bd3786"
            ],
            [
             0.5555555555555556,
             "#d8576b"
            ],
            [
             0.6666666666666666,
             "#ed7953"
            ],
            [
             0.7777777777777778,
             "#fb9f3a"
            ],
            [
             0.8888888888888888,
             "#fdca26"
            ],
            [
             1,
             "#f0f921"
            ]
           ]
          },
          "colorway": [
           "#636efa",
           "#EF553B",
           "#00cc96",
           "#ab63fa",
           "#FFA15A",
           "#19d3f3",
           "#FF6692",
           "#B6E880",
           "#FF97FF",
           "#FECB52"
          ],
          "font": {
           "color": "#2a3f5f"
          },
          "geo": {
           "bgcolor": "white",
           "lakecolor": "white",
           "landcolor": "#E5ECF6",
           "showlakes": true,
           "showland": true,
           "subunitcolor": "white"
          },
          "hoverlabel": {
           "align": "left"
          },
          "hovermode": "closest",
          "mapbox": {
           "style": "light"
          },
          "paper_bgcolor": "white",
          "plot_bgcolor": "#E5ECF6",
          "polar": {
           "angularaxis": {
            "gridcolor": "white",
            "linecolor": "white",
            "ticks": ""
           },
           "bgcolor": "#E5ECF6",
           "radialaxis": {
            "gridcolor": "white",
            "linecolor": "white",
            "ticks": ""
           }
          },
          "scene": {
           "xaxis": {
            "backgroundcolor": "#E5ECF6",
            "gridcolor": "white",
            "gridwidth": 2,
            "linecolor": "white",
            "showbackground": true,
            "ticks": "",
            "zerolinecolor": "white"
           },
           "yaxis": {
            "backgroundcolor": "#E5ECF6",
            "gridcolor": "white",
            "gridwidth": 2,
            "linecolor": "white",
            "showbackground": true,
            "ticks": "",
            "zerolinecolor": "white"
           },
           "zaxis": {
            "backgroundcolor": "#E5ECF6",
            "gridcolor": "white",
            "gridwidth": 2,
            "linecolor": "white",
            "showbackground": true,
            "ticks": "",
            "zerolinecolor": "white"
           }
          },
          "shapedefaults": {
           "line": {
            "color": "#2a3f5f"
           }
          },
          "ternary": {
           "aaxis": {
            "gridcolor": "white",
            "linecolor": "white",
            "ticks": ""
           },
           "baxis": {
            "gridcolor": "white",
            "linecolor": "white",
            "ticks": ""
           },
           "bgcolor": "#E5ECF6",
           "caxis": {
            "gridcolor": "white",
            "linecolor": "white",
            "ticks": ""
           }
          },
          "title": {
           "x": 0.05
          },
          "xaxis": {
           "automargin": true,
           "gridcolor": "white",
           "linecolor": "white",
           "ticks": "",
           "title": {
            "standoff": 15
           },
           "zerolinecolor": "white",
           "zerolinewidth": 2
          },
          "yaxis": {
           "automargin": true,
           "gridcolor": "white",
           "linecolor": "white",
           "ticks": "",
           "title": {
            "standoff": 15
           },
           "zerolinecolor": "white",
           "zerolinewidth": 2
          }
         }
        },
        "title": {
         "text": "day return over time"
        },
        "xaxis": {
         "title": {
          "text": "Date"
         }
        },
        "yaxis": {
         "title": {
          "text": "daily_return"
         }
        }
       }
      },
      "text/html": [
       "<div>                            <div id=\"17460378-5ecd-4b0a-bf7c-e6cbb6e9a431\" class=\"plotly-graph-div\" style=\"height:525px; width:100%;\"></div>            <script type=\"text/javascript\">                require([\"plotly\"], function(Plotly) {                    window.PLOTLYENV=window.PLOTLYENV || {};                                    if (document.getElementById(\"17460378-5ecd-4b0a-bf7c-e6cbb6e9a431\")) {                    Plotly.newPlot(                        \"17460378-5ecd-4b0a-bf7c-e6cbb6e9a431\",                        [{\"line\":{\"color\":\"red\"},\"mode\":\"lines\",\"name\":\"day return over time\",\"x\":[\"2023-01-02T00:00:00\",\"2023-01-03T00:00:00\",\"2023-01-04T00:00:00\",\"2023-01-05T00:00:00\",\"2023-01-06T00:00:00\",\"2023-01-09T00:00:00\",\"2023-01-10T00:00:00\",\"2023-01-11T00:00:00\",\"2023-01-12T00:00:00\",\"2023-01-13T00:00:00\",\"2023-01-16T00:00:00\",\"2023-01-17T00:00:00\",\"2023-01-18T00:00:00\",\"2023-01-19T00:00:00\",\"2023-01-20T00:00:00\",\"2023-01-23T00:00:00\",\"2023-01-24T00:00:00\",\"2023-01-25T00:00:00\",\"2023-01-27T00:00:00\",\"2023-01-30T00:00:00\",\"2023-01-31T00:00:00\",\"2023-02-01T00:00:00\",\"2023-02-02T00:00:00\",\"2023-02-03T00:00:00\",\"2023-02-06T00:00:00\",\"2023-02-07T00:00:00\",\"2023-02-08T00:00:00\",\"2023-02-09T00:00:00\",\"2023-02-10T00:00:00\",\"2023-02-13T00:00:00\",\"2023-02-14T00:00:00\",\"2023-02-15T00:00:00\",\"2023-02-16T00:00:00\",\"2023-02-17T00:00:00\",\"2023-02-20T00:00:00\",\"2023-02-21T00:00:00\",\"2023-02-22T00:00:00\",\"2023-02-23T00:00:00\",\"2023-02-24T00:00:00\",\"2023-02-27T00:00:00\",\"2023-02-28T00:00:00\",\"2023-03-01T00:00:00\",\"2023-03-02T00:00:00\",\"2023-03-03T00:00:00\",\"2023-03-06T00:00:00\",\"2023-03-08T00:00:00\",\"2023-03-09T00:00:00\",\"2023-03-10T00:00:00\",\"2023-03-13T00:00:00\",\"2023-03-14T00:00:00\",\"2023-03-15T00:00:00\",\"2023-03-16T00:00:00\",\"2023-03-17T00:00:00\",\"2023-03-20T00:00:00\",\"2023-03-21T00:00:00\",\"2023-03-22T00:00:00\",\"2023-03-23T00:00:00\",\"2023-03-24T00:00:00\",\"2023-03-27T00:00:00\",\"2023-03-28T00:00:00\",\"2023-03-29T00:00:00\",\"2023-03-31T00:00:00\",\"2023-04-03T00:00:00\",\"2023-04-05T00:00:00\",\"2023-04-06T00:00:00\",\"2023-04-10T00:00:00\",\"2023-04-11T00:00:00\",\"2023-04-12T00:00:00\",\"2023-04-13T00:00:00\",\"2023-04-17T00:00:00\",\"2023-04-18T00:00:00\",\"2023-04-19T00:00:00\",\"2023-04-20T00:00:00\",\"2023-04-21T00:00:00\",\"2023-04-24T00:00:00\",\"2023-04-25T00:00:00\",\"2023-04-26T00:00:00\",\"2023-04-27T00:00:00\",\"2023-04-28T00:00:00\",\"2023-05-02T00:00:00\",\"2023-05-03T00:00:00\",\"2023-05-04T00:00:00\",\"2023-05-05T00:00:00\",\"2023-05-08T00:00:00\",\"2023-05-09T00:00:00\",\"2023-05-10T00:00:00\",\"2023-05-11T00:00:00\",\"2023-05-12T00:00:00\",\"2023-05-15T00:00:00\",\"2023-05-16T00:00:00\",\"2023-05-17T00:00:00\",\"2023-05-18T00:00:00\",\"2023-05-19T00:00:00\",\"2023-05-22T00:00:00\",\"2023-05-23T00:00:00\",\"2023-05-24T00:00:00\",\"2023-05-25T00:00:00\",\"2023-05-26T00:00:00\",\"2023-05-29T00:00:00\",\"2023-05-30T00:00:00\",\"2023-05-31T00:00:00\",\"2023-06-01T00:00:00\",\"2023-06-02T00:00:00\",\"2023-06-05T00:00:00\",\"2023-06-06T00:00:00\",\"2023-06-07T00:00:00\",\"2023-06-08T00:00:00\",\"2023-06-09T00:00:00\",\"2023-06-12T00:00:00\",\"2023-06-13T00:00:00\",\"2023-06-14T00:00:00\",\"2023-06-15T00:00:00\",\"2023-06-16T00:00:00\",\"2023-06-19T00:00:00\",\"2023-06-20T00:00:00\",\"2023-06-21T00:00:00\",\"2023-06-22T00:00:00\",\"2023-06-23T00:00:00\",\"2023-06-26T00:00:00\",\"2023-06-27T00:00:00\",\"2023-06-28T00:00:00\",\"2023-06-30T00:00:00\",\"2023-07-03T00:00:00\",\"2023-07-04T00:00:00\",\"2023-07-05T00:00:00\",\"2023-07-06T00:00:00\",\"2023-07-07T00:00:00\",\"2023-07-10T00:00:00\",\"2023-07-11T00:00:00\",\"2023-07-12T00:00:00\",\"2023-07-13T00:00:00\",\"2023-07-14T00:00:00\",\"2023-07-17T00:00:00\",\"2023-07-18T00:00:00\",\"2023-07-19T00:00:00\",\"2023-07-20T00:00:00\",\"2023-07-21T00:00:00\",\"2023-07-24T00:00:00\",\"2023-07-25T00:00:00\",\"2023-07-26T00:00:00\",\"2023-07-27T00:00:00\",\"2023-07-28T00:00:00\",\"2023-07-31T00:00:00\",\"2023-08-01T00:00:00\",\"2023-08-02T00:00:00\",\"2023-08-03T00:00:00\",\"2023-08-04T00:00:00\",\"2023-08-07T00:00:00\",\"2023-08-08T00:00:00\",\"2023-08-09T00:00:00\",\"2023-08-10T00:00:00\",\"2023-08-11T00:00:00\",\"2023-08-14T00:00:00\",\"2023-08-16T00:00:00\",\"2023-08-17T00:00:00\",\"2023-08-18T00:00:00\",\"2023-08-21T00:00:00\",\"2023-08-22T00:00:00\",\"2023-08-23T00:00:00\",\"2023-08-24T00:00:00\",\"2023-08-25T00:00:00\",\"2023-08-28T00:00:00\",\"2023-08-29T00:00:00\",\"2023-08-30T00:00:00\",\"2023-08-31T00:00:00\",\"2023-09-01T00:00:00\",\"2023-09-04T00:00:00\",\"2023-09-05T00:00:00\",\"2023-09-06T00:00:00\",\"2023-09-07T00:00:00\",\"2023-09-08T00:00:00\",\"2023-09-11T00:00:00\",\"2023-09-12T00:00:00\",\"2023-09-13T00:00:00\",\"2023-09-14T00:00:00\",\"2023-09-15T00:00:00\",\"2023-09-18T00:00:00\",\"2023-09-20T00:00:00\",\"2023-09-21T00:00:00\",\"2023-09-22T00:00:00\",\"2023-09-25T00:00:00\",\"2023-09-26T00:00:00\",\"2023-09-27T00:00:00\",\"2023-09-28T00:00:00\",\"2023-09-29T00:00:00\",\"2023-10-03T00:00:00\",\"2023-10-04T00:00:00\",\"2023-10-05T00:00:00\",\"2023-10-06T00:00:00\",\"2023-10-09T00:00:00\",\"2023-10-10T00:00:00\",\"2023-10-11T00:00:00\",\"2023-10-12T00:00:00\",\"2023-10-13T00:00:00\",\"2023-10-16T00:00:00\",\"2023-10-17T00:00:00\",\"2023-10-18T00:00:00\",\"2023-10-19T00:00:00\",\"2023-10-20T00:00:00\",\"2023-10-23T00:00:00\",\"2023-10-25T00:00:00\",\"2023-10-26T00:00:00\",\"2023-10-27T00:00:00\",\"2023-10-30T00:00:00\",\"2023-10-31T00:00:00\",\"2023-11-01T00:00:00\",\"2023-11-02T00:00:00\",\"2023-11-03T00:00:00\",\"2023-11-06T00:00:00\",\"2023-11-07T00:00:00\",\"2023-11-08T00:00:00\",\"2023-11-09T00:00:00\",\"2023-11-10T00:00:00\",\"2023-11-13T00:00:00\",\"2023-11-15T00:00:00\",\"2023-11-16T00:00:00\",\"2023-11-17T00:00:00\",\"2023-11-20T00:00:00\",\"2023-11-21T00:00:00\",\"2023-11-22T00:00:00\",\"2023-11-23T00:00:00\",\"2023-11-24T00:00:00\",\"2023-11-28T00:00:00\",\"2023-11-29T00:00:00\",\"2023-11-30T00:00:00\",\"2023-12-01T00:00:00\",\"2023-12-04T00:00:00\",\"2023-12-05T00:00:00\",\"2023-12-06T00:00:00\",\"2023-12-07T00:00:00\",\"2023-12-08T00:00:00\",\"2023-12-11T00:00:00\",\"2023-12-12T00:00:00\",\"2023-12-13T00:00:00\",\"2023-12-14T00:00:00\",\"2023-12-15T00:00:00\",\"2023-12-18T00:00:00\",\"2023-12-19T00:00:00\",\"2023-12-20T00:00:00\",\"2023-12-21T00:00:00\",\"2023-12-22T00:00:00\",\"2023-12-26T00:00:00\",\"2023-12-27T00:00:00\",\"2023-12-28T00:00:00\",\"2023-12-29T00:00:00\",\"2024-01-01T00:00:00\",\"2024-01-02T00:00:00\",\"2024-01-03T00:00:00\",\"2024-01-04T00:00:00\",\"2024-01-05T00:00:00\",\"2024-01-08T00:00:00\",\"2024-01-09T00:00:00\",\"2024-01-10T00:00:00\",\"2024-01-11T00:00:00\",\"2024-01-12T00:00:00\",\"2024-01-15T00:00:00\",\"2024-01-16T00:00:00\",\"2024-01-17T00:00:00\",\"2024-01-18T00:00:00\",\"2024-01-19T00:00:00\",\"2024-01-23T00:00:00\",\"2024-01-24T00:00:00\",\"2024-01-25T00:00:00\",\"2024-01-29T00:00:00\",\"2024-01-30T00:00:00\",\"2024-01-31T00:00:00\"],\"y\":[null,0.015300062378597712,0.0009965316953159942,-0.0010709500614800582,-0.03006570406634046,0.03375330881331817,-0.01010556623556269,0.012871168476804584,0.0016973704270426548,0.012056353363449679,-0.009653835680050404,0.013302235546733376,0.003433600172862983,-0.004985286619499596,-0.0029646485355168117,0.015402424440749796,0.006266738914415537,-0.0019061631095367293,-0.005452361847260834,0.006625559041907536,-0.021828016990003807,0.014782537756798275,0.015271248341099719,0.0063287553012043585,-0.006418169244473693,0.0036416145074633643,0.01369320981581601,0.005894639180440642,-0.0009320040301649124,-0.015589887560606974,0.005082775841089182,0.005871296863542375,0.010622958825940332,-0.015991932853282598,-0.003955672686214329,-0.010409254054278505,-0.014329256100534149,0.003601339971607276,-0.003910646859045408,-0.020173717444797012,-0.005702576790020508,0.021990055980165124,-0.01897676346951871,0.00623220169670935,0.008886576966518955,0.005501255714119857,-0.015794444451858847,-0.0017532440627531232,-0.01472532930968029,-0.020414753476065806,-0.004992212252097894,-0.004345064423145639,-0.0017898719670912389,-0.011323184609893677,-0.011834656452360481,0.007952051696995532,-0.0019643398252496835,-0.0013282273410328838,0.0005767871681932046,-0.002049634518878962,0.0073815116754401,0.021345039144971434,-0.0018403835236628918,0.012437382407285424,-0.005895404120443759,0.013258072739142035,-0.015198898726311416,0.008665639505079037,-0.0162878869537314,-0.015475866803126959,-0.0027869737422187013,-0.013143743074216507,0.00491958534400494,0.01805283482044362,0.004413275279646189,0.00037792167781081076,0.006974227611118655,-0.0031893916355517637,0.009818393314825036,0.000046461042845002964,-0.012269283814044796,0.012830467300506188,0.0031049326914656117,0.0061596758474864455,0.010044436147504054,0.0010810790117927738,-0.0014147453049278003,-0.0023916553767594495,-0.005879196217857041,0.0009524404539371645,-0.01517732884382228,-0.002758048951236325,0.00718785304997871,0.023534896440137842,-0.0005001339685383188,0.0019108074835156863,-0.0029818165048992595,0.010748447598684763,-0.0025684488639448055,-0.0012498665643091433,-0.008051408945398464,0.010488017395230198,-0.005535527100200444,-0.005051964519365626,-0.01720946098448728,0.013179382939058737,-0.011740733627749744,-0.00838875792727678,0.011715814540255387,-0.0009854897874178592,0.002266018304375006,-0.0033312634235812544,-0.012871912841796118,0.011181371543118157,0.005388769739508303,0.009449396565352819,-0.006046286011514357,-0.006839529365426755,-0.008301287939346702,0.002413979017830137,0.005660804960112786,0.02699488974417208,-0.00906976088736644,0.011169660541661575,0.00335463503327893,0.0008884468241916466,0.001911157137275632,-0.017211149263174796,0.00013757472236819446,-0.0038198421646341574,0.02474001847131424,0.05211707674151089,-0.006529820348296411,0.001474964514025956,-0.007664013856805374,0.0006500420801576201,-0.02743041163474813,0.007852526744452915,0.0012961504332134055,-0.0031919585721909005,0.002538107232331166,-0.012216984487763316,0.019684725455581198,0.008943620725422985,-0.003302445526987552,-0.011829156872388169,0.012823755184998342,0.01176115941660294,-0.003860575265359656,-0.0023337839554988804,-0.005891701627134371,0.0019464739545864695,0.0003044545108230601,0.002478323506560187,-0.0065492268934461695,-0.01998111572251915,0.01026099442151196,-0.005732537993346165,0.004760421152273153,-0.0030899068340835,-0.001903871111540112,-0.0017006039149587426,0.0001776860920819079,0.004383791272887239,-0.01007088082280938,0.006672940434716779,0.011629992272007117,0.0031738908672520605,0.00016038413233410154,0.007390926529144526,-0.0038637267424243005,0.01125833297480927,0.028773420787433057,-0.0036164965174348973,-0.0021862560097277717,0.010744319547401071,0.0021814497234282637,-0.00002767461144259631,-0.005754200963544842,0.005118131361438127,-0.007353776520360733,0.002390266946537656,0.0010040502105617133,-0.014640851492485951,-0.002304277825002643,-0.004180145679843705,0.006801711204100336,0.014585458438914456,0.008929150887874382,0.004680611233893073,-0.0025974063284862625,-0.0052357047867096496,-0.01865709508604141,0.0079886808345917,-0.01310609759786363,-0.004824034465702232,-0.005645836136416893,-0.006497472000022819,0.011256932141907372,-0.024151905172211663,-0.0058794301182014674,-0.01573710862069122,0.004255680036542087,0.008236463682399942,-0.002900717435295519,-0.011309749519303969,0.008842134227769805,-0.0027380853615084355,0.00875884637112656,-0.002899185255433645,0.003293391894633846,-0.01008419005246608,-0.004182381495483223,-0.0005698971012917387,0.021836755845483946,0.027479918565920247,0.0013150215342760951,0.004896682063798785,-0.002670777261915891,0.005683351465294306,-0.00620365043794302,-0.014579931111192823,0.0037748630111462678,0.012564241687879285,-0.007442135951795659,0.006895861074075915,0.00022768694451835714,0.005452147225996518,0.020528945521486097,0.0029964770422308273,0.0032643307946764732,0.004466912017603075,0.0080156152951667,-0.02139108213912444,0.02050903153783401,0.052832483464084756,-0.00046624761387237257,-0.011142160900228792,-0.009472799639327234,0.001970861173476779,0.009636991997508337,-0.007439834291826264,0.004123201482665095,-0.0029649559171067708,-0.0017105629499577502,0.004666056479143865,-0.007320809960511765,-0.02417261844224783,-0.006758338709154654,0.019390135215228366,-0.015944618094536622,0.0031535371526074663,0.006273994356963852,0.006059719130036001,0.0394184972085434,0.0054084609764561975,-0.0108867987851754,0.006034197234412453,0.004633703066367234,0.01504666969266144,-0.021506244881520753,-0.004263617273490561,-0.008199270738588504,-0.002440786496255787,-0.00011831080769231228,0.004051974496453115],\"type\":\"scatter\"}],                        {\"title\":{\"text\":\"day return over time\"},\"xaxis\":{\"title\":{\"text\":\"Date\"}},\"yaxis\":{\"title\":{\"text\":\"daily_return\"}},\"template\":{\"data\":{\"histogram2dcontour\":[{\"type\":\"histogram2dcontour\",\"colorbar\":{\"outlinewidth\":0,\"ticks\":\"\"},\"colorscale\":[[0.0,\"#0d0887\"],[0.1111111111111111,\"#46039f\"],[0.2222222222222222,\"#7201a8\"],[0.3333333333333333,\"#9c179e\"],[0.4444444444444444,\"#bd3786\"],[0.5555555555555556,\"#d8576b\"],[0.6666666666666666,\"#ed7953\"],[0.7777777777777778,\"#fb9f3a\"],[0.8888888888888888,\"#fdca26\"],[1.0,\"#f0f921\"]]}],\"choropleth\":[{\"type\":\"choropleth\",\"colorbar\":{\"outlinewidth\":0,\"ticks\":\"\"}}],\"histogram2d\":[{\"type\":\"histogram2d\",\"colorbar\":{\"outlinewidth\":0,\"ticks\":\"\"},\"colorscale\":[[0.0,\"#0d0887\"],[0.1111111111111111,\"#46039f\"],[0.2222222222222222,\"#7201a8\"],[0.3333333333333333,\"#9c179e\"],[0.4444444444444444,\"#bd3786\"],[0.5555555555555556,\"#d8576b\"],[0.6666666666666666,\"#ed7953\"],[0.7777777777777778,\"#fb9f3a\"],[0.8888888888888888,\"#fdca26\"],[1.0,\"#f0f921\"]]}],\"heatmap\":[{\"type\":\"heatmap\",\"colorbar\":{\"outlinewidth\":0,\"ticks\":\"\"},\"colorscale\":[[0.0,\"#0d0887\"],[0.1111111111111111,\"#46039f\"],[0.2222222222222222,\"#7201a8\"],[0.3333333333333333,\"#9c179e\"],[0.4444444444444444,\"#bd3786\"],[0.5555555555555556,\"#d8576b\"],[0.6666666666666666,\"#ed7953\"],[0.7777777777777778,\"#fb9f3a\"],[0.8888888888888888,\"#fdca26\"],[1.0,\"#f0f921\"]]}],\"heatmapgl\":[{\"type\":\"heatmapgl\",\"colorbar\":{\"outlinewidth\":0,\"ticks\":\"\"},\"colorscale\":[[0.0,\"#0d0887\"],[0.1111111111111111,\"#46039f\"],[0.2222222222222222,\"#7201a8\"],[0.3333333333333333,\"#9c179e\"],[0.4444444444444444,\"#bd3786\"],[0.5555555555555556,\"#d8576b\"],[0.6666666666666666,\"#ed7953\"],[0.7777777777777778,\"#fb9f3a\"],[0.8888888888888888,\"#fdca26\"],[1.0,\"#f0f921\"]]}],\"contourcarpet\":[{\"type\":\"contourcarpet\",\"colorbar\":{\"outlinewidth\":0,\"ticks\":\"\"}}],\"contour\":[{\"type\":\"contour\",\"colorbar\":{\"outlinewidth\":0,\"ticks\":\"\"},\"colorscale\":[[0.0,\"#0d0887\"],[0.1111111111111111,\"#46039f\"],[0.2222222222222222,\"#7201a8\"],[0.3333333333333333,\"#9c179e\"],[0.4444444444444444,\"#bd3786\"],[0.5555555555555556,\"#d8576b\"],[0.6666666666666666,\"#ed7953\"],[0.7777777777777778,\"#fb9f3a\"],[0.8888888888888888,\"#fdca26\"],[1.0,\"#f0f921\"]]}],\"surface\":[{\"type\":\"surface\",\"colorbar\":{\"outlinewidth\":0,\"ticks\":\"\"},\"colorscale\":[[0.0,\"#0d0887\"],[0.1111111111111111,\"#46039f\"],[0.2222222222222222,\"#7201a8\"],[0.3333333333333333,\"#9c179e\"],[0.4444444444444444,\"#bd3786\"],[0.5555555555555556,\"#d8576b\"],[0.6666666666666666,\"#ed7953\"],[0.7777777777777778,\"#fb9f3a\"],[0.8888888888888888,\"#fdca26\"],[1.0,\"#f0f921\"]]}],\"mesh3d\":[{\"type\":\"mesh3d\",\"colorbar\":{\"outlinewidth\":0,\"ticks\":\"\"}}],\"scatter\":[{\"fillpattern\":{\"fillmode\":\"overlay\",\"size\":10,\"solidity\":0.2},\"type\":\"scatter\"}],\"parcoords\":[{\"type\":\"parcoords\",\"line\":{\"colorbar\":{\"outlinewidth\":0,\"ticks\":\"\"}}}],\"scatterpolargl\":[{\"type\":\"scatterpolargl\",\"marker\":{\"colorbar\":{\"outlinewidth\":0,\"ticks\":\"\"}}}],\"bar\":[{\"error_x\":{\"color\":\"#2a3f5f\"},\"error_y\":{\"color\":\"#2a3f5f\"},\"marker\":{\"line\":{\"color\":\"#E5ECF6\",\"width\":0.5},\"pattern\":{\"fillmode\":\"overlay\",\"size\":10,\"solidity\":0.2}},\"type\":\"bar\"}],\"scattergeo\":[{\"type\":\"scattergeo\",\"marker\":{\"colorbar\":{\"outlinewidth\":0,\"ticks\":\"\"}}}],\"scatterpolar\":[{\"type\":\"scatterpolar\",\"marker\":{\"colorbar\":{\"outlinewidth\":0,\"ticks\":\"\"}}}],\"histogram\":[{\"marker\":{\"pattern\":{\"fillmode\":\"overlay\",\"size\":10,\"solidity\":0.2}},\"type\":\"histogram\"}],\"scattergl\":[{\"type\":\"scattergl\",\"marker\":{\"colorbar\":{\"outlinewidth\":0,\"ticks\":\"\"}}}],\"scatter3d\":[{\"type\":\"scatter3d\",\"line\":{\"colorbar\":{\"outlinewidth\":0,\"ticks\":\"\"}},\"marker\":{\"colorbar\":{\"outlinewidth\":0,\"ticks\":\"\"}}}],\"scattermapbox\":[{\"type\":\"scattermapbox\",\"marker\":{\"colorbar\":{\"outlinewidth\":0,\"ticks\":\"\"}}}],\"scatterternary\":[{\"type\":\"scatterternary\",\"marker\":{\"colorbar\":{\"outlinewidth\":0,\"ticks\":\"\"}}}],\"scattercarpet\":[{\"type\":\"scattercarpet\",\"marker\":{\"colorbar\":{\"outlinewidth\":0,\"ticks\":\"\"}}}],\"carpet\":[{\"aaxis\":{\"endlinecolor\":\"#2a3f5f\",\"gridcolor\":\"white\",\"linecolor\":\"white\",\"minorgridcolor\":\"white\",\"startlinecolor\":\"#2a3f5f\"},\"baxis\":{\"endlinecolor\":\"#2a3f5f\",\"gridcolor\":\"white\",\"linecolor\":\"white\",\"minorgridcolor\":\"white\",\"startlinecolor\":\"#2a3f5f\"},\"type\":\"carpet\"}],\"table\":[{\"cells\":{\"fill\":{\"color\":\"#EBF0F8\"},\"line\":{\"color\":\"white\"}},\"header\":{\"fill\":{\"color\":\"#C8D4E3\"},\"line\":{\"color\":\"white\"}},\"type\":\"table\"}],\"barpolar\":[{\"marker\":{\"line\":{\"color\":\"#E5ECF6\",\"width\":0.5},\"pattern\":{\"fillmode\":\"overlay\",\"size\":10,\"solidity\":0.2}},\"type\":\"barpolar\"}],\"pie\":[{\"automargin\":true,\"type\":\"pie\"}]},\"layout\":{\"autotypenumbers\":\"strict\",\"colorway\":[\"#636efa\",\"#EF553B\",\"#00cc96\",\"#ab63fa\",\"#FFA15A\",\"#19d3f3\",\"#FF6692\",\"#B6E880\",\"#FF97FF\",\"#FECB52\"],\"font\":{\"color\":\"#2a3f5f\"},\"hovermode\":\"closest\",\"hoverlabel\":{\"align\":\"left\"},\"paper_bgcolor\":\"white\",\"plot_bgcolor\":\"#E5ECF6\",\"polar\":{\"bgcolor\":\"#E5ECF6\",\"angularaxis\":{\"gridcolor\":\"white\",\"linecolor\":\"white\",\"ticks\":\"\"},\"radialaxis\":{\"gridcolor\":\"white\",\"linecolor\":\"white\",\"ticks\":\"\"}},\"ternary\":{\"bgcolor\":\"#E5ECF6\",\"aaxis\":{\"gridcolor\":\"white\",\"linecolor\":\"white\",\"ticks\":\"\"},\"baxis\":{\"gridcolor\":\"white\",\"linecolor\":\"white\",\"ticks\":\"\"},\"caxis\":{\"gridcolor\":\"white\",\"linecolor\":\"white\",\"ticks\":\"\"}},\"coloraxis\":{\"colorbar\":{\"outlinewidth\":0,\"ticks\":\"\"}},\"colorscale\":{\"sequential\":[[0.0,\"#0d0887\"],[0.1111111111111111,\"#46039f\"],[0.2222222222222222,\"#7201a8\"],[0.3333333333333333,\"#9c179e\"],[0.4444444444444444,\"#bd3786\"],[0.5555555555555556,\"#d8576b\"],[0.6666666666666666,\"#ed7953\"],[0.7777777777777778,\"#fb9f3a\"],[0.8888888888888888,\"#fdca26\"],[1.0,\"#f0f921\"]],\"sequentialminus\":[[0.0,\"#0d0887\"],[0.1111111111111111,\"#46039f\"],[0.2222222222222222,\"#7201a8\"],[0.3333333333333333,\"#9c179e\"],[0.4444444444444444,\"#bd3786\"],[0.5555555555555556,\"#d8576b\"],[0.6666666666666666,\"#ed7953\"],[0.7777777777777778,\"#fb9f3a\"],[0.8888888888888888,\"#fdca26\"],[1.0,\"#f0f921\"]],\"diverging\":[[0,\"#8e0152\"],[0.1,\"#c51b7d\"],[0.2,\"#de77ae\"],[0.3,\"#f1b6da\"],[0.4,\"#fde0ef\"],[0.5,\"#f7f7f7\"],[0.6,\"#e6f5d0\"],[0.7,\"#b8e186\"],[0.8,\"#7fbc41\"],[0.9,\"#4d9221\"],[1,\"#276419\"]]},\"xaxis\":{\"gridcolor\":\"white\",\"linecolor\":\"white\",\"ticks\":\"\",\"title\":{\"standoff\":15},\"zerolinecolor\":\"white\",\"automargin\":true,\"zerolinewidth\":2},\"yaxis\":{\"gridcolor\":\"white\",\"linecolor\":\"white\",\"ticks\":\"\",\"title\":{\"standoff\":15},\"zerolinecolor\":\"white\",\"automargin\":true,\"zerolinewidth\":2},\"scene\":{\"xaxis\":{\"backgroundcolor\":\"#E5ECF6\",\"gridcolor\":\"white\",\"linecolor\":\"white\",\"showbackground\":true,\"ticks\":\"\",\"zerolinecolor\":\"white\",\"gridwidth\":2},\"yaxis\":{\"backgroundcolor\":\"#E5ECF6\",\"gridcolor\":\"white\",\"linecolor\":\"white\",\"showbackground\":true,\"ticks\":\"\",\"zerolinecolor\":\"white\",\"gridwidth\":2},\"zaxis\":{\"backgroundcolor\":\"#E5ECF6\",\"gridcolor\":\"white\",\"linecolor\":\"white\",\"showbackground\":true,\"ticks\":\"\",\"zerolinecolor\":\"white\",\"gridwidth\":2}},\"shapedefaults\":{\"line\":{\"color\":\"#2a3f5f\"}},\"annotationdefaults\":{\"arrowcolor\":\"#2a3f5f\",\"arrowhead\":0,\"arrowwidth\":1},\"geo\":{\"bgcolor\":\"white\",\"landcolor\":\"#E5ECF6\",\"subunitcolor\":\"white\",\"showland\":true,\"showlakes\":true,\"lakecolor\":\"white\"},\"title\":{\"x\":0.05},\"mapbox\":{\"style\":\"light\"}}}},                        {\"responsive\": true}                    ).then(function(){\n",
       "                            \n",
       "var gd = document.getElementById('17460378-5ecd-4b0a-bf7c-e6cbb6e9a431');\n",
       "var x = new MutationObserver(function (mutations, observer) {{\n",
       "        var display = window.getComputedStyle(gd).display;\n",
       "        if (!display || display === 'none') {{\n",
       "            console.log([gd, 'removed!']);\n",
       "            Plotly.purge(gd);\n",
       "            observer.disconnect();\n",
       "        }}\n",
       "}});\n",
       "\n",
       "// Listen for the removal of the full notebook cells\n",
       "var notebookContainer = gd.closest('#notebook-container');\n",
       "if (notebookContainer) {{\n",
       "    x.observe(notebookContainer, {childList: true});\n",
       "}}\n",
       "\n",
       "// Listen for the clearing of the current output cell\n",
       "var outputEl = gd.closest('.output');\n",
       "if (outputEl) {{\n",
       "    x.observe(outputEl, {childList: true});\n",
       "}}\n",
       "\n",
       "                        })                };                });            </script>        </div>"
      ]
     },
     "metadata": {},
     "output_type": "display_data"
    }
   ],
   "source": [
    "fn.simple_line_chart(dataframe=new_df,feature='daily_return',color='red',name='day return over time')"
   ]
  },
  {
   "cell_type": "markdown",
   "metadata": {},
   "source": [
    "# Cumalative return\n",
    "\n",
    "Cumulative return in the stock market refers to the total amount of return on an investment over a specific period, expressed as a percentage. It represents the overall change in value of the investment from the beginning of the period until the end, taking into account both capital appreciation (or depreciation) and any dividends or interest received."
   ]
  },
  {
   "cell_type": "code",
   "execution_count": 20,
   "metadata": {},
   "outputs": [],
   "source": [
    "cum_df = r.cumalative_return_analysis(data=df,featurename='daily_return')"
   ]
  },
  {
   "cell_type": "code",
   "execution_count": 21,
   "metadata": {},
   "outputs": [
    {
     "data": {
      "application/vnd.plotly.v1+json": {
       "config": {
        "plotlyServerURL": "https://plot.ly"
       },
       "data": [
        {
         "line": {
          "color": "green"
         },
         "mode": "lines",
         "name": "cumalative return over time",
         "type": "scatter",
         "x": [
          "2023-01-02T00:00:00",
          "2023-01-03T00:00:00",
          "2023-01-04T00:00:00",
          "2023-01-05T00:00:00",
          "2023-01-06T00:00:00",
          "2023-01-09T00:00:00",
          "2023-01-10T00:00:00",
          "2023-01-11T00:00:00",
          "2023-01-12T00:00:00",
          "2023-01-13T00:00:00",
          "2023-01-16T00:00:00",
          "2023-01-17T00:00:00",
          "2023-01-18T00:00:00",
          "2023-01-19T00:00:00",
          "2023-01-20T00:00:00",
          "2023-01-23T00:00:00",
          "2023-01-24T00:00:00",
          "2023-01-25T00:00:00",
          "2023-01-27T00:00:00",
          "2023-01-30T00:00:00",
          "2023-01-31T00:00:00",
          "2023-02-01T00:00:00",
          "2023-02-02T00:00:00",
          "2023-02-03T00:00:00",
          "2023-02-06T00:00:00",
          "2023-02-07T00:00:00",
          "2023-02-08T00:00:00",
          "2023-02-09T00:00:00",
          "2023-02-10T00:00:00",
          "2023-02-13T00:00:00",
          "2023-02-14T00:00:00",
          "2023-02-15T00:00:00",
          "2023-02-16T00:00:00",
          "2023-02-17T00:00:00",
          "2023-02-20T00:00:00",
          "2023-02-21T00:00:00",
          "2023-02-22T00:00:00",
          "2023-02-23T00:00:00",
          "2023-02-24T00:00:00",
          "2023-02-27T00:00:00",
          "2023-02-28T00:00:00",
          "2023-03-01T00:00:00",
          "2023-03-02T00:00:00",
          "2023-03-03T00:00:00",
          "2023-03-06T00:00:00",
          "2023-03-08T00:00:00",
          "2023-03-09T00:00:00",
          "2023-03-10T00:00:00",
          "2023-03-13T00:00:00",
          "2023-03-14T00:00:00",
          "2023-03-15T00:00:00",
          "2023-03-16T00:00:00",
          "2023-03-17T00:00:00",
          "2023-03-20T00:00:00",
          "2023-03-21T00:00:00",
          "2023-03-22T00:00:00",
          "2023-03-23T00:00:00",
          "2023-03-24T00:00:00",
          "2023-03-27T00:00:00",
          "2023-03-28T00:00:00",
          "2023-03-29T00:00:00",
          "2023-03-31T00:00:00",
          "2023-04-03T00:00:00",
          "2023-04-05T00:00:00",
          "2023-04-06T00:00:00",
          "2023-04-10T00:00:00",
          "2023-04-11T00:00:00",
          "2023-04-12T00:00:00",
          "2023-04-13T00:00:00",
          "2023-04-17T00:00:00",
          "2023-04-18T00:00:00",
          "2023-04-19T00:00:00",
          "2023-04-20T00:00:00",
          "2023-04-21T00:00:00",
          "2023-04-24T00:00:00",
          "2023-04-25T00:00:00",
          "2023-04-26T00:00:00",
          "2023-04-27T00:00:00",
          "2023-04-28T00:00:00",
          "2023-05-02T00:00:00",
          "2023-05-03T00:00:00",
          "2023-05-04T00:00:00",
          "2023-05-05T00:00:00",
          "2023-05-08T00:00:00",
          "2023-05-09T00:00:00",
          "2023-05-10T00:00:00",
          "2023-05-11T00:00:00",
          "2023-05-12T00:00:00",
          "2023-05-15T00:00:00",
          "2023-05-16T00:00:00",
          "2023-05-17T00:00:00",
          "2023-05-18T00:00:00",
          "2023-05-19T00:00:00",
          "2023-05-22T00:00:00",
          "2023-05-23T00:00:00",
          "2023-05-24T00:00:00",
          "2023-05-25T00:00:00",
          "2023-05-26T00:00:00",
          "2023-05-29T00:00:00",
          "2023-05-30T00:00:00",
          "2023-05-31T00:00:00",
          "2023-06-01T00:00:00",
          "2023-06-02T00:00:00",
          "2023-06-05T00:00:00",
          "2023-06-06T00:00:00",
          "2023-06-07T00:00:00",
          "2023-06-08T00:00:00",
          "2023-06-09T00:00:00",
          "2023-06-12T00:00:00",
          "2023-06-13T00:00:00",
          "2023-06-14T00:00:00",
          "2023-06-15T00:00:00",
          "2023-06-16T00:00:00",
          "2023-06-19T00:00:00",
          "2023-06-20T00:00:00",
          "2023-06-21T00:00:00",
          "2023-06-22T00:00:00",
          "2023-06-23T00:00:00",
          "2023-06-26T00:00:00",
          "2023-06-27T00:00:00",
          "2023-06-28T00:00:00",
          "2023-06-30T00:00:00",
          "2023-07-03T00:00:00",
          "2023-07-04T00:00:00",
          "2023-07-05T00:00:00",
          "2023-07-06T00:00:00",
          "2023-07-07T00:00:00",
          "2023-07-10T00:00:00",
          "2023-07-11T00:00:00",
          "2023-07-12T00:00:00",
          "2023-07-13T00:00:00",
          "2023-07-14T00:00:00",
          "2023-07-17T00:00:00",
          "2023-07-18T00:00:00",
          "2023-07-19T00:00:00",
          "2023-07-20T00:00:00",
          "2023-07-21T00:00:00",
          "2023-07-24T00:00:00",
          "2023-07-25T00:00:00",
          "2023-07-26T00:00:00",
          "2023-07-27T00:00:00",
          "2023-07-28T00:00:00",
          "2023-07-31T00:00:00",
          "2023-08-01T00:00:00",
          "2023-08-02T00:00:00",
          "2023-08-03T00:00:00",
          "2023-08-04T00:00:00",
          "2023-08-07T00:00:00",
          "2023-08-08T00:00:00",
          "2023-08-09T00:00:00",
          "2023-08-10T00:00:00",
          "2023-08-11T00:00:00",
          "2023-08-14T00:00:00",
          "2023-08-16T00:00:00",
          "2023-08-17T00:00:00",
          "2023-08-18T00:00:00",
          "2023-08-21T00:00:00",
          "2023-08-22T00:00:00",
          "2023-08-23T00:00:00",
          "2023-08-24T00:00:00",
          "2023-08-25T00:00:00",
          "2023-08-28T00:00:00",
          "2023-08-29T00:00:00",
          "2023-08-30T00:00:00",
          "2023-08-31T00:00:00",
          "2023-09-01T00:00:00",
          "2023-09-04T00:00:00",
          "2023-09-05T00:00:00",
          "2023-09-06T00:00:00",
          "2023-09-07T00:00:00",
          "2023-09-08T00:00:00",
          "2023-09-11T00:00:00",
          "2023-09-12T00:00:00",
          "2023-09-13T00:00:00",
          "2023-09-14T00:00:00",
          "2023-09-15T00:00:00",
          "2023-09-18T00:00:00",
          "2023-09-20T00:00:00",
          "2023-09-21T00:00:00",
          "2023-09-22T00:00:00",
          "2023-09-25T00:00:00",
          "2023-09-26T00:00:00",
          "2023-09-27T00:00:00",
          "2023-09-28T00:00:00",
          "2023-09-29T00:00:00",
          "2023-10-03T00:00:00",
          "2023-10-04T00:00:00",
          "2023-10-05T00:00:00",
          "2023-10-06T00:00:00",
          "2023-10-09T00:00:00",
          "2023-10-10T00:00:00",
          "2023-10-11T00:00:00",
          "2023-10-12T00:00:00",
          "2023-10-13T00:00:00",
          "2023-10-16T00:00:00",
          "2023-10-17T00:00:00",
          "2023-10-18T00:00:00",
          "2023-10-19T00:00:00",
          "2023-10-20T00:00:00",
          "2023-10-23T00:00:00",
          "2023-10-25T00:00:00",
          "2023-10-26T00:00:00",
          "2023-10-27T00:00:00",
          "2023-10-30T00:00:00",
          "2023-10-31T00:00:00",
          "2023-11-01T00:00:00",
          "2023-11-02T00:00:00",
          "2023-11-03T00:00:00",
          "2023-11-06T00:00:00",
          "2023-11-07T00:00:00",
          "2023-11-08T00:00:00",
          "2023-11-09T00:00:00",
          "2023-11-10T00:00:00",
          "2023-11-13T00:00:00",
          "2023-11-15T00:00:00",
          "2023-11-16T00:00:00",
          "2023-11-17T00:00:00",
          "2023-11-20T00:00:00",
          "2023-11-21T00:00:00",
          "2023-11-22T00:00:00",
          "2023-11-23T00:00:00",
          "2023-11-24T00:00:00",
          "2023-11-28T00:00:00",
          "2023-11-29T00:00:00",
          "2023-11-30T00:00:00",
          "2023-12-01T00:00:00",
          "2023-12-04T00:00:00",
          "2023-12-05T00:00:00",
          "2023-12-06T00:00:00",
          "2023-12-07T00:00:00",
          "2023-12-08T00:00:00",
          "2023-12-11T00:00:00",
          "2023-12-12T00:00:00",
          "2023-12-13T00:00:00",
          "2023-12-14T00:00:00",
          "2023-12-15T00:00:00",
          "2023-12-18T00:00:00",
          "2023-12-19T00:00:00",
          "2023-12-20T00:00:00",
          "2023-12-21T00:00:00",
          "2023-12-22T00:00:00",
          "2023-12-26T00:00:00",
          "2023-12-27T00:00:00",
          "2023-12-28T00:00:00",
          "2023-12-29T00:00:00",
          "2024-01-01T00:00:00",
          "2024-01-02T00:00:00",
          "2024-01-03T00:00:00",
          "2024-01-04T00:00:00",
          "2024-01-05T00:00:00",
          "2024-01-08T00:00:00",
          "2024-01-09T00:00:00",
          "2024-01-10T00:00:00",
          "2024-01-11T00:00:00",
          "2024-01-12T00:00:00",
          "2024-01-15T00:00:00",
          "2024-01-16T00:00:00",
          "2024-01-17T00:00:00",
          "2024-01-18T00:00:00",
          "2024-01-19T00:00:00",
          "2024-01-23T00:00:00",
          "2024-01-24T00:00:00",
          "2024-01-25T00:00:00",
          "2024-01-29T00:00:00",
          "2024-01-30T00:00:00",
          "2024-01-31T00:00:00"
         ],
         "y": [
          null,
          1.0153000623785977,
          1.0163118410710144,
          1.0152234218423364,
          0.9847000148800071,
          1.017936898570731,
          1.0076500698186013,
          1.0206197036329003,
          1.022352073335104,
          1.0346779111930873,
          1.0246893006566513,
          1.0383199590962036,
          1.0418851346872433,
          1.0366910386662314,
          1.0336176140966662,
          1.0495378312984183,
          1.0561150108679673,
          1.0541018833948228,
          1.0483545385026751,
          1.0553004733943763,
          1.0322653567315647,
          1.0475248583424839,
          1.0635218705977072,
          1.0702526402741992,
          1.0633835776945746,
          1.0672560107581055,
          1.0818701712406071,
          1.088247405540152,
          1.0872331545723721,
          1.070283311940425,
          1.0757233221014766,
          1.0820392130685703,
          1.0935336710770507,
          1.076045954036383,
          1.0717894684468898,
          1.0606329395771261,
          1.045434858557263,
          1.049199824901097,
          1.0450967749013365,
          1.0240132878620083,
          1.0181737734539738,
          1.0405634717297625,
          1.0208169448517255,
          1.02717888194746,
          1.0363069861402692,
          1.0420079758693557,
          1.0255500387760932,
          1.0237519992595527,
          1.0086769139390122,
          0.9880850234039483,
          0.9831522932439967,
          0.9788804331920882,
          0.9771283625455836,
          0.9660641577089167,
          0.9546311202914927,
          0.9622223963116113,
          0.9603322645377892,
          0.9590567249675541,
          0.9596098965800848,
          0.9576430470113964,
          0.964711900343815,
          0.9853037136202736,
          0.9834903768999229,
          0.9957224228113125,
          0.9898522367370525,
          1.0029757696927148,
          0.9877316425442111,
          0.9962909688862588,
          0.9800634942120159,
          0.9648961621169836,
          0.9622070218491959,
          0.9495600199698031,
          0.9542314615272995,
          0.9714580444827223,
          0.9757453562556514,
          0.9761141115778036,
          0.982921753566372,
          0.9797868311471456,
          0.9894067636200343,
          0.98945273249007,
          0.9773128560945672,
          0.9898522367370528,
          0.9929256613066181,
          0.999041761520918,
          1.0090765727032047,
          1.010167464207246,
          1.008738334530068,
          1.006325780068546,
          1.0004093933484348,
          1.0013622237251587,
          0.9861642199639008,
          0.9834443307712826,
          0.9905131841037013,
          1.013824809314173,
          1.0133177610888882,
          1.0152540162499561,
          1.0122267150676367,
          1.02310658087253,
          1.0204787839371934,
          1.0192033216255634,
          1.0109972988846474,
          1.0216006561418802,
          1.0159455580242243,
          1.0108130371114787,
          0.9934174895866976,
          1.0065101191003192,
          0.9946929518983276,
          0.9863487135128842,
          0.9979045921124207,
          0.9969211673280765,
          0.9991802089412608,
          0.9958516764576485,
          0.9830331604749291,
          0.994024819481405,
          0.9993813903489466,
          1.0088249414263875,
          1.0027252972949743,
          0.9958671281786691,
          0.9876001483983277,
          0.9899841944345672,
          0.9955883018728556,
          1.0224640983125008,
          1.0131905934248897,
          1.0245075884174504,
          1.0279444374654156,
          1.0288577114363273,
          1.03082402019478,
          1.0130823541191418,
          1.0132217286427458,
          1.0093513815615527,
          1.034322753385432,
          1.0882286316991114,
          1.0811226942362437,
          1.0827173118455504,
          1.074419351364563,
          1.0751177691546856,
          1.0456268461909404,
          1.0538376589653726,
          1.055203591103577,
          1.0518354249555475,
          1.0545050960548492,
          1.0416222236540797,
          1.0621262711551422,
          1.0716255256868616,
          1.0680865407629514,
          1.0554519775189801,
          1.068986835288206,
          1.0815593598722804,
          1.0773839185595393,
          1.0748695372564925,
          1.0685367266548813,
          1.0706166055628341,
          1.0709425596177597,
          1.0735967017374362,
          1.0665654733457022,
          1.0452543051971384,
          1.0559796537918276,
          1.0499262103062654,
          1.0549243012461333,
          1.0516646834382721,
          1.049662449428447,
          1.0478773893575637,
          1.0480635825958595,
          1.0526580745826741,
          1.0420568805663841,
          1.0490104640599904,
          1.0612104476502626,
          1.0645786137982922,
          1.0647493553155678,
          1.0726188395726592,
          1.0684745334777743,
          1.0805037755507712,
          1.1115935653471036,
          1.1075734910892228,
          1.1051520518881137,
          1.1170261586820656,
          1.1194628950869847,
          1.1194319143863387,
          1.112990478185954,
          1.1186869096573397,
          1.1104603361274668,
          1.1131146327643533,
          1.1142322557457596,
          1.0979189467612482,
          1.095389036478576,
          1.090810150729992,
          1.0982295263537587,
          1.1142477074667803,
          1.1241969933732192,
          1.1294589224495106,
          1.126525258696575,
          1.120627105007268,
          1.0997194585531522,
          1.1085047663151233,
          1.0939765946601003,
          1.0886992138627885,
          1.0825525964994733,
          1.075518741315166,
          1.0876257828035003,
          1.0613575480343778,
          1.055117370500284,
          1.038512873833143,
          1.0429324523380068,
          1.0515225276048852,
          1.0484723578754558,
          1.0366143981299702,
          1.0457802817806743,
          1.0429168460997764,
          1.0520515945326243,
          1.0490015020617998,
          1.0524562751061488,
          1.0418431060060678,
          1.0374857206783112,
          1.0368944605734651,
          1.0595368717465428,
          1.0886528586997277,
          1.090084460652269,
          1.0954222576787709,
          1.0924966288207658,
          1.0987056711370033,
          1.0918896852190838,
          1.0759700088275674,
          1.0800316482149934,
          1.0936014268737253,
          1.0854626963778533,
          1.092947896333167,
          1.0931967463002008,
          1.09915701590801,
          1.1217215504071447,
          1.1250827632807152,
          1.1287554055914522,
          1.133797456677623,
          1.1428855409129892,
          1.118437982431702,
          1.141376062286505,
          1.201677794223559,
          1.201117514819359,
          1.1877344702091586,
          1.1764832995481447,
          1.178801984804468,
          1.1901620900986756,
          1.1813074813679278,
          1.1861782501265874,
          1.1826612839051311,
          1.1806382673305336,
          1.1861471921673363,
          1.1774636339882847,
          1.1490012548342634,
          1.1412359151768496,
          1.1633646338846035,
          1.144815229092623,
          1.1484254464504373,
          1.155630661220861,
          1.1626334584459173,
          1.2084627221822268,
          1.2149986456566515,
          1.201771199877127,
          1.209022924327822,
          1.2146251775595882,
          1.2329012414067175,
          1.2063861653942938,
          1.2012425965010187,
          1.191393283229582,
          1.1884853465921452,
          1.1883447359308594,
          1.1931598784938455
         ]
        }
       ],
       "layout": {
        "template": {
         "data": {
          "bar": [
           {
            "error_x": {
             "color": "#2a3f5f"
            },
            "error_y": {
             "color": "#2a3f5f"
            },
            "marker": {
             "line": {
              "color": "#E5ECF6",
              "width": 0.5
             },
             "pattern": {
              "fillmode": "overlay",
              "size": 10,
              "solidity": 0.2
             }
            },
            "type": "bar"
           }
          ],
          "barpolar": [
           {
            "marker": {
             "line": {
              "color": "#E5ECF6",
              "width": 0.5
             },
             "pattern": {
              "fillmode": "overlay",
              "size": 10,
              "solidity": 0.2
             }
            },
            "type": "barpolar"
           }
          ],
          "carpet": [
           {
            "aaxis": {
             "endlinecolor": "#2a3f5f",
             "gridcolor": "white",
             "linecolor": "white",
             "minorgridcolor": "white",
             "startlinecolor": "#2a3f5f"
            },
            "baxis": {
             "endlinecolor": "#2a3f5f",
             "gridcolor": "white",
             "linecolor": "white",
             "minorgridcolor": "white",
             "startlinecolor": "#2a3f5f"
            },
            "type": "carpet"
           }
          ],
          "choropleth": [
           {
            "colorbar": {
             "outlinewidth": 0,
             "ticks": ""
            },
            "type": "choropleth"
           }
          ],
          "contour": [
           {
            "colorbar": {
             "outlinewidth": 0,
             "ticks": ""
            },
            "colorscale": [
             [
              0,
              "#0d0887"
             ],
             [
              0.1111111111111111,
              "#46039f"
             ],
             [
              0.2222222222222222,
              "#7201a8"
             ],
             [
              0.3333333333333333,
              "#9c179e"
             ],
             [
              0.4444444444444444,
              "#bd3786"
             ],
             [
              0.5555555555555556,
              "#d8576b"
             ],
             [
              0.6666666666666666,
              "#ed7953"
             ],
             [
              0.7777777777777778,
              "#fb9f3a"
             ],
             [
              0.8888888888888888,
              "#fdca26"
             ],
             [
              1,
              "#f0f921"
             ]
            ],
            "type": "contour"
           }
          ],
          "contourcarpet": [
           {
            "colorbar": {
             "outlinewidth": 0,
             "ticks": ""
            },
            "type": "contourcarpet"
           }
          ],
          "heatmap": [
           {
            "colorbar": {
             "outlinewidth": 0,
             "ticks": ""
            },
            "colorscale": [
             [
              0,
              "#0d0887"
             ],
             [
              0.1111111111111111,
              "#46039f"
             ],
             [
              0.2222222222222222,
              "#7201a8"
             ],
             [
              0.3333333333333333,
              "#9c179e"
             ],
             [
              0.4444444444444444,
              "#bd3786"
             ],
             [
              0.5555555555555556,
              "#d8576b"
             ],
             [
              0.6666666666666666,
              "#ed7953"
             ],
             [
              0.7777777777777778,
              "#fb9f3a"
             ],
             [
              0.8888888888888888,
              "#fdca26"
             ],
             [
              1,
              "#f0f921"
             ]
            ],
            "type": "heatmap"
           }
          ],
          "heatmapgl": [
           {
            "colorbar": {
             "outlinewidth": 0,
             "ticks": ""
            },
            "colorscale": [
             [
              0,
              "#0d0887"
             ],
             [
              0.1111111111111111,
              "#46039f"
             ],
             [
              0.2222222222222222,
              "#7201a8"
             ],
             [
              0.3333333333333333,
              "#9c179e"
             ],
             [
              0.4444444444444444,
              "#bd3786"
             ],
             [
              0.5555555555555556,
              "#d8576b"
             ],
             [
              0.6666666666666666,
              "#ed7953"
             ],
             [
              0.7777777777777778,
              "#fb9f3a"
             ],
             [
              0.8888888888888888,
              "#fdca26"
             ],
             [
              1,
              "#f0f921"
             ]
            ],
            "type": "heatmapgl"
           }
          ],
          "histogram": [
           {
            "marker": {
             "pattern": {
              "fillmode": "overlay",
              "size": 10,
              "solidity": 0.2
             }
            },
            "type": "histogram"
           }
          ],
          "histogram2d": [
           {
            "colorbar": {
             "outlinewidth": 0,
             "ticks": ""
            },
            "colorscale": [
             [
              0,
              "#0d0887"
             ],
             [
              0.1111111111111111,
              "#46039f"
             ],
             [
              0.2222222222222222,
              "#7201a8"
             ],
             [
              0.3333333333333333,
              "#9c179e"
             ],
             [
              0.4444444444444444,
              "#bd3786"
             ],
             [
              0.5555555555555556,
              "#d8576b"
             ],
             [
              0.6666666666666666,
              "#ed7953"
             ],
             [
              0.7777777777777778,
              "#fb9f3a"
             ],
             [
              0.8888888888888888,
              "#fdca26"
             ],
             [
              1,
              "#f0f921"
             ]
            ],
            "type": "histogram2d"
           }
          ],
          "histogram2dcontour": [
           {
            "colorbar": {
             "outlinewidth": 0,
             "ticks": ""
            },
            "colorscale": [
             [
              0,
              "#0d0887"
             ],
             [
              0.1111111111111111,
              "#46039f"
             ],
             [
              0.2222222222222222,
              "#7201a8"
             ],
             [
              0.3333333333333333,
              "#9c179e"
             ],
             [
              0.4444444444444444,
              "#bd3786"
             ],
             [
              0.5555555555555556,
              "#d8576b"
             ],
             [
              0.6666666666666666,
              "#ed7953"
             ],
             [
              0.7777777777777778,
              "#fb9f3a"
             ],
             [
              0.8888888888888888,
              "#fdca26"
             ],
             [
              1,
              "#f0f921"
             ]
            ],
            "type": "histogram2dcontour"
           }
          ],
          "mesh3d": [
           {
            "colorbar": {
             "outlinewidth": 0,
             "ticks": ""
            },
            "type": "mesh3d"
           }
          ],
          "parcoords": [
           {
            "line": {
             "colorbar": {
              "outlinewidth": 0,
              "ticks": ""
             }
            },
            "type": "parcoords"
           }
          ],
          "pie": [
           {
            "automargin": true,
            "type": "pie"
           }
          ],
          "scatter": [
           {
            "fillpattern": {
             "fillmode": "overlay",
             "size": 10,
             "solidity": 0.2
            },
            "type": "scatter"
           }
          ],
          "scatter3d": [
           {
            "line": {
             "colorbar": {
              "outlinewidth": 0,
              "ticks": ""
             }
            },
            "marker": {
             "colorbar": {
              "outlinewidth": 0,
              "ticks": ""
             }
            },
            "type": "scatter3d"
           }
          ],
          "scattercarpet": [
           {
            "marker": {
             "colorbar": {
              "outlinewidth": 0,
              "ticks": ""
             }
            },
            "type": "scattercarpet"
           }
          ],
          "scattergeo": [
           {
            "marker": {
             "colorbar": {
              "outlinewidth": 0,
              "ticks": ""
             }
            },
            "type": "scattergeo"
           }
          ],
          "scattergl": [
           {
            "marker": {
             "colorbar": {
              "outlinewidth": 0,
              "ticks": ""
             }
            },
            "type": "scattergl"
           }
          ],
          "scattermapbox": [
           {
            "marker": {
             "colorbar": {
              "outlinewidth": 0,
              "ticks": ""
             }
            },
            "type": "scattermapbox"
           }
          ],
          "scatterpolar": [
           {
            "marker": {
             "colorbar": {
              "outlinewidth": 0,
              "ticks": ""
             }
            },
            "type": "scatterpolar"
           }
          ],
          "scatterpolargl": [
           {
            "marker": {
             "colorbar": {
              "outlinewidth": 0,
              "ticks": ""
             }
            },
            "type": "scatterpolargl"
           }
          ],
          "scatterternary": [
           {
            "marker": {
             "colorbar": {
              "outlinewidth": 0,
              "ticks": ""
             }
            },
            "type": "scatterternary"
           }
          ],
          "surface": [
           {
            "colorbar": {
             "outlinewidth": 0,
             "ticks": ""
            },
            "colorscale": [
             [
              0,
              "#0d0887"
             ],
             [
              0.1111111111111111,
              "#46039f"
             ],
             [
              0.2222222222222222,
              "#7201a8"
             ],
             [
              0.3333333333333333,
              "#9c179e"
             ],
             [
              0.4444444444444444,
              "#bd3786"
             ],
             [
              0.5555555555555556,
              "#d8576b"
             ],
             [
              0.6666666666666666,
              "#ed7953"
             ],
             [
              0.7777777777777778,
              "#fb9f3a"
             ],
             [
              0.8888888888888888,
              "#fdca26"
             ],
             [
              1,
              "#f0f921"
             ]
            ],
            "type": "surface"
           }
          ],
          "table": [
           {
            "cells": {
             "fill": {
              "color": "#EBF0F8"
             },
             "line": {
              "color": "white"
             }
            },
            "header": {
             "fill": {
              "color": "#C8D4E3"
             },
             "line": {
              "color": "white"
             }
            },
            "type": "table"
           }
          ]
         },
         "layout": {
          "annotationdefaults": {
           "arrowcolor": "#2a3f5f",
           "arrowhead": 0,
           "arrowwidth": 1
          },
          "autotypenumbers": "strict",
          "coloraxis": {
           "colorbar": {
            "outlinewidth": 0,
            "ticks": ""
           }
          },
          "colorscale": {
           "diverging": [
            [
             0,
             "#8e0152"
            ],
            [
             0.1,
             "#c51b7d"
            ],
            [
             0.2,
             "#de77ae"
            ],
            [
             0.3,
             "#f1b6da"
            ],
            [
             0.4,
             "#fde0ef"
            ],
            [
             0.5,
             "#f7f7f7"
            ],
            [
             0.6,
             "#e6f5d0"
            ],
            [
             0.7,
             "#b8e186"
            ],
            [
             0.8,
             "#7fbc41"
            ],
            [
             0.9,
             "#4d9221"
            ],
            [
             1,
             "#276419"
            ]
           ],
           "sequential": [
            [
             0,
             "#0d0887"
            ],
            [
             0.1111111111111111,
             "#46039f"
            ],
            [
             0.2222222222222222,
             "#7201a8"
            ],
            [
             0.3333333333333333,
             "#9c179e"
            ],
            [
             0.4444444444444444,
             "#bd3786"
            ],
            [
             0.5555555555555556,
             "#d8576b"
            ],
            [
             0.6666666666666666,
             "#ed7953"
            ],
            [
             0.7777777777777778,
             "#fb9f3a"
            ],
            [
             0.8888888888888888,
             "#fdca26"
            ],
            [
             1,
             "#f0f921"
            ]
           ],
           "sequentialminus": [
            [
             0,
             "#0d0887"
            ],
            [
             0.1111111111111111,
             "#46039f"
            ],
            [
             0.2222222222222222,
             "#7201a8"
            ],
            [
             0.3333333333333333,
             "#9c179e"
            ],
            [
             0.4444444444444444,
             "#bd3786"
            ],
            [
             0.5555555555555556,
             "#d8576b"
            ],
            [
             0.6666666666666666,
             "#ed7953"
            ],
            [
             0.7777777777777778,
             "#fb9f3a"
            ],
            [
             0.8888888888888888,
             "#fdca26"
            ],
            [
             1,
             "#f0f921"
            ]
           ]
          },
          "colorway": [
           "#636efa",
           "#EF553B",
           "#00cc96",
           "#ab63fa",
           "#FFA15A",
           "#19d3f3",
           "#FF6692",
           "#B6E880",
           "#FF97FF",
           "#FECB52"
          ],
          "font": {
           "color": "#2a3f5f"
          },
          "geo": {
           "bgcolor": "white",
           "lakecolor": "white",
           "landcolor": "#E5ECF6",
           "showlakes": true,
           "showland": true,
           "subunitcolor": "white"
          },
          "hoverlabel": {
           "align": "left"
          },
          "hovermode": "closest",
          "mapbox": {
           "style": "light"
          },
          "paper_bgcolor": "white",
          "plot_bgcolor": "#E5ECF6",
          "polar": {
           "angularaxis": {
            "gridcolor": "white",
            "linecolor": "white",
            "ticks": ""
           },
           "bgcolor": "#E5ECF6",
           "radialaxis": {
            "gridcolor": "white",
            "linecolor": "white",
            "ticks": ""
           }
          },
          "scene": {
           "xaxis": {
            "backgroundcolor": "#E5ECF6",
            "gridcolor": "white",
            "gridwidth": 2,
            "linecolor": "white",
            "showbackground": true,
            "ticks": "",
            "zerolinecolor": "white"
           },
           "yaxis": {
            "backgroundcolor": "#E5ECF6",
            "gridcolor": "white",
            "gridwidth": 2,
            "linecolor": "white",
            "showbackground": true,
            "ticks": "",
            "zerolinecolor": "white"
           },
           "zaxis": {
            "backgroundcolor": "#E5ECF6",
            "gridcolor": "white",
            "gridwidth": 2,
            "linecolor": "white",
            "showbackground": true,
            "ticks": "",
            "zerolinecolor": "white"
           }
          },
          "shapedefaults": {
           "line": {
            "color": "#2a3f5f"
           }
          },
          "ternary": {
           "aaxis": {
            "gridcolor": "white",
            "linecolor": "white",
            "ticks": ""
           },
           "baxis": {
            "gridcolor": "white",
            "linecolor": "white",
            "ticks": ""
           },
           "bgcolor": "#E5ECF6",
           "caxis": {
            "gridcolor": "white",
            "linecolor": "white",
            "ticks": ""
           }
          },
          "title": {
           "x": 0.05
          },
          "xaxis": {
           "automargin": true,
           "gridcolor": "white",
           "linecolor": "white",
           "ticks": "",
           "title": {
            "standoff": 15
           },
           "zerolinecolor": "white",
           "zerolinewidth": 2
          },
          "yaxis": {
           "automargin": true,
           "gridcolor": "white",
           "linecolor": "white",
           "ticks": "",
           "title": {
            "standoff": 15
           },
           "zerolinecolor": "white",
           "zerolinewidth": 2
          }
         }
        },
        "title": {
         "text": "cumalative return over time"
        },
        "xaxis": {
         "title": {
          "text": "Date"
         }
        },
        "yaxis": {
         "title": {
          "text": "cum_return"
         }
        }
       }
      },
      "text/html": [
       "<div>                            <div id=\"b185071e-f354-4641-ab2a-53419a9c0192\" class=\"plotly-graph-div\" style=\"height:525px; width:100%;\"></div>            <script type=\"text/javascript\">                require([\"plotly\"], function(Plotly) {                    window.PLOTLYENV=window.PLOTLYENV || {};                                    if (document.getElementById(\"b185071e-f354-4641-ab2a-53419a9c0192\")) {                    Plotly.newPlot(                        \"b185071e-f354-4641-ab2a-53419a9c0192\",                        [{\"line\":{\"color\":\"green\"},\"mode\":\"lines\",\"name\":\"cumalative return over time\",\"x\":[\"2023-01-02T00:00:00\",\"2023-01-03T00:00:00\",\"2023-01-04T00:00:00\",\"2023-01-05T00:00:00\",\"2023-01-06T00:00:00\",\"2023-01-09T00:00:00\",\"2023-01-10T00:00:00\",\"2023-01-11T00:00:00\",\"2023-01-12T00:00:00\",\"2023-01-13T00:00:00\",\"2023-01-16T00:00:00\",\"2023-01-17T00:00:00\",\"2023-01-18T00:00:00\",\"2023-01-19T00:00:00\",\"2023-01-20T00:00:00\",\"2023-01-23T00:00:00\",\"2023-01-24T00:00:00\",\"2023-01-25T00:00:00\",\"2023-01-27T00:00:00\",\"2023-01-30T00:00:00\",\"2023-01-31T00:00:00\",\"2023-02-01T00:00:00\",\"2023-02-02T00:00:00\",\"2023-02-03T00:00:00\",\"2023-02-06T00:00:00\",\"2023-02-07T00:00:00\",\"2023-02-08T00:00:00\",\"2023-02-09T00:00:00\",\"2023-02-10T00:00:00\",\"2023-02-13T00:00:00\",\"2023-02-14T00:00:00\",\"2023-02-15T00:00:00\",\"2023-02-16T00:00:00\",\"2023-02-17T00:00:00\",\"2023-02-20T00:00:00\",\"2023-02-21T00:00:00\",\"2023-02-22T00:00:00\",\"2023-02-23T00:00:00\",\"2023-02-24T00:00:00\",\"2023-02-27T00:00:00\",\"2023-02-28T00:00:00\",\"2023-03-01T00:00:00\",\"2023-03-02T00:00:00\",\"2023-03-03T00:00:00\",\"2023-03-06T00:00:00\",\"2023-03-08T00:00:00\",\"2023-03-09T00:00:00\",\"2023-03-10T00:00:00\",\"2023-03-13T00:00:00\",\"2023-03-14T00:00:00\",\"2023-03-15T00:00:00\",\"2023-03-16T00:00:00\",\"2023-03-17T00:00:00\",\"2023-03-20T00:00:00\",\"2023-03-21T00:00:00\",\"2023-03-22T00:00:00\",\"2023-03-23T00:00:00\",\"2023-03-24T00:00:00\",\"2023-03-27T00:00:00\",\"2023-03-28T00:00:00\",\"2023-03-29T00:00:00\",\"2023-03-31T00:00:00\",\"2023-04-03T00:00:00\",\"2023-04-05T00:00:00\",\"2023-04-06T00:00:00\",\"2023-04-10T00:00:00\",\"2023-04-11T00:00:00\",\"2023-04-12T00:00:00\",\"2023-04-13T00:00:00\",\"2023-04-17T00:00:00\",\"2023-04-18T00:00:00\",\"2023-04-19T00:00:00\",\"2023-04-20T00:00:00\",\"2023-04-21T00:00:00\",\"2023-04-24T00:00:00\",\"2023-04-25T00:00:00\",\"2023-04-26T00:00:00\",\"2023-04-27T00:00:00\",\"2023-04-28T00:00:00\",\"2023-05-02T00:00:00\",\"2023-05-03T00:00:00\",\"2023-05-04T00:00:00\",\"2023-05-05T00:00:00\",\"2023-05-08T00:00:00\",\"2023-05-09T00:00:00\",\"2023-05-10T00:00:00\",\"2023-05-11T00:00:00\",\"2023-05-12T00:00:00\",\"2023-05-15T00:00:00\",\"2023-05-16T00:00:00\",\"2023-05-17T00:00:00\",\"2023-05-18T00:00:00\",\"2023-05-19T00:00:00\",\"2023-05-22T00:00:00\",\"2023-05-23T00:00:00\",\"2023-05-24T00:00:00\",\"2023-05-25T00:00:00\",\"2023-05-26T00:00:00\",\"2023-05-29T00:00:00\",\"2023-05-30T00:00:00\",\"2023-05-31T00:00:00\",\"2023-06-01T00:00:00\",\"2023-06-02T00:00:00\",\"2023-06-05T00:00:00\",\"2023-06-06T00:00:00\",\"2023-06-07T00:00:00\",\"2023-06-08T00:00:00\",\"2023-06-09T00:00:00\",\"2023-06-12T00:00:00\",\"2023-06-13T00:00:00\",\"2023-06-14T00:00:00\",\"2023-06-15T00:00:00\",\"2023-06-16T00:00:00\",\"2023-06-19T00:00:00\",\"2023-06-20T00:00:00\",\"2023-06-21T00:00:00\",\"2023-06-22T00:00:00\",\"2023-06-23T00:00:00\",\"2023-06-26T00:00:00\",\"2023-06-27T00:00:00\",\"2023-06-28T00:00:00\",\"2023-06-30T00:00:00\",\"2023-07-03T00:00:00\",\"2023-07-04T00:00:00\",\"2023-07-05T00:00:00\",\"2023-07-06T00:00:00\",\"2023-07-07T00:00:00\",\"2023-07-10T00:00:00\",\"2023-07-11T00:00:00\",\"2023-07-12T00:00:00\",\"2023-07-13T00:00:00\",\"2023-07-14T00:00:00\",\"2023-07-17T00:00:00\",\"2023-07-18T00:00:00\",\"2023-07-19T00:00:00\",\"2023-07-20T00:00:00\",\"2023-07-21T00:00:00\",\"2023-07-24T00:00:00\",\"2023-07-25T00:00:00\",\"2023-07-26T00:00:00\",\"2023-07-27T00:00:00\",\"2023-07-28T00:00:00\",\"2023-07-31T00:00:00\",\"2023-08-01T00:00:00\",\"2023-08-02T00:00:00\",\"2023-08-03T00:00:00\",\"2023-08-04T00:00:00\",\"2023-08-07T00:00:00\",\"2023-08-08T00:00:00\",\"2023-08-09T00:00:00\",\"2023-08-10T00:00:00\",\"2023-08-11T00:00:00\",\"2023-08-14T00:00:00\",\"2023-08-16T00:00:00\",\"2023-08-17T00:00:00\",\"2023-08-18T00:00:00\",\"2023-08-21T00:00:00\",\"2023-08-22T00:00:00\",\"2023-08-23T00:00:00\",\"2023-08-24T00:00:00\",\"2023-08-25T00:00:00\",\"2023-08-28T00:00:00\",\"2023-08-29T00:00:00\",\"2023-08-30T00:00:00\",\"2023-08-31T00:00:00\",\"2023-09-01T00:00:00\",\"2023-09-04T00:00:00\",\"2023-09-05T00:00:00\",\"2023-09-06T00:00:00\",\"2023-09-07T00:00:00\",\"2023-09-08T00:00:00\",\"2023-09-11T00:00:00\",\"2023-09-12T00:00:00\",\"2023-09-13T00:00:00\",\"2023-09-14T00:00:00\",\"2023-09-15T00:00:00\",\"2023-09-18T00:00:00\",\"2023-09-20T00:00:00\",\"2023-09-21T00:00:00\",\"2023-09-22T00:00:00\",\"2023-09-25T00:00:00\",\"2023-09-26T00:00:00\",\"2023-09-27T00:00:00\",\"2023-09-28T00:00:00\",\"2023-09-29T00:00:00\",\"2023-10-03T00:00:00\",\"2023-10-04T00:00:00\",\"2023-10-05T00:00:00\",\"2023-10-06T00:00:00\",\"2023-10-09T00:00:00\",\"2023-10-10T00:00:00\",\"2023-10-11T00:00:00\",\"2023-10-12T00:00:00\",\"2023-10-13T00:00:00\",\"2023-10-16T00:00:00\",\"2023-10-17T00:00:00\",\"2023-10-18T00:00:00\",\"2023-10-19T00:00:00\",\"2023-10-20T00:00:00\",\"2023-10-23T00:00:00\",\"2023-10-25T00:00:00\",\"2023-10-26T00:00:00\",\"2023-10-27T00:00:00\",\"2023-10-30T00:00:00\",\"2023-10-31T00:00:00\",\"2023-11-01T00:00:00\",\"2023-11-02T00:00:00\",\"2023-11-03T00:00:00\",\"2023-11-06T00:00:00\",\"2023-11-07T00:00:00\",\"2023-11-08T00:00:00\",\"2023-11-09T00:00:00\",\"2023-11-10T00:00:00\",\"2023-11-13T00:00:00\",\"2023-11-15T00:00:00\",\"2023-11-16T00:00:00\",\"2023-11-17T00:00:00\",\"2023-11-20T00:00:00\",\"2023-11-21T00:00:00\",\"2023-11-22T00:00:00\",\"2023-11-23T00:00:00\",\"2023-11-24T00:00:00\",\"2023-11-28T00:00:00\",\"2023-11-29T00:00:00\",\"2023-11-30T00:00:00\",\"2023-12-01T00:00:00\",\"2023-12-04T00:00:00\",\"2023-12-05T00:00:00\",\"2023-12-06T00:00:00\",\"2023-12-07T00:00:00\",\"2023-12-08T00:00:00\",\"2023-12-11T00:00:00\",\"2023-12-12T00:00:00\",\"2023-12-13T00:00:00\",\"2023-12-14T00:00:00\",\"2023-12-15T00:00:00\",\"2023-12-18T00:00:00\",\"2023-12-19T00:00:00\",\"2023-12-20T00:00:00\",\"2023-12-21T00:00:00\",\"2023-12-22T00:00:00\",\"2023-12-26T00:00:00\",\"2023-12-27T00:00:00\",\"2023-12-28T00:00:00\",\"2023-12-29T00:00:00\",\"2024-01-01T00:00:00\",\"2024-01-02T00:00:00\",\"2024-01-03T00:00:00\",\"2024-01-04T00:00:00\",\"2024-01-05T00:00:00\",\"2024-01-08T00:00:00\",\"2024-01-09T00:00:00\",\"2024-01-10T00:00:00\",\"2024-01-11T00:00:00\",\"2024-01-12T00:00:00\",\"2024-01-15T00:00:00\",\"2024-01-16T00:00:00\",\"2024-01-17T00:00:00\",\"2024-01-18T00:00:00\",\"2024-01-19T00:00:00\",\"2024-01-23T00:00:00\",\"2024-01-24T00:00:00\",\"2024-01-25T00:00:00\",\"2024-01-29T00:00:00\",\"2024-01-30T00:00:00\",\"2024-01-31T00:00:00\"],\"y\":[null,1.0153000623785977,1.0163118410710144,1.0152234218423364,0.9847000148800071,1.017936898570731,1.0076500698186013,1.0206197036329003,1.022352073335104,1.0346779111930873,1.0246893006566513,1.0383199590962036,1.0418851346872433,1.0366910386662314,1.0336176140966662,1.0495378312984183,1.0561150108679673,1.0541018833948228,1.0483545385026751,1.0553004733943763,1.0322653567315647,1.0475248583424839,1.0635218705977072,1.0702526402741992,1.0633835776945746,1.0672560107581055,1.0818701712406071,1.088247405540152,1.0872331545723721,1.070283311940425,1.0757233221014766,1.0820392130685703,1.0935336710770507,1.076045954036383,1.0717894684468898,1.0606329395771261,1.045434858557263,1.049199824901097,1.0450967749013365,1.0240132878620083,1.0181737734539738,1.0405634717297625,1.0208169448517255,1.02717888194746,1.0363069861402692,1.0420079758693557,1.0255500387760932,1.0237519992595527,1.0086769139390122,0.9880850234039483,0.9831522932439967,0.9788804331920882,0.9771283625455836,0.9660641577089167,0.9546311202914927,0.9622223963116113,0.9603322645377892,0.9590567249675541,0.9596098965800848,0.9576430470113964,0.964711900343815,0.9853037136202736,0.9834903768999229,0.9957224228113125,0.9898522367370525,1.0029757696927148,0.9877316425442111,0.9962909688862588,0.9800634942120159,0.9648961621169836,0.9622070218491959,0.9495600199698031,0.9542314615272995,0.9714580444827223,0.9757453562556514,0.9761141115778036,0.982921753566372,0.9797868311471456,0.9894067636200343,0.98945273249007,0.9773128560945672,0.9898522367370528,0.9929256613066181,0.999041761520918,1.0090765727032047,1.010167464207246,1.008738334530068,1.006325780068546,1.0004093933484348,1.0013622237251587,0.9861642199639008,0.9834443307712826,0.9905131841037013,1.013824809314173,1.0133177610888882,1.0152540162499561,1.0122267150676367,1.02310658087253,1.0204787839371934,1.0192033216255634,1.0109972988846474,1.0216006561418802,1.0159455580242243,1.0108130371114787,0.9934174895866976,1.0065101191003192,0.9946929518983276,0.9863487135128842,0.9979045921124207,0.9969211673280765,0.9991802089412608,0.9958516764576485,0.9830331604749291,0.994024819481405,0.9993813903489466,1.0088249414263875,1.0027252972949743,0.9958671281786691,0.9876001483983277,0.9899841944345672,0.9955883018728556,1.0224640983125008,1.0131905934248897,1.0245075884174504,1.0279444374654156,1.0288577114363273,1.03082402019478,1.0130823541191418,1.0132217286427458,1.0093513815615527,1.034322753385432,1.0882286316991114,1.0811226942362437,1.0827173118455504,1.074419351364563,1.0751177691546856,1.0456268461909404,1.0538376589653726,1.055203591103577,1.0518354249555475,1.0545050960548492,1.0416222236540797,1.0621262711551422,1.0716255256868616,1.0680865407629514,1.0554519775189801,1.068986835288206,1.0815593598722804,1.0773839185595393,1.0748695372564925,1.0685367266548813,1.0706166055628341,1.0709425596177597,1.0735967017374362,1.0665654733457022,1.0452543051971384,1.0559796537918276,1.0499262103062654,1.0549243012461333,1.0516646834382721,1.049662449428447,1.0478773893575637,1.0480635825958595,1.0526580745826741,1.0420568805663841,1.0490104640599904,1.0612104476502626,1.0645786137982922,1.0647493553155678,1.0726188395726592,1.0684745334777743,1.0805037755507712,1.1115935653471036,1.1075734910892228,1.1051520518881137,1.1170261586820656,1.1194628950869847,1.1194319143863387,1.112990478185954,1.1186869096573397,1.1104603361274668,1.1131146327643533,1.1142322557457596,1.0979189467612482,1.095389036478576,1.090810150729992,1.0982295263537587,1.1142477074667803,1.1241969933732192,1.1294589224495106,1.126525258696575,1.120627105007268,1.0997194585531522,1.1085047663151233,1.0939765946601003,1.0886992138627885,1.0825525964994733,1.075518741315166,1.0876257828035003,1.0613575480343778,1.055117370500284,1.038512873833143,1.0429324523380068,1.0515225276048852,1.0484723578754558,1.0366143981299702,1.0457802817806743,1.0429168460997764,1.0520515945326243,1.0490015020617998,1.0524562751061488,1.0418431060060678,1.0374857206783112,1.0368944605734651,1.0595368717465428,1.0886528586997277,1.090084460652269,1.0954222576787709,1.0924966288207658,1.0987056711370033,1.0918896852190838,1.0759700088275674,1.0800316482149934,1.0936014268737253,1.0854626963778533,1.092947896333167,1.0931967463002008,1.09915701590801,1.1217215504071447,1.1250827632807152,1.1287554055914522,1.133797456677623,1.1428855409129892,1.118437982431702,1.141376062286505,1.201677794223559,1.201117514819359,1.1877344702091586,1.1764832995481447,1.178801984804468,1.1901620900986756,1.1813074813679278,1.1861782501265874,1.1826612839051311,1.1806382673305336,1.1861471921673363,1.1774636339882847,1.1490012548342634,1.1412359151768496,1.1633646338846035,1.144815229092623,1.1484254464504373,1.155630661220861,1.1626334584459173,1.2084627221822268,1.2149986456566515,1.201771199877127,1.209022924327822,1.2146251775595882,1.2329012414067175,1.2063861653942938,1.2012425965010187,1.191393283229582,1.1884853465921452,1.1883447359308594,1.1931598784938455],\"type\":\"scatter\"}],                        {\"title\":{\"text\":\"cumalative return over time\"},\"xaxis\":{\"title\":{\"text\":\"Date\"}},\"yaxis\":{\"title\":{\"text\":\"cum_return\"}},\"template\":{\"data\":{\"histogram2dcontour\":[{\"type\":\"histogram2dcontour\",\"colorbar\":{\"outlinewidth\":0,\"ticks\":\"\"},\"colorscale\":[[0.0,\"#0d0887\"],[0.1111111111111111,\"#46039f\"],[0.2222222222222222,\"#7201a8\"],[0.3333333333333333,\"#9c179e\"],[0.4444444444444444,\"#bd3786\"],[0.5555555555555556,\"#d8576b\"],[0.6666666666666666,\"#ed7953\"],[0.7777777777777778,\"#fb9f3a\"],[0.8888888888888888,\"#fdca26\"],[1.0,\"#f0f921\"]]}],\"choropleth\":[{\"type\":\"choropleth\",\"colorbar\":{\"outlinewidth\":0,\"ticks\":\"\"}}],\"histogram2d\":[{\"type\":\"histogram2d\",\"colorbar\":{\"outlinewidth\":0,\"ticks\":\"\"},\"colorscale\":[[0.0,\"#0d0887\"],[0.1111111111111111,\"#46039f\"],[0.2222222222222222,\"#7201a8\"],[0.3333333333333333,\"#9c179e\"],[0.4444444444444444,\"#bd3786\"],[0.5555555555555556,\"#d8576b\"],[0.6666666666666666,\"#ed7953\"],[0.7777777777777778,\"#fb9f3a\"],[0.8888888888888888,\"#fdca26\"],[1.0,\"#f0f921\"]]}],\"heatmap\":[{\"type\":\"heatmap\",\"colorbar\":{\"outlinewidth\":0,\"ticks\":\"\"},\"colorscale\":[[0.0,\"#0d0887\"],[0.1111111111111111,\"#46039f\"],[0.2222222222222222,\"#7201a8\"],[0.3333333333333333,\"#9c179e\"],[0.4444444444444444,\"#bd3786\"],[0.5555555555555556,\"#d8576b\"],[0.6666666666666666,\"#ed7953\"],[0.7777777777777778,\"#fb9f3a\"],[0.8888888888888888,\"#fdca26\"],[1.0,\"#f0f921\"]]}],\"heatmapgl\":[{\"type\":\"heatmapgl\",\"colorbar\":{\"outlinewidth\":0,\"ticks\":\"\"},\"colorscale\":[[0.0,\"#0d0887\"],[0.1111111111111111,\"#46039f\"],[0.2222222222222222,\"#7201a8\"],[0.3333333333333333,\"#9c179e\"],[0.4444444444444444,\"#bd3786\"],[0.5555555555555556,\"#d8576b\"],[0.6666666666666666,\"#ed7953\"],[0.7777777777777778,\"#fb9f3a\"],[0.8888888888888888,\"#fdca26\"],[1.0,\"#f0f921\"]]}],\"contourcarpet\":[{\"type\":\"contourcarpet\",\"colorbar\":{\"outlinewidth\":0,\"ticks\":\"\"}}],\"contour\":[{\"type\":\"contour\",\"colorbar\":{\"outlinewidth\":0,\"ticks\":\"\"},\"colorscale\":[[0.0,\"#0d0887\"],[0.1111111111111111,\"#46039f\"],[0.2222222222222222,\"#7201a8\"],[0.3333333333333333,\"#9c179e\"],[0.4444444444444444,\"#bd3786\"],[0.5555555555555556,\"#d8576b\"],[0.6666666666666666,\"#ed7953\"],[0.7777777777777778,\"#fb9f3a\"],[0.8888888888888888,\"#fdca26\"],[1.0,\"#f0f921\"]]}],\"surface\":[{\"type\":\"surface\",\"colorbar\":{\"outlinewidth\":0,\"ticks\":\"\"},\"colorscale\":[[0.0,\"#0d0887\"],[0.1111111111111111,\"#46039f\"],[0.2222222222222222,\"#7201a8\"],[0.3333333333333333,\"#9c179e\"],[0.4444444444444444,\"#bd3786\"],[0.5555555555555556,\"#d8576b\"],[0.6666666666666666,\"#ed7953\"],[0.7777777777777778,\"#fb9f3a\"],[0.8888888888888888,\"#fdca26\"],[1.0,\"#f0f921\"]]}],\"mesh3d\":[{\"type\":\"mesh3d\",\"colorbar\":{\"outlinewidth\":0,\"ticks\":\"\"}}],\"scatter\":[{\"fillpattern\":{\"fillmode\":\"overlay\",\"size\":10,\"solidity\":0.2},\"type\":\"scatter\"}],\"parcoords\":[{\"type\":\"parcoords\",\"line\":{\"colorbar\":{\"outlinewidth\":0,\"ticks\":\"\"}}}],\"scatterpolargl\":[{\"type\":\"scatterpolargl\",\"marker\":{\"colorbar\":{\"outlinewidth\":0,\"ticks\":\"\"}}}],\"bar\":[{\"error_x\":{\"color\":\"#2a3f5f\"},\"error_y\":{\"color\":\"#2a3f5f\"},\"marker\":{\"line\":{\"color\":\"#E5ECF6\",\"width\":0.5},\"pattern\":{\"fillmode\":\"overlay\",\"size\":10,\"solidity\":0.2}},\"type\":\"bar\"}],\"scattergeo\":[{\"type\":\"scattergeo\",\"marker\":{\"colorbar\":{\"outlinewidth\":0,\"ticks\":\"\"}}}],\"scatterpolar\":[{\"type\":\"scatterpolar\",\"marker\":{\"colorbar\":{\"outlinewidth\":0,\"ticks\":\"\"}}}],\"histogram\":[{\"marker\":{\"pattern\":{\"fillmode\":\"overlay\",\"size\":10,\"solidity\":0.2}},\"type\":\"histogram\"}],\"scattergl\":[{\"type\":\"scattergl\",\"marker\":{\"colorbar\":{\"outlinewidth\":0,\"ticks\":\"\"}}}],\"scatter3d\":[{\"type\":\"scatter3d\",\"line\":{\"colorbar\":{\"outlinewidth\":0,\"ticks\":\"\"}},\"marker\":{\"colorbar\":{\"outlinewidth\":0,\"ticks\":\"\"}}}],\"scattermapbox\":[{\"type\":\"scattermapbox\",\"marker\":{\"colorbar\":{\"outlinewidth\":0,\"ticks\":\"\"}}}],\"scatterternary\":[{\"type\":\"scatterternary\",\"marker\":{\"colorbar\":{\"outlinewidth\":0,\"ticks\":\"\"}}}],\"scattercarpet\":[{\"type\":\"scattercarpet\",\"marker\":{\"colorbar\":{\"outlinewidth\":0,\"ticks\":\"\"}}}],\"carpet\":[{\"aaxis\":{\"endlinecolor\":\"#2a3f5f\",\"gridcolor\":\"white\",\"linecolor\":\"white\",\"minorgridcolor\":\"white\",\"startlinecolor\":\"#2a3f5f\"},\"baxis\":{\"endlinecolor\":\"#2a3f5f\",\"gridcolor\":\"white\",\"linecolor\":\"white\",\"minorgridcolor\":\"white\",\"startlinecolor\":\"#2a3f5f\"},\"type\":\"carpet\"}],\"table\":[{\"cells\":{\"fill\":{\"color\":\"#EBF0F8\"},\"line\":{\"color\":\"white\"}},\"header\":{\"fill\":{\"color\":\"#C8D4E3\"},\"line\":{\"color\":\"white\"}},\"type\":\"table\"}],\"barpolar\":[{\"marker\":{\"line\":{\"color\":\"#E5ECF6\",\"width\":0.5},\"pattern\":{\"fillmode\":\"overlay\",\"size\":10,\"solidity\":0.2}},\"type\":\"barpolar\"}],\"pie\":[{\"automargin\":true,\"type\":\"pie\"}]},\"layout\":{\"autotypenumbers\":\"strict\",\"colorway\":[\"#636efa\",\"#EF553B\",\"#00cc96\",\"#ab63fa\",\"#FFA15A\",\"#19d3f3\",\"#FF6692\",\"#B6E880\",\"#FF97FF\",\"#FECB52\"],\"font\":{\"color\":\"#2a3f5f\"},\"hovermode\":\"closest\",\"hoverlabel\":{\"align\":\"left\"},\"paper_bgcolor\":\"white\",\"plot_bgcolor\":\"#E5ECF6\",\"polar\":{\"bgcolor\":\"#E5ECF6\",\"angularaxis\":{\"gridcolor\":\"white\",\"linecolor\":\"white\",\"ticks\":\"\"},\"radialaxis\":{\"gridcolor\":\"white\",\"linecolor\":\"white\",\"ticks\":\"\"}},\"ternary\":{\"bgcolor\":\"#E5ECF6\",\"aaxis\":{\"gridcolor\":\"white\",\"linecolor\":\"white\",\"ticks\":\"\"},\"baxis\":{\"gridcolor\":\"white\",\"linecolor\":\"white\",\"ticks\":\"\"},\"caxis\":{\"gridcolor\":\"white\",\"linecolor\":\"white\",\"ticks\":\"\"}},\"coloraxis\":{\"colorbar\":{\"outlinewidth\":0,\"ticks\":\"\"}},\"colorscale\":{\"sequential\":[[0.0,\"#0d0887\"],[0.1111111111111111,\"#46039f\"],[0.2222222222222222,\"#7201a8\"],[0.3333333333333333,\"#9c179e\"],[0.4444444444444444,\"#bd3786\"],[0.5555555555555556,\"#d8576b\"],[0.6666666666666666,\"#ed7953\"],[0.7777777777777778,\"#fb9f3a\"],[0.8888888888888888,\"#fdca26\"],[1.0,\"#f0f921\"]],\"sequentialminus\":[[0.0,\"#0d0887\"],[0.1111111111111111,\"#46039f\"],[0.2222222222222222,\"#7201a8\"],[0.3333333333333333,\"#9c179e\"],[0.4444444444444444,\"#bd3786\"],[0.5555555555555556,\"#d8576b\"],[0.6666666666666666,\"#ed7953\"],[0.7777777777777778,\"#fb9f3a\"],[0.8888888888888888,\"#fdca26\"],[1.0,\"#f0f921\"]],\"diverging\":[[0,\"#8e0152\"],[0.1,\"#c51b7d\"],[0.2,\"#de77ae\"],[0.3,\"#f1b6da\"],[0.4,\"#fde0ef\"],[0.5,\"#f7f7f7\"],[0.6,\"#e6f5d0\"],[0.7,\"#b8e186\"],[0.8,\"#7fbc41\"],[0.9,\"#4d9221\"],[1,\"#276419\"]]},\"xaxis\":{\"gridcolor\":\"white\",\"linecolor\":\"white\",\"ticks\":\"\",\"title\":{\"standoff\":15},\"zerolinecolor\":\"white\",\"automargin\":true,\"zerolinewidth\":2},\"yaxis\":{\"gridcolor\":\"white\",\"linecolor\":\"white\",\"ticks\":\"\",\"title\":{\"standoff\":15},\"zerolinecolor\":\"white\",\"automargin\":true,\"zerolinewidth\":2},\"scene\":{\"xaxis\":{\"backgroundcolor\":\"#E5ECF6\",\"gridcolor\":\"white\",\"linecolor\":\"white\",\"showbackground\":true,\"ticks\":\"\",\"zerolinecolor\":\"white\",\"gridwidth\":2},\"yaxis\":{\"backgroundcolor\":\"#E5ECF6\",\"gridcolor\":\"white\",\"linecolor\":\"white\",\"showbackground\":true,\"ticks\":\"\",\"zerolinecolor\":\"white\",\"gridwidth\":2},\"zaxis\":{\"backgroundcolor\":\"#E5ECF6\",\"gridcolor\":\"white\",\"linecolor\":\"white\",\"showbackground\":true,\"ticks\":\"\",\"zerolinecolor\":\"white\",\"gridwidth\":2}},\"shapedefaults\":{\"line\":{\"color\":\"#2a3f5f\"}},\"annotationdefaults\":{\"arrowcolor\":\"#2a3f5f\",\"arrowhead\":0,\"arrowwidth\":1},\"geo\":{\"bgcolor\":\"white\",\"landcolor\":\"#E5ECF6\",\"subunitcolor\":\"white\",\"showland\":true,\"showlakes\":true,\"lakecolor\":\"white\"},\"title\":{\"x\":0.05},\"mapbox\":{\"style\":\"light\"}}}},                        {\"responsive\": true}                    ).then(function(){\n",
       "                            \n",
       "var gd = document.getElementById('b185071e-f354-4641-ab2a-53419a9c0192');\n",
       "var x = new MutationObserver(function (mutations, observer) {{\n",
       "        var display = window.getComputedStyle(gd).display;\n",
       "        if (!display || display === 'none') {{\n",
       "            console.log([gd, 'removed!']);\n",
       "            Plotly.purge(gd);\n",
       "            observer.disconnect();\n",
       "        }}\n",
       "}});\n",
       "\n",
       "// Listen for the removal of the full notebook cells\n",
       "var notebookContainer = gd.closest('#notebook-container');\n",
       "if (notebookContainer) {{\n",
       "    x.observe(notebookContainer, {childList: true});\n",
       "}}\n",
       "\n",
       "// Listen for the clearing of the current output cell\n",
       "var outputEl = gd.closest('.output');\n",
       "if (outputEl) {{\n",
       "    x.observe(outputEl, {childList: true});\n",
       "}}\n",
       "\n",
       "                        })                };                });            </script>        </div>"
      ]
     },
     "metadata": {},
     "output_type": "display_data"
    }
   ],
   "source": [
    "fn.simple_line_chart(dataframe=df,feature='cum_return',color='green',name='cumalative return over time')"
   ]
  },
  {
   "cell_type": "code",
   "execution_count": 22,
   "metadata": {},
   "outputs": [
    {
     "data": {
      "text/html": [
       "<div>\n",
       "<style scoped>\n",
       "    .dataframe tbody tr th:only-of-type {\n",
       "        vertical-align: middle;\n",
       "    }\n",
       "\n",
       "    .dataframe tbody tr th {\n",
       "        vertical-align: top;\n",
       "    }\n",
       "\n",
       "    .dataframe thead th {\n",
       "        text-align: right;\n",
       "    }\n",
       "</style>\n",
       "<table border=\"1\" class=\"dataframe\">\n",
       "  <thead>\n",
       "    <tr style=\"text-align: right;\">\n",
       "      <th></th>\n",
       "      <th>Date</th>\n",
       "      <th>Open</th>\n",
       "      <th>High</th>\n",
       "      <th>Low</th>\n",
       "      <th>Close</th>\n",
       "      <th>Adj Close</th>\n",
       "      <th>Volume</th>\n",
       "      <th>daily_return</th>\n",
       "      <th>cum_return</th>\n",
       "    </tr>\n",
       "  </thead>\n",
       "  <tbody>\n",
       "    <tr>\n",
       "      <th>0</th>\n",
       "      <td>2023-01-02</td>\n",
       "      <td>3261.000000</td>\n",
       "      <td>3266.850098</td>\n",
       "      <td>3235.199951</td>\n",
       "      <td>3261.449951</td>\n",
       "      <td>3160.044434</td>\n",
       "      <td>709547</td>\n",
       "      <td>NaN</td>\n",
       "      <td>NaN</td>\n",
       "    </tr>\n",
       "    <tr>\n",
       "      <th>1</th>\n",
       "      <td>2023-01-03</td>\n",
       "      <td>3252.000000</td>\n",
       "      <td>3320.000000</td>\n",
       "      <td>3245.300049</td>\n",
       "      <td>3311.350098</td>\n",
       "      <td>3208.393311</td>\n",
       "      <td>1245178</td>\n",
       "      <td>0.015300</td>\n",
       "      <td>1.015300</td>\n",
       "    </tr>\n",
       "    <tr>\n",
       "      <th>2</th>\n",
       "      <td>2023-01-04</td>\n",
       "      <td>3306.699951</td>\n",
       "      <td>3327.350098</td>\n",
       "      <td>3286.199951</td>\n",
       "      <td>3314.649902</td>\n",
       "      <td>3211.590576</td>\n",
       "      <td>1231668</td>\n",
       "      <td>0.000997</td>\n",
       "      <td>1.016312</td>\n",
       "    </tr>\n",
       "    <tr>\n",
       "      <th>3</th>\n",
       "      <td>2023-01-05</td>\n",
       "      <td>3330.199951</td>\n",
       "      <td>3337.300049</td>\n",
       "      <td>3281.949951</td>\n",
       "      <td>3311.100098</td>\n",
       "      <td>3208.151123</td>\n",
       "      <td>1826057</td>\n",
       "      <td>-0.001071</td>\n",
       "      <td>1.015223</td>\n",
       "    </tr>\n",
       "    <tr>\n",
       "      <th>4</th>\n",
       "      <td>2023-01-06</td>\n",
       "      <td>3300.000000</td>\n",
       "      <td>3301.550049</td>\n",
       "      <td>3200.000000</td>\n",
       "      <td>3211.550049</td>\n",
       "      <td>3111.695801</td>\n",
       "      <td>2488376</td>\n",
       "      <td>-0.030066</td>\n",
       "      <td>0.984700</td>\n",
       "    </tr>\n",
       "    <tr>\n",
       "      <th>...</th>\n",
       "      <td>...</td>\n",
       "      <td>...</td>\n",
       "      <td>...</td>\n",
       "      <td>...</td>\n",
       "      <td>...</td>\n",
       "      <td>...</td>\n",
       "      <td>...</td>\n",
       "      <td>...</td>\n",
       "      <td>...</td>\n",
       "    </tr>\n",
       "    <tr>\n",
       "      <th>261</th>\n",
       "      <td>2024-01-24</td>\n",
       "      <td>3880.000000</td>\n",
       "      <td>3883.649902</td>\n",
       "      <td>3805.600098</td>\n",
       "      <td>3841.800049</td>\n",
       "      <td>3795.979980</td>\n",
       "      <td>2657709</td>\n",
       "      <td>-0.004264</td>\n",
       "      <td>1.201243</td>\n",
       "    </tr>\n",
       "    <tr>\n",
       "      <th>262</th>\n",
       "      <td>2024-01-25</td>\n",
       "      <td>3839.899902</td>\n",
       "      <td>3861.000000</td>\n",
       "      <td>3778.699951</td>\n",
       "      <td>3810.300049</td>\n",
       "      <td>3764.855713</td>\n",
       "      <td>2205154</td>\n",
       "      <td>-0.008199</td>\n",
       "      <td>1.191393</td>\n",
       "    </tr>\n",
       "    <tr>\n",
       "      <th>263</th>\n",
       "      <td>2024-01-29</td>\n",
       "      <td>3800.800049</td>\n",
       "      <td>3820.000000</td>\n",
       "      <td>3780.850098</td>\n",
       "      <td>3801.000000</td>\n",
       "      <td>3755.666504</td>\n",
       "      <td>1646747</td>\n",
       "      <td>-0.002441</td>\n",
       "      <td>1.188485</td>\n",
       "    </tr>\n",
       "    <tr>\n",
       "      <th>264</th>\n",
       "      <td>2024-01-30</td>\n",
       "      <td>3807.449951</td>\n",
       "      <td>3847.800049</td>\n",
       "      <td>3787.000000</td>\n",
       "      <td>3800.550049</td>\n",
       "      <td>3755.222168</td>\n",
       "      <td>1411621</td>\n",
       "      <td>-0.000118</td>\n",
       "      <td>1.188345</td>\n",
       "    </tr>\n",
       "    <tr>\n",
       "      <th>265</th>\n",
       "      <td>2024-01-31</td>\n",
       "      <td>3811.199951</td>\n",
       "      <td>3834.000000</td>\n",
       "      <td>3796.449951</td>\n",
       "      <td>3815.949951</td>\n",
       "      <td>3770.438232</td>\n",
       "      <td>2459358</td>\n",
       "      <td>0.004052</td>\n",
       "      <td>1.193160</td>\n",
       "    </tr>\n",
       "  </tbody>\n",
       "</table>\n",
       "<p>266 rows × 9 columns</p>\n",
       "</div>"
      ],
      "text/plain": [
       "          Date         Open         High          Low        Close  \\\n",
       "0   2023-01-02  3261.000000  3266.850098  3235.199951  3261.449951   \n",
       "1   2023-01-03  3252.000000  3320.000000  3245.300049  3311.350098   \n",
       "2   2023-01-04  3306.699951  3327.350098  3286.199951  3314.649902   \n",
       "3   2023-01-05  3330.199951  3337.300049  3281.949951  3311.100098   \n",
       "4   2023-01-06  3300.000000  3301.550049  3200.000000  3211.550049   \n",
       "..         ...          ...          ...          ...          ...   \n",
       "261 2024-01-24  3880.000000  3883.649902  3805.600098  3841.800049   \n",
       "262 2024-01-25  3839.899902  3861.000000  3778.699951  3810.300049   \n",
       "263 2024-01-29  3800.800049  3820.000000  3780.850098  3801.000000   \n",
       "264 2024-01-30  3807.449951  3847.800049  3787.000000  3800.550049   \n",
       "265 2024-01-31  3811.199951  3834.000000  3796.449951  3815.949951   \n",
       "\n",
       "       Adj Close   Volume  daily_return  cum_return  \n",
       "0    3160.044434   709547           NaN         NaN  \n",
       "1    3208.393311  1245178      0.015300    1.015300  \n",
       "2    3211.590576  1231668      0.000997    1.016312  \n",
       "3    3208.151123  1826057     -0.001071    1.015223  \n",
       "4    3111.695801  2488376     -0.030066    0.984700  \n",
       "..           ...      ...           ...         ...  \n",
       "261  3795.979980  2657709     -0.004264    1.201243  \n",
       "262  3764.855713  2205154     -0.008199    1.191393  \n",
       "263  3755.666504  1646747     -0.002441    1.188485  \n",
       "264  3755.222168  1411621     -0.000118    1.188345  \n",
       "265  3770.438232  2459358      0.004052    1.193160  \n",
       "\n",
       "[266 rows x 9 columns]"
      ]
     },
     "execution_count": 22,
     "metadata": {},
     "output_type": "execute_result"
    }
   ],
   "source": [
    "df"
   ]
  },
  {
   "cell_type": "markdown",
   "metadata": {},
   "source": [
    "# Annualized Return"
   ]
  },
  {
   "cell_type": "code",
   "execution_count": 51,
   "metadata": {},
   "outputs": [],
   "source": [
    "# calculates return over the specified period of time\n",
    "annual_rt=r.average_return_analysis(data=df,featurename='daily_return',days=252)"
   ]
  },
  {
   "cell_type": "code",
   "execution_count": 52,
   "metadata": {},
   "outputs": [
    {
     "data": {
      "text/plain": [
       "20.307620202973297"
      ]
     },
     "execution_count": 52,
     "metadata": {},
     "output_type": "execute_result"
    }
   ],
   "source": [
    "# represents data in percentage (%)\n",
    "annual_rt "
   ]
  },
  {
   "cell_type": "code",
   "execution_count": null,
   "metadata": {},
   "outputs": [],
   "source": []
  },
  {
   "cell_type": "markdown",
   "metadata": {},
   "source": [
    "# Volatility Analysis\n",
    "\n",
    "Stock volatility refers to the degree of variation in the price of a stock over time. It is a measure of how much the price of a stock fluctuates from its average price. Volatility is often considered a measure of risk, as higher volatility implies greater potential for large price swings, both up and down, while lower volatility suggests more stable and predictable price movements.\n",
    "\n",
    "Histograms are a graphical representation of the distribution of data, often used in finance to analyze the frequency and magnitude of price movements"
   ]
  },
  {
   "cell_type": "code",
   "execution_count": 25,
   "metadata": {},
   "outputs": [],
   "source": [
    "v = VolatilityAnalysis(featurename='daily_return')"
   ]
  },
  {
   "cell_type": "code",
   "execution_count": 26,
   "metadata": {},
   "outputs": [
    {
     "data": {
      "application/vnd.plotly.v1+json": {
       "config": {
        "plotlyServerURL": "https://plot.ly"
       },
       "data": [
        {
         "alignmentgroup": "True",
         "bingroup": "x",
         "hovertemplate": "daily_return=%{x}<br>count=%{y}<extra></extra>",
         "legendgroup": "",
         "marker": {
          "color": "#636efa",
          "pattern": {
           "shape": ""
          }
         },
         "name": "",
         "nbinsx": 30,
         "offsetgroup": "",
         "orientation": "v",
         "showlegend": false,
         "type": "histogram",
         "x": [
          null,
          0.015300062378597712,
          0.0009965316953159942,
          -0.0010709500614800582,
          -0.03006570406634046,
          0.03375330881331817,
          -0.01010556623556269,
          0.012871168476804584,
          0.0016973704270426548,
          0.012056353363449679,
          -0.009653835680050404,
          0.013302235546733376,
          0.003433600172862983,
          -0.004985286619499596,
          -0.0029646485355168117,
          0.015402424440749796,
          0.006266738914415537,
          -0.0019061631095367293,
          -0.005452361847260834,
          0.006625559041907536,
          -0.021828016990003807,
          0.014782537756798275,
          0.015271248341099719,
          0.0063287553012043585,
          -0.006418169244473693,
          0.0036416145074633643,
          0.01369320981581601,
          0.005894639180440642,
          -0.0009320040301649124,
          -0.015589887560606974,
          0.005082775841089182,
          0.005871296863542375,
          0.010622958825940332,
          -0.015991932853282598,
          -0.003955672686214329,
          -0.010409254054278505,
          -0.014329256100534149,
          0.003601339971607276,
          -0.003910646859045408,
          -0.020173717444797012,
          -0.005702576790020508,
          0.021990055980165124,
          -0.01897676346951871,
          0.00623220169670935,
          0.008886576966518955,
          0.005501255714119857,
          -0.015794444451858847,
          -0.0017532440627531232,
          -0.01472532930968029,
          -0.020414753476065806,
          -0.004992212252097894,
          -0.004345064423145639,
          -0.0017898719670912389,
          -0.011323184609893677,
          -0.011834656452360481,
          0.007952051696995532,
          -0.0019643398252496835,
          -0.0013282273410328838,
          0.0005767871681932046,
          -0.002049634518878962,
          0.0073815116754401,
          0.021345039144971434,
          -0.0018403835236628918,
          0.012437382407285424,
          -0.005895404120443759,
          0.013258072739142035,
          -0.015198898726311416,
          0.008665639505079037,
          -0.0162878869537314,
          -0.015475866803126959,
          -0.0027869737422187013,
          -0.013143743074216507,
          0.00491958534400494,
          0.01805283482044362,
          0.004413275279646189,
          0.00037792167781081076,
          0.006974227611118655,
          -0.0031893916355517637,
          0.009818393314825036,
          0.000046461042845002964,
          -0.012269283814044796,
          0.012830467300506188,
          0.0031049326914656117,
          0.0061596758474864455,
          0.010044436147504054,
          0.0010810790117927738,
          -0.0014147453049278003,
          -0.0023916553767594495,
          -0.005879196217857041,
          0.0009524404539371645,
          -0.01517732884382228,
          -0.002758048951236325,
          0.00718785304997871,
          0.023534896440137842,
          -0.0005001339685383188,
          0.0019108074835156863,
          -0.0029818165048992595,
          0.010748447598684763,
          -0.0025684488639448055,
          -0.0012498665643091433,
          -0.008051408945398464,
          0.010488017395230198,
          -0.005535527100200444,
          -0.005051964519365626,
          -0.01720946098448728,
          0.013179382939058737,
          -0.011740733627749744,
          -0.00838875792727678,
          0.011715814540255387,
          -0.0009854897874178592,
          0.002266018304375006,
          -0.0033312634235812544,
          -0.012871912841796118,
          0.011181371543118157,
          0.005388769739508303,
          0.009449396565352819,
          -0.006046286011514357,
          -0.006839529365426755,
          -0.008301287939346702,
          0.002413979017830137,
          0.005660804960112786,
          0.02699488974417208,
          -0.00906976088736644,
          0.011169660541661575,
          0.00335463503327893,
          0.0008884468241916466,
          0.001911157137275632,
          -0.017211149263174796,
          0.00013757472236819446,
          -0.0038198421646341574,
          0.02474001847131424,
          0.05211707674151089,
          -0.006529820348296411,
          0.001474964514025956,
          -0.007664013856805374,
          0.0006500420801576201,
          -0.02743041163474813,
          0.007852526744452915,
          0.0012961504332134055,
          -0.0031919585721909005,
          0.002538107232331166,
          -0.012216984487763316,
          0.019684725455581198,
          0.008943620725422985,
          -0.003302445526987552,
          -0.011829156872388169,
          0.012823755184998342,
          0.01176115941660294,
          -0.003860575265359656,
          -0.0023337839554988804,
          -0.005891701627134371,
          0.0019464739545864695,
          0.0003044545108230601,
          0.002478323506560187,
          -0.0065492268934461695,
          -0.01998111572251915,
          0.01026099442151196,
          -0.005732537993346165,
          0.004760421152273153,
          -0.0030899068340835,
          -0.001903871111540112,
          -0.0017006039149587426,
          0.0001776860920819079,
          0.004383791272887239,
          -0.01007088082280938,
          0.006672940434716779,
          0.011629992272007117,
          0.0031738908672520605,
          0.00016038413233410154,
          0.007390926529144526,
          -0.0038637267424243005,
          0.01125833297480927,
          0.028773420787433057,
          -0.0036164965174348973,
          -0.0021862560097277717,
          0.010744319547401071,
          0.0021814497234282637,
          -0.00002767461144259631,
          -0.005754200963544842,
          0.005118131361438127,
          -0.007353776520360733,
          0.002390266946537656,
          0.0010040502105617133,
          -0.014640851492485951,
          -0.002304277825002643,
          -0.004180145679843705,
          0.006801711204100336,
          0.014585458438914456,
          0.008929150887874382,
          0.004680611233893073,
          -0.0025974063284862625,
          -0.0052357047867096496,
          -0.01865709508604141,
          0.0079886808345917,
          -0.01310609759786363,
          -0.004824034465702232,
          -0.005645836136416893,
          -0.006497472000022819,
          0.011256932141907372,
          -0.024151905172211663,
          -0.0058794301182014674,
          -0.01573710862069122,
          0.004255680036542087,
          0.008236463682399942,
          -0.002900717435295519,
          -0.011309749519303969,
          0.008842134227769805,
          -0.0027380853615084355,
          0.00875884637112656,
          -0.002899185255433645,
          0.003293391894633846,
          -0.01008419005246608,
          -0.004182381495483223,
          -0.0005698971012917387,
          0.021836755845483946,
          0.027479918565920247,
          0.0013150215342760951,
          0.004896682063798785,
          -0.002670777261915891,
          0.005683351465294306,
          -0.00620365043794302,
          -0.014579931111192823,
          0.0037748630111462678,
          0.012564241687879285,
          -0.007442135951795659,
          0.006895861074075915,
          0.00022768694451835714,
          0.005452147225996518,
          0.020528945521486097,
          0.0029964770422308273,
          0.0032643307946764732,
          0.004466912017603075,
          0.0080156152951667,
          -0.02139108213912444,
          0.02050903153783401,
          0.052832483464084756,
          -0.00046624761387237257,
          -0.011142160900228792,
          -0.009472799639327234,
          0.001970861173476779,
          0.009636991997508337,
          -0.007439834291826264,
          0.004123201482665095,
          -0.0029649559171067708,
          -0.0017105629499577502,
          0.004666056479143865,
          -0.007320809960511765,
          -0.02417261844224783,
          -0.006758338709154654,
          0.019390135215228366,
          -0.015944618094536622,
          0.0031535371526074663,
          0.006273994356963852,
          0.006059719130036001,
          0.0394184972085434,
          0.0054084609764561975,
          -0.0108867987851754,
          0.006034197234412453,
          0.004633703066367234,
          0.01504666969266144,
          -0.021506244881520753,
          -0.004263617273490561,
          -0.008199270738588504,
          -0.002440786496255787,
          -0.00011831080769231228,
          0.004051974496453115
         ],
         "xaxis": "x",
         "yaxis": "y"
        }
       ],
       "layout": {
        "barmode": "relative",
        "legend": {
         "tracegroupgap": 0
        },
        "template": {
         "data": {
          "bar": [
           {
            "error_x": {
             "color": "#2a3f5f"
            },
            "error_y": {
             "color": "#2a3f5f"
            },
            "marker": {
             "line": {
              "color": "#E5ECF6",
              "width": 0.5
             },
             "pattern": {
              "fillmode": "overlay",
              "size": 10,
              "solidity": 0.2
             }
            },
            "type": "bar"
           }
          ],
          "barpolar": [
           {
            "marker": {
             "line": {
              "color": "#E5ECF6",
              "width": 0.5
             },
             "pattern": {
              "fillmode": "overlay",
              "size": 10,
              "solidity": 0.2
             }
            },
            "type": "barpolar"
           }
          ],
          "carpet": [
           {
            "aaxis": {
             "endlinecolor": "#2a3f5f",
             "gridcolor": "white",
             "linecolor": "white",
             "minorgridcolor": "white",
             "startlinecolor": "#2a3f5f"
            },
            "baxis": {
             "endlinecolor": "#2a3f5f",
             "gridcolor": "white",
             "linecolor": "white",
             "minorgridcolor": "white",
             "startlinecolor": "#2a3f5f"
            },
            "type": "carpet"
           }
          ],
          "choropleth": [
           {
            "colorbar": {
             "outlinewidth": 0,
             "ticks": ""
            },
            "type": "choropleth"
           }
          ],
          "contour": [
           {
            "colorbar": {
             "outlinewidth": 0,
             "ticks": ""
            },
            "colorscale": [
             [
              0,
              "#0d0887"
             ],
             [
              0.1111111111111111,
              "#46039f"
             ],
             [
              0.2222222222222222,
              "#7201a8"
             ],
             [
              0.3333333333333333,
              "#9c179e"
             ],
             [
              0.4444444444444444,
              "#bd3786"
             ],
             [
              0.5555555555555556,
              "#d8576b"
             ],
             [
              0.6666666666666666,
              "#ed7953"
             ],
             [
              0.7777777777777778,
              "#fb9f3a"
             ],
             [
              0.8888888888888888,
              "#fdca26"
             ],
             [
              1,
              "#f0f921"
             ]
            ],
            "type": "contour"
           }
          ],
          "contourcarpet": [
           {
            "colorbar": {
             "outlinewidth": 0,
             "ticks": ""
            },
            "type": "contourcarpet"
           }
          ],
          "heatmap": [
           {
            "colorbar": {
             "outlinewidth": 0,
             "ticks": ""
            },
            "colorscale": [
             [
              0,
              "#0d0887"
             ],
             [
              0.1111111111111111,
              "#46039f"
             ],
             [
              0.2222222222222222,
              "#7201a8"
             ],
             [
              0.3333333333333333,
              "#9c179e"
             ],
             [
              0.4444444444444444,
              "#bd3786"
             ],
             [
              0.5555555555555556,
              "#d8576b"
             ],
             [
              0.6666666666666666,
              "#ed7953"
             ],
             [
              0.7777777777777778,
              "#fb9f3a"
             ],
             [
              0.8888888888888888,
              "#fdca26"
             ],
             [
              1,
              "#f0f921"
             ]
            ],
            "type": "heatmap"
           }
          ],
          "heatmapgl": [
           {
            "colorbar": {
             "outlinewidth": 0,
             "ticks": ""
            },
            "colorscale": [
             [
              0,
              "#0d0887"
             ],
             [
              0.1111111111111111,
              "#46039f"
             ],
             [
              0.2222222222222222,
              "#7201a8"
             ],
             [
              0.3333333333333333,
              "#9c179e"
             ],
             [
              0.4444444444444444,
              "#bd3786"
             ],
             [
              0.5555555555555556,
              "#d8576b"
             ],
             [
              0.6666666666666666,
              "#ed7953"
             ],
             [
              0.7777777777777778,
              "#fb9f3a"
             ],
             [
              0.8888888888888888,
              "#fdca26"
             ],
             [
              1,
              "#f0f921"
             ]
            ],
            "type": "heatmapgl"
           }
          ],
          "histogram": [
           {
            "marker": {
             "pattern": {
              "fillmode": "overlay",
              "size": 10,
              "solidity": 0.2
             }
            },
            "type": "histogram"
           }
          ],
          "histogram2d": [
           {
            "colorbar": {
             "outlinewidth": 0,
             "ticks": ""
            },
            "colorscale": [
             [
              0,
              "#0d0887"
             ],
             [
              0.1111111111111111,
              "#46039f"
             ],
             [
              0.2222222222222222,
              "#7201a8"
             ],
             [
              0.3333333333333333,
              "#9c179e"
             ],
             [
              0.4444444444444444,
              "#bd3786"
             ],
             [
              0.5555555555555556,
              "#d8576b"
             ],
             [
              0.6666666666666666,
              "#ed7953"
             ],
             [
              0.7777777777777778,
              "#fb9f3a"
             ],
             [
              0.8888888888888888,
              "#fdca26"
             ],
             [
              1,
              "#f0f921"
             ]
            ],
            "type": "histogram2d"
           }
          ],
          "histogram2dcontour": [
           {
            "colorbar": {
             "outlinewidth": 0,
             "ticks": ""
            },
            "colorscale": [
             [
              0,
              "#0d0887"
             ],
             [
              0.1111111111111111,
              "#46039f"
             ],
             [
              0.2222222222222222,
              "#7201a8"
             ],
             [
              0.3333333333333333,
              "#9c179e"
             ],
             [
              0.4444444444444444,
              "#bd3786"
             ],
             [
              0.5555555555555556,
              "#d8576b"
             ],
             [
              0.6666666666666666,
              "#ed7953"
             ],
             [
              0.7777777777777778,
              "#fb9f3a"
             ],
             [
              0.8888888888888888,
              "#fdca26"
             ],
             [
              1,
              "#f0f921"
             ]
            ],
            "type": "histogram2dcontour"
           }
          ],
          "mesh3d": [
           {
            "colorbar": {
             "outlinewidth": 0,
             "ticks": ""
            },
            "type": "mesh3d"
           }
          ],
          "parcoords": [
           {
            "line": {
             "colorbar": {
              "outlinewidth": 0,
              "ticks": ""
             }
            },
            "type": "parcoords"
           }
          ],
          "pie": [
           {
            "automargin": true,
            "type": "pie"
           }
          ],
          "scatter": [
           {
            "fillpattern": {
             "fillmode": "overlay",
             "size": 10,
             "solidity": 0.2
            },
            "type": "scatter"
           }
          ],
          "scatter3d": [
           {
            "line": {
             "colorbar": {
              "outlinewidth": 0,
              "ticks": ""
             }
            },
            "marker": {
             "colorbar": {
              "outlinewidth": 0,
              "ticks": ""
             }
            },
            "type": "scatter3d"
           }
          ],
          "scattercarpet": [
           {
            "marker": {
             "colorbar": {
              "outlinewidth": 0,
              "ticks": ""
             }
            },
            "type": "scattercarpet"
           }
          ],
          "scattergeo": [
           {
            "marker": {
             "colorbar": {
              "outlinewidth": 0,
              "ticks": ""
             }
            },
            "type": "scattergeo"
           }
          ],
          "scattergl": [
           {
            "marker": {
             "colorbar": {
              "outlinewidth": 0,
              "ticks": ""
             }
            },
            "type": "scattergl"
           }
          ],
          "scattermapbox": [
           {
            "marker": {
             "colorbar": {
              "outlinewidth": 0,
              "ticks": ""
             }
            },
            "type": "scattermapbox"
           }
          ],
          "scatterpolar": [
           {
            "marker": {
             "colorbar": {
              "outlinewidth": 0,
              "ticks": ""
             }
            },
            "type": "scatterpolar"
           }
          ],
          "scatterpolargl": [
           {
            "marker": {
             "colorbar": {
              "outlinewidth": 0,
              "ticks": ""
             }
            },
            "type": "scatterpolargl"
           }
          ],
          "scatterternary": [
           {
            "marker": {
             "colorbar": {
              "outlinewidth": 0,
              "ticks": ""
             }
            },
            "type": "scatterternary"
           }
          ],
          "surface": [
           {
            "colorbar": {
             "outlinewidth": 0,
             "ticks": ""
            },
            "colorscale": [
             [
              0,
              "#0d0887"
             ],
             [
              0.1111111111111111,
              "#46039f"
             ],
             [
              0.2222222222222222,
              "#7201a8"
             ],
             [
              0.3333333333333333,
              "#9c179e"
             ],
             [
              0.4444444444444444,
              "#bd3786"
             ],
             [
              0.5555555555555556,
              "#d8576b"
             ],
             [
              0.6666666666666666,
              "#ed7953"
             ],
             [
              0.7777777777777778,
              "#fb9f3a"
             ],
             [
              0.8888888888888888,
              "#fdca26"
             ],
             [
              1,
              "#f0f921"
             ]
            ],
            "type": "surface"
           }
          ],
          "table": [
           {
            "cells": {
             "fill": {
              "color": "#EBF0F8"
             },
             "line": {
              "color": "white"
             }
            },
            "header": {
             "fill": {
              "color": "#C8D4E3"
             },
             "line": {
              "color": "white"
             }
            },
            "type": "table"
           }
          ]
         },
         "layout": {
          "annotationdefaults": {
           "arrowcolor": "#2a3f5f",
           "arrowhead": 0,
           "arrowwidth": 1
          },
          "autotypenumbers": "strict",
          "coloraxis": {
           "colorbar": {
            "outlinewidth": 0,
            "ticks": ""
           }
          },
          "colorscale": {
           "diverging": [
            [
             0,
             "#8e0152"
            ],
            [
             0.1,
             "#c51b7d"
            ],
            [
             0.2,
             "#de77ae"
            ],
            [
             0.3,
             "#f1b6da"
            ],
            [
             0.4,
             "#fde0ef"
            ],
            [
             0.5,
             "#f7f7f7"
            ],
            [
             0.6,
             "#e6f5d0"
            ],
            [
             0.7,
             "#b8e186"
            ],
            [
             0.8,
             "#7fbc41"
            ],
            [
             0.9,
             "#4d9221"
            ],
            [
             1,
             "#276419"
            ]
           ],
           "sequential": [
            [
             0,
             "#0d0887"
            ],
            [
             0.1111111111111111,
             "#46039f"
            ],
            [
             0.2222222222222222,
             "#7201a8"
            ],
            [
             0.3333333333333333,
             "#9c179e"
            ],
            [
             0.4444444444444444,
             "#bd3786"
            ],
            [
             0.5555555555555556,
             "#d8576b"
            ],
            [
             0.6666666666666666,
             "#ed7953"
            ],
            [
             0.7777777777777778,
             "#fb9f3a"
            ],
            [
             0.8888888888888888,
             "#fdca26"
            ],
            [
             1,
             "#f0f921"
            ]
           ],
           "sequentialminus": [
            [
             0,
             "#0d0887"
            ],
            [
             0.1111111111111111,
             "#46039f"
            ],
            [
             0.2222222222222222,
             "#7201a8"
            ],
            [
             0.3333333333333333,
             "#9c179e"
            ],
            [
             0.4444444444444444,
             "#bd3786"
            ],
            [
             0.5555555555555556,
             "#d8576b"
            ],
            [
             0.6666666666666666,
             "#ed7953"
            ],
            [
             0.7777777777777778,
             "#fb9f3a"
            ],
            [
             0.8888888888888888,
             "#fdca26"
            ],
            [
             1,
             "#f0f921"
            ]
           ]
          },
          "colorway": [
           "#636efa",
           "#EF553B",
           "#00cc96",
           "#ab63fa",
           "#FFA15A",
           "#19d3f3",
           "#FF6692",
           "#B6E880",
           "#FF97FF",
           "#FECB52"
          ],
          "font": {
           "color": "#2a3f5f"
          },
          "geo": {
           "bgcolor": "white",
           "lakecolor": "white",
           "landcolor": "#E5ECF6",
           "showlakes": true,
           "showland": true,
           "subunitcolor": "white"
          },
          "hoverlabel": {
           "align": "left"
          },
          "hovermode": "closest",
          "mapbox": {
           "style": "light"
          },
          "paper_bgcolor": "white",
          "plot_bgcolor": "#E5ECF6",
          "polar": {
           "angularaxis": {
            "gridcolor": "white",
            "linecolor": "white",
            "ticks": ""
           },
           "bgcolor": "#E5ECF6",
           "radialaxis": {
            "gridcolor": "white",
            "linecolor": "white",
            "ticks": ""
           }
          },
          "scene": {
           "xaxis": {
            "backgroundcolor": "#E5ECF6",
            "gridcolor": "white",
            "gridwidth": 2,
            "linecolor": "white",
            "showbackground": true,
            "ticks": "",
            "zerolinecolor": "white"
           },
           "yaxis": {
            "backgroundcolor": "#E5ECF6",
            "gridcolor": "white",
            "gridwidth": 2,
            "linecolor": "white",
            "showbackground": true,
            "ticks": "",
            "zerolinecolor": "white"
           },
           "zaxis": {
            "backgroundcolor": "#E5ECF6",
            "gridcolor": "white",
            "gridwidth": 2,
            "linecolor": "white",
            "showbackground": true,
            "ticks": "",
            "zerolinecolor": "white"
           }
          },
          "shapedefaults": {
           "line": {
            "color": "#2a3f5f"
           }
          },
          "ternary": {
           "aaxis": {
            "gridcolor": "white",
            "linecolor": "white",
            "ticks": ""
           },
           "baxis": {
            "gridcolor": "white",
            "linecolor": "white",
            "ticks": ""
           },
           "bgcolor": "#E5ECF6",
           "caxis": {
            "gridcolor": "white",
            "linecolor": "white",
            "ticks": ""
           }
          },
          "title": {
           "x": 0.05
          },
          "xaxis": {
           "automargin": true,
           "gridcolor": "white",
           "linecolor": "white",
           "ticks": "",
           "title": {
            "standoff": 15
           },
           "zerolinecolor": "white",
           "zerolinewidth": 2
          },
          "yaxis": {
           "automargin": true,
           "gridcolor": "white",
           "linecolor": "white",
           "ticks": "",
           "title": {
            "standoff": 15
           },
           "zerolinecolor": "white",
           "zerolinewidth": 2
          }
         }
        },
        "title": {
         "text": "Histogram of Daily Return"
        },
        "xaxis": {
         "anchor": "y",
         "domain": [
          0,
          1
         ],
         "title": {
          "text": "daily_return"
         }
        },
        "yaxis": {
         "anchor": "x",
         "domain": [
          0,
          1
         ],
         "title": {
          "text": "count"
         }
        }
       }
      },
      "text/html": [
       "<div>                            <div id=\"d91ecec2-e767-41be-b5b8-045e13d17e9e\" class=\"plotly-graph-div\" style=\"height:525px; width:100%;\"></div>            <script type=\"text/javascript\">                require([\"plotly\"], function(Plotly) {                    window.PLOTLYENV=window.PLOTLYENV || {};                                    if (document.getElementById(\"d91ecec2-e767-41be-b5b8-045e13d17e9e\")) {                    Plotly.newPlot(                        \"d91ecec2-e767-41be-b5b8-045e13d17e9e\",                        [{\"alignmentgroup\":\"True\",\"bingroup\":\"x\",\"hovertemplate\":\"daily_return=%{x}\\u003cbr\\u003ecount=%{y}\\u003cextra\\u003e\\u003c\\u002fextra\\u003e\",\"legendgroup\":\"\",\"marker\":{\"color\":\"#636efa\",\"pattern\":{\"shape\":\"\"}},\"name\":\"\",\"nbinsx\":30,\"offsetgroup\":\"\",\"orientation\":\"v\",\"showlegend\":false,\"x\":[null,0.015300062378597712,0.0009965316953159942,-0.0010709500614800582,-0.03006570406634046,0.03375330881331817,-0.01010556623556269,0.012871168476804584,0.0016973704270426548,0.012056353363449679,-0.009653835680050404,0.013302235546733376,0.003433600172862983,-0.004985286619499596,-0.0029646485355168117,0.015402424440749796,0.006266738914415537,-0.0019061631095367293,-0.005452361847260834,0.006625559041907536,-0.021828016990003807,0.014782537756798275,0.015271248341099719,0.0063287553012043585,-0.006418169244473693,0.0036416145074633643,0.01369320981581601,0.005894639180440642,-0.0009320040301649124,-0.015589887560606974,0.005082775841089182,0.005871296863542375,0.010622958825940332,-0.015991932853282598,-0.003955672686214329,-0.010409254054278505,-0.014329256100534149,0.003601339971607276,-0.003910646859045408,-0.020173717444797012,-0.005702576790020508,0.021990055980165124,-0.01897676346951871,0.00623220169670935,0.008886576966518955,0.005501255714119857,-0.015794444451858847,-0.0017532440627531232,-0.01472532930968029,-0.020414753476065806,-0.004992212252097894,-0.004345064423145639,-0.0017898719670912389,-0.011323184609893677,-0.011834656452360481,0.007952051696995532,-0.0019643398252496835,-0.0013282273410328838,0.0005767871681932046,-0.002049634518878962,0.0073815116754401,0.021345039144971434,-0.0018403835236628918,0.012437382407285424,-0.005895404120443759,0.013258072739142035,-0.015198898726311416,0.008665639505079037,-0.0162878869537314,-0.015475866803126959,-0.0027869737422187013,-0.013143743074216507,0.00491958534400494,0.01805283482044362,0.004413275279646189,0.00037792167781081076,0.006974227611118655,-0.0031893916355517637,0.009818393314825036,0.000046461042845002964,-0.012269283814044796,0.012830467300506188,0.0031049326914656117,0.0061596758474864455,0.010044436147504054,0.0010810790117927738,-0.0014147453049278003,-0.0023916553767594495,-0.005879196217857041,0.0009524404539371645,-0.01517732884382228,-0.002758048951236325,0.00718785304997871,0.023534896440137842,-0.0005001339685383188,0.0019108074835156863,-0.0029818165048992595,0.010748447598684763,-0.0025684488639448055,-0.0012498665643091433,-0.008051408945398464,0.010488017395230198,-0.005535527100200444,-0.005051964519365626,-0.01720946098448728,0.013179382939058737,-0.011740733627749744,-0.00838875792727678,0.011715814540255387,-0.0009854897874178592,0.002266018304375006,-0.0033312634235812544,-0.012871912841796118,0.011181371543118157,0.005388769739508303,0.009449396565352819,-0.006046286011514357,-0.006839529365426755,-0.008301287939346702,0.002413979017830137,0.005660804960112786,0.02699488974417208,-0.00906976088736644,0.011169660541661575,0.00335463503327893,0.0008884468241916466,0.001911157137275632,-0.017211149263174796,0.00013757472236819446,-0.0038198421646341574,0.02474001847131424,0.05211707674151089,-0.006529820348296411,0.001474964514025956,-0.007664013856805374,0.0006500420801576201,-0.02743041163474813,0.007852526744452915,0.0012961504332134055,-0.0031919585721909005,0.002538107232331166,-0.012216984487763316,0.019684725455581198,0.008943620725422985,-0.003302445526987552,-0.011829156872388169,0.012823755184998342,0.01176115941660294,-0.003860575265359656,-0.0023337839554988804,-0.005891701627134371,0.0019464739545864695,0.0003044545108230601,0.002478323506560187,-0.0065492268934461695,-0.01998111572251915,0.01026099442151196,-0.005732537993346165,0.004760421152273153,-0.0030899068340835,-0.001903871111540112,-0.0017006039149587426,0.0001776860920819079,0.004383791272887239,-0.01007088082280938,0.006672940434716779,0.011629992272007117,0.0031738908672520605,0.00016038413233410154,0.007390926529144526,-0.0038637267424243005,0.01125833297480927,0.028773420787433057,-0.0036164965174348973,-0.0021862560097277717,0.010744319547401071,0.0021814497234282637,-0.00002767461144259631,-0.005754200963544842,0.005118131361438127,-0.007353776520360733,0.002390266946537656,0.0010040502105617133,-0.014640851492485951,-0.002304277825002643,-0.004180145679843705,0.006801711204100336,0.014585458438914456,0.008929150887874382,0.004680611233893073,-0.0025974063284862625,-0.0052357047867096496,-0.01865709508604141,0.0079886808345917,-0.01310609759786363,-0.004824034465702232,-0.005645836136416893,-0.006497472000022819,0.011256932141907372,-0.024151905172211663,-0.0058794301182014674,-0.01573710862069122,0.004255680036542087,0.008236463682399942,-0.002900717435295519,-0.011309749519303969,0.008842134227769805,-0.0027380853615084355,0.00875884637112656,-0.002899185255433645,0.003293391894633846,-0.01008419005246608,-0.004182381495483223,-0.0005698971012917387,0.021836755845483946,0.027479918565920247,0.0013150215342760951,0.004896682063798785,-0.002670777261915891,0.005683351465294306,-0.00620365043794302,-0.014579931111192823,0.0037748630111462678,0.012564241687879285,-0.007442135951795659,0.006895861074075915,0.00022768694451835714,0.005452147225996518,0.020528945521486097,0.0029964770422308273,0.0032643307946764732,0.004466912017603075,0.0080156152951667,-0.02139108213912444,0.02050903153783401,0.052832483464084756,-0.00046624761387237257,-0.011142160900228792,-0.009472799639327234,0.001970861173476779,0.009636991997508337,-0.007439834291826264,0.004123201482665095,-0.0029649559171067708,-0.0017105629499577502,0.004666056479143865,-0.007320809960511765,-0.02417261844224783,-0.006758338709154654,0.019390135215228366,-0.015944618094536622,0.0031535371526074663,0.006273994356963852,0.006059719130036001,0.0394184972085434,0.0054084609764561975,-0.0108867987851754,0.006034197234412453,0.004633703066367234,0.01504666969266144,-0.021506244881520753,-0.004263617273490561,-0.008199270738588504,-0.002440786496255787,-0.00011831080769231228,0.004051974496453115],\"xaxis\":\"x\",\"yaxis\":\"y\",\"type\":\"histogram\"}],                        {\"template\":{\"data\":{\"histogram2dcontour\":[{\"type\":\"histogram2dcontour\",\"colorbar\":{\"outlinewidth\":0,\"ticks\":\"\"},\"colorscale\":[[0.0,\"#0d0887\"],[0.1111111111111111,\"#46039f\"],[0.2222222222222222,\"#7201a8\"],[0.3333333333333333,\"#9c179e\"],[0.4444444444444444,\"#bd3786\"],[0.5555555555555556,\"#d8576b\"],[0.6666666666666666,\"#ed7953\"],[0.7777777777777778,\"#fb9f3a\"],[0.8888888888888888,\"#fdca26\"],[1.0,\"#f0f921\"]]}],\"choropleth\":[{\"type\":\"choropleth\",\"colorbar\":{\"outlinewidth\":0,\"ticks\":\"\"}}],\"histogram2d\":[{\"type\":\"histogram2d\",\"colorbar\":{\"outlinewidth\":0,\"ticks\":\"\"},\"colorscale\":[[0.0,\"#0d0887\"],[0.1111111111111111,\"#46039f\"],[0.2222222222222222,\"#7201a8\"],[0.3333333333333333,\"#9c179e\"],[0.4444444444444444,\"#bd3786\"],[0.5555555555555556,\"#d8576b\"],[0.6666666666666666,\"#ed7953\"],[0.7777777777777778,\"#fb9f3a\"],[0.8888888888888888,\"#fdca26\"],[1.0,\"#f0f921\"]]}],\"heatmap\":[{\"type\":\"heatmap\",\"colorbar\":{\"outlinewidth\":0,\"ticks\":\"\"},\"colorscale\":[[0.0,\"#0d0887\"],[0.1111111111111111,\"#46039f\"],[0.2222222222222222,\"#7201a8\"],[0.3333333333333333,\"#9c179e\"],[0.4444444444444444,\"#bd3786\"],[0.5555555555555556,\"#d8576b\"],[0.6666666666666666,\"#ed7953\"],[0.7777777777777778,\"#fb9f3a\"],[0.8888888888888888,\"#fdca26\"],[1.0,\"#f0f921\"]]}],\"heatmapgl\":[{\"type\":\"heatmapgl\",\"colorbar\":{\"outlinewidth\":0,\"ticks\":\"\"},\"colorscale\":[[0.0,\"#0d0887\"],[0.1111111111111111,\"#46039f\"],[0.2222222222222222,\"#7201a8\"],[0.3333333333333333,\"#9c179e\"],[0.4444444444444444,\"#bd3786\"],[0.5555555555555556,\"#d8576b\"],[0.6666666666666666,\"#ed7953\"],[0.7777777777777778,\"#fb9f3a\"],[0.8888888888888888,\"#fdca26\"],[1.0,\"#f0f921\"]]}],\"contourcarpet\":[{\"type\":\"contourcarpet\",\"colorbar\":{\"outlinewidth\":0,\"ticks\":\"\"}}],\"contour\":[{\"type\":\"contour\",\"colorbar\":{\"outlinewidth\":0,\"ticks\":\"\"},\"colorscale\":[[0.0,\"#0d0887\"],[0.1111111111111111,\"#46039f\"],[0.2222222222222222,\"#7201a8\"],[0.3333333333333333,\"#9c179e\"],[0.4444444444444444,\"#bd3786\"],[0.5555555555555556,\"#d8576b\"],[0.6666666666666666,\"#ed7953\"],[0.7777777777777778,\"#fb9f3a\"],[0.8888888888888888,\"#fdca26\"],[1.0,\"#f0f921\"]]}],\"surface\":[{\"type\":\"surface\",\"colorbar\":{\"outlinewidth\":0,\"ticks\":\"\"},\"colorscale\":[[0.0,\"#0d0887\"],[0.1111111111111111,\"#46039f\"],[0.2222222222222222,\"#7201a8\"],[0.3333333333333333,\"#9c179e\"],[0.4444444444444444,\"#bd3786\"],[0.5555555555555556,\"#d8576b\"],[0.6666666666666666,\"#ed7953\"],[0.7777777777777778,\"#fb9f3a\"],[0.8888888888888888,\"#fdca26\"],[1.0,\"#f0f921\"]]}],\"mesh3d\":[{\"type\":\"mesh3d\",\"colorbar\":{\"outlinewidth\":0,\"ticks\":\"\"}}],\"scatter\":[{\"fillpattern\":{\"fillmode\":\"overlay\",\"size\":10,\"solidity\":0.2},\"type\":\"scatter\"}],\"parcoords\":[{\"type\":\"parcoords\",\"line\":{\"colorbar\":{\"outlinewidth\":0,\"ticks\":\"\"}}}],\"scatterpolargl\":[{\"type\":\"scatterpolargl\",\"marker\":{\"colorbar\":{\"outlinewidth\":0,\"ticks\":\"\"}}}],\"bar\":[{\"error_x\":{\"color\":\"#2a3f5f\"},\"error_y\":{\"color\":\"#2a3f5f\"},\"marker\":{\"line\":{\"color\":\"#E5ECF6\",\"width\":0.5},\"pattern\":{\"fillmode\":\"overlay\",\"size\":10,\"solidity\":0.2}},\"type\":\"bar\"}],\"scattergeo\":[{\"type\":\"scattergeo\",\"marker\":{\"colorbar\":{\"outlinewidth\":0,\"ticks\":\"\"}}}],\"scatterpolar\":[{\"type\":\"scatterpolar\",\"marker\":{\"colorbar\":{\"outlinewidth\":0,\"ticks\":\"\"}}}],\"histogram\":[{\"marker\":{\"pattern\":{\"fillmode\":\"overlay\",\"size\":10,\"solidity\":0.2}},\"type\":\"histogram\"}],\"scattergl\":[{\"type\":\"scattergl\",\"marker\":{\"colorbar\":{\"outlinewidth\":0,\"ticks\":\"\"}}}],\"scatter3d\":[{\"type\":\"scatter3d\",\"line\":{\"colorbar\":{\"outlinewidth\":0,\"ticks\":\"\"}},\"marker\":{\"colorbar\":{\"outlinewidth\":0,\"ticks\":\"\"}}}],\"scattermapbox\":[{\"type\":\"scattermapbox\",\"marker\":{\"colorbar\":{\"outlinewidth\":0,\"ticks\":\"\"}}}],\"scatterternary\":[{\"type\":\"scatterternary\",\"marker\":{\"colorbar\":{\"outlinewidth\":0,\"ticks\":\"\"}}}],\"scattercarpet\":[{\"type\":\"scattercarpet\",\"marker\":{\"colorbar\":{\"outlinewidth\":0,\"ticks\":\"\"}}}],\"carpet\":[{\"aaxis\":{\"endlinecolor\":\"#2a3f5f\",\"gridcolor\":\"white\",\"linecolor\":\"white\",\"minorgridcolor\":\"white\",\"startlinecolor\":\"#2a3f5f\"},\"baxis\":{\"endlinecolor\":\"#2a3f5f\",\"gridcolor\":\"white\",\"linecolor\":\"white\",\"minorgridcolor\":\"white\",\"startlinecolor\":\"#2a3f5f\"},\"type\":\"carpet\"}],\"table\":[{\"cells\":{\"fill\":{\"color\":\"#EBF0F8\"},\"line\":{\"color\":\"white\"}},\"header\":{\"fill\":{\"color\":\"#C8D4E3\"},\"line\":{\"color\":\"white\"}},\"type\":\"table\"}],\"barpolar\":[{\"marker\":{\"line\":{\"color\":\"#E5ECF6\",\"width\":0.5},\"pattern\":{\"fillmode\":\"overlay\",\"size\":10,\"solidity\":0.2}},\"type\":\"barpolar\"}],\"pie\":[{\"automargin\":true,\"type\":\"pie\"}]},\"layout\":{\"autotypenumbers\":\"strict\",\"colorway\":[\"#636efa\",\"#EF553B\",\"#00cc96\",\"#ab63fa\",\"#FFA15A\",\"#19d3f3\",\"#FF6692\",\"#B6E880\",\"#FF97FF\",\"#FECB52\"],\"font\":{\"color\":\"#2a3f5f\"},\"hovermode\":\"closest\",\"hoverlabel\":{\"align\":\"left\"},\"paper_bgcolor\":\"white\",\"plot_bgcolor\":\"#E5ECF6\",\"polar\":{\"bgcolor\":\"#E5ECF6\",\"angularaxis\":{\"gridcolor\":\"white\",\"linecolor\":\"white\",\"ticks\":\"\"},\"radialaxis\":{\"gridcolor\":\"white\",\"linecolor\":\"white\",\"ticks\":\"\"}},\"ternary\":{\"bgcolor\":\"#E5ECF6\",\"aaxis\":{\"gridcolor\":\"white\",\"linecolor\":\"white\",\"ticks\":\"\"},\"baxis\":{\"gridcolor\":\"white\",\"linecolor\":\"white\",\"ticks\":\"\"},\"caxis\":{\"gridcolor\":\"white\",\"linecolor\":\"white\",\"ticks\":\"\"}},\"coloraxis\":{\"colorbar\":{\"outlinewidth\":0,\"ticks\":\"\"}},\"colorscale\":{\"sequential\":[[0.0,\"#0d0887\"],[0.1111111111111111,\"#46039f\"],[0.2222222222222222,\"#7201a8\"],[0.3333333333333333,\"#9c179e\"],[0.4444444444444444,\"#bd3786\"],[0.5555555555555556,\"#d8576b\"],[0.6666666666666666,\"#ed7953\"],[0.7777777777777778,\"#fb9f3a\"],[0.8888888888888888,\"#fdca26\"],[1.0,\"#f0f921\"]],\"sequentialminus\":[[0.0,\"#0d0887\"],[0.1111111111111111,\"#46039f\"],[0.2222222222222222,\"#7201a8\"],[0.3333333333333333,\"#9c179e\"],[0.4444444444444444,\"#bd3786\"],[0.5555555555555556,\"#d8576b\"],[0.6666666666666666,\"#ed7953\"],[0.7777777777777778,\"#fb9f3a\"],[0.8888888888888888,\"#fdca26\"],[1.0,\"#f0f921\"]],\"diverging\":[[0,\"#8e0152\"],[0.1,\"#c51b7d\"],[0.2,\"#de77ae\"],[0.3,\"#f1b6da\"],[0.4,\"#fde0ef\"],[0.5,\"#f7f7f7\"],[0.6,\"#e6f5d0\"],[0.7,\"#b8e186\"],[0.8,\"#7fbc41\"],[0.9,\"#4d9221\"],[1,\"#276419\"]]},\"xaxis\":{\"gridcolor\":\"white\",\"linecolor\":\"white\",\"ticks\":\"\",\"title\":{\"standoff\":15},\"zerolinecolor\":\"white\",\"automargin\":true,\"zerolinewidth\":2},\"yaxis\":{\"gridcolor\":\"white\",\"linecolor\":\"white\",\"ticks\":\"\",\"title\":{\"standoff\":15},\"zerolinecolor\":\"white\",\"automargin\":true,\"zerolinewidth\":2},\"scene\":{\"xaxis\":{\"backgroundcolor\":\"#E5ECF6\",\"gridcolor\":\"white\",\"linecolor\":\"white\",\"showbackground\":true,\"ticks\":\"\",\"zerolinecolor\":\"white\",\"gridwidth\":2},\"yaxis\":{\"backgroundcolor\":\"#E5ECF6\",\"gridcolor\":\"white\",\"linecolor\":\"white\",\"showbackground\":true,\"ticks\":\"\",\"zerolinecolor\":\"white\",\"gridwidth\":2},\"zaxis\":{\"backgroundcolor\":\"#E5ECF6\",\"gridcolor\":\"white\",\"linecolor\":\"white\",\"showbackground\":true,\"ticks\":\"\",\"zerolinecolor\":\"white\",\"gridwidth\":2}},\"shapedefaults\":{\"line\":{\"color\":\"#2a3f5f\"}},\"annotationdefaults\":{\"arrowcolor\":\"#2a3f5f\",\"arrowhead\":0,\"arrowwidth\":1},\"geo\":{\"bgcolor\":\"white\",\"landcolor\":\"#E5ECF6\",\"subunitcolor\":\"white\",\"showland\":true,\"showlakes\":true,\"lakecolor\":\"white\"},\"title\":{\"x\":0.05},\"mapbox\":{\"style\":\"light\"}}},\"xaxis\":{\"anchor\":\"y\",\"domain\":[0.0,1.0],\"title\":{\"text\":\"daily_return\"}},\"yaxis\":{\"anchor\":\"x\",\"domain\":[0.0,1.0],\"title\":{\"text\":\"count\"}},\"legend\":{\"tracegroupgap\":0},\"title\":{\"text\":\"Histogram of Daily Return\"},\"barmode\":\"relative\"},                        {\"responsive\": true}                    ).then(function(){\n",
       "                            \n",
       "var gd = document.getElementById('d91ecec2-e767-41be-b5b8-045e13d17e9e');\n",
       "var x = new MutationObserver(function (mutations, observer) {{\n",
       "        var display = window.getComputedStyle(gd).display;\n",
       "        if (!display || display === 'none') {{\n",
       "            console.log([gd, 'removed!']);\n",
       "            Plotly.purge(gd);\n",
       "            observer.disconnect();\n",
       "        }}\n",
       "}});\n",
       "\n",
       "// Listen for the removal of the full notebook cells\n",
       "var notebookContainer = gd.closest('#notebook-container');\n",
       "if (notebookContainer) {{\n",
       "    x.observe(notebookContainer, {childList: true});\n",
       "}}\n",
       "\n",
       "// Listen for the clearing of the current output cell\n",
       "var outputEl = gd.closest('.output');\n",
       "if (outputEl) {{\n",
       "    x.observe(outputEl, {childList: true});\n",
       "}}\n",
       "\n",
       "                        })                };                });            </script>        </div>"
      ]
     },
     "metadata": {},
     "output_type": "display_data"
    }
   ],
   "source": [
    "# normal distribution represents highly volatile stock movement\n",
    "v.volatility(dataframe=df,bins=30)"
   ]
  },
  {
   "cell_type": "code",
   "execution_count": 35,
   "metadata": {},
   "outputs": [],
   "source": []
  },
  {
   "cell_type": "code",
   "execution_count": 27,
   "metadata": {},
   "outputs": [],
   "source": [
    "annual_volatility = v.volatility_std(df=df,days=21)"
   ]
  },
  {
   "cell_type": "code",
   "execution_count": 28,
   "metadata": {},
   "outputs": [
    {
     "data": {
      "text/plain": [
       "5.341823357214479"
      ]
     },
     "execution_count": 28,
     "metadata": {},
     "output_type": "execute_result"
    }
   ],
   "source": [
    "annual_volatility"
   ]
  },
  {
   "cell_type": "code",
   "execution_count": 29,
   "metadata": {},
   "outputs": [],
   "source": [
    "var = v.volatility_VAR(df=df,confidence_level=0.05)"
   ]
  },
  {
   "cell_type": "code",
   "execution_count": 30,
   "metadata": {},
   "outputs": [
    {
     "data": {
      "text/plain": [
       "-1.7025146178336104"
      ]
     },
     "execution_count": 30,
     "metadata": {},
     "output_type": "execute_result"
    }
   ],
   "source": [
    "var"
   ]
  },
  {
   "cell_type": "code",
   "execution_count": 31,
   "metadata": {},
   "outputs": [
    {
     "data": {
      "text/html": [
       "<div>\n",
       "<style scoped>\n",
       "    .dataframe tbody tr th:only-of-type {\n",
       "        vertical-align: middle;\n",
       "    }\n",
       "\n",
       "    .dataframe tbody tr th {\n",
       "        vertical-align: top;\n",
       "    }\n",
       "\n",
       "    .dataframe thead th {\n",
       "        text-align: right;\n",
       "    }\n",
       "</style>\n",
       "<table border=\"1\" class=\"dataframe\">\n",
       "  <thead>\n",
       "    <tr style=\"text-align: right;\">\n",
       "      <th></th>\n",
       "      <th>Date</th>\n",
       "      <th>Open</th>\n",
       "      <th>High</th>\n",
       "      <th>Low</th>\n",
       "      <th>Close</th>\n",
       "      <th>Adj Close</th>\n",
       "      <th>Volume</th>\n",
       "    </tr>\n",
       "  </thead>\n",
       "  <tbody>\n",
       "    <tr>\n",
       "      <th>0</th>\n",
       "      <td>2023-01-02</td>\n",
       "      <td>18131.699219</td>\n",
       "      <td>18215.150391</td>\n",
       "      <td>18086.500000</td>\n",
       "      <td>18197.449219</td>\n",
       "      <td>18197.449219</td>\n",
       "      <td>256100</td>\n",
       "    </tr>\n",
       "    <tr>\n",
       "      <th>1</th>\n",
       "      <td>2023-01-03</td>\n",
       "      <td>18163.199219</td>\n",
       "      <td>18251.949219</td>\n",
       "      <td>18149.800781</td>\n",
       "      <td>18232.550781</td>\n",
       "      <td>18232.550781</td>\n",
       "      <td>208700</td>\n",
       "    </tr>\n",
       "    <tr>\n",
       "      <th>2</th>\n",
       "      <td>2023-01-04</td>\n",
       "      <td>18230.650391</td>\n",
       "      <td>18243.000000</td>\n",
       "      <td>18020.599609</td>\n",
       "      <td>18042.949219</td>\n",
       "      <td>18042.949219</td>\n",
       "      <td>235200</td>\n",
       "    </tr>\n",
       "    <tr>\n",
       "      <th>3</th>\n",
       "      <td>2023-01-05</td>\n",
       "      <td>18101.949219</td>\n",
       "      <td>18120.300781</td>\n",
       "      <td>17892.599609</td>\n",
       "      <td>17992.150391</td>\n",
       "      <td>17992.150391</td>\n",
       "      <td>269900</td>\n",
       "    </tr>\n",
       "    <tr>\n",
       "      <th>4</th>\n",
       "      <td>2023-01-06</td>\n",
       "      <td>18008.050781</td>\n",
       "      <td>18047.400391</td>\n",
       "      <td>17795.550781</td>\n",
       "      <td>17859.449219</td>\n",
       "      <td>17859.449219</td>\n",
       "      <td>238200</td>\n",
       "    </tr>\n",
       "    <tr>\n",
       "      <th>...</th>\n",
       "      <td>...</td>\n",
       "      <td>...</td>\n",
       "      <td>...</td>\n",
       "      <td>...</td>\n",
       "      <td>...</td>\n",
       "      <td>...</td>\n",
       "      <td>...</td>\n",
       "    </tr>\n",
       "    <tr>\n",
       "      <th>261</th>\n",
       "      <td>2024-01-24</td>\n",
       "      <td>21185.250000</td>\n",
       "      <td>21482.349609</td>\n",
       "      <td>21137.199219</td>\n",
       "      <td>21453.949219</td>\n",
       "      <td>21453.949219</td>\n",
       "      <td>407500</td>\n",
       "    </tr>\n",
       "    <tr>\n",
       "      <th>262</th>\n",
       "      <td>2024-01-25</td>\n",
       "      <td>21454.599609</td>\n",
       "      <td>21459.000000</td>\n",
       "      <td>21247.050781</td>\n",
       "      <td>21352.599609</td>\n",
       "      <td>21352.599609</td>\n",
       "      <td>418100</td>\n",
       "    </tr>\n",
       "    <tr>\n",
       "      <th>263</th>\n",
       "      <td>2024-01-29</td>\n",
       "      <td>21433.099609</td>\n",
       "      <td>21763.250000</td>\n",
       "      <td>21429.599609</td>\n",
       "      <td>21737.599609</td>\n",
       "      <td>21737.599609</td>\n",
       "      <td>376700</td>\n",
       "    </tr>\n",
       "    <tr>\n",
       "      <th>264</th>\n",
       "      <td>2024-01-30</td>\n",
       "      <td>21775.750000</td>\n",
       "      <td>21813.050781</td>\n",
       "      <td>21501.800781</td>\n",
       "      <td>21522.099609</td>\n",
       "      <td>21522.099609</td>\n",
       "      <td>375100</td>\n",
       "    </tr>\n",
       "    <tr>\n",
       "      <th>265</th>\n",
       "      <td>2024-01-31</td>\n",
       "      <td>21487.250000</td>\n",
       "      <td>21741.349609</td>\n",
       "      <td>21448.849609</td>\n",
       "      <td>21725.699219</td>\n",
       "      <td>21725.699219</td>\n",
       "      <td>410600</td>\n",
       "    </tr>\n",
       "  </tbody>\n",
       "</table>\n",
       "<p>266 rows × 7 columns</p>\n",
       "</div>"
      ],
      "text/plain": [
       "          Date          Open          High           Low         Close  \\\n",
       "0   2023-01-02  18131.699219  18215.150391  18086.500000  18197.449219   \n",
       "1   2023-01-03  18163.199219  18251.949219  18149.800781  18232.550781   \n",
       "2   2023-01-04  18230.650391  18243.000000  18020.599609  18042.949219   \n",
       "3   2023-01-05  18101.949219  18120.300781  17892.599609  17992.150391   \n",
       "4   2023-01-06  18008.050781  18047.400391  17795.550781  17859.449219   \n",
       "..         ...           ...           ...           ...           ...   \n",
       "261 2024-01-24  21185.250000  21482.349609  21137.199219  21453.949219   \n",
       "262 2024-01-25  21454.599609  21459.000000  21247.050781  21352.599609   \n",
       "263 2024-01-29  21433.099609  21763.250000  21429.599609  21737.599609   \n",
       "264 2024-01-30  21775.750000  21813.050781  21501.800781  21522.099609   \n",
       "265 2024-01-31  21487.250000  21741.349609  21448.849609  21725.699219   \n",
       "\n",
       "        Adj Close  Volume  \n",
       "0    18197.449219  256100  \n",
       "1    18232.550781  208700  \n",
       "2    18042.949219  235200  \n",
       "3    17992.150391  269900  \n",
       "4    17859.449219  238200  \n",
       "..            ...     ...  \n",
       "261  21453.949219  407500  \n",
       "262  21352.599609  418100  \n",
       "263  21737.599609  376700  \n",
       "264  21522.099609  375100  \n",
       "265  21725.699219  410600  \n",
       "\n",
       "[266 rows x 7 columns]"
      ]
     },
     "execution_count": 31,
     "metadata": {},
     "output_type": "execute_result"
    }
   ],
   "source": [
    "market_data"
   ]
  },
  {
   "cell_type": "code",
   "execution_count": 32,
   "metadata": {},
   "outputs": [],
   "source": [
    "market_returns = r.daily_return_analysis(data=market_data,days=1)"
   ]
  },
  {
   "cell_type": "code",
   "execution_count": 33,
   "metadata": {},
   "outputs": [
    {
     "data": {
      "text/html": [
       "<div>\n",
       "<style scoped>\n",
       "    .dataframe tbody tr th:only-of-type {\n",
       "        vertical-align: middle;\n",
       "    }\n",
       "\n",
       "    .dataframe tbody tr th {\n",
       "        vertical-align: top;\n",
       "    }\n",
       "\n",
       "    .dataframe thead th {\n",
       "        text-align: right;\n",
       "    }\n",
       "</style>\n",
       "<table border=\"1\" class=\"dataframe\">\n",
       "  <thead>\n",
       "    <tr style=\"text-align: right;\">\n",
       "      <th></th>\n",
       "      <th>Date</th>\n",
       "      <th>Open</th>\n",
       "      <th>High</th>\n",
       "      <th>Low</th>\n",
       "      <th>Close</th>\n",
       "      <th>Adj Close</th>\n",
       "      <th>Volume</th>\n",
       "      <th>daily_return</th>\n",
       "      <th>cum_return</th>\n",
       "    </tr>\n",
       "  </thead>\n",
       "  <tbody>\n",
       "    <tr>\n",
       "      <th>261</th>\n",
       "      <td>2024-01-24</td>\n",
       "      <td>3880.000000</td>\n",
       "      <td>3883.649902</td>\n",
       "      <td>3805.600098</td>\n",
       "      <td>3841.800049</td>\n",
       "      <td>3795.979980</td>\n",
       "      <td>2657709</td>\n",
       "      <td>-0.004264</td>\n",
       "      <td>1.201243</td>\n",
       "    </tr>\n",
       "    <tr>\n",
       "      <th>262</th>\n",
       "      <td>2024-01-25</td>\n",
       "      <td>3839.899902</td>\n",
       "      <td>3861.000000</td>\n",
       "      <td>3778.699951</td>\n",
       "      <td>3810.300049</td>\n",
       "      <td>3764.855713</td>\n",
       "      <td>2205154</td>\n",
       "      <td>-0.008199</td>\n",
       "      <td>1.191393</td>\n",
       "    </tr>\n",
       "    <tr>\n",
       "      <th>263</th>\n",
       "      <td>2024-01-29</td>\n",
       "      <td>3800.800049</td>\n",
       "      <td>3820.000000</td>\n",
       "      <td>3780.850098</td>\n",
       "      <td>3801.000000</td>\n",
       "      <td>3755.666504</td>\n",
       "      <td>1646747</td>\n",
       "      <td>-0.002441</td>\n",
       "      <td>1.188485</td>\n",
       "    </tr>\n",
       "    <tr>\n",
       "      <th>264</th>\n",
       "      <td>2024-01-30</td>\n",
       "      <td>3807.449951</td>\n",
       "      <td>3847.800049</td>\n",
       "      <td>3787.000000</td>\n",
       "      <td>3800.550049</td>\n",
       "      <td>3755.222168</td>\n",
       "      <td>1411621</td>\n",
       "      <td>-0.000118</td>\n",
       "      <td>1.188345</td>\n",
       "    </tr>\n",
       "    <tr>\n",
       "      <th>265</th>\n",
       "      <td>2024-01-31</td>\n",
       "      <td>3811.199951</td>\n",
       "      <td>3834.000000</td>\n",
       "      <td>3796.449951</td>\n",
       "      <td>3815.949951</td>\n",
       "      <td>3770.438232</td>\n",
       "      <td>2459358</td>\n",
       "      <td>0.004052</td>\n",
       "      <td>1.193160</td>\n",
       "    </tr>\n",
       "  </tbody>\n",
       "</table>\n",
       "</div>"
      ],
      "text/plain": [
       "          Date         Open         High          Low        Close  \\\n",
       "261 2024-01-24  3880.000000  3883.649902  3805.600098  3841.800049   \n",
       "262 2024-01-25  3839.899902  3861.000000  3778.699951  3810.300049   \n",
       "263 2024-01-29  3800.800049  3820.000000  3780.850098  3801.000000   \n",
       "264 2024-01-30  3807.449951  3847.800049  3787.000000  3800.550049   \n",
       "265 2024-01-31  3811.199951  3834.000000  3796.449951  3815.949951   \n",
       "\n",
       "       Adj Close   Volume  daily_return  cum_return  \n",
       "261  3795.979980  2657709     -0.004264    1.201243  \n",
       "262  3764.855713  2205154     -0.008199    1.191393  \n",
       "263  3755.666504  1646747     -0.002441    1.188485  \n",
       "264  3755.222168  1411621     -0.000118    1.188345  \n",
       "265  3770.438232  2459358      0.004052    1.193160  "
      ]
     },
     "execution_count": 33,
     "metadata": {},
     "output_type": "execute_result"
    }
   ],
   "source": [
    "df.tail()"
   ]
  },
  {
   "cell_type": "code",
   "execution_count": 34,
   "metadata": {},
   "outputs": [
    {
     "data": {
      "text/html": [
       "<div>\n",
       "<style scoped>\n",
       "    .dataframe tbody tr th:only-of-type {\n",
       "        vertical-align: middle;\n",
       "    }\n",
       "\n",
       "    .dataframe tbody tr th {\n",
       "        vertical-align: top;\n",
       "    }\n",
       "\n",
       "    .dataframe thead th {\n",
       "        text-align: right;\n",
       "    }\n",
       "</style>\n",
       "<table border=\"1\" class=\"dataframe\">\n",
       "  <thead>\n",
       "    <tr style=\"text-align: right;\">\n",
       "      <th></th>\n",
       "      <th>Date</th>\n",
       "      <th>Open</th>\n",
       "      <th>High</th>\n",
       "      <th>Low</th>\n",
       "      <th>Close</th>\n",
       "      <th>Adj Close</th>\n",
       "      <th>Volume</th>\n",
       "      <th>daily_return</th>\n",
       "    </tr>\n",
       "  </thead>\n",
       "  <tbody>\n",
       "    <tr>\n",
       "      <th>0</th>\n",
       "      <td>2023-01-02</td>\n",
       "      <td>18131.699219</td>\n",
       "      <td>18215.150391</td>\n",
       "      <td>18086.500000</td>\n",
       "      <td>18197.449219</td>\n",
       "      <td>18197.449219</td>\n",
       "      <td>256100</td>\n",
       "      <td>NaN</td>\n",
       "    </tr>\n",
       "    <tr>\n",
       "      <th>1</th>\n",
       "      <td>2023-01-03</td>\n",
       "      <td>18163.199219</td>\n",
       "      <td>18251.949219</td>\n",
       "      <td>18149.800781</td>\n",
       "      <td>18232.550781</td>\n",
       "      <td>18232.550781</td>\n",
       "      <td>208700</td>\n",
       "      <td>0.001929</td>\n",
       "    </tr>\n",
       "    <tr>\n",
       "      <th>2</th>\n",
       "      <td>2023-01-04</td>\n",
       "      <td>18230.650391</td>\n",
       "      <td>18243.000000</td>\n",
       "      <td>18020.599609</td>\n",
       "      <td>18042.949219</td>\n",
       "      <td>18042.949219</td>\n",
       "      <td>235200</td>\n",
       "      <td>-0.010399</td>\n",
       "    </tr>\n",
       "    <tr>\n",
       "      <th>3</th>\n",
       "      <td>2023-01-05</td>\n",
       "      <td>18101.949219</td>\n",
       "      <td>18120.300781</td>\n",
       "      <td>17892.599609</td>\n",
       "      <td>17992.150391</td>\n",
       "      <td>17992.150391</td>\n",
       "      <td>269900</td>\n",
       "      <td>-0.002815</td>\n",
       "    </tr>\n",
       "    <tr>\n",
       "      <th>4</th>\n",
       "      <td>2023-01-06</td>\n",
       "      <td>18008.050781</td>\n",
       "      <td>18047.400391</td>\n",
       "      <td>17795.550781</td>\n",
       "      <td>17859.449219</td>\n",
       "      <td>17859.449219</td>\n",
       "      <td>238200</td>\n",
       "      <td>-0.007376</td>\n",
       "    </tr>\n",
       "    <tr>\n",
       "      <th>...</th>\n",
       "      <td>...</td>\n",
       "      <td>...</td>\n",
       "      <td>...</td>\n",
       "      <td>...</td>\n",
       "      <td>...</td>\n",
       "      <td>...</td>\n",
       "      <td>...</td>\n",
       "      <td>...</td>\n",
       "    </tr>\n",
       "    <tr>\n",
       "      <th>261</th>\n",
       "      <td>2024-01-24</td>\n",
       "      <td>21185.250000</td>\n",
       "      <td>21482.349609</td>\n",
       "      <td>21137.199219</td>\n",
       "      <td>21453.949219</td>\n",
       "      <td>21453.949219</td>\n",
       "      <td>407500</td>\n",
       "      <td>0.010130</td>\n",
       "    </tr>\n",
       "    <tr>\n",
       "      <th>262</th>\n",
       "      <td>2024-01-25</td>\n",
       "      <td>21454.599609</td>\n",
       "      <td>21459.000000</td>\n",
       "      <td>21247.050781</td>\n",
       "      <td>21352.599609</td>\n",
       "      <td>21352.599609</td>\n",
       "      <td>418100</td>\n",
       "      <td>-0.004724</td>\n",
       "    </tr>\n",
       "    <tr>\n",
       "      <th>263</th>\n",
       "      <td>2024-01-29</td>\n",
       "      <td>21433.099609</td>\n",
       "      <td>21763.250000</td>\n",
       "      <td>21429.599609</td>\n",
       "      <td>21737.599609</td>\n",
       "      <td>21737.599609</td>\n",
       "      <td>376700</td>\n",
       "      <td>0.018031</td>\n",
       "    </tr>\n",
       "    <tr>\n",
       "      <th>264</th>\n",
       "      <td>2024-01-30</td>\n",
       "      <td>21775.750000</td>\n",
       "      <td>21813.050781</td>\n",
       "      <td>21501.800781</td>\n",
       "      <td>21522.099609</td>\n",
       "      <td>21522.099609</td>\n",
       "      <td>375100</td>\n",
       "      <td>-0.009914</td>\n",
       "    </tr>\n",
       "    <tr>\n",
       "      <th>265</th>\n",
       "      <td>2024-01-31</td>\n",
       "      <td>21487.250000</td>\n",
       "      <td>21741.349609</td>\n",
       "      <td>21448.849609</td>\n",
       "      <td>21725.699219</td>\n",
       "      <td>21725.699219</td>\n",
       "      <td>410600</td>\n",
       "      <td>0.009460</td>\n",
       "    </tr>\n",
       "  </tbody>\n",
       "</table>\n",
       "<p>266 rows × 8 columns</p>\n",
       "</div>"
      ],
      "text/plain": [
       "          Date          Open          High           Low         Close  \\\n",
       "0   2023-01-02  18131.699219  18215.150391  18086.500000  18197.449219   \n",
       "1   2023-01-03  18163.199219  18251.949219  18149.800781  18232.550781   \n",
       "2   2023-01-04  18230.650391  18243.000000  18020.599609  18042.949219   \n",
       "3   2023-01-05  18101.949219  18120.300781  17892.599609  17992.150391   \n",
       "4   2023-01-06  18008.050781  18047.400391  17795.550781  17859.449219   \n",
       "..         ...           ...           ...           ...           ...   \n",
       "261 2024-01-24  21185.250000  21482.349609  21137.199219  21453.949219   \n",
       "262 2024-01-25  21454.599609  21459.000000  21247.050781  21352.599609   \n",
       "263 2024-01-29  21433.099609  21763.250000  21429.599609  21737.599609   \n",
       "264 2024-01-30  21775.750000  21813.050781  21501.800781  21522.099609   \n",
       "265 2024-01-31  21487.250000  21741.349609  21448.849609  21725.699219   \n",
       "\n",
       "        Adj Close  Volume  daily_return  \n",
       "0    18197.449219  256100           NaN  \n",
       "1    18232.550781  208700      0.001929  \n",
       "2    18042.949219  235200     -0.010399  \n",
       "3    17992.150391  269900     -0.002815  \n",
       "4    17859.449219  238200     -0.007376  \n",
       "..            ...     ...           ...  \n",
       "261  21453.949219  407500      0.010130  \n",
       "262  21352.599609  418100     -0.004724  \n",
       "263  21737.599609  376700      0.018031  \n",
       "264  21522.099609  375100     -0.009914  \n",
       "265  21725.699219  410600      0.009460  \n",
       "\n",
       "[266 rows x 8 columns]"
      ]
     },
     "execution_count": 34,
     "metadata": {},
     "output_type": "execute_result"
    }
   ],
   "source": [
    "market_returns"
   ]
  },
  {
   "cell_type": "code",
   "execution_count": 35,
   "metadata": {},
   "outputs": [
    {
     "name": "stdout",
     "output_type": "stream",
     "text": [
      "0.9166380415021115\n"
     ]
    }
   ],
   "source": [
    "beta = v.beta_analysis(df=df,market_df=market_returns)\n",
    "print(beta)"
   ]
  },
  {
   "cell_type": "code",
   "execution_count": 36,
   "metadata": {},
   "outputs": [
    {
     "data": {
      "text/html": [
       "<div>\n",
       "<style scoped>\n",
       "    .dataframe tbody tr th:only-of-type {\n",
       "        vertical-align: middle;\n",
       "    }\n",
       "\n",
       "    .dataframe tbody tr th {\n",
       "        vertical-align: top;\n",
       "    }\n",
       "\n",
       "    .dataframe thead th {\n",
       "        text-align: right;\n",
       "    }\n",
       "</style>\n",
       "<table border=\"1\" class=\"dataframe\">\n",
       "  <thead>\n",
       "    <tr style=\"text-align: right;\">\n",
       "      <th></th>\n",
       "      <th>Date</th>\n",
       "      <th>Open</th>\n",
       "      <th>High</th>\n",
       "      <th>Low</th>\n",
       "      <th>Close</th>\n",
       "      <th>Adj Close</th>\n",
       "      <th>Volume</th>\n",
       "      <th>daily_return</th>\n",
       "      <th>cum_return</th>\n",
       "    </tr>\n",
       "  </thead>\n",
       "  <tbody>\n",
       "    <tr>\n",
       "      <th>0</th>\n",
       "      <td>2023-01-02</td>\n",
       "      <td>3261.000000</td>\n",
       "      <td>3266.850098</td>\n",
       "      <td>3235.199951</td>\n",
       "      <td>3261.449951</td>\n",
       "      <td>3160.044434</td>\n",
       "      <td>709547</td>\n",
       "      <td>NaN</td>\n",
       "      <td>NaN</td>\n",
       "    </tr>\n",
       "    <tr>\n",
       "      <th>1</th>\n",
       "      <td>2023-01-03</td>\n",
       "      <td>3252.000000</td>\n",
       "      <td>3320.000000</td>\n",
       "      <td>3245.300049</td>\n",
       "      <td>3311.350098</td>\n",
       "      <td>3208.393311</td>\n",
       "      <td>1245178</td>\n",
       "      <td>0.015300</td>\n",
       "      <td>1.015300</td>\n",
       "    </tr>\n",
       "    <tr>\n",
       "      <th>2</th>\n",
       "      <td>2023-01-04</td>\n",
       "      <td>3306.699951</td>\n",
       "      <td>3327.350098</td>\n",
       "      <td>3286.199951</td>\n",
       "      <td>3314.649902</td>\n",
       "      <td>3211.590576</td>\n",
       "      <td>1231668</td>\n",
       "      <td>0.000997</td>\n",
       "      <td>1.016312</td>\n",
       "    </tr>\n",
       "    <tr>\n",
       "      <th>3</th>\n",
       "      <td>2023-01-05</td>\n",
       "      <td>3330.199951</td>\n",
       "      <td>3337.300049</td>\n",
       "      <td>3281.949951</td>\n",
       "      <td>3311.100098</td>\n",
       "      <td>3208.151123</td>\n",
       "      <td>1826057</td>\n",
       "      <td>-0.001071</td>\n",
       "      <td>1.015223</td>\n",
       "    </tr>\n",
       "    <tr>\n",
       "      <th>4</th>\n",
       "      <td>2023-01-06</td>\n",
       "      <td>3300.000000</td>\n",
       "      <td>3301.550049</td>\n",
       "      <td>3200.000000</td>\n",
       "      <td>3211.550049</td>\n",
       "      <td>3111.695801</td>\n",
       "      <td>2488376</td>\n",
       "      <td>-0.030066</td>\n",
       "      <td>0.984700</td>\n",
       "    </tr>\n",
       "    <tr>\n",
       "      <th>...</th>\n",
       "      <td>...</td>\n",
       "      <td>...</td>\n",
       "      <td>...</td>\n",
       "      <td>...</td>\n",
       "      <td>...</td>\n",
       "      <td>...</td>\n",
       "      <td>...</td>\n",
       "      <td>...</td>\n",
       "      <td>...</td>\n",
       "    </tr>\n",
       "    <tr>\n",
       "      <th>261</th>\n",
       "      <td>2024-01-24</td>\n",
       "      <td>3880.000000</td>\n",
       "      <td>3883.649902</td>\n",
       "      <td>3805.600098</td>\n",
       "      <td>3841.800049</td>\n",
       "      <td>3795.979980</td>\n",
       "      <td>2657709</td>\n",
       "      <td>-0.004264</td>\n",
       "      <td>1.201243</td>\n",
       "    </tr>\n",
       "    <tr>\n",
       "      <th>262</th>\n",
       "      <td>2024-01-25</td>\n",
       "      <td>3839.899902</td>\n",
       "      <td>3861.000000</td>\n",
       "      <td>3778.699951</td>\n",
       "      <td>3810.300049</td>\n",
       "      <td>3764.855713</td>\n",
       "      <td>2205154</td>\n",
       "      <td>-0.008199</td>\n",
       "      <td>1.191393</td>\n",
       "    </tr>\n",
       "    <tr>\n",
       "      <th>263</th>\n",
       "      <td>2024-01-29</td>\n",
       "      <td>3800.800049</td>\n",
       "      <td>3820.000000</td>\n",
       "      <td>3780.850098</td>\n",
       "      <td>3801.000000</td>\n",
       "      <td>3755.666504</td>\n",
       "      <td>1646747</td>\n",
       "      <td>-0.002441</td>\n",
       "      <td>1.188485</td>\n",
       "    </tr>\n",
       "    <tr>\n",
       "      <th>264</th>\n",
       "      <td>2024-01-30</td>\n",
       "      <td>3807.449951</td>\n",
       "      <td>3847.800049</td>\n",
       "      <td>3787.000000</td>\n",
       "      <td>3800.550049</td>\n",
       "      <td>3755.222168</td>\n",
       "      <td>1411621</td>\n",
       "      <td>-0.000118</td>\n",
       "      <td>1.188345</td>\n",
       "    </tr>\n",
       "    <tr>\n",
       "      <th>265</th>\n",
       "      <td>2024-01-31</td>\n",
       "      <td>3811.199951</td>\n",
       "      <td>3834.000000</td>\n",
       "      <td>3796.449951</td>\n",
       "      <td>3815.949951</td>\n",
       "      <td>3770.438232</td>\n",
       "      <td>2459358</td>\n",
       "      <td>0.004052</td>\n",
       "      <td>1.193160</td>\n",
       "    </tr>\n",
       "  </tbody>\n",
       "</table>\n",
       "<p>266 rows × 9 columns</p>\n",
       "</div>"
      ],
      "text/plain": [
       "          Date         Open         High          Low        Close  \\\n",
       "0   2023-01-02  3261.000000  3266.850098  3235.199951  3261.449951   \n",
       "1   2023-01-03  3252.000000  3320.000000  3245.300049  3311.350098   \n",
       "2   2023-01-04  3306.699951  3327.350098  3286.199951  3314.649902   \n",
       "3   2023-01-05  3330.199951  3337.300049  3281.949951  3311.100098   \n",
       "4   2023-01-06  3300.000000  3301.550049  3200.000000  3211.550049   \n",
       "..         ...          ...          ...          ...          ...   \n",
       "261 2024-01-24  3880.000000  3883.649902  3805.600098  3841.800049   \n",
       "262 2024-01-25  3839.899902  3861.000000  3778.699951  3810.300049   \n",
       "263 2024-01-29  3800.800049  3820.000000  3780.850098  3801.000000   \n",
       "264 2024-01-30  3807.449951  3847.800049  3787.000000  3800.550049   \n",
       "265 2024-01-31  3811.199951  3834.000000  3796.449951  3815.949951   \n",
       "\n",
       "       Adj Close   Volume  daily_return  cum_return  \n",
       "0    3160.044434   709547           NaN         NaN  \n",
       "1    3208.393311  1245178      0.015300    1.015300  \n",
       "2    3211.590576  1231668      0.000997    1.016312  \n",
       "3    3208.151123  1826057     -0.001071    1.015223  \n",
       "4    3111.695801  2488376     -0.030066    0.984700  \n",
       "..           ...      ...           ...         ...  \n",
       "261  3795.979980  2657709     -0.004264    1.201243  \n",
       "262  3764.855713  2205154     -0.008199    1.191393  \n",
       "263  3755.666504  1646747     -0.002441    1.188485  \n",
       "264  3755.222168  1411621     -0.000118    1.188345  \n",
       "265  3770.438232  2459358      0.004052    1.193160  \n",
       "\n",
       "[266 rows x 9 columns]"
      ]
     },
     "execution_count": 36,
     "metadata": {},
     "output_type": "execute_result"
    }
   ],
   "source": [
    "df"
   ]
  },
  {
   "cell_type": "code",
   "execution_count": 37,
   "metadata": {},
   "outputs": [],
   "source": [
    "m = MovinAverageAnalysis(dataframe=df,featurename='Close')"
   ]
  },
  {
   "cell_type": "markdown",
   "metadata": {},
   "source": [
    "# Simple Moving Average\n",
    "\n",
    "SMA gives equal weight to each data point in the period, providing a smoother trend line but lagging behind recent price movements."
   ]
  },
  {
   "cell_type": "code",
   "execution_count": 38,
   "metadata": {},
   "outputs": [],
   "source": [
    "# SMA over 40 period of timeframe\n",
    "sma = m.simple_moving_average(windowsize=5)"
   ]
  },
  {
   "cell_type": "markdown",
   "metadata": {},
   "source": [
    "# Exponential Moving Average\n",
    "\n",
    "EMA gives more weight to recent data points, reacting faster to price changes but potentially being more prone to noise"
   ]
  },
  {
   "cell_type": "code",
   "execution_count": 39,
   "metadata": {},
   "outputs": [],
   "source": [
    "# EMA over 40 period of time\n",
    "ema = m.exponential_moving_average(windowsize=5)"
   ]
  },
  {
   "cell_type": "code",
   "execution_count": 40,
   "metadata": {},
   "outputs": [
    {
     "data": {
      "text/html": [
       "<div>\n",
       "<style scoped>\n",
       "    .dataframe tbody tr th:only-of-type {\n",
       "        vertical-align: middle;\n",
       "    }\n",
       "\n",
       "    .dataframe tbody tr th {\n",
       "        vertical-align: top;\n",
       "    }\n",
       "\n",
       "    .dataframe thead th {\n",
       "        text-align: right;\n",
       "    }\n",
       "</style>\n",
       "<table border=\"1\" class=\"dataframe\">\n",
       "  <thead>\n",
       "    <tr style=\"text-align: right;\">\n",
       "      <th></th>\n",
       "      <th>Date</th>\n",
       "      <th>Open</th>\n",
       "      <th>High</th>\n",
       "      <th>Low</th>\n",
       "      <th>Close</th>\n",
       "      <th>Adj Close</th>\n",
       "      <th>Volume</th>\n",
       "      <th>daily_return</th>\n",
       "      <th>cum_return</th>\n",
       "      <th>SIMPLE_MA_5</th>\n",
       "      <th>EXPONENTIAL_MA_5</th>\n",
       "    </tr>\n",
       "  </thead>\n",
       "  <tbody>\n",
       "    <tr>\n",
       "      <th>0</th>\n",
       "      <td>2023-01-02</td>\n",
       "      <td>3261.000000</td>\n",
       "      <td>3266.850098</td>\n",
       "      <td>3235.199951</td>\n",
       "      <td>3261.449951</td>\n",
       "      <td>3160.044434</td>\n",
       "      <td>709547</td>\n",
       "      <td>NaN</td>\n",
       "      <td>NaN</td>\n",
       "      <td>NaN</td>\n",
       "      <td>NaN</td>\n",
       "    </tr>\n",
       "    <tr>\n",
       "      <th>1</th>\n",
       "      <td>2023-01-03</td>\n",
       "      <td>3252.000000</td>\n",
       "      <td>3320.000000</td>\n",
       "      <td>3245.300049</td>\n",
       "      <td>3311.350098</td>\n",
       "      <td>3208.393311</td>\n",
       "      <td>1245178</td>\n",
       "      <td>0.015300</td>\n",
       "      <td>1.015300</td>\n",
       "      <td>NaN</td>\n",
       "      <td>NaN</td>\n",
       "    </tr>\n",
       "    <tr>\n",
       "      <th>2</th>\n",
       "      <td>2023-01-04</td>\n",
       "      <td>3306.699951</td>\n",
       "      <td>3327.350098</td>\n",
       "      <td>3286.199951</td>\n",
       "      <td>3314.649902</td>\n",
       "      <td>3211.590576</td>\n",
       "      <td>1231668</td>\n",
       "      <td>0.000997</td>\n",
       "      <td>1.016312</td>\n",
       "      <td>NaN</td>\n",
       "      <td>NaN</td>\n",
       "    </tr>\n",
       "    <tr>\n",
       "      <th>3</th>\n",
       "      <td>2023-01-05</td>\n",
       "      <td>3330.199951</td>\n",
       "      <td>3337.300049</td>\n",
       "      <td>3281.949951</td>\n",
       "      <td>3311.100098</td>\n",
       "      <td>3208.151123</td>\n",
       "      <td>1826057</td>\n",
       "      <td>-0.001071</td>\n",
       "      <td>1.015223</td>\n",
       "      <td>NaN</td>\n",
       "      <td>NaN</td>\n",
       "    </tr>\n",
       "    <tr>\n",
       "      <th>4</th>\n",
       "      <td>2023-01-06</td>\n",
       "      <td>3300.000000</td>\n",
       "      <td>3301.550049</td>\n",
       "      <td>3200.000000</td>\n",
       "      <td>3211.550049</td>\n",
       "      <td>3111.695801</td>\n",
       "      <td>2488376</td>\n",
       "      <td>-0.030066</td>\n",
       "      <td>0.984700</td>\n",
       "      <td>3282.020020</td>\n",
       "      <td>3268.659900</td>\n",
       "    </tr>\n",
       "    <tr>\n",
       "      <th>...</th>\n",
       "      <td>...</td>\n",
       "      <td>...</td>\n",
       "      <td>...</td>\n",
       "      <td>...</td>\n",
       "      <td>...</td>\n",
       "      <td>...</td>\n",
       "      <td>...</td>\n",
       "      <td>...</td>\n",
       "      <td>...</td>\n",
       "      <td>...</td>\n",
       "      <td>...</td>\n",
       "    </tr>\n",
       "    <tr>\n",
       "      <th>261</th>\n",
       "      <td>2024-01-24</td>\n",
       "      <td>3880.000000</td>\n",
       "      <td>3883.649902</td>\n",
       "      <td>3805.600098</td>\n",
       "      <td>3841.800049</td>\n",
       "      <td>3795.979980</td>\n",
       "      <td>2657709</td>\n",
       "      <td>-0.004264</td>\n",
       "      <td>1.201243</td>\n",
       "      <td>3886.060059</td>\n",
       "      <td>3867.899986</td>\n",
       "    </tr>\n",
       "    <tr>\n",
       "      <th>262</th>\n",
       "      <td>2024-01-25</td>\n",
       "      <td>3839.899902</td>\n",
       "      <td>3861.000000</td>\n",
       "      <td>3778.699951</td>\n",
       "      <td>3810.300049</td>\n",
       "      <td>3764.855713</td>\n",
       "      <td>2205154</td>\n",
       "      <td>-0.008199</td>\n",
       "      <td>1.191393</td>\n",
       "      <td>3871.200049</td>\n",
       "      <td>3848.700007</td>\n",
       "    </tr>\n",
       "    <tr>\n",
       "      <th>263</th>\n",
       "      <td>2024-01-29</td>\n",
       "      <td>3800.800049</td>\n",
       "      <td>3820.000000</td>\n",
       "      <td>3780.850098</td>\n",
       "      <td>3801.000000</td>\n",
       "      <td>3755.666504</td>\n",
       "      <td>1646747</td>\n",
       "      <td>-0.002441</td>\n",
       "      <td>1.188485</td>\n",
       "      <td>3850.880029</td>\n",
       "      <td>3832.800005</td>\n",
       "    </tr>\n",
       "    <tr>\n",
       "      <th>264</th>\n",
       "      <td>2024-01-30</td>\n",
       "      <td>3807.449951</td>\n",
       "      <td>3847.800049</td>\n",
       "      <td>3787.000000</td>\n",
       "      <td>3800.550049</td>\n",
       "      <td>3755.222168</td>\n",
       "      <td>1411621</td>\n",
       "      <td>-0.000118</td>\n",
       "      <td>1.188345</td>\n",
       "      <td>3822.380029</td>\n",
       "      <td>3822.050019</td>\n",
       "    </tr>\n",
       "    <tr>\n",
       "      <th>265</th>\n",
       "      <td>2024-01-31</td>\n",
       "      <td>3811.199951</td>\n",
       "      <td>3834.000000</td>\n",
       "      <td>3796.449951</td>\n",
       "      <td>3815.949951</td>\n",
       "      <td>3770.438232</td>\n",
       "      <td>2459358</td>\n",
       "      <td>0.004052</td>\n",
       "      <td>1.193160</td>\n",
       "      <td>3813.920020</td>\n",
       "      <td>3820.016663</td>\n",
       "    </tr>\n",
       "  </tbody>\n",
       "</table>\n",
       "<p>266 rows × 11 columns</p>\n",
       "</div>"
      ],
      "text/plain": [
       "          Date         Open         High          Low        Close  \\\n",
       "0   2023-01-02  3261.000000  3266.850098  3235.199951  3261.449951   \n",
       "1   2023-01-03  3252.000000  3320.000000  3245.300049  3311.350098   \n",
       "2   2023-01-04  3306.699951  3327.350098  3286.199951  3314.649902   \n",
       "3   2023-01-05  3330.199951  3337.300049  3281.949951  3311.100098   \n",
       "4   2023-01-06  3300.000000  3301.550049  3200.000000  3211.550049   \n",
       "..         ...          ...          ...          ...          ...   \n",
       "261 2024-01-24  3880.000000  3883.649902  3805.600098  3841.800049   \n",
       "262 2024-01-25  3839.899902  3861.000000  3778.699951  3810.300049   \n",
       "263 2024-01-29  3800.800049  3820.000000  3780.850098  3801.000000   \n",
       "264 2024-01-30  3807.449951  3847.800049  3787.000000  3800.550049   \n",
       "265 2024-01-31  3811.199951  3834.000000  3796.449951  3815.949951   \n",
       "\n",
       "       Adj Close   Volume  daily_return  cum_return  SIMPLE_MA_5  \\\n",
       "0    3160.044434   709547           NaN         NaN          NaN   \n",
       "1    3208.393311  1245178      0.015300    1.015300          NaN   \n",
       "2    3211.590576  1231668      0.000997    1.016312          NaN   \n",
       "3    3208.151123  1826057     -0.001071    1.015223          NaN   \n",
       "4    3111.695801  2488376     -0.030066    0.984700  3282.020020   \n",
       "..           ...      ...           ...         ...          ...   \n",
       "261  3795.979980  2657709     -0.004264    1.201243  3886.060059   \n",
       "262  3764.855713  2205154     -0.008199    1.191393  3871.200049   \n",
       "263  3755.666504  1646747     -0.002441    1.188485  3850.880029   \n",
       "264  3755.222168  1411621     -0.000118    1.188345  3822.380029   \n",
       "265  3770.438232  2459358      0.004052    1.193160  3813.920020   \n",
       "\n",
       "     EXPONENTIAL_MA_5  \n",
       "0                 NaN  \n",
       "1                 NaN  \n",
       "2                 NaN  \n",
       "3                 NaN  \n",
       "4         3268.659900  \n",
       "..                ...  \n",
       "261       3867.899986  \n",
       "262       3848.700007  \n",
       "263       3832.800005  \n",
       "264       3822.050019  \n",
       "265       3820.016663  \n",
       "\n",
       "[266 rows x 11 columns]"
      ]
     },
     "execution_count": 40,
     "metadata": {},
     "output_type": "execute_result"
    }
   ],
   "source": [
    "ema"
   ]
  },
  {
   "cell_type": "code",
   "execution_count": 41,
   "metadata": {},
   "outputs": [
    {
     "data": {
      "application/vnd.plotly.v1+json": {
       "config": {
        "plotlyServerURL": "https://plot.ly"
       },
       "data": [
        {
         "close": [
          3261.449951171875,
          3311.35009765625,
          3314.64990234375,
          3311.10009765625,
          3211.550048828125,
          3319.949951171875,
          3286.39990234375,
          3328.699951171875,
          3334.35009765625,
          3374.550048828125,
          3334.050048828125,
          3378.39990234375,
          3390,
          3373.10009765625,
          3363.10009765625,
          3414.89990234375,
          3436.300048828125,
          3429.75,
          3411.050048828125,
          3433.64990234375,
          3358.699951171875,
          3408.35009765625,
          3460.39990234375,
          3482.300048828125,
          3459.949951171875,
          3472.550048828125,
          3520.10009765625,
          3540.85009765625,
          3537.550048828125,
          3482.39990234375,
          3500.10009765625,
          3520.64990234375,
          3558.050048828125,
          3501.14990234375,
          3487.300048828125,
          3451,
          3401.550048828125,
          3413.800048828125,
          3400.449951171875,
          3331.85009765625,
          3312.85009765625,
          3385.699951171875,
          3321.449951171875,
          3342.14990234375,
          3371.85009765625,
          3390.39990234375,
          3336.85009765625,
          3331,
          3281.949951171875,
          3214.949951171875,
          3198.89990234375,
          3185,
          3179.300048828125,
          3143.300048828125,
          3106.10009765625,
          3130.800048828125,
          3124.64990234375,
          3120.5,
          3122.300048828125,
          3115.89990234375,
          3138.89990234375,
          3205.89990234375,
          3200,
          3239.800048828125,
          3220.699951171875,
          3263.39990234375,
          3213.800048828125,
          3241.64990234375,
          3188.85009765625,
          3139.5,
          3130.75,
          3089.60009765625,
          3104.800048828125,
          3160.85009765625,
          3174.800048828125,
          3176,
          3198.14990234375,
          3187.949951171875,
          3219.25,
          3219.39990234375,
          3179.89990234375,
          3220.699951171875,
          3230.699951171875,
          3250.60009765625,
          3283.25,
          3286.800048828125,
          3282.14990234375,
          3274.300048828125,
          3255.050048828125,
          3258.14990234375,
          3208.699951171875,
          3199.85009765625,
          3222.85009765625,
          3298.699951171875,
          3297.050048828125,
          3303.35009765625,
          3293.5,
          3328.89990234375,
          3320.35009765625,
          3316.199951171875,
          3289.5,
          3324,
          3305.60009765625,
          3288.89990234375,
          3232.300048828125,
          3274.89990234375,
          3236.449951171875,
          3209.300048828125,
          3246.89990234375,
          3243.699951171875,
          3251.050048828125,
          3216.300048828125,
          3174.89990234375,
          3210.39990234375,
          3227.699951171875,
          3258.199951171875,
          3238.5,
          3216.35009765625,
          3189.64990234375,
          3197.35009765625,
          3215.449951171875,
          3302.25,
          3272.300048828125,
          3308.85009765625,
          3319.949951171875,
          3322.89990234375,
          3329.25,
          3271.949951171875,
          3272.39990234375,
          3259.89990234375,
          3340.550048828125,
          3514.64990234375,
          3491.699951171875,
          3496.85009765625,
          3470.050048828125,
          3463.300048828125,
          3368.300048828125,
          3394.75,
          3399.14990234375,
          3388.300048828125,
          3396.89990234375,
          3355.39990234375,
          3421.449951171875,
          3452.050048828125,
          3440.64990234375,
          3399.949951171875,
          3443.550048828125,
          3484.050048828125,
          3470.60009765625,
          3462.5,
          3442.10009765625,
          3448.800048828125,
          3449.85009765625,
          3458.39990234375,
          3435.75,
          3367.10009765625,
          3401.64990234375,
          3382.14990234375,
          3398.25,
          3387.75,
          3381.300048828125,
          3375.550048828125,
          3376.14990234375,
          3390.949951171875,
          3356.800048828125,
          3379.199951171875,
          3418.5,
          3429.35009765625,
          3429.89990234375,
          3455.25,
          3441.89990234375,
          3480.64990234375,
          3580.800048828125,
          3567.85009765625,
          3560.050048828125,
          3598.300048828125,
          3606.14990234375,
          3606.050048828125,
          3585.300048828125,
          3603.64990234375,
          3577.14990234375,
          3585.699951171875,
          3589.300048828125,
          3536.75,
          3528.60009765625,
          3513.85009765625,
          3537.75,
          3589.35009765625,
          3621.39990234375,
          3638.35009765625,
          3628.89990234375,
          3609.89990234375,
          3542.550048828125,
          3570.85009765625,
          3524.050048828125,
          3507.050048828125,
          3487.25,
          3455.64990234375,
          3494.550048828125,
          3410.14990234375,
          3390.10009765625,
          3336.75,
          3350.949951171875,
          3378.550048828125,
          3368.75,
          3330.64990234375,
          3360.10009765625,
          3350.89990234375,
          3380.25,
          3370.449951171875,
          3381.550048828125,
          3347.449951171875,
          3333.449951171875,
          3331.550048828125,
          3404.300048828125,
          3497.85009765625,
          3502.449951171875,
          3519.60009765625,
          3510.199951171875,
          3530.14990234375,
          3508.25,
          3457.10009765625,
          3470.14990234375,
          3513.75,
          3487.60009765625,
          3511.64990234375,
          3512.449951171875,
          3531.60009765625,
          3604.10009765625,
          3614.89990234375,
          3626.699951171875,
          3642.89990234375,
          3672.10009765625,
          3593.550048828125,
          3667.25,
          3861,
          3859.199951171875,
          3816.199951171875,
          3780.050048828125,
          3787.5,
          3824,
          3795.550048828125,
          3811.199951171875,
          3799.89990234375,
          3793.39990234375,
          3811.10009765625,
          3783.199951171875,
          3691.75,
          3666.800048828125,
          3737.89990234375,
          3678.300048828125,
          3689.89990234375,
          3713.050048828125,
          3735.550048828125,
          3882.800048828125,
          3903.800048828125,
          3861.300048828125,
          3884.60009765625,
          3902.60009765625,
          3943.050048828125,
          3858.25,
          3841.800048828125,
          3810.300048828125,
          3801,
          3800.550048828125,
          3815.949951171875
         ],
         "high": [
          3266.85009765625,
          3320,
          3327.35009765625,
          3337.300048828125,
          3301.550048828125,
          3327,
          3298,
          3349.5,
          3350,
          3379,
          3353,
          3381.800048828125,
          3408.949951171875,
          3387,
          3394.64990234375,
          3419,
          3451.949951171875,
          3435,
          3446,
          3458.449951171875,
          3449,
          3419,
          3469,
          3504,
          3473.14990234375,
          3493,
          3539.89990234375,
          3547.60009765625,
          3542.35009765625,
          3549,
          3524.85009765625,
          3526,
          3575,
          3538.89990234375,
          3522,
          3508.89990234375,
          3447,
          3452.39990234375,
          3433.949951171875,
          3390,
          3392,
          3389,
          3369.89990234375,
          3358,
          3404.949951171875,
          3396,
          3385,
          3337.25,
          3369.800048828125,
          3304.39990234375,
          3260.35009765625,
          3219.800048828125,
          3221.39990234375,
          3169.64990234375,
          3156.75,
          3143.5,
          3146.35009765625,
          3170,
          3152.75,
          3149.550048828125,
          3150,
          3213,
          3224.949951171875,
          3264.35009765625,
          3257.35009765625,
          3272,
          3272.949951171875,
          3260.949951171875,
          3230,
          3163.39990234375,
          3156.85009765625,
          3140,
          3113,
          3164.449951171875,
          3180.949951171875,
          3191.199951171875,
          3208.39990234375,
          3199.199951171875,
          3227.25,
          3235,
          3216,
          3224.449951171875,
          3244,
          3254.85009765625,
          3298,
          3306.5,
          3309.699951171875,
          3290,
          3292,
          3285,
          3280,
          3228.949951171875,
          3234.5,
          3308.449951171875,
          3327.949951171875,
          3317.199951171875,
          3306,
          3338.64990234375,
          3372,
          3326.949951171875,
          3327.699951171875,
          3340,
          3335.89990234375,
          3327,
          3288.85009765625,
          3278.85009765625,
          3270,
          3250,
          3254.39990234375,
          3265,
          3255.85009765625,
          3247.449951171875,
          3199.39990234375,
          3214.89990234375,
          3232.5,
          3261.39990234375,
          3267.64990234375,
          3249.39990234375,
          3213.89990234375,
          3209.64990234375,
          3230.949951171875,
          3310,
          3318.800048828125,
          3315,
          3329,
          3328.449951171875,
          3356.89990234375,
          3324.75,
          3295,
          3289.14990234375,
          3367.449951171875,
          3524.85009765625,
          3549.89990234375,
          3524,
          3516.85009765625,
          3478.89990234375,
          3434.89990234375,
          3413.449951171875,
          3406.800048828125,
          3420.85009765625,
          3411.64990234375,
          3393.699951171875,
          3426.64990234375,
          3460,
          3446.39990234375,
          3433.25,
          3471,
          3488,
          3489.949951171875,
          3467,
          3464.89990234375,
          3466.64990234375,
          3455,
          3466,
          3460.800048828125,
          3410,
          3409.75,
          3411,
          3402,
          3413.050048828125,
          3385.800048828125,
          3394,
          3389.550048828125,
          3408.10009765625,
          3417.39990234375,
          3389,
          3432.85009765625,
          3447,
          3443.89990234375,
          3460,
          3465,
          3485.699951171875,
          3589.89990234375,
          3588.85009765625,
          3597.699951171875,
          3607.35009765625,
          3619.300048828125,
          3625,
          3605,
          3633.75,
          3620,
          3594.949951171875,
          3614,
          3602.800048828125,
          3568.449951171875,
          3534.199951171875,
          3548,
          3624,
          3634.949951171875,
          3679,
          3648,
          3650,
          3588.64990234375,
          3577,
          3574.64990234375,
          3534.14990234375,
          3522.699951171875,
          3476.85009765625,
          3499.5,
          3478.949951171875,
          3425,
          3373.699951171875,
          3362,
          3382.85009765625,
          3399,
          3371.60009765625,
          3375.949951171875,
          3387.89990234375,
          3392.300048828125,
          3404.14990234375,
          3401.949951171875,
          3391.5,
          3347.449951171875,
          3356,
          3413,
          3529.35009765625,
          3524.5,
          3533.89990234375,
          3539.050048828125,
          3532.64990234375,
          3544,
          3504.550048828125,
          3481.25,
          3518,
          3516.64990234375,
          3516.949951171875,
          3547.800048828125,
          3538,
          3612.85009765625,
          3630.550048828125,
          3645,
          3653,
          3698.39990234375,
          3650,
          3678,
          3895.949951171875,
          3929,
          3855.10009765625,
          3898.800048828125,
          3806.699951171875,
          3845.949951171875,
          3834,
          3818.199951171875,
          3838,
          3822.60009765625,
          3832,
          3811.10009765625,
          3771.85009765625,
          3719,
          3747.75,
          3739.75,
          3752.35009765625,
          3729.25,
          3773,
          3905.25,
          3965,
          3899,
          3909.949951171875,
          3908.800048828125,
          3963.550048828125,
          3933.89990234375,
          3883.64990234375,
          3861,
          3820,
          3847.800048828125,
          3834
         ],
         "low": [
          3235.199951171875,
          3245.300048828125,
          3286.199951171875,
          3281.949951171875,
          3200,
          3221.14990234375,
          3230.10009765625,
          3271.14990234375,
          3315.550048828125,
          3305,
          3298.050048828125,
          3321,
          3372.25,
          3361,
          3355.60009765625,
          3355.60009765625,
          3417.300048828125,
          3405,
          3382.300048828125,
          3385.550048828125,
          3351,
          3355,
          3420.10009765625,
          3452.89990234375,
          3436.85009765625,
          3461.39990234375,
          3478.050048828125,
          3505.300048828125,
          3508.14990234375,
          3473.39990234375,
          3495,
          3460.14990234375,
          3527,
          3490,
          3475.050048828125,
          3444.75,
          3395,
          3408,
          3382.300048828125,
          3316,
          3299.89990234375,
          3315,
          3318,
          3331.10009765625,
          3359,
          3330.85009765625,
          3330.85009765625,
          3290,
          3272,
          3209.39990234375,
          3192,
          3172,
          3144,
          3095.050048828125,
          3097.449951171875,
          3106.10009765625,
          3101,
          3106,
          3106,
          3110.14990234375,
          3104.10009765625,
          3152,
          3173.75,
          3185.5,
          3215,
          3215,
          3192.14990234375,
          3199,
          3180,
          3070.25,
          3110.60009765625,
          3071.5,
          3078,
          3100.800048828125,
          3126.14990234375,
          3147.5,
          3181,
          3170.64990234375,
          3196.25,
          3210,
          3173.14990234375,
          3178,
          3210.050048828125,
          3231.300048828125,
          3246,
          3266.050048828125,
          3272,
          3260,
          3248.35009765625,
          3250.449951171875,
          3198.25,
          3195,
          3203.050048828125,
          3217.050048828125,
          3290.10009765625,
          3276,
          3267.10009765625,
          3291,
          3312,
          3301.35009765625,
          3265.14990234375,
          3297.5,
          3297.449951171875,
          3285.050048828125,
          3220.60009765625,
          3241,
          3233,
          3205.35009765625,
          3211,
          3239,
          3225.85009765625,
          3210,
          3156,
          3175,
          3201.050048828125,
          3223.949951171875,
          3230.10009765625,
          3209.14990234375,
          3173,
          3182.300048828125,
          3193.39990234375,
          3214.10009765625,
          3268.75,
          3277.300048828125,
          3305,
          3302,
          3302,
          3265.199951171875,
          3260.800048828125,
          3250.10009765625,
          3272.75,
          3352,
          3477.050048828125,
          3465,
          3445.64990234375,
          3436.050048828125,
          3359.050048828125,
          3372.10009765625,
          3380.199951171875,
          3385,
          3385.050048828125,
          3331,
          3360.89990234375,
          3415,
          3413.60009765625,
          3368,
          3401.25,
          3441.25,
          3456.60009765625,
          3425.050048828125,
          3430.050048828125,
          3414,
          3411,
          3435.199951171875,
          3413.199951171875,
          3356.5,
          3372,
          3365.050048828125,
          3376,
          3378.10009765625,
          3350.25,
          3360.10009765625,
          3365,
          3383.050048828125,
          3343.64990234375,
          3356.800048828125,
          3370.050048828125,
          3405.14990234375,
          3398.10009765625,
          3422.300048828125,
          3435.050048828125,
          3445,
          3483,
          3545,
          3545.60009765625,
          3562.449951171875,
          3575.25,
          3580,
          3528,
          3565.050048828125,
          3558.64990234375,
          3536,
          3555.699951171875,
          3527.35009765625,
          3505.550048828125,
          3480.10009765625,
          3477.300048828125,
          3551.199951171875,
          3575.050048828125,
          3631,
          3601.35009765625,
          3605,
          3538.10009765625,
          3525,
          3519.10009765625,
          3503.35009765625,
          3484,
          3451.89990234375,
          3444.050048828125,
          3401.300048828125,
          3377.199951171875,
          3330,
          3337,
          3333.75,
          3350.050048828125,
          3311,
          3343.199951171875,
          3344.300048828125,
          3359,
          3366,
          3369.550048828125,
          3342.050048828125,
          3322.35009765625,
          3327,
          3356.050048828125,
          3414.199951171875,
          3492.550048828125,
          3491.25,
          3501,
          3481.10009765625,
          3500,
          3453,
          3433,
          3475.800048828125,
          3481,
          3490.050048828125,
          3498,
          3502.800048828125,
          3525.14990234375,
          3591.699951171875,
          3602.050048828125,
          3615,
          3631,
          3563,
          3627.60009765625,
          3666.699951171875,
          3830.14990234375,
          3790,
          3766.550048828125,
          3743.35009765625,
          3762,
          3790.14990234375,
          3768,
          3792.10009765625,
          3765.39990234375,
          3773,
          3767.25,
          3687.050048828125,
          3651,
          3674.85009765625,
          3672.39990234375,
          3682.75,
          3688,
          3707,
          3821.60009765625,
          3885,
          3855.550048828125,
          3812.550048828125,
          3862,
          3915.050048828125,
          3842.75,
          3805.60009765625,
          3778.699951171875,
          3780.85009765625,
          3787,
          3796.449951171875
         ],
         "name": "OHLC",
         "open": [
          3261,
          3252,
          3306.699951171875,
          3330.199951171875,
          3300,
          3229,
          3285,
          3290.10009765625,
          3329,
          3342.89990234375,
          3317,
          3330,
          3380,
          3380,
          3365,
          3388,
          3425,
          3425.300048828125,
          3426,
          3420,
          3449,
          3363,
          3427,
          3504,
          3473.14990234375,
          3468.89990234375,
          3478.050048828125,
          3515,
          3520,
          3549,
          3505,
          3487,
          3527.199951171875,
          3526.14990234375,
          3502,
          3494,
          3414.949951171875,
          3421,
          3422.5,
          3390,
          3328.5,
          3323,
          3361,
          3354,
          3361.89990234375,
          3364,
          3385,
          3312.89990234375,
          3333,
          3280,
          3250,
          3208,
          3150.5,
          3169.64990234375,
          3143.300048828125,
          3130.050048828125,
          3114.89990234375,
          3148.89990234375,
          3135,
          3127,
          3129,
          3189.949951171875,
          3224.949951171875,
          3185.5,
          3225,
          3220,
          3264,
          3227.949951171875,
          3210,
          3134.10009765625,
          3154.949951171875,
          3130.75,
          3090,
          3110,
          3151.10009765625,
          3183,
          3181,
          3185,
          3200.39990234375,
          3235,
          3216,
          3180.14990234375,
          3220,
          3245,
          3252.60009765625,
          3290,
          3309,
          3279.14990234375,
          3284,
          3256.199951171875,
          3255.949951171875,
          3225.949951171875,
          3210,
          3230,
          3306,
          3276,
          3294,
          3293.5,
          3360.800048828125,
          3315,
          3309,
          3314,
          3326.25,
          3315,
          3280,
          3253,
          3261,
          3245,
          3215,
          3260,
          3243.699951171875,
          3245.300048828125,
          3197,
          3190,
          3214,
          3250,
          3260,
          3237.300048828125,
          3205,
          3202,
          3208,
          3220,
          3314.300048828125,
          3290,
          3320,
          3306.550048828125,
          3302,
          3324.75,
          3295,
          3280.949951171875,
          3284,
          3365,
          3510,
          3476,
          3500,
          3453.10009765625,
          3404.050048828125,
          3381,
          3397.5,
          3400.35009765625,
          3394.949951171875,
          3385,
          3364.39990234375,
          3415,
          3434.949951171875,
          3420,
          3401.25,
          3453.949951171875,
          3484.050048828125,
          3464.89990234375,
          3450,
          3438.10009765625,
          3440.699951171875,
          3450,
          3455,
          3410,
          3375,
          3400,
          3388,
          3408,
          3375,
          3394,
          3381.050048828125,
          3398,
          3401,
          3366,
          3378,
          3420,
          3434,
          3430.800048828125,
          3455.25,
          3462,
          3492,
          3571.10009765625,
          3570.050048828125,
          3567.85009765625,
          3580.050048828125,
          3580,
          3588.550048828125,
          3584,
          3602.5,
          3567.60009765625,
          3590,
          3600,
          3537.199951171875,
          3534.199951171875,
          3486.300048828125,
          3554,
          3591,
          3645.050048828125,
          3640.050048828125,
          3650,
          3575,
          3530,
          3566,
          3530,
          3511,
          3469.5,
          3450.39990234375,
          3473,
          3390.5,
          3368.050048828125,
          3350,
          3350,
          3399,
          3355,
          3343.199951171875,
          3382,
          3375,
          3378,
          3371.449951171875,
          3390.10009765625,
          3338,
          3356,
          3383.10009765625,
          3430.050048828125,
          3497.85009765625,
          3491.25,
          3519.60009765625,
          3500,
          3530,
          3494.25,
          3457.10009765625,
          3481,
          3499.449951171875,
          3500,
          3544.64990234375,
          3538,
          3532.60009765625,
          3605,
          3633,
          3622.89990234375,
          3638.949951171875,
          3643.550048828125,
          3630,
          3666.699951171875,
          3858.10009765625,
          3845,
          3827.25,
          3756.25,
          3800,
          3819.85009765625,
          3799,
          3824,
          3792,
          3790,
          3811.10009765625,
          3767,
          3701.75,
          3675,
          3737.89990234375,
          3709.949951171875,
          3690,
          3724,
          3848,
          3960,
          3899,
          3819,
          3898,
          3945,
          3900,
          3880,
          3839.89990234375,
          3800.800048828125,
          3807.449951171875,
          3811.199951171875
         ],
         "type": "candlestick",
         "x": [
          "2023-01-02T00:00:00",
          "2023-01-03T00:00:00",
          "2023-01-04T00:00:00",
          "2023-01-05T00:00:00",
          "2023-01-06T00:00:00",
          "2023-01-09T00:00:00",
          "2023-01-10T00:00:00",
          "2023-01-11T00:00:00",
          "2023-01-12T00:00:00",
          "2023-01-13T00:00:00",
          "2023-01-16T00:00:00",
          "2023-01-17T00:00:00",
          "2023-01-18T00:00:00",
          "2023-01-19T00:00:00",
          "2023-01-20T00:00:00",
          "2023-01-23T00:00:00",
          "2023-01-24T00:00:00",
          "2023-01-25T00:00:00",
          "2023-01-27T00:00:00",
          "2023-01-30T00:00:00",
          "2023-01-31T00:00:00",
          "2023-02-01T00:00:00",
          "2023-02-02T00:00:00",
          "2023-02-03T00:00:00",
          "2023-02-06T00:00:00",
          "2023-02-07T00:00:00",
          "2023-02-08T00:00:00",
          "2023-02-09T00:00:00",
          "2023-02-10T00:00:00",
          "2023-02-13T00:00:00",
          "2023-02-14T00:00:00",
          "2023-02-15T00:00:00",
          "2023-02-16T00:00:00",
          "2023-02-17T00:00:00",
          "2023-02-20T00:00:00",
          "2023-02-21T00:00:00",
          "2023-02-22T00:00:00",
          "2023-02-23T00:00:00",
          "2023-02-24T00:00:00",
          "2023-02-27T00:00:00",
          "2023-02-28T00:00:00",
          "2023-03-01T00:00:00",
          "2023-03-02T00:00:00",
          "2023-03-03T00:00:00",
          "2023-03-06T00:00:00",
          "2023-03-08T00:00:00",
          "2023-03-09T00:00:00",
          "2023-03-10T00:00:00",
          "2023-03-13T00:00:00",
          "2023-03-14T00:00:00",
          "2023-03-15T00:00:00",
          "2023-03-16T00:00:00",
          "2023-03-17T00:00:00",
          "2023-03-20T00:00:00",
          "2023-03-21T00:00:00",
          "2023-03-22T00:00:00",
          "2023-03-23T00:00:00",
          "2023-03-24T00:00:00",
          "2023-03-27T00:00:00",
          "2023-03-28T00:00:00",
          "2023-03-29T00:00:00",
          "2023-03-31T00:00:00",
          "2023-04-03T00:00:00",
          "2023-04-05T00:00:00",
          "2023-04-06T00:00:00",
          "2023-04-10T00:00:00",
          "2023-04-11T00:00:00",
          "2023-04-12T00:00:00",
          "2023-04-13T00:00:00",
          "2023-04-17T00:00:00",
          "2023-04-18T00:00:00",
          "2023-04-19T00:00:00",
          "2023-04-20T00:00:00",
          "2023-04-21T00:00:00",
          "2023-04-24T00:00:00",
          "2023-04-25T00:00:00",
          "2023-04-26T00:00:00",
          "2023-04-27T00:00:00",
          "2023-04-28T00:00:00",
          "2023-05-02T00:00:00",
          "2023-05-03T00:00:00",
          "2023-05-04T00:00:00",
          "2023-05-05T00:00:00",
          "2023-05-08T00:00:00",
          "2023-05-09T00:00:00",
          "2023-05-10T00:00:00",
          "2023-05-11T00:00:00",
          "2023-05-12T00:00:00",
          "2023-05-15T00:00:00",
          "2023-05-16T00:00:00",
          "2023-05-17T00:00:00",
          "2023-05-18T00:00:00",
          "2023-05-19T00:00:00",
          "2023-05-22T00:00:00",
          "2023-05-23T00:00:00",
          "2023-05-24T00:00:00",
          "2023-05-25T00:00:00",
          "2023-05-26T00:00:00",
          "2023-05-29T00:00:00",
          "2023-05-30T00:00:00",
          "2023-05-31T00:00:00",
          "2023-06-01T00:00:00",
          "2023-06-02T00:00:00",
          "2023-06-05T00:00:00",
          "2023-06-06T00:00:00",
          "2023-06-07T00:00:00",
          "2023-06-08T00:00:00",
          "2023-06-09T00:00:00",
          "2023-06-12T00:00:00",
          "2023-06-13T00:00:00",
          "2023-06-14T00:00:00",
          "2023-06-15T00:00:00",
          "2023-06-16T00:00:00",
          "2023-06-19T00:00:00",
          "2023-06-20T00:00:00",
          "2023-06-21T00:00:00",
          "2023-06-22T00:00:00",
          "2023-06-23T00:00:00",
          "2023-06-26T00:00:00",
          "2023-06-27T00:00:00",
          "2023-06-28T00:00:00",
          "2023-06-30T00:00:00",
          "2023-07-03T00:00:00",
          "2023-07-04T00:00:00",
          "2023-07-05T00:00:00",
          "2023-07-06T00:00:00",
          "2023-07-07T00:00:00",
          "2023-07-10T00:00:00",
          "2023-07-11T00:00:00",
          "2023-07-12T00:00:00",
          "2023-07-13T00:00:00",
          "2023-07-14T00:00:00",
          "2023-07-17T00:00:00",
          "2023-07-18T00:00:00",
          "2023-07-19T00:00:00",
          "2023-07-20T00:00:00",
          "2023-07-21T00:00:00",
          "2023-07-24T00:00:00",
          "2023-07-25T00:00:00",
          "2023-07-26T00:00:00",
          "2023-07-27T00:00:00",
          "2023-07-28T00:00:00",
          "2023-07-31T00:00:00",
          "2023-08-01T00:00:00",
          "2023-08-02T00:00:00",
          "2023-08-03T00:00:00",
          "2023-08-04T00:00:00",
          "2023-08-07T00:00:00",
          "2023-08-08T00:00:00",
          "2023-08-09T00:00:00",
          "2023-08-10T00:00:00",
          "2023-08-11T00:00:00",
          "2023-08-14T00:00:00",
          "2023-08-16T00:00:00",
          "2023-08-17T00:00:00",
          "2023-08-18T00:00:00",
          "2023-08-21T00:00:00",
          "2023-08-22T00:00:00",
          "2023-08-23T00:00:00",
          "2023-08-24T00:00:00",
          "2023-08-25T00:00:00",
          "2023-08-28T00:00:00",
          "2023-08-29T00:00:00",
          "2023-08-30T00:00:00",
          "2023-08-31T00:00:00",
          "2023-09-01T00:00:00",
          "2023-09-04T00:00:00",
          "2023-09-05T00:00:00",
          "2023-09-06T00:00:00",
          "2023-09-07T00:00:00",
          "2023-09-08T00:00:00",
          "2023-09-11T00:00:00",
          "2023-09-12T00:00:00",
          "2023-09-13T00:00:00",
          "2023-09-14T00:00:00",
          "2023-09-15T00:00:00",
          "2023-09-18T00:00:00",
          "2023-09-20T00:00:00",
          "2023-09-21T00:00:00",
          "2023-09-22T00:00:00",
          "2023-09-25T00:00:00",
          "2023-09-26T00:00:00",
          "2023-09-27T00:00:00",
          "2023-09-28T00:00:00",
          "2023-09-29T00:00:00",
          "2023-10-03T00:00:00",
          "2023-10-04T00:00:00",
          "2023-10-05T00:00:00",
          "2023-10-06T00:00:00",
          "2023-10-09T00:00:00",
          "2023-10-10T00:00:00",
          "2023-10-11T00:00:00",
          "2023-10-12T00:00:00",
          "2023-10-13T00:00:00",
          "2023-10-16T00:00:00",
          "2023-10-17T00:00:00",
          "2023-10-18T00:00:00",
          "2023-10-19T00:00:00",
          "2023-10-20T00:00:00",
          "2023-10-23T00:00:00",
          "2023-10-25T00:00:00",
          "2023-10-26T00:00:00",
          "2023-10-27T00:00:00",
          "2023-10-30T00:00:00",
          "2023-10-31T00:00:00",
          "2023-11-01T00:00:00",
          "2023-11-02T00:00:00",
          "2023-11-03T00:00:00",
          "2023-11-06T00:00:00",
          "2023-11-07T00:00:00",
          "2023-11-08T00:00:00",
          "2023-11-09T00:00:00",
          "2023-11-10T00:00:00",
          "2023-11-13T00:00:00",
          "2023-11-15T00:00:00",
          "2023-11-16T00:00:00",
          "2023-11-17T00:00:00",
          "2023-11-20T00:00:00",
          "2023-11-21T00:00:00",
          "2023-11-22T00:00:00",
          "2023-11-23T00:00:00",
          "2023-11-24T00:00:00",
          "2023-11-28T00:00:00",
          "2023-11-29T00:00:00",
          "2023-11-30T00:00:00",
          "2023-12-01T00:00:00",
          "2023-12-04T00:00:00",
          "2023-12-05T00:00:00",
          "2023-12-06T00:00:00",
          "2023-12-07T00:00:00",
          "2023-12-08T00:00:00",
          "2023-12-11T00:00:00",
          "2023-12-12T00:00:00",
          "2023-12-13T00:00:00",
          "2023-12-14T00:00:00",
          "2023-12-15T00:00:00",
          "2023-12-18T00:00:00",
          "2023-12-19T00:00:00",
          "2023-12-20T00:00:00",
          "2023-12-21T00:00:00",
          "2023-12-22T00:00:00",
          "2023-12-26T00:00:00",
          "2023-12-27T00:00:00",
          "2023-12-28T00:00:00",
          "2023-12-29T00:00:00",
          "2024-01-01T00:00:00",
          "2024-01-02T00:00:00",
          "2024-01-03T00:00:00",
          "2024-01-04T00:00:00",
          "2024-01-05T00:00:00",
          "2024-01-08T00:00:00",
          "2024-01-09T00:00:00",
          "2024-01-10T00:00:00",
          "2024-01-11T00:00:00",
          "2024-01-12T00:00:00",
          "2024-01-15T00:00:00",
          "2024-01-16T00:00:00",
          "2024-01-17T00:00:00",
          "2024-01-18T00:00:00",
          "2024-01-19T00:00:00",
          "2024-01-23T00:00:00",
          "2024-01-24T00:00:00",
          "2024-01-25T00:00:00",
          "2024-01-29T00:00:00",
          "2024-01-30T00:00:00",
          "2024-01-31T00:00:00"
         ]
        },
        {
         "line": {
          "color": "black"
         },
         "mode": "lines",
         "name": "Simple Moving Average",
         "type": "scatter",
         "x": [
          "2023-01-02T00:00:00",
          "2023-01-03T00:00:00",
          "2023-01-04T00:00:00",
          "2023-01-05T00:00:00",
          "2023-01-06T00:00:00",
          "2023-01-09T00:00:00",
          "2023-01-10T00:00:00",
          "2023-01-11T00:00:00",
          "2023-01-12T00:00:00",
          "2023-01-13T00:00:00",
          "2023-01-16T00:00:00",
          "2023-01-17T00:00:00",
          "2023-01-18T00:00:00",
          "2023-01-19T00:00:00",
          "2023-01-20T00:00:00",
          "2023-01-23T00:00:00",
          "2023-01-24T00:00:00",
          "2023-01-25T00:00:00",
          "2023-01-27T00:00:00",
          "2023-01-30T00:00:00",
          "2023-01-31T00:00:00",
          "2023-02-01T00:00:00",
          "2023-02-02T00:00:00",
          "2023-02-03T00:00:00",
          "2023-02-06T00:00:00",
          "2023-02-07T00:00:00",
          "2023-02-08T00:00:00",
          "2023-02-09T00:00:00",
          "2023-02-10T00:00:00",
          "2023-02-13T00:00:00",
          "2023-02-14T00:00:00",
          "2023-02-15T00:00:00",
          "2023-02-16T00:00:00",
          "2023-02-17T00:00:00",
          "2023-02-20T00:00:00",
          "2023-02-21T00:00:00",
          "2023-02-22T00:00:00",
          "2023-02-23T00:00:00",
          "2023-02-24T00:00:00",
          "2023-02-27T00:00:00",
          "2023-02-28T00:00:00",
          "2023-03-01T00:00:00",
          "2023-03-02T00:00:00",
          "2023-03-03T00:00:00",
          "2023-03-06T00:00:00",
          "2023-03-08T00:00:00",
          "2023-03-09T00:00:00",
          "2023-03-10T00:00:00",
          "2023-03-13T00:00:00",
          "2023-03-14T00:00:00",
          "2023-03-15T00:00:00",
          "2023-03-16T00:00:00",
          "2023-03-17T00:00:00",
          "2023-03-20T00:00:00",
          "2023-03-21T00:00:00",
          "2023-03-22T00:00:00",
          "2023-03-23T00:00:00",
          "2023-03-24T00:00:00",
          "2023-03-27T00:00:00",
          "2023-03-28T00:00:00",
          "2023-03-29T00:00:00",
          "2023-03-31T00:00:00",
          "2023-04-03T00:00:00",
          "2023-04-05T00:00:00",
          "2023-04-06T00:00:00",
          "2023-04-10T00:00:00",
          "2023-04-11T00:00:00",
          "2023-04-12T00:00:00",
          "2023-04-13T00:00:00",
          "2023-04-17T00:00:00",
          "2023-04-18T00:00:00",
          "2023-04-19T00:00:00",
          "2023-04-20T00:00:00",
          "2023-04-21T00:00:00",
          "2023-04-24T00:00:00",
          "2023-04-25T00:00:00",
          "2023-04-26T00:00:00",
          "2023-04-27T00:00:00",
          "2023-04-28T00:00:00",
          "2023-05-02T00:00:00",
          "2023-05-03T00:00:00",
          "2023-05-04T00:00:00",
          "2023-05-05T00:00:00",
          "2023-05-08T00:00:00",
          "2023-05-09T00:00:00",
          "2023-05-10T00:00:00",
          "2023-05-11T00:00:00",
          "2023-05-12T00:00:00",
          "2023-05-15T00:00:00",
          "2023-05-16T00:00:00",
          "2023-05-17T00:00:00",
          "2023-05-18T00:00:00",
          "2023-05-19T00:00:00",
          "2023-05-22T00:00:00",
          "2023-05-23T00:00:00",
          "2023-05-24T00:00:00",
          "2023-05-25T00:00:00",
          "2023-05-26T00:00:00",
          "2023-05-29T00:00:00",
          "2023-05-30T00:00:00",
          "2023-05-31T00:00:00",
          "2023-06-01T00:00:00",
          "2023-06-02T00:00:00",
          "2023-06-05T00:00:00",
          "2023-06-06T00:00:00",
          "2023-06-07T00:00:00",
          "2023-06-08T00:00:00",
          "2023-06-09T00:00:00",
          "2023-06-12T00:00:00",
          "2023-06-13T00:00:00",
          "2023-06-14T00:00:00",
          "2023-06-15T00:00:00",
          "2023-06-16T00:00:00",
          "2023-06-19T00:00:00",
          "2023-06-20T00:00:00",
          "2023-06-21T00:00:00",
          "2023-06-22T00:00:00",
          "2023-06-23T00:00:00",
          "2023-06-26T00:00:00",
          "2023-06-27T00:00:00",
          "2023-06-28T00:00:00",
          "2023-06-30T00:00:00",
          "2023-07-03T00:00:00",
          "2023-07-04T00:00:00",
          "2023-07-05T00:00:00",
          "2023-07-06T00:00:00",
          "2023-07-07T00:00:00",
          "2023-07-10T00:00:00",
          "2023-07-11T00:00:00",
          "2023-07-12T00:00:00",
          "2023-07-13T00:00:00",
          "2023-07-14T00:00:00",
          "2023-07-17T00:00:00",
          "2023-07-18T00:00:00",
          "2023-07-19T00:00:00",
          "2023-07-20T00:00:00",
          "2023-07-21T00:00:00",
          "2023-07-24T00:00:00",
          "2023-07-25T00:00:00",
          "2023-07-26T00:00:00",
          "2023-07-27T00:00:00",
          "2023-07-28T00:00:00",
          "2023-07-31T00:00:00",
          "2023-08-01T00:00:00",
          "2023-08-02T00:00:00",
          "2023-08-03T00:00:00",
          "2023-08-04T00:00:00",
          "2023-08-07T00:00:00",
          "2023-08-08T00:00:00",
          "2023-08-09T00:00:00",
          "2023-08-10T00:00:00",
          "2023-08-11T00:00:00",
          "2023-08-14T00:00:00",
          "2023-08-16T00:00:00",
          "2023-08-17T00:00:00",
          "2023-08-18T00:00:00",
          "2023-08-21T00:00:00",
          "2023-08-22T00:00:00",
          "2023-08-23T00:00:00",
          "2023-08-24T00:00:00",
          "2023-08-25T00:00:00",
          "2023-08-28T00:00:00",
          "2023-08-29T00:00:00",
          "2023-08-30T00:00:00",
          "2023-08-31T00:00:00",
          "2023-09-01T00:00:00",
          "2023-09-04T00:00:00",
          "2023-09-05T00:00:00",
          "2023-09-06T00:00:00",
          "2023-09-07T00:00:00",
          "2023-09-08T00:00:00",
          "2023-09-11T00:00:00",
          "2023-09-12T00:00:00",
          "2023-09-13T00:00:00",
          "2023-09-14T00:00:00",
          "2023-09-15T00:00:00",
          "2023-09-18T00:00:00",
          "2023-09-20T00:00:00",
          "2023-09-21T00:00:00",
          "2023-09-22T00:00:00",
          "2023-09-25T00:00:00",
          "2023-09-26T00:00:00",
          "2023-09-27T00:00:00",
          "2023-09-28T00:00:00",
          "2023-09-29T00:00:00",
          "2023-10-03T00:00:00",
          "2023-10-04T00:00:00",
          "2023-10-05T00:00:00",
          "2023-10-06T00:00:00",
          "2023-10-09T00:00:00",
          "2023-10-10T00:00:00",
          "2023-10-11T00:00:00",
          "2023-10-12T00:00:00",
          "2023-10-13T00:00:00",
          "2023-10-16T00:00:00",
          "2023-10-17T00:00:00",
          "2023-10-18T00:00:00",
          "2023-10-19T00:00:00",
          "2023-10-20T00:00:00",
          "2023-10-23T00:00:00",
          "2023-10-25T00:00:00",
          "2023-10-26T00:00:00",
          "2023-10-27T00:00:00",
          "2023-10-30T00:00:00",
          "2023-10-31T00:00:00",
          "2023-11-01T00:00:00",
          "2023-11-02T00:00:00",
          "2023-11-03T00:00:00",
          "2023-11-06T00:00:00",
          "2023-11-07T00:00:00",
          "2023-11-08T00:00:00",
          "2023-11-09T00:00:00",
          "2023-11-10T00:00:00",
          "2023-11-13T00:00:00",
          "2023-11-15T00:00:00",
          "2023-11-16T00:00:00",
          "2023-11-17T00:00:00",
          "2023-11-20T00:00:00",
          "2023-11-21T00:00:00",
          "2023-11-22T00:00:00",
          "2023-11-23T00:00:00",
          "2023-11-24T00:00:00",
          "2023-11-28T00:00:00",
          "2023-11-29T00:00:00",
          "2023-11-30T00:00:00",
          "2023-12-01T00:00:00",
          "2023-12-04T00:00:00",
          "2023-12-05T00:00:00",
          "2023-12-06T00:00:00",
          "2023-12-07T00:00:00",
          "2023-12-08T00:00:00",
          "2023-12-11T00:00:00",
          "2023-12-12T00:00:00",
          "2023-12-13T00:00:00",
          "2023-12-14T00:00:00",
          "2023-12-15T00:00:00",
          "2023-12-18T00:00:00",
          "2023-12-19T00:00:00",
          "2023-12-20T00:00:00",
          "2023-12-21T00:00:00",
          "2023-12-22T00:00:00",
          "2023-12-26T00:00:00",
          "2023-12-27T00:00:00",
          "2023-12-28T00:00:00",
          "2023-12-29T00:00:00",
          "2024-01-01T00:00:00",
          "2024-01-02T00:00:00",
          "2024-01-03T00:00:00",
          "2024-01-04T00:00:00",
          "2024-01-05T00:00:00",
          "2024-01-08T00:00:00",
          "2024-01-09T00:00:00",
          "2024-01-10T00:00:00",
          "2024-01-11T00:00:00",
          "2024-01-12T00:00:00",
          "2024-01-15T00:00:00",
          "2024-01-16T00:00:00",
          "2024-01-17T00:00:00",
          "2024-01-18T00:00:00",
          "2024-01-19T00:00:00",
          "2024-01-23T00:00:00",
          "2024-01-24T00:00:00",
          "2024-01-25T00:00:00",
          "2024-01-29T00:00:00",
          "2024-01-30T00:00:00",
          "2024-01-31T00:00:00"
         ],
         "y": [
          null,
          null,
          null,
          null,
          3282.02001953125,
          3293.72001953125,
          3288.72998046875,
          3291.539990234375,
          3296.189990234375,
          3328.789990234375,
          3331.610009765625,
          3350.010009765625,
          3362.27001953125,
          3370.02001953125,
          3367.730029296875,
          3383.9,
          3395.480029296875,
          3403.430029296875,
          3411.02001953125,
          3425.12998046875,
          3413.889990234375,
          3408.3,
          3414.42998046875,
          3428.67998046875,
          3433.939990234375,
          3456.710009765625,
          3479.060009765625,
          3495.150048828125,
          3506.200048828125,
          3510.6900390625,
          3516.200048828125,
          3516.310009765625,
          3519.75,
          3512.469970703125,
          3513.45,
          3503.62998046875,
          3479.810009765625,
          3450.960009765625,
          3430.82001953125,
          3399.730029296875,
          3372.100048828125,
          3368.930029296875,
          3350.460009765625,
          3338.8,
          3346.8,
          3362.3099609375,
          3352.539990234375,
          3354.45,
          3342.410009765625,
          3311.02998046875,
          3272.72998046875,
          3242.3599609375,
          3212.019970703125,
          3184.289990234375,
          3162.52001953125,
          3148.900048828125,
          3136.830029296875,
          3125.07001953125,
          3120.87001953125,
          3122.82998046875,
          3124.449951171875,
          3140.699951171875,
          3156.599951171875,
          3180.099951171875,
          3201.0599609375,
          3225.9599609375,
          3227.539990234375,
          3235.869970703125,
          3225.67998046875,
          3209.439990234375,
          3182.910009765625,
          3158.07001953125,
          3130.700048828125,
          3125.100048828125,
          3132.16005859375,
          3141.21005859375,
          3162.92001953125,
          3179.55,
          3191.22998046875,
          3200.149951171875,
          3200.929931640625,
          3205.43994140625,
          3213.98994140625,
          3220.2599609375,
          3233.02998046875,
          3254.410009765625,
          3266.7,
          3275.42001953125,
          3276.310009765625,
          3271.289990234375,
          3255.669970703125,
          3239.210009765625,
          3228.92001953125,
          3237.65,
          3245.430029296875,
          3264.36005859375,
          3283.0900390625,
          3304.3,
          3308.630029296875,
          3312.460009765625,
          3309.689990234375,
          3315.789990234375,
          3311.130029296875,
          3304.839990234375,
          3288.060009765625,
          3285.139990234375,
          3267.62998046875,
          3248.369970703125,
          3239.969970703125,
          3242.249951171875,
          3237.47998046875,
          3233.45,
          3226.569970703125,
          3219.269970703125,
          3216.069970703125,
          3217.499951171875,
          3221.93994140625,
          3230.22998046875,
          3226.07998046875,
          3220.010009765625,
          3211.460009765625,
          3224.210009765625,
          3235.4,
          3259.2400390625,
          3283.760009765625,
          3305.25,
          3310.65,
          3310.57998046875,
          3303.28994140625,
          3291.279931640625,
          3294.8099609375,
          3331.88994140625,
          3375.83994140625,
          3420.72998046875,
          3462.760009765625,
          3487.310009765625,
          3458.0400390625,
          3438.650048828125,
          3419.110009765625,
          3402.760009765625,
          3389.47998046875,
          3386.899951171875,
          3392.23994140625,
          3402.819970703125,
          3413.28994140625,
          3413.899951171875,
          3431.52998046875,
          3444.05,
          3447.760009765625,
          3452.130029296875,
          3460.56005859375,
          3461.61005859375,
          3454.770068359375,
          3452.330029296875,
          3446.980029296875,
          3431.980029296875,
          3422.55,
          3409.0099609375,
          3396.97998046875,
          3387.37998046875,
          3390.219970703125,
          3385,
          3383.8,
          3382.339990234375,
          3376.15,
          3375.72998046875,
          3384.319970703125,
          3394.960009765625,
          3402.75,
          3422.439990234375,
          3434.97998046875,
          3447.4099609375,
          3477.699951171875,
          3505.289990234375,
          3526.25,
          3557.530029296875,
          3582.630029296875,
          3587.680029296875,
          3591.17001953125,
          3599.889990234375,
          3595.6599609375,
          3591.569970703125,
          3588.219970703125,
          3578.5099609375,
          3563.5,
          3550.8400390625,
          3541.250048828125,
          3541.26005859375,
          3558.1900390625,
          3580.1400390625,
          3603.15,
          3617.57998046875,
          3608.219970703125,
          3598.110009765625,
          3575.25,
          3550.880029296875,
          3526.350048828125,
          3508.97001953125,
          3493.710009765625,
          3470.92998046875,
          3447.539990234375,
          3417.439990234375,
          3396.5,
          3373.3,
          3365.02001953125,
          3353.12998046875,
          3357.8,
          3357.789990234375,
          3358.12998046875,
          3358.469970703125,
          3368.65,
          3366.119970703125,
          3362.62998046875,
          3352.889990234375,
          3359.660009765625,
          3382.92001953125,
          3413.92001953125,
          3451.150048828125,
          3486.880029296875,
          3512.05,
          3514.12998046875,
          3505.060009765625,
          3495.169970703125,
          3495.87998046875,
          3487.37001953125,
          3488.05,
          3499.119970703125,
          3511.410009765625,
          3529.480029296875,
          3554.939990234375,
          3577.95,
          3604.039990234375,
          3632.139990234375,
          3630.02998046875,
          3640.5,
          3687.360009765625,
          3730.62001953125,
          3759.439990234375,
          3796.739990234375,
          3820.789990234375,
          3813.389990234375,
          3800.660009765625,
          3799.660009765625,
          3803.62998046875,
          3804.8099609375,
          3802.22998046875,
          3799.7599609375,
          3775.869970703125,
          3749.25,
          3738.15,
          3711.589990234375,
          3692.92998046875,
          3697.189990234375,
          3710.939990234375,
          3739.92001953125,
          3785.02001953125,
          3819.300048828125,
          3853.61005859375,
          3887.020068359375,
          3899.070068359375,
          3889.96005859375,
          3886.06005859375,
          3871.200048828125,
          3850.880029296875,
          3822.380029296875,
          3813.92001953125
         ]
        }
       ],
       "layout": {
        "template": {
         "data": {
          "bar": [
           {
            "error_x": {
             "color": "#2a3f5f"
            },
            "error_y": {
             "color": "#2a3f5f"
            },
            "marker": {
             "line": {
              "color": "#E5ECF6",
              "width": 0.5
             },
             "pattern": {
              "fillmode": "overlay",
              "size": 10,
              "solidity": 0.2
             }
            },
            "type": "bar"
           }
          ],
          "barpolar": [
           {
            "marker": {
             "line": {
              "color": "#E5ECF6",
              "width": 0.5
             },
             "pattern": {
              "fillmode": "overlay",
              "size": 10,
              "solidity": 0.2
             }
            },
            "type": "barpolar"
           }
          ],
          "carpet": [
           {
            "aaxis": {
             "endlinecolor": "#2a3f5f",
             "gridcolor": "white",
             "linecolor": "white",
             "minorgridcolor": "white",
             "startlinecolor": "#2a3f5f"
            },
            "baxis": {
             "endlinecolor": "#2a3f5f",
             "gridcolor": "white",
             "linecolor": "white",
             "minorgridcolor": "white",
             "startlinecolor": "#2a3f5f"
            },
            "type": "carpet"
           }
          ],
          "choropleth": [
           {
            "colorbar": {
             "outlinewidth": 0,
             "ticks": ""
            },
            "type": "choropleth"
           }
          ],
          "contour": [
           {
            "colorbar": {
             "outlinewidth": 0,
             "ticks": ""
            },
            "colorscale": [
             [
              0,
              "#0d0887"
             ],
             [
              0.1111111111111111,
              "#46039f"
             ],
             [
              0.2222222222222222,
              "#7201a8"
             ],
             [
              0.3333333333333333,
              "#9c179e"
             ],
             [
              0.4444444444444444,
              "#bd3786"
             ],
             [
              0.5555555555555556,
              "#d8576b"
             ],
             [
              0.6666666666666666,
              "#ed7953"
             ],
             [
              0.7777777777777778,
              "#fb9f3a"
             ],
             [
              0.8888888888888888,
              "#fdca26"
             ],
             [
              1,
              "#f0f921"
             ]
            ],
            "type": "contour"
           }
          ],
          "contourcarpet": [
           {
            "colorbar": {
             "outlinewidth": 0,
             "ticks": ""
            },
            "type": "contourcarpet"
           }
          ],
          "heatmap": [
           {
            "colorbar": {
             "outlinewidth": 0,
             "ticks": ""
            },
            "colorscale": [
             [
              0,
              "#0d0887"
             ],
             [
              0.1111111111111111,
              "#46039f"
             ],
             [
              0.2222222222222222,
              "#7201a8"
             ],
             [
              0.3333333333333333,
              "#9c179e"
             ],
             [
              0.4444444444444444,
              "#bd3786"
             ],
             [
              0.5555555555555556,
              "#d8576b"
             ],
             [
              0.6666666666666666,
              "#ed7953"
             ],
             [
              0.7777777777777778,
              "#fb9f3a"
             ],
             [
              0.8888888888888888,
              "#fdca26"
             ],
             [
              1,
              "#f0f921"
             ]
            ],
            "type": "heatmap"
           }
          ],
          "heatmapgl": [
           {
            "colorbar": {
             "outlinewidth": 0,
             "ticks": ""
            },
            "colorscale": [
             [
              0,
              "#0d0887"
             ],
             [
              0.1111111111111111,
              "#46039f"
             ],
             [
              0.2222222222222222,
              "#7201a8"
             ],
             [
              0.3333333333333333,
              "#9c179e"
             ],
             [
              0.4444444444444444,
              "#bd3786"
             ],
             [
              0.5555555555555556,
              "#d8576b"
             ],
             [
              0.6666666666666666,
              "#ed7953"
             ],
             [
              0.7777777777777778,
              "#fb9f3a"
             ],
             [
              0.8888888888888888,
              "#fdca26"
             ],
             [
              1,
              "#f0f921"
             ]
            ],
            "type": "heatmapgl"
           }
          ],
          "histogram": [
           {
            "marker": {
             "pattern": {
              "fillmode": "overlay",
              "size": 10,
              "solidity": 0.2
             }
            },
            "type": "histogram"
           }
          ],
          "histogram2d": [
           {
            "colorbar": {
             "outlinewidth": 0,
             "ticks": ""
            },
            "colorscale": [
             [
              0,
              "#0d0887"
             ],
             [
              0.1111111111111111,
              "#46039f"
             ],
             [
              0.2222222222222222,
              "#7201a8"
             ],
             [
              0.3333333333333333,
              "#9c179e"
             ],
             [
              0.4444444444444444,
              "#bd3786"
             ],
             [
              0.5555555555555556,
              "#d8576b"
             ],
             [
              0.6666666666666666,
              "#ed7953"
             ],
             [
              0.7777777777777778,
              "#fb9f3a"
             ],
             [
              0.8888888888888888,
              "#fdca26"
             ],
             [
              1,
              "#f0f921"
             ]
            ],
            "type": "histogram2d"
           }
          ],
          "histogram2dcontour": [
           {
            "colorbar": {
             "outlinewidth": 0,
             "ticks": ""
            },
            "colorscale": [
             [
              0,
              "#0d0887"
             ],
             [
              0.1111111111111111,
              "#46039f"
             ],
             [
              0.2222222222222222,
              "#7201a8"
             ],
             [
              0.3333333333333333,
              "#9c179e"
             ],
             [
              0.4444444444444444,
              "#bd3786"
             ],
             [
              0.5555555555555556,
              "#d8576b"
             ],
             [
              0.6666666666666666,
              "#ed7953"
             ],
             [
              0.7777777777777778,
              "#fb9f3a"
             ],
             [
              0.8888888888888888,
              "#fdca26"
             ],
             [
              1,
              "#f0f921"
             ]
            ],
            "type": "histogram2dcontour"
           }
          ],
          "mesh3d": [
           {
            "colorbar": {
             "outlinewidth": 0,
             "ticks": ""
            },
            "type": "mesh3d"
           }
          ],
          "parcoords": [
           {
            "line": {
             "colorbar": {
              "outlinewidth": 0,
              "ticks": ""
             }
            },
            "type": "parcoords"
           }
          ],
          "pie": [
           {
            "automargin": true,
            "type": "pie"
           }
          ],
          "scatter": [
           {
            "fillpattern": {
             "fillmode": "overlay",
             "size": 10,
             "solidity": 0.2
            },
            "type": "scatter"
           }
          ],
          "scatter3d": [
           {
            "line": {
             "colorbar": {
              "outlinewidth": 0,
              "ticks": ""
             }
            },
            "marker": {
             "colorbar": {
              "outlinewidth": 0,
              "ticks": ""
             }
            },
            "type": "scatter3d"
           }
          ],
          "scattercarpet": [
           {
            "marker": {
             "colorbar": {
              "outlinewidth": 0,
              "ticks": ""
             }
            },
            "type": "scattercarpet"
           }
          ],
          "scattergeo": [
           {
            "marker": {
             "colorbar": {
              "outlinewidth": 0,
              "ticks": ""
             }
            },
            "type": "scattergeo"
           }
          ],
          "scattergl": [
           {
            "marker": {
             "colorbar": {
              "outlinewidth": 0,
              "ticks": ""
             }
            },
            "type": "scattergl"
           }
          ],
          "scattermapbox": [
           {
            "marker": {
             "colorbar": {
              "outlinewidth": 0,
              "ticks": ""
             }
            },
            "type": "scattermapbox"
           }
          ],
          "scatterpolar": [
           {
            "marker": {
             "colorbar": {
              "outlinewidth": 0,
              "ticks": ""
             }
            },
            "type": "scatterpolar"
           }
          ],
          "scatterpolargl": [
           {
            "marker": {
             "colorbar": {
              "outlinewidth": 0,
              "ticks": ""
             }
            },
            "type": "scatterpolargl"
           }
          ],
          "scatterternary": [
           {
            "marker": {
             "colorbar": {
              "outlinewidth": 0,
              "ticks": ""
             }
            },
            "type": "scatterternary"
           }
          ],
          "surface": [
           {
            "colorbar": {
             "outlinewidth": 0,
             "ticks": ""
            },
            "colorscale": [
             [
              0,
              "#0d0887"
             ],
             [
              0.1111111111111111,
              "#46039f"
             ],
             [
              0.2222222222222222,
              "#7201a8"
             ],
             [
              0.3333333333333333,
              "#9c179e"
             ],
             [
              0.4444444444444444,
              "#bd3786"
             ],
             [
              0.5555555555555556,
              "#d8576b"
             ],
             [
              0.6666666666666666,
              "#ed7953"
             ],
             [
              0.7777777777777778,
              "#fb9f3a"
             ],
             [
              0.8888888888888888,
              "#fdca26"
             ],
             [
              1,
              "#f0f921"
             ]
            ],
            "type": "surface"
           }
          ],
          "table": [
           {
            "cells": {
             "fill": {
              "color": "#EBF0F8"
             },
             "line": {
              "color": "white"
             }
            },
            "header": {
             "fill": {
              "color": "#C8D4E3"
             },
             "line": {
              "color": "white"
             }
            },
            "type": "table"
           }
          ]
         },
         "layout": {
          "annotationdefaults": {
           "arrowcolor": "#2a3f5f",
           "arrowhead": 0,
           "arrowwidth": 1
          },
          "autotypenumbers": "strict",
          "coloraxis": {
           "colorbar": {
            "outlinewidth": 0,
            "ticks": ""
           }
          },
          "colorscale": {
           "diverging": [
            [
             0,
             "#8e0152"
            ],
            [
             0.1,
             "#c51b7d"
            ],
            [
             0.2,
             "#de77ae"
            ],
            [
             0.3,
             "#f1b6da"
            ],
            [
             0.4,
             "#fde0ef"
            ],
            [
             0.5,
             "#f7f7f7"
            ],
            [
             0.6,
             "#e6f5d0"
            ],
            [
             0.7,
             "#b8e186"
            ],
            [
             0.8,
             "#7fbc41"
            ],
            [
             0.9,
             "#4d9221"
            ],
            [
             1,
             "#276419"
            ]
           ],
           "sequential": [
            [
             0,
             "#0d0887"
            ],
            [
             0.1111111111111111,
             "#46039f"
            ],
            [
             0.2222222222222222,
             "#7201a8"
            ],
            [
             0.3333333333333333,
             "#9c179e"
            ],
            [
             0.4444444444444444,
             "#bd3786"
            ],
            [
             0.5555555555555556,
             "#d8576b"
            ],
            [
             0.6666666666666666,
             "#ed7953"
            ],
            [
             0.7777777777777778,
             "#fb9f3a"
            ],
            [
             0.8888888888888888,
             "#fdca26"
            ],
            [
             1,
             "#f0f921"
            ]
           ],
           "sequentialminus": [
            [
             0,
             "#0d0887"
            ],
            [
             0.1111111111111111,
             "#46039f"
            ],
            [
             0.2222222222222222,
             "#7201a8"
            ],
            [
             0.3333333333333333,
             "#9c179e"
            ],
            [
             0.4444444444444444,
             "#bd3786"
            ],
            [
             0.5555555555555556,
             "#d8576b"
            ],
            [
             0.6666666666666666,
             "#ed7953"
            ],
            [
             0.7777777777777778,
             "#fb9f3a"
            ],
            [
             0.8888888888888888,
             "#fdca26"
            ],
            [
             1,
             "#f0f921"
            ]
           ]
          },
          "colorway": [
           "#636efa",
           "#EF553B",
           "#00cc96",
           "#ab63fa",
           "#FFA15A",
           "#19d3f3",
           "#FF6692",
           "#B6E880",
           "#FF97FF",
           "#FECB52"
          ],
          "font": {
           "color": "#2a3f5f"
          },
          "geo": {
           "bgcolor": "white",
           "lakecolor": "white",
           "landcolor": "#E5ECF6",
           "showlakes": true,
           "showland": true,
           "subunitcolor": "white"
          },
          "hoverlabel": {
           "align": "left"
          },
          "hovermode": "closest",
          "mapbox": {
           "style": "light"
          },
          "paper_bgcolor": "white",
          "plot_bgcolor": "#E5ECF6",
          "polar": {
           "angularaxis": {
            "gridcolor": "white",
            "linecolor": "white",
            "ticks": ""
           },
           "bgcolor": "#E5ECF6",
           "radialaxis": {
            "gridcolor": "white",
            "linecolor": "white",
            "ticks": ""
           }
          },
          "scene": {
           "xaxis": {
            "backgroundcolor": "#E5ECF6",
            "gridcolor": "white",
            "gridwidth": 2,
            "linecolor": "white",
            "showbackground": true,
            "ticks": "",
            "zerolinecolor": "white"
           },
           "yaxis": {
            "backgroundcolor": "#E5ECF6",
            "gridcolor": "white",
            "gridwidth": 2,
            "linecolor": "white",
            "showbackground": true,
            "ticks": "",
            "zerolinecolor": "white"
           },
           "zaxis": {
            "backgroundcolor": "#E5ECF6",
            "gridcolor": "white",
            "gridwidth": 2,
            "linecolor": "white",
            "showbackground": true,
            "ticks": "",
            "zerolinecolor": "white"
           }
          },
          "shapedefaults": {
           "line": {
            "color": "#2a3f5f"
           }
          },
          "ternary": {
           "aaxis": {
            "gridcolor": "white",
            "linecolor": "white",
            "ticks": ""
           },
           "baxis": {
            "gridcolor": "white",
            "linecolor": "white",
            "ticks": ""
           },
           "bgcolor": "#E5ECF6",
           "caxis": {
            "gridcolor": "white",
            "linecolor": "white",
            "ticks": ""
           }
          },
          "title": {
           "x": 0.05
          },
          "xaxis": {
           "automargin": true,
           "gridcolor": "white",
           "linecolor": "white",
           "ticks": "",
           "title": {
            "standoff": 15
           },
           "zerolinecolor": "white",
           "zerolinewidth": 2
          },
          "yaxis": {
           "automargin": true,
           "gridcolor": "white",
           "linecolor": "white",
           "ticks": "",
           "title": {
            "standoff": 15
           },
           "zerolinecolor": "white",
           "zerolinewidth": 2
          }
         }
        },
        "title": {
         "text": "Simple Moving Average"
        },
        "xaxis": {
         "rangeslider": {
          "visible": false
         },
         "title": {
          "text": "Date"
         }
        },
        "yaxis": {
         "title": {
          "text": "SIMPLE_MA_5"
         }
        }
       }
      },
      "text/html": [
       "<div>                            <div id=\"a582eb9a-a267-40a9-8c76-278e044bda63\" class=\"plotly-graph-div\" style=\"height:525px; width:100%;\"></div>            <script type=\"text/javascript\">                require([\"plotly\"], function(Plotly) {                    window.PLOTLYENV=window.PLOTLYENV || {};                                    if (document.getElementById(\"a582eb9a-a267-40a9-8c76-278e044bda63\")) {                    Plotly.newPlot(                        \"a582eb9a-a267-40a9-8c76-278e044bda63\",                        [{\"close\":[3261.449951171875,3311.35009765625,3314.64990234375,3311.10009765625,3211.550048828125,3319.949951171875,3286.39990234375,3328.699951171875,3334.35009765625,3374.550048828125,3334.050048828125,3378.39990234375,3390.0,3373.10009765625,3363.10009765625,3414.89990234375,3436.300048828125,3429.75,3411.050048828125,3433.64990234375,3358.699951171875,3408.35009765625,3460.39990234375,3482.300048828125,3459.949951171875,3472.550048828125,3520.10009765625,3540.85009765625,3537.550048828125,3482.39990234375,3500.10009765625,3520.64990234375,3558.050048828125,3501.14990234375,3487.300048828125,3451.0,3401.550048828125,3413.800048828125,3400.449951171875,3331.85009765625,3312.85009765625,3385.699951171875,3321.449951171875,3342.14990234375,3371.85009765625,3390.39990234375,3336.85009765625,3331.0,3281.949951171875,3214.949951171875,3198.89990234375,3185.0,3179.300048828125,3143.300048828125,3106.10009765625,3130.800048828125,3124.64990234375,3120.5,3122.300048828125,3115.89990234375,3138.89990234375,3205.89990234375,3200.0,3239.800048828125,3220.699951171875,3263.39990234375,3213.800048828125,3241.64990234375,3188.85009765625,3139.5,3130.75,3089.60009765625,3104.800048828125,3160.85009765625,3174.800048828125,3176.0,3198.14990234375,3187.949951171875,3219.25,3219.39990234375,3179.89990234375,3220.699951171875,3230.699951171875,3250.60009765625,3283.25,3286.800048828125,3282.14990234375,3274.300048828125,3255.050048828125,3258.14990234375,3208.699951171875,3199.85009765625,3222.85009765625,3298.699951171875,3297.050048828125,3303.35009765625,3293.5,3328.89990234375,3320.35009765625,3316.199951171875,3289.5,3324.0,3305.60009765625,3288.89990234375,3232.300048828125,3274.89990234375,3236.449951171875,3209.300048828125,3246.89990234375,3243.699951171875,3251.050048828125,3216.300048828125,3174.89990234375,3210.39990234375,3227.699951171875,3258.199951171875,3238.5,3216.35009765625,3189.64990234375,3197.35009765625,3215.449951171875,3302.25,3272.300048828125,3308.85009765625,3319.949951171875,3322.89990234375,3329.25,3271.949951171875,3272.39990234375,3259.89990234375,3340.550048828125,3514.64990234375,3491.699951171875,3496.85009765625,3470.050048828125,3463.300048828125,3368.300048828125,3394.75,3399.14990234375,3388.300048828125,3396.89990234375,3355.39990234375,3421.449951171875,3452.050048828125,3440.64990234375,3399.949951171875,3443.550048828125,3484.050048828125,3470.60009765625,3462.5,3442.10009765625,3448.800048828125,3449.85009765625,3458.39990234375,3435.75,3367.10009765625,3401.64990234375,3382.14990234375,3398.25,3387.75,3381.300048828125,3375.550048828125,3376.14990234375,3390.949951171875,3356.800048828125,3379.199951171875,3418.5,3429.35009765625,3429.89990234375,3455.25,3441.89990234375,3480.64990234375,3580.800048828125,3567.85009765625,3560.050048828125,3598.300048828125,3606.14990234375,3606.050048828125,3585.300048828125,3603.64990234375,3577.14990234375,3585.699951171875,3589.300048828125,3536.75,3528.60009765625,3513.85009765625,3537.75,3589.35009765625,3621.39990234375,3638.35009765625,3628.89990234375,3609.89990234375,3542.550048828125,3570.85009765625,3524.050048828125,3507.050048828125,3487.25,3455.64990234375,3494.550048828125,3410.14990234375,3390.10009765625,3336.75,3350.949951171875,3378.550048828125,3368.75,3330.64990234375,3360.10009765625,3350.89990234375,3380.25,3370.449951171875,3381.550048828125,3347.449951171875,3333.449951171875,3331.550048828125,3404.300048828125,3497.85009765625,3502.449951171875,3519.60009765625,3510.199951171875,3530.14990234375,3508.25,3457.10009765625,3470.14990234375,3513.75,3487.60009765625,3511.64990234375,3512.449951171875,3531.60009765625,3604.10009765625,3614.89990234375,3626.699951171875,3642.89990234375,3672.10009765625,3593.550048828125,3667.25,3861.0,3859.199951171875,3816.199951171875,3780.050048828125,3787.5,3824.0,3795.550048828125,3811.199951171875,3799.89990234375,3793.39990234375,3811.10009765625,3783.199951171875,3691.75,3666.800048828125,3737.89990234375,3678.300048828125,3689.89990234375,3713.050048828125,3735.550048828125,3882.800048828125,3903.800048828125,3861.300048828125,3884.60009765625,3902.60009765625,3943.050048828125,3858.25,3841.800048828125,3810.300048828125,3801.0,3800.550048828125,3815.949951171875],\"high\":[3266.85009765625,3320.0,3327.35009765625,3337.300048828125,3301.550048828125,3327.0,3298.0,3349.5,3350.0,3379.0,3353.0,3381.800048828125,3408.949951171875,3387.0,3394.64990234375,3419.0,3451.949951171875,3435.0,3446.0,3458.449951171875,3449.0,3419.0,3469.0,3504.0,3473.14990234375,3493.0,3539.89990234375,3547.60009765625,3542.35009765625,3549.0,3524.85009765625,3526.0,3575.0,3538.89990234375,3522.0,3508.89990234375,3447.0,3452.39990234375,3433.949951171875,3390.0,3392.0,3389.0,3369.89990234375,3358.0,3404.949951171875,3396.0,3385.0,3337.25,3369.800048828125,3304.39990234375,3260.35009765625,3219.800048828125,3221.39990234375,3169.64990234375,3156.75,3143.5,3146.35009765625,3170.0,3152.75,3149.550048828125,3150.0,3213.0,3224.949951171875,3264.35009765625,3257.35009765625,3272.0,3272.949951171875,3260.949951171875,3230.0,3163.39990234375,3156.85009765625,3140.0,3113.0,3164.449951171875,3180.949951171875,3191.199951171875,3208.39990234375,3199.199951171875,3227.25,3235.0,3216.0,3224.449951171875,3244.0,3254.85009765625,3298.0,3306.5,3309.699951171875,3290.0,3292.0,3285.0,3280.0,3228.949951171875,3234.5,3308.449951171875,3327.949951171875,3317.199951171875,3306.0,3338.64990234375,3372.0,3326.949951171875,3327.699951171875,3340.0,3335.89990234375,3327.0,3288.85009765625,3278.85009765625,3270.0,3250.0,3254.39990234375,3265.0,3255.85009765625,3247.449951171875,3199.39990234375,3214.89990234375,3232.5,3261.39990234375,3267.64990234375,3249.39990234375,3213.89990234375,3209.64990234375,3230.949951171875,3310.0,3318.800048828125,3315.0,3329.0,3328.449951171875,3356.89990234375,3324.75,3295.0,3289.14990234375,3367.449951171875,3524.85009765625,3549.89990234375,3524.0,3516.85009765625,3478.89990234375,3434.89990234375,3413.449951171875,3406.800048828125,3420.85009765625,3411.64990234375,3393.699951171875,3426.64990234375,3460.0,3446.39990234375,3433.25,3471.0,3488.0,3489.949951171875,3467.0,3464.89990234375,3466.64990234375,3455.0,3466.0,3460.800048828125,3410.0,3409.75,3411.0,3402.0,3413.050048828125,3385.800048828125,3394.0,3389.550048828125,3408.10009765625,3417.39990234375,3389.0,3432.85009765625,3447.0,3443.89990234375,3460.0,3465.0,3485.699951171875,3589.89990234375,3588.85009765625,3597.699951171875,3607.35009765625,3619.300048828125,3625.0,3605.0,3633.75,3620.0,3594.949951171875,3614.0,3602.800048828125,3568.449951171875,3534.199951171875,3548.0,3624.0,3634.949951171875,3679.0,3648.0,3650.0,3588.64990234375,3577.0,3574.64990234375,3534.14990234375,3522.699951171875,3476.85009765625,3499.5,3478.949951171875,3425.0,3373.699951171875,3362.0,3382.85009765625,3399.0,3371.60009765625,3375.949951171875,3387.89990234375,3392.300048828125,3404.14990234375,3401.949951171875,3391.5,3347.449951171875,3356.0,3413.0,3529.35009765625,3524.5,3533.89990234375,3539.050048828125,3532.64990234375,3544.0,3504.550048828125,3481.25,3518.0,3516.64990234375,3516.949951171875,3547.800048828125,3538.0,3612.85009765625,3630.550048828125,3645.0,3653.0,3698.39990234375,3650.0,3678.0,3895.949951171875,3929.0,3855.10009765625,3898.800048828125,3806.699951171875,3845.949951171875,3834.0,3818.199951171875,3838.0,3822.60009765625,3832.0,3811.10009765625,3771.85009765625,3719.0,3747.75,3739.75,3752.35009765625,3729.25,3773.0,3905.25,3965.0,3899.0,3909.949951171875,3908.800048828125,3963.550048828125,3933.89990234375,3883.64990234375,3861.0,3820.0,3847.800048828125,3834.0],\"low\":[3235.199951171875,3245.300048828125,3286.199951171875,3281.949951171875,3200.0,3221.14990234375,3230.10009765625,3271.14990234375,3315.550048828125,3305.0,3298.050048828125,3321.0,3372.25,3361.0,3355.60009765625,3355.60009765625,3417.300048828125,3405.0,3382.300048828125,3385.550048828125,3351.0,3355.0,3420.10009765625,3452.89990234375,3436.85009765625,3461.39990234375,3478.050048828125,3505.300048828125,3508.14990234375,3473.39990234375,3495.0,3460.14990234375,3527.0,3490.0,3475.050048828125,3444.75,3395.0,3408.0,3382.300048828125,3316.0,3299.89990234375,3315.0,3318.0,3331.10009765625,3359.0,3330.85009765625,3330.85009765625,3290.0,3272.0,3209.39990234375,3192.0,3172.0,3144.0,3095.050048828125,3097.449951171875,3106.10009765625,3101.0,3106.0,3106.0,3110.14990234375,3104.10009765625,3152.0,3173.75,3185.5,3215.0,3215.0,3192.14990234375,3199.0,3180.0,3070.25,3110.60009765625,3071.5,3078.0,3100.800048828125,3126.14990234375,3147.5,3181.0,3170.64990234375,3196.25,3210.0,3173.14990234375,3178.0,3210.050048828125,3231.300048828125,3246.0,3266.050048828125,3272.0,3260.0,3248.35009765625,3250.449951171875,3198.25,3195.0,3203.050048828125,3217.050048828125,3290.10009765625,3276.0,3267.10009765625,3291.0,3312.0,3301.35009765625,3265.14990234375,3297.5,3297.449951171875,3285.050048828125,3220.60009765625,3241.0,3233.0,3205.35009765625,3211.0,3239.0,3225.85009765625,3210.0,3156.0,3175.0,3201.050048828125,3223.949951171875,3230.10009765625,3209.14990234375,3173.0,3182.300048828125,3193.39990234375,3214.10009765625,3268.75,3277.300048828125,3305.0,3302.0,3302.0,3265.199951171875,3260.800048828125,3250.10009765625,3272.75,3352.0,3477.050048828125,3465.0,3445.64990234375,3436.050048828125,3359.050048828125,3372.10009765625,3380.199951171875,3385.0,3385.050048828125,3331.0,3360.89990234375,3415.0,3413.60009765625,3368.0,3401.25,3441.25,3456.60009765625,3425.050048828125,3430.050048828125,3414.0,3411.0,3435.199951171875,3413.199951171875,3356.5,3372.0,3365.050048828125,3376.0,3378.10009765625,3350.25,3360.10009765625,3365.0,3383.050048828125,3343.64990234375,3356.800048828125,3370.050048828125,3405.14990234375,3398.10009765625,3422.300048828125,3435.050048828125,3445.0,3483.0,3545.0,3545.60009765625,3562.449951171875,3575.25,3580.0,3528.0,3565.050048828125,3558.64990234375,3536.0,3555.699951171875,3527.35009765625,3505.550048828125,3480.10009765625,3477.300048828125,3551.199951171875,3575.050048828125,3631.0,3601.35009765625,3605.0,3538.10009765625,3525.0,3519.10009765625,3503.35009765625,3484.0,3451.89990234375,3444.050048828125,3401.300048828125,3377.199951171875,3330.0,3337.0,3333.75,3350.050048828125,3311.0,3343.199951171875,3344.300048828125,3359.0,3366.0,3369.550048828125,3342.050048828125,3322.35009765625,3327.0,3356.050048828125,3414.199951171875,3492.550048828125,3491.25,3501.0,3481.10009765625,3500.0,3453.0,3433.0,3475.800048828125,3481.0,3490.050048828125,3498.0,3502.800048828125,3525.14990234375,3591.699951171875,3602.050048828125,3615.0,3631.0,3563.0,3627.60009765625,3666.699951171875,3830.14990234375,3790.0,3766.550048828125,3743.35009765625,3762.0,3790.14990234375,3768.0,3792.10009765625,3765.39990234375,3773.0,3767.25,3687.050048828125,3651.0,3674.85009765625,3672.39990234375,3682.75,3688.0,3707.0,3821.60009765625,3885.0,3855.550048828125,3812.550048828125,3862.0,3915.050048828125,3842.75,3805.60009765625,3778.699951171875,3780.85009765625,3787.0,3796.449951171875],\"name\":\"OHLC\",\"open\":[3261.0,3252.0,3306.699951171875,3330.199951171875,3300.0,3229.0,3285.0,3290.10009765625,3329.0,3342.89990234375,3317.0,3330.0,3380.0,3380.0,3365.0,3388.0,3425.0,3425.300048828125,3426.0,3420.0,3449.0,3363.0,3427.0,3504.0,3473.14990234375,3468.89990234375,3478.050048828125,3515.0,3520.0,3549.0,3505.0,3487.0,3527.199951171875,3526.14990234375,3502.0,3494.0,3414.949951171875,3421.0,3422.5,3390.0,3328.5,3323.0,3361.0,3354.0,3361.89990234375,3364.0,3385.0,3312.89990234375,3333.0,3280.0,3250.0,3208.0,3150.5,3169.64990234375,3143.300048828125,3130.050048828125,3114.89990234375,3148.89990234375,3135.0,3127.0,3129.0,3189.949951171875,3224.949951171875,3185.5,3225.0,3220.0,3264.0,3227.949951171875,3210.0,3134.10009765625,3154.949951171875,3130.75,3090.0,3110.0,3151.10009765625,3183.0,3181.0,3185.0,3200.39990234375,3235.0,3216.0,3180.14990234375,3220.0,3245.0,3252.60009765625,3290.0,3309.0,3279.14990234375,3284.0,3256.199951171875,3255.949951171875,3225.949951171875,3210.0,3230.0,3306.0,3276.0,3294.0,3293.5,3360.800048828125,3315.0,3309.0,3314.0,3326.25,3315.0,3280.0,3253.0,3261.0,3245.0,3215.0,3260.0,3243.699951171875,3245.300048828125,3197.0,3190.0,3214.0,3250.0,3260.0,3237.300048828125,3205.0,3202.0,3208.0,3220.0,3314.300048828125,3290.0,3320.0,3306.550048828125,3302.0,3324.75,3295.0,3280.949951171875,3284.0,3365.0,3510.0,3476.0,3500.0,3453.10009765625,3404.050048828125,3381.0,3397.5,3400.35009765625,3394.949951171875,3385.0,3364.39990234375,3415.0,3434.949951171875,3420.0,3401.25,3453.949951171875,3484.050048828125,3464.89990234375,3450.0,3438.10009765625,3440.699951171875,3450.0,3455.0,3410.0,3375.0,3400.0,3388.0,3408.0,3375.0,3394.0,3381.050048828125,3398.0,3401.0,3366.0,3378.0,3420.0,3434.0,3430.800048828125,3455.25,3462.0,3492.0,3571.10009765625,3570.050048828125,3567.85009765625,3580.050048828125,3580.0,3588.550048828125,3584.0,3602.5,3567.60009765625,3590.0,3600.0,3537.199951171875,3534.199951171875,3486.300048828125,3554.0,3591.0,3645.050048828125,3640.050048828125,3650.0,3575.0,3530.0,3566.0,3530.0,3511.0,3469.5,3450.39990234375,3473.0,3390.5,3368.050048828125,3350.0,3350.0,3399.0,3355.0,3343.199951171875,3382.0,3375.0,3378.0,3371.449951171875,3390.10009765625,3338.0,3356.0,3383.10009765625,3430.050048828125,3497.85009765625,3491.25,3519.60009765625,3500.0,3530.0,3494.25,3457.10009765625,3481.0,3499.449951171875,3500.0,3544.64990234375,3538.0,3532.60009765625,3605.0,3633.0,3622.89990234375,3638.949951171875,3643.550048828125,3630.0,3666.699951171875,3858.10009765625,3845.0,3827.25,3756.25,3800.0,3819.85009765625,3799.0,3824.0,3792.0,3790.0,3811.10009765625,3767.0,3701.75,3675.0,3737.89990234375,3709.949951171875,3690.0,3724.0,3848.0,3960.0,3899.0,3819.0,3898.0,3945.0,3900.0,3880.0,3839.89990234375,3800.800048828125,3807.449951171875,3811.199951171875],\"x\":[\"2023-01-02T00:00:00\",\"2023-01-03T00:00:00\",\"2023-01-04T00:00:00\",\"2023-01-05T00:00:00\",\"2023-01-06T00:00:00\",\"2023-01-09T00:00:00\",\"2023-01-10T00:00:00\",\"2023-01-11T00:00:00\",\"2023-01-12T00:00:00\",\"2023-01-13T00:00:00\",\"2023-01-16T00:00:00\",\"2023-01-17T00:00:00\",\"2023-01-18T00:00:00\",\"2023-01-19T00:00:00\",\"2023-01-20T00:00:00\",\"2023-01-23T00:00:00\",\"2023-01-24T00:00:00\",\"2023-01-25T00:00:00\",\"2023-01-27T00:00:00\",\"2023-01-30T00:00:00\",\"2023-01-31T00:00:00\",\"2023-02-01T00:00:00\",\"2023-02-02T00:00:00\",\"2023-02-03T00:00:00\",\"2023-02-06T00:00:00\",\"2023-02-07T00:00:00\",\"2023-02-08T00:00:00\",\"2023-02-09T00:00:00\",\"2023-02-10T00:00:00\",\"2023-02-13T00:00:00\",\"2023-02-14T00:00:00\",\"2023-02-15T00:00:00\",\"2023-02-16T00:00:00\",\"2023-02-17T00:00:00\",\"2023-02-20T00:00:00\",\"2023-02-21T00:00:00\",\"2023-02-22T00:00:00\",\"2023-02-23T00:00:00\",\"2023-02-24T00:00:00\",\"2023-02-27T00:00:00\",\"2023-02-28T00:00:00\",\"2023-03-01T00:00:00\",\"2023-03-02T00:00:00\",\"2023-03-03T00:00:00\",\"2023-03-06T00:00:00\",\"2023-03-08T00:00:00\",\"2023-03-09T00:00:00\",\"2023-03-10T00:00:00\",\"2023-03-13T00:00:00\",\"2023-03-14T00:00:00\",\"2023-03-15T00:00:00\",\"2023-03-16T00:00:00\",\"2023-03-17T00:00:00\",\"2023-03-20T00:00:00\",\"2023-03-21T00:00:00\",\"2023-03-22T00:00:00\",\"2023-03-23T00:00:00\",\"2023-03-24T00:00:00\",\"2023-03-27T00:00:00\",\"2023-03-28T00:00:00\",\"2023-03-29T00:00:00\",\"2023-03-31T00:00:00\",\"2023-04-03T00:00:00\",\"2023-04-05T00:00:00\",\"2023-04-06T00:00:00\",\"2023-04-10T00:00:00\",\"2023-04-11T00:00:00\",\"2023-04-12T00:00:00\",\"2023-04-13T00:00:00\",\"2023-04-17T00:00:00\",\"2023-04-18T00:00:00\",\"2023-04-19T00:00:00\",\"2023-04-20T00:00:00\",\"2023-04-21T00:00:00\",\"2023-04-24T00:00:00\",\"2023-04-25T00:00:00\",\"2023-04-26T00:00:00\",\"2023-04-27T00:00:00\",\"2023-04-28T00:00:00\",\"2023-05-02T00:00:00\",\"2023-05-03T00:00:00\",\"2023-05-04T00:00:00\",\"2023-05-05T00:00:00\",\"2023-05-08T00:00:00\",\"2023-05-09T00:00:00\",\"2023-05-10T00:00:00\",\"2023-05-11T00:00:00\",\"2023-05-12T00:00:00\",\"2023-05-15T00:00:00\",\"2023-05-16T00:00:00\",\"2023-05-17T00:00:00\",\"2023-05-18T00:00:00\",\"2023-05-19T00:00:00\",\"2023-05-22T00:00:00\",\"2023-05-23T00:00:00\",\"2023-05-24T00:00:00\",\"2023-05-25T00:00:00\",\"2023-05-26T00:00:00\",\"2023-05-29T00:00:00\",\"2023-05-30T00:00:00\",\"2023-05-31T00:00:00\",\"2023-06-01T00:00:00\",\"2023-06-02T00:00:00\",\"2023-06-05T00:00:00\",\"2023-06-06T00:00:00\",\"2023-06-07T00:00:00\",\"2023-06-08T00:00:00\",\"2023-06-09T00:00:00\",\"2023-06-12T00:00:00\",\"2023-06-13T00:00:00\",\"2023-06-14T00:00:00\",\"2023-06-15T00:00:00\",\"2023-06-16T00:00:00\",\"2023-06-19T00:00:00\",\"2023-06-20T00:00:00\",\"2023-06-21T00:00:00\",\"2023-06-22T00:00:00\",\"2023-06-23T00:00:00\",\"2023-06-26T00:00:00\",\"2023-06-27T00:00:00\",\"2023-06-28T00:00:00\",\"2023-06-30T00:00:00\",\"2023-07-03T00:00:00\",\"2023-07-04T00:00:00\",\"2023-07-05T00:00:00\",\"2023-07-06T00:00:00\",\"2023-07-07T00:00:00\",\"2023-07-10T00:00:00\",\"2023-07-11T00:00:00\",\"2023-07-12T00:00:00\",\"2023-07-13T00:00:00\",\"2023-07-14T00:00:00\",\"2023-07-17T00:00:00\",\"2023-07-18T00:00:00\",\"2023-07-19T00:00:00\",\"2023-07-20T00:00:00\",\"2023-07-21T00:00:00\",\"2023-07-24T00:00:00\",\"2023-07-25T00:00:00\",\"2023-07-26T00:00:00\",\"2023-07-27T00:00:00\",\"2023-07-28T00:00:00\",\"2023-07-31T00:00:00\",\"2023-08-01T00:00:00\",\"2023-08-02T00:00:00\",\"2023-08-03T00:00:00\",\"2023-08-04T00:00:00\",\"2023-08-07T00:00:00\",\"2023-08-08T00:00:00\",\"2023-08-09T00:00:00\",\"2023-08-10T00:00:00\",\"2023-08-11T00:00:00\",\"2023-08-14T00:00:00\",\"2023-08-16T00:00:00\",\"2023-08-17T00:00:00\",\"2023-08-18T00:00:00\",\"2023-08-21T00:00:00\",\"2023-08-22T00:00:00\",\"2023-08-23T00:00:00\",\"2023-08-24T00:00:00\",\"2023-08-25T00:00:00\",\"2023-08-28T00:00:00\",\"2023-08-29T00:00:00\",\"2023-08-30T00:00:00\",\"2023-08-31T00:00:00\",\"2023-09-01T00:00:00\",\"2023-09-04T00:00:00\",\"2023-09-05T00:00:00\",\"2023-09-06T00:00:00\",\"2023-09-07T00:00:00\",\"2023-09-08T00:00:00\",\"2023-09-11T00:00:00\",\"2023-09-12T00:00:00\",\"2023-09-13T00:00:00\",\"2023-09-14T00:00:00\",\"2023-09-15T00:00:00\",\"2023-09-18T00:00:00\",\"2023-09-20T00:00:00\",\"2023-09-21T00:00:00\",\"2023-09-22T00:00:00\",\"2023-09-25T00:00:00\",\"2023-09-26T00:00:00\",\"2023-09-27T00:00:00\",\"2023-09-28T00:00:00\",\"2023-09-29T00:00:00\",\"2023-10-03T00:00:00\",\"2023-10-04T00:00:00\",\"2023-10-05T00:00:00\",\"2023-10-06T00:00:00\",\"2023-10-09T00:00:00\",\"2023-10-10T00:00:00\",\"2023-10-11T00:00:00\",\"2023-10-12T00:00:00\",\"2023-10-13T00:00:00\",\"2023-10-16T00:00:00\",\"2023-10-17T00:00:00\",\"2023-10-18T00:00:00\",\"2023-10-19T00:00:00\",\"2023-10-20T00:00:00\",\"2023-10-23T00:00:00\",\"2023-10-25T00:00:00\",\"2023-10-26T00:00:00\",\"2023-10-27T00:00:00\",\"2023-10-30T00:00:00\",\"2023-10-31T00:00:00\",\"2023-11-01T00:00:00\",\"2023-11-02T00:00:00\",\"2023-11-03T00:00:00\",\"2023-11-06T00:00:00\",\"2023-11-07T00:00:00\",\"2023-11-08T00:00:00\",\"2023-11-09T00:00:00\",\"2023-11-10T00:00:00\",\"2023-11-13T00:00:00\",\"2023-11-15T00:00:00\",\"2023-11-16T00:00:00\",\"2023-11-17T00:00:00\",\"2023-11-20T00:00:00\",\"2023-11-21T00:00:00\",\"2023-11-22T00:00:00\",\"2023-11-23T00:00:00\",\"2023-11-24T00:00:00\",\"2023-11-28T00:00:00\",\"2023-11-29T00:00:00\",\"2023-11-30T00:00:00\",\"2023-12-01T00:00:00\",\"2023-12-04T00:00:00\",\"2023-12-05T00:00:00\",\"2023-12-06T00:00:00\",\"2023-12-07T00:00:00\",\"2023-12-08T00:00:00\",\"2023-12-11T00:00:00\",\"2023-12-12T00:00:00\",\"2023-12-13T00:00:00\",\"2023-12-14T00:00:00\",\"2023-12-15T00:00:00\",\"2023-12-18T00:00:00\",\"2023-12-19T00:00:00\",\"2023-12-20T00:00:00\",\"2023-12-21T00:00:00\",\"2023-12-22T00:00:00\",\"2023-12-26T00:00:00\",\"2023-12-27T00:00:00\",\"2023-12-28T00:00:00\",\"2023-12-29T00:00:00\",\"2024-01-01T00:00:00\",\"2024-01-02T00:00:00\",\"2024-01-03T00:00:00\",\"2024-01-04T00:00:00\",\"2024-01-05T00:00:00\",\"2024-01-08T00:00:00\",\"2024-01-09T00:00:00\",\"2024-01-10T00:00:00\",\"2024-01-11T00:00:00\",\"2024-01-12T00:00:00\",\"2024-01-15T00:00:00\",\"2024-01-16T00:00:00\",\"2024-01-17T00:00:00\",\"2024-01-18T00:00:00\",\"2024-01-19T00:00:00\",\"2024-01-23T00:00:00\",\"2024-01-24T00:00:00\",\"2024-01-25T00:00:00\",\"2024-01-29T00:00:00\",\"2024-01-30T00:00:00\",\"2024-01-31T00:00:00\"],\"type\":\"candlestick\"},{\"line\":{\"color\":\"black\"},\"mode\":\"lines\",\"name\":\"Simple Moving Average\",\"x\":[\"2023-01-02T00:00:00\",\"2023-01-03T00:00:00\",\"2023-01-04T00:00:00\",\"2023-01-05T00:00:00\",\"2023-01-06T00:00:00\",\"2023-01-09T00:00:00\",\"2023-01-10T00:00:00\",\"2023-01-11T00:00:00\",\"2023-01-12T00:00:00\",\"2023-01-13T00:00:00\",\"2023-01-16T00:00:00\",\"2023-01-17T00:00:00\",\"2023-01-18T00:00:00\",\"2023-01-19T00:00:00\",\"2023-01-20T00:00:00\",\"2023-01-23T00:00:00\",\"2023-01-24T00:00:00\",\"2023-01-25T00:00:00\",\"2023-01-27T00:00:00\",\"2023-01-30T00:00:00\",\"2023-01-31T00:00:00\",\"2023-02-01T00:00:00\",\"2023-02-02T00:00:00\",\"2023-02-03T00:00:00\",\"2023-02-06T00:00:00\",\"2023-02-07T00:00:00\",\"2023-02-08T00:00:00\",\"2023-02-09T00:00:00\",\"2023-02-10T00:00:00\",\"2023-02-13T00:00:00\",\"2023-02-14T00:00:00\",\"2023-02-15T00:00:00\",\"2023-02-16T00:00:00\",\"2023-02-17T00:00:00\",\"2023-02-20T00:00:00\",\"2023-02-21T00:00:00\",\"2023-02-22T00:00:00\",\"2023-02-23T00:00:00\",\"2023-02-24T00:00:00\",\"2023-02-27T00:00:00\",\"2023-02-28T00:00:00\",\"2023-03-01T00:00:00\",\"2023-03-02T00:00:00\",\"2023-03-03T00:00:00\",\"2023-03-06T00:00:00\",\"2023-03-08T00:00:00\",\"2023-03-09T00:00:00\",\"2023-03-10T00:00:00\",\"2023-03-13T00:00:00\",\"2023-03-14T00:00:00\",\"2023-03-15T00:00:00\",\"2023-03-16T00:00:00\",\"2023-03-17T00:00:00\",\"2023-03-20T00:00:00\",\"2023-03-21T00:00:00\",\"2023-03-22T00:00:00\",\"2023-03-23T00:00:00\",\"2023-03-24T00:00:00\",\"2023-03-27T00:00:00\",\"2023-03-28T00:00:00\",\"2023-03-29T00:00:00\",\"2023-03-31T00:00:00\",\"2023-04-03T00:00:00\",\"2023-04-05T00:00:00\",\"2023-04-06T00:00:00\",\"2023-04-10T00:00:00\",\"2023-04-11T00:00:00\",\"2023-04-12T00:00:00\",\"2023-04-13T00:00:00\",\"2023-04-17T00:00:00\",\"2023-04-18T00:00:00\",\"2023-04-19T00:00:00\",\"2023-04-20T00:00:00\",\"2023-04-21T00:00:00\",\"2023-04-24T00:00:00\",\"2023-04-25T00:00:00\",\"2023-04-26T00:00:00\",\"2023-04-27T00:00:00\",\"2023-04-28T00:00:00\",\"2023-05-02T00:00:00\",\"2023-05-03T00:00:00\",\"2023-05-04T00:00:00\",\"2023-05-05T00:00:00\",\"2023-05-08T00:00:00\",\"2023-05-09T00:00:00\",\"2023-05-10T00:00:00\",\"2023-05-11T00:00:00\",\"2023-05-12T00:00:00\",\"2023-05-15T00:00:00\",\"2023-05-16T00:00:00\",\"2023-05-17T00:00:00\",\"2023-05-18T00:00:00\",\"2023-05-19T00:00:00\",\"2023-05-22T00:00:00\",\"2023-05-23T00:00:00\",\"2023-05-24T00:00:00\",\"2023-05-25T00:00:00\",\"2023-05-26T00:00:00\",\"2023-05-29T00:00:00\",\"2023-05-30T00:00:00\",\"2023-05-31T00:00:00\",\"2023-06-01T00:00:00\",\"2023-06-02T00:00:00\",\"2023-06-05T00:00:00\",\"2023-06-06T00:00:00\",\"2023-06-07T00:00:00\",\"2023-06-08T00:00:00\",\"2023-06-09T00:00:00\",\"2023-06-12T00:00:00\",\"2023-06-13T00:00:00\",\"2023-06-14T00:00:00\",\"2023-06-15T00:00:00\",\"2023-06-16T00:00:00\",\"2023-06-19T00:00:00\",\"2023-06-20T00:00:00\",\"2023-06-21T00:00:00\",\"2023-06-22T00:00:00\",\"2023-06-23T00:00:00\",\"2023-06-26T00:00:00\",\"2023-06-27T00:00:00\",\"2023-06-28T00:00:00\",\"2023-06-30T00:00:00\",\"2023-07-03T00:00:00\",\"2023-07-04T00:00:00\",\"2023-07-05T00:00:00\",\"2023-07-06T00:00:00\",\"2023-07-07T00:00:00\",\"2023-07-10T00:00:00\",\"2023-07-11T00:00:00\",\"2023-07-12T00:00:00\",\"2023-07-13T00:00:00\",\"2023-07-14T00:00:00\",\"2023-07-17T00:00:00\",\"2023-07-18T00:00:00\",\"2023-07-19T00:00:00\",\"2023-07-20T00:00:00\",\"2023-07-21T00:00:00\",\"2023-07-24T00:00:00\",\"2023-07-25T00:00:00\",\"2023-07-26T00:00:00\",\"2023-07-27T00:00:00\",\"2023-07-28T00:00:00\",\"2023-07-31T00:00:00\",\"2023-08-01T00:00:00\",\"2023-08-02T00:00:00\",\"2023-08-03T00:00:00\",\"2023-08-04T00:00:00\",\"2023-08-07T00:00:00\",\"2023-08-08T00:00:00\",\"2023-08-09T00:00:00\",\"2023-08-10T00:00:00\",\"2023-08-11T00:00:00\",\"2023-08-14T00:00:00\",\"2023-08-16T00:00:00\",\"2023-08-17T00:00:00\",\"2023-08-18T00:00:00\",\"2023-08-21T00:00:00\",\"2023-08-22T00:00:00\",\"2023-08-23T00:00:00\",\"2023-08-24T00:00:00\",\"2023-08-25T00:00:00\",\"2023-08-28T00:00:00\",\"2023-08-29T00:00:00\",\"2023-08-30T00:00:00\",\"2023-08-31T00:00:00\",\"2023-09-01T00:00:00\",\"2023-09-04T00:00:00\",\"2023-09-05T00:00:00\",\"2023-09-06T00:00:00\",\"2023-09-07T00:00:00\",\"2023-09-08T00:00:00\",\"2023-09-11T00:00:00\",\"2023-09-12T00:00:00\",\"2023-09-13T00:00:00\",\"2023-09-14T00:00:00\",\"2023-09-15T00:00:00\",\"2023-09-18T00:00:00\",\"2023-09-20T00:00:00\",\"2023-09-21T00:00:00\",\"2023-09-22T00:00:00\",\"2023-09-25T00:00:00\",\"2023-09-26T00:00:00\",\"2023-09-27T00:00:00\",\"2023-09-28T00:00:00\",\"2023-09-29T00:00:00\",\"2023-10-03T00:00:00\",\"2023-10-04T00:00:00\",\"2023-10-05T00:00:00\",\"2023-10-06T00:00:00\",\"2023-10-09T00:00:00\",\"2023-10-10T00:00:00\",\"2023-10-11T00:00:00\",\"2023-10-12T00:00:00\",\"2023-10-13T00:00:00\",\"2023-10-16T00:00:00\",\"2023-10-17T00:00:00\",\"2023-10-18T00:00:00\",\"2023-10-19T00:00:00\",\"2023-10-20T00:00:00\",\"2023-10-23T00:00:00\",\"2023-10-25T00:00:00\",\"2023-10-26T00:00:00\",\"2023-10-27T00:00:00\",\"2023-10-30T00:00:00\",\"2023-10-31T00:00:00\",\"2023-11-01T00:00:00\",\"2023-11-02T00:00:00\",\"2023-11-03T00:00:00\",\"2023-11-06T00:00:00\",\"2023-11-07T00:00:00\",\"2023-11-08T00:00:00\",\"2023-11-09T00:00:00\",\"2023-11-10T00:00:00\",\"2023-11-13T00:00:00\",\"2023-11-15T00:00:00\",\"2023-11-16T00:00:00\",\"2023-11-17T00:00:00\",\"2023-11-20T00:00:00\",\"2023-11-21T00:00:00\",\"2023-11-22T00:00:00\",\"2023-11-23T00:00:00\",\"2023-11-24T00:00:00\",\"2023-11-28T00:00:00\",\"2023-11-29T00:00:00\",\"2023-11-30T00:00:00\",\"2023-12-01T00:00:00\",\"2023-12-04T00:00:00\",\"2023-12-05T00:00:00\",\"2023-12-06T00:00:00\",\"2023-12-07T00:00:00\",\"2023-12-08T00:00:00\",\"2023-12-11T00:00:00\",\"2023-12-12T00:00:00\",\"2023-12-13T00:00:00\",\"2023-12-14T00:00:00\",\"2023-12-15T00:00:00\",\"2023-12-18T00:00:00\",\"2023-12-19T00:00:00\",\"2023-12-20T00:00:00\",\"2023-12-21T00:00:00\",\"2023-12-22T00:00:00\",\"2023-12-26T00:00:00\",\"2023-12-27T00:00:00\",\"2023-12-28T00:00:00\",\"2023-12-29T00:00:00\",\"2024-01-01T00:00:00\",\"2024-01-02T00:00:00\",\"2024-01-03T00:00:00\",\"2024-01-04T00:00:00\",\"2024-01-05T00:00:00\",\"2024-01-08T00:00:00\",\"2024-01-09T00:00:00\",\"2024-01-10T00:00:00\",\"2024-01-11T00:00:00\",\"2024-01-12T00:00:00\",\"2024-01-15T00:00:00\",\"2024-01-16T00:00:00\",\"2024-01-17T00:00:00\",\"2024-01-18T00:00:00\",\"2024-01-19T00:00:00\",\"2024-01-23T00:00:00\",\"2024-01-24T00:00:00\",\"2024-01-25T00:00:00\",\"2024-01-29T00:00:00\",\"2024-01-30T00:00:00\",\"2024-01-31T00:00:00\"],\"y\":[null,null,null,null,3282.02001953125,3293.72001953125,3288.72998046875,3291.539990234375,3296.189990234375,3328.789990234375,3331.610009765625,3350.010009765625,3362.27001953125,3370.02001953125,3367.730029296875,3383.9,3395.480029296875,3403.430029296875,3411.02001953125,3425.12998046875,3413.889990234375,3408.3,3414.42998046875,3428.67998046875,3433.939990234375,3456.710009765625,3479.060009765625,3495.150048828125,3506.200048828125,3510.6900390625,3516.200048828125,3516.310009765625,3519.75,3512.469970703125,3513.45,3503.62998046875,3479.810009765625,3450.960009765625,3430.82001953125,3399.730029296875,3372.100048828125,3368.930029296875,3350.460009765625,3338.8,3346.8,3362.3099609375,3352.539990234375,3354.45,3342.410009765625,3311.02998046875,3272.72998046875,3242.3599609375,3212.019970703125,3184.289990234375,3162.52001953125,3148.900048828125,3136.830029296875,3125.07001953125,3120.87001953125,3122.82998046875,3124.449951171875,3140.699951171875,3156.599951171875,3180.099951171875,3201.0599609375,3225.9599609375,3227.539990234375,3235.869970703125,3225.67998046875,3209.439990234375,3182.910009765625,3158.07001953125,3130.700048828125,3125.100048828125,3132.16005859375,3141.21005859375,3162.92001953125,3179.55,3191.22998046875,3200.149951171875,3200.929931640625,3205.43994140625,3213.98994140625,3220.2599609375,3233.02998046875,3254.410009765625,3266.7,3275.42001953125,3276.310009765625,3271.289990234375,3255.669970703125,3239.210009765625,3228.92001953125,3237.65,3245.430029296875,3264.36005859375,3283.0900390625,3304.3,3308.630029296875,3312.460009765625,3309.689990234375,3315.789990234375,3311.130029296875,3304.839990234375,3288.060009765625,3285.139990234375,3267.62998046875,3248.369970703125,3239.969970703125,3242.249951171875,3237.47998046875,3233.45,3226.569970703125,3219.269970703125,3216.069970703125,3217.499951171875,3221.93994140625,3230.22998046875,3226.07998046875,3220.010009765625,3211.460009765625,3224.210009765625,3235.4,3259.2400390625,3283.760009765625,3305.25,3310.65,3310.57998046875,3303.28994140625,3291.279931640625,3294.8099609375,3331.88994140625,3375.83994140625,3420.72998046875,3462.760009765625,3487.310009765625,3458.0400390625,3438.650048828125,3419.110009765625,3402.760009765625,3389.47998046875,3386.899951171875,3392.23994140625,3402.819970703125,3413.28994140625,3413.899951171875,3431.52998046875,3444.05,3447.760009765625,3452.130029296875,3460.56005859375,3461.61005859375,3454.770068359375,3452.330029296875,3446.980029296875,3431.980029296875,3422.55,3409.0099609375,3396.97998046875,3387.37998046875,3390.219970703125,3385.0,3383.8,3382.339990234375,3376.15,3375.72998046875,3384.319970703125,3394.960009765625,3402.75,3422.439990234375,3434.97998046875,3447.4099609375,3477.699951171875,3505.289990234375,3526.25,3557.530029296875,3582.630029296875,3587.680029296875,3591.17001953125,3599.889990234375,3595.6599609375,3591.569970703125,3588.219970703125,3578.5099609375,3563.5,3550.8400390625,3541.250048828125,3541.26005859375,3558.1900390625,3580.1400390625,3603.15,3617.57998046875,3608.219970703125,3598.110009765625,3575.25,3550.880029296875,3526.350048828125,3508.97001953125,3493.710009765625,3470.92998046875,3447.539990234375,3417.439990234375,3396.5,3373.3,3365.02001953125,3353.12998046875,3357.8,3357.789990234375,3358.12998046875,3358.469970703125,3368.65,3366.119970703125,3362.62998046875,3352.889990234375,3359.660009765625,3382.92001953125,3413.92001953125,3451.150048828125,3486.880029296875,3512.05,3514.12998046875,3505.060009765625,3495.169970703125,3495.87998046875,3487.37001953125,3488.05,3499.119970703125,3511.410009765625,3529.480029296875,3554.939990234375,3577.95,3604.039990234375,3632.139990234375,3630.02998046875,3640.5,3687.360009765625,3730.62001953125,3759.439990234375,3796.739990234375,3820.789990234375,3813.389990234375,3800.660009765625,3799.660009765625,3803.62998046875,3804.8099609375,3802.22998046875,3799.7599609375,3775.869970703125,3749.25,3738.15,3711.589990234375,3692.92998046875,3697.189990234375,3710.939990234375,3739.92001953125,3785.02001953125,3819.300048828125,3853.61005859375,3887.020068359375,3899.070068359375,3889.96005859375,3886.06005859375,3871.200048828125,3850.880029296875,3822.380029296875,3813.92001953125],\"type\":\"scatter\"}],                        {\"template\":{\"data\":{\"histogram2dcontour\":[{\"type\":\"histogram2dcontour\",\"colorbar\":{\"outlinewidth\":0,\"ticks\":\"\"},\"colorscale\":[[0.0,\"#0d0887\"],[0.1111111111111111,\"#46039f\"],[0.2222222222222222,\"#7201a8\"],[0.3333333333333333,\"#9c179e\"],[0.4444444444444444,\"#bd3786\"],[0.5555555555555556,\"#d8576b\"],[0.6666666666666666,\"#ed7953\"],[0.7777777777777778,\"#fb9f3a\"],[0.8888888888888888,\"#fdca26\"],[1.0,\"#f0f921\"]]}],\"choropleth\":[{\"type\":\"choropleth\",\"colorbar\":{\"outlinewidth\":0,\"ticks\":\"\"}}],\"histogram2d\":[{\"type\":\"histogram2d\",\"colorbar\":{\"outlinewidth\":0,\"ticks\":\"\"},\"colorscale\":[[0.0,\"#0d0887\"],[0.1111111111111111,\"#46039f\"],[0.2222222222222222,\"#7201a8\"],[0.3333333333333333,\"#9c179e\"],[0.4444444444444444,\"#bd3786\"],[0.5555555555555556,\"#d8576b\"],[0.6666666666666666,\"#ed7953\"],[0.7777777777777778,\"#fb9f3a\"],[0.8888888888888888,\"#fdca26\"],[1.0,\"#f0f921\"]]}],\"heatmap\":[{\"type\":\"heatmap\",\"colorbar\":{\"outlinewidth\":0,\"ticks\":\"\"},\"colorscale\":[[0.0,\"#0d0887\"],[0.1111111111111111,\"#46039f\"],[0.2222222222222222,\"#7201a8\"],[0.3333333333333333,\"#9c179e\"],[0.4444444444444444,\"#bd3786\"],[0.5555555555555556,\"#d8576b\"],[0.6666666666666666,\"#ed7953\"],[0.7777777777777778,\"#fb9f3a\"],[0.8888888888888888,\"#fdca26\"],[1.0,\"#f0f921\"]]}],\"heatmapgl\":[{\"type\":\"heatmapgl\",\"colorbar\":{\"outlinewidth\":0,\"ticks\":\"\"},\"colorscale\":[[0.0,\"#0d0887\"],[0.1111111111111111,\"#46039f\"],[0.2222222222222222,\"#7201a8\"],[0.3333333333333333,\"#9c179e\"],[0.4444444444444444,\"#bd3786\"],[0.5555555555555556,\"#d8576b\"],[0.6666666666666666,\"#ed7953\"],[0.7777777777777778,\"#fb9f3a\"],[0.8888888888888888,\"#fdca26\"],[1.0,\"#f0f921\"]]}],\"contourcarpet\":[{\"type\":\"contourcarpet\",\"colorbar\":{\"outlinewidth\":0,\"ticks\":\"\"}}],\"contour\":[{\"type\":\"contour\",\"colorbar\":{\"outlinewidth\":0,\"ticks\":\"\"},\"colorscale\":[[0.0,\"#0d0887\"],[0.1111111111111111,\"#46039f\"],[0.2222222222222222,\"#7201a8\"],[0.3333333333333333,\"#9c179e\"],[0.4444444444444444,\"#bd3786\"],[0.5555555555555556,\"#d8576b\"],[0.6666666666666666,\"#ed7953\"],[0.7777777777777778,\"#fb9f3a\"],[0.8888888888888888,\"#fdca26\"],[1.0,\"#f0f921\"]]}],\"surface\":[{\"type\":\"surface\",\"colorbar\":{\"outlinewidth\":0,\"ticks\":\"\"},\"colorscale\":[[0.0,\"#0d0887\"],[0.1111111111111111,\"#46039f\"],[0.2222222222222222,\"#7201a8\"],[0.3333333333333333,\"#9c179e\"],[0.4444444444444444,\"#bd3786\"],[0.5555555555555556,\"#d8576b\"],[0.6666666666666666,\"#ed7953\"],[0.7777777777777778,\"#fb9f3a\"],[0.8888888888888888,\"#fdca26\"],[1.0,\"#f0f921\"]]}],\"mesh3d\":[{\"type\":\"mesh3d\",\"colorbar\":{\"outlinewidth\":0,\"ticks\":\"\"}}],\"scatter\":[{\"fillpattern\":{\"fillmode\":\"overlay\",\"size\":10,\"solidity\":0.2},\"type\":\"scatter\"}],\"parcoords\":[{\"type\":\"parcoords\",\"line\":{\"colorbar\":{\"outlinewidth\":0,\"ticks\":\"\"}}}],\"scatterpolargl\":[{\"type\":\"scatterpolargl\",\"marker\":{\"colorbar\":{\"outlinewidth\":0,\"ticks\":\"\"}}}],\"bar\":[{\"error_x\":{\"color\":\"#2a3f5f\"},\"error_y\":{\"color\":\"#2a3f5f\"},\"marker\":{\"line\":{\"color\":\"#E5ECF6\",\"width\":0.5},\"pattern\":{\"fillmode\":\"overlay\",\"size\":10,\"solidity\":0.2}},\"type\":\"bar\"}],\"scattergeo\":[{\"type\":\"scattergeo\",\"marker\":{\"colorbar\":{\"outlinewidth\":0,\"ticks\":\"\"}}}],\"scatterpolar\":[{\"type\":\"scatterpolar\",\"marker\":{\"colorbar\":{\"outlinewidth\":0,\"ticks\":\"\"}}}],\"histogram\":[{\"marker\":{\"pattern\":{\"fillmode\":\"overlay\",\"size\":10,\"solidity\":0.2}},\"type\":\"histogram\"}],\"scattergl\":[{\"type\":\"scattergl\",\"marker\":{\"colorbar\":{\"outlinewidth\":0,\"ticks\":\"\"}}}],\"scatter3d\":[{\"type\":\"scatter3d\",\"line\":{\"colorbar\":{\"outlinewidth\":0,\"ticks\":\"\"}},\"marker\":{\"colorbar\":{\"outlinewidth\":0,\"ticks\":\"\"}}}],\"scattermapbox\":[{\"type\":\"scattermapbox\",\"marker\":{\"colorbar\":{\"outlinewidth\":0,\"ticks\":\"\"}}}],\"scatterternary\":[{\"type\":\"scatterternary\",\"marker\":{\"colorbar\":{\"outlinewidth\":0,\"ticks\":\"\"}}}],\"scattercarpet\":[{\"type\":\"scattercarpet\",\"marker\":{\"colorbar\":{\"outlinewidth\":0,\"ticks\":\"\"}}}],\"carpet\":[{\"aaxis\":{\"endlinecolor\":\"#2a3f5f\",\"gridcolor\":\"white\",\"linecolor\":\"white\",\"minorgridcolor\":\"white\",\"startlinecolor\":\"#2a3f5f\"},\"baxis\":{\"endlinecolor\":\"#2a3f5f\",\"gridcolor\":\"white\",\"linecolor\":\"white\",\"minorgridcolor\":\"white\",\"startlinecolor\":\"#2a3f5f\"},\"type\":\"carpet\"}],\"table\":[{\"cells\":{\"fill\":{\"color\":\"#EBF0F8\"},\"line\":{\"color\":\"white\"}},\"header\":{\"fill\":{\"color\":\"#C8D4E3\"},\"line\":{\"color\":\"white\"}},\"type\":\"table\"}],\"barpolar\":[{\"marker\":{\"line\":{\"color\":\"#E5ECF6\",\"width\":0.5},\"pattern\":{\"fillmode\":\"overlay\",\"size\":10,\"solidity\":0.2}},\"type\":\"barpolar\"}],\"pie\":[{\"automargin\":true,\"type\":\"pie\"}]},\"layout\":{\"autotypenumbers\":\"strict\",\"colorway\":[\"#636efa\",\"#EF553B\",\"#00cc96\",\"#ab63fa\",\"#FFA15A\",\"#19d3f3\",\"#FF6692\",\"#B6E880\",\"#FF97FF\",\"#FECB52\"],\"font\":{\"color\":\"#2a3f5f\"},\"hovermode\":\"closest\",\"hoverlabel\":{\"align\":\"left\"},\"paper_bgcolor\":\"white\",\"plot_bgcolor\":\"#E5ECF6\",\"polar\":{\"bgcolor\":\"#E5ECF6\",\"angularaxis\":{\"gridcolor\":\"white\",\"linecolor\":\"white\",\"ticks\":\"\"},\"radialaxis\":{\"gridcolor\":\"white\",\"linecolor\":\"white\",\"ticks\":\"\"}},\"ternary\":{\"bgcolor\":\"#E5ECF6\",\"aaxis\":{\"gridcolor\":\"white\",\"linecolor\":\"white\",\"ticks\":\"\"},\"baxis\":{\"gridcolor\":\"white\",\"linecolor\":\"white\",\"ticks\":\"\"},\"caxis\":{\"gridcolor\":\"white\",\"linecolor\":\"white\",\"ticks\":\"\"}},\"coloraxis\":{\"colorbar\":{\"outlinewidth\":0,\"ticks\":\"\"}},\"colorscale\":{\"sequential\":[[0.0,\"#0d0887\"],[0.1111111111111111,\"#46039f\"],[0.2222222222222222,\"#7201a8\"],[0.3333333333333333,\"#9c179e\"],[0.4444444444444444,\"#bd3786\"],[0.5555555555555556,\"#d8576b\"],[0.6666666666666666,\"#ed7953\"],[0.7777777777777778,\"#fb9f3a\"],[0.8888888888888888,\"#fdca26\"],[1.0,\"#f0f921\"]],\"sequentialminus\":[[0.0,\"#0d0887\"],[0.1111111111111111,\"#46039f\"],[0.2222222222222222,\"#7201a8\"],[0.3333333333333333,\"#9c179e\"],[0.4444444444444444,\"#bd3786\"],[0.5555555555555556,\"#d8576b\"],[0.6666666666666666,\"#ed7953\"],[0.7777777777777778,\"#fb9f3a\"],[0.8888888888888888,\"#fdca26\"],[1.0,\"#f0f921\"]],\"diverging\":[[0,\"#8e0152\"],[0.1,\"#c51b7d\"],[0.2,\"#de77ae\"],[0.3,\"#f1b6da\"],[0.4,\"#fde0ef\"],[0.5,\"#f7f7f7\"],[0.6,\"#e6f5d0\"],[0.7,\"#b8e186\"],[0.8,\"#7fbc41\"],[0.9,\"#4d9221\"],[1,\"#276419\"]]},\"xaxis\":{\"gridcolor\":\"white\",\"linecolor\":\"white\",\"ticks\":\"\",\"title\":{\"standoff\":15},\"zerolinecolor\":\"white\",\"automargin\":true,\"zerolinewidth\":2},\"yaxis\":{\"gridcolor\":\"white\",\"linecolor\":\"white\",\"ticks\":\"\",\"title\":{\"standoff\":15},\"zerolinecolor\":\"white\",\"automargin\":true,\"zerolinewidth\":2},\"scene\":{\"xaxis\":{\"backgroundcolor\":\"#E5ECF6\",\"gridcolor\":\"white\",\"linecolor\":\"white\",\"showbackground\":true,\"ticks\":\"\",\"zerolinecolor\":\"white\",\"gridwidth\":2},\"yaxis\":{\"backgroundcolor\":\"#E5ECF6\",\"gridcolor\":\"white\",\"linecolor\":\"white\",\"showbackground\":true,\"ticks\":\"\",\"zerolinecolor\":\"white\",\"gridwidth\":2},\"zaxis\":{\"backgroundcolor\":\"#E5ECF6\",\"gridcolor\":\"white\",\"linecolor\":\"white\",\"showbackground\":true,\"ticks\":\"\",\"zerolinecolor\":\"white\",\"gridwidth\":2}},\"shapedefaults\":{\"line\":{\"color\":\"#2a3f5f\"}},\"annotationdefaults\":{\"arrowcolor\":\"#2a3f5f\",\"arrowhead\":0,\"arrowwidth\":1},\"geo\":{\"bgcolor\":\"white\",\"landcolor\":\"#E5ECF6\",\"subunitcolor\":\"white\",\"showland\":true,\"showlakes\":true,\"lakecolor\":\"white\"},\"title\":{\"x\":0.05},\"mapbox\":{\"style\":\"light\"}}},\"xaxis\":{\"rangeslider\":{\"visible\":false},\"title\":{\"text\":\"Date\"}},\"title\":{\"text\":\"Simple Moving Average\"},\"yaxis\":{\"title\":{\"text\":\"SIMPLE_MA_5\"}}},                        {\"responsive\": true}                    ).then(function(){\n",
       "                            \n",
       "var gd = document.getElementById('a582eb9a-a267-40a9-8c76-278e044bda63');\n",
       "var x = new MutationObserver(function (mutations, observer) {{\n",
       "        var display = window.getComputedStyle(gd).display;\n",
       "        if (!display || display === 'none') {{\n",
       "            console.log([gd, 'removed!']);\n",
       "            Plotly.purge(gd);\n",
       "            observer.disconnect();\n",
       "        }}\n",
       "}});\n",
       "\n",
       "// Listen for the removal of the full notebook cells\n",
       "var notebookContainer = gd.closest('#notebook-container');\n",
       "if (notebookContainer) {{\n",
       "    x.observe(notebookContainer, {childList: true});\n",
       "}}\n",
       "\n",
       "// Listen for the clearing of the current output cell\n",
       "var outputEl = gd.closest('.output');\n",
       "if (outputEl) {{\n",
       "    x.observe(outputEl, {childList: true});\n",
       "}}\n",
       "\n",
       "                        })                };                });            </script>        </div>"
      ]
     },
     "metadata": {},
     "output_type": "display_data"
    }
   ],
   "source": [
    "# plotting SMA agains the price movement\n",
    "fn.plot_ohlc_ma(dataframe=sma,feature_name='SIMPLE_MA_5',name='Simple Moving Average',linecolor='black')"
   ]
  },
  {
   "cell_type": "code",
   "execution_count": 42,
   "metadata": {},
   "outputs": [],
   "source": [
    "# calculating 7 days EMA (Fast EMA)\n",
    "ema_7 = m.exponential_moving_average(windowsize=7)"
   ]
  },
  {
   "cell_type": "code",
   "execution_count": 43,
   "metadata": {},
   "outputs": [],
   "source": [
    "# calculating 21 days EMA (Slow EMA)\n",
    "ema_21 = m.exponential_moving_average(windowsize=21)"
   ]
  },
  {
   "cell_type": "code",
   "execution_count": 44,
   "metadata": {},
   "outputs": [
    {
     "data": {
      "text/html": [
       "<div>\n",
       "<style scoped>\n",
       "    .dataframe tbody tr th:only-of-type {\n",
       "        vertical-align: middle;\n",
       "    }\n",
       "\n",
       "    .dataframe tbody tr th {\n",
       "        vertical-align: top;\n",
       "    }\n",
       "\n",
       "    .dataframe thead th {\n",
       "        text-align: right;\n",
       "    }\n",
       "</style>\n",
       "<table border=\"1\" class=\"dataframe\">\n",
       "  <thead>\n",
       "    <tr style=\"text-align: right;\">\n",
       "      <th></th>\n",
       "      <th>Date</th>\n",
       "      <th>Open</th>\n",
       "      <th>High</th>\n",
       "      <th>Low</th>\n",
       "      <th>Close</th>\n",
       "      <th>Adj Close</th>\n",
       "      <th>Volume</th>\n",
       "      <th>daily_return</th>\n",
       "      <th>cum_return</th>\n",
       "      <th>SIMPLE_MA_5</th>\n",
       "      <th>EXPONENTIAL_MA_5</th>\n",
       "      <th>EXPONENTIAL_MA_7</th>\n",
       "      <th>EXPONENTIAL_MA_21</th>\n",
       "    </tr>\n",
       "  </thead>\n",
       "  <tbody>\n",
       "    <tr>\n",
       "      <th>0</th>\n",
       "      <td>2023-01-02</td>\n",
       "      <td>3261.000000</td>\n",
       "      <td>3266.850098</td>\n",
       "      <td>3235.199951</td>\n",
       "      <td>3261.449951</td>\n",
       "      <td>3160.044434</td>\n",
       "      <td>709547</td>\n",
       "      <td>NaN</td>\n",
       "      <td>NaN</td>\n",
       "      <td>NaN</td>\n",
       "      <td>NaN</td>\n",
       "      <td>NaN</td>\n",
       "      <td>NaN</td>\n",
       "    </tr>\n",
       "    <tr>\n",
       "      <th>1</th>\n",
       "      <td>2023-01-03</td>\n",
       "      <td>3252.000000</td>\n",
       "      <td>3320.000000</td>\n",
       "      <td>3245.300049</td>\n",
       "      <td>3311.350098</td>\n",
       "      <td>3208.393311</td>\n",
       "      <td>1245178</td>\n",
       "      <td>0.015300</td>\n",
       "      <td>1.015300</td>\n",
       "      <td>NaN</td>\n",
       "      <td>NaN</td>\n",
       "      <td>NaN</td>\n",
       "      <td>NaN</td>\n",
       "    </tr>\n",
       "    <tr>\n",
       "      <th>2</th>\n",
       "      <td>2023-01-04</td>\n",
       "      <td>3306.699951</td>\n",
       "      <td>3327.350098</td>\n",
       "      <td>3286.199951</td>\n",
       "      <td>3314.649902</td>\n",
       "      <td>3211.590576</td>\n",
       "      <td>1231668</td>\n",
       "      <td>0.000997</td>\n",
       "      <td>1.016312</td>\n",
       "      <td>NaN</td>\n",
       "      <td>NaN</td>\n",
       "      <td>NaN</td>\n",
       "      <td>NaN</td>\n",
       "    </tr>\n",
       "    <tr>\n",
       "      <th>3</th>\n",
       "      <td>2023-01-05</td>\n",
       "      <td>3330.199951</td>\n",
       "      <td>3337.300049</td>\n",
       "      <td>3281.949951</td>\n",
       "      <td>3311.100098</td>\n",
       "      <td>3208.151123</td>\n",
       "      <td>1826057</td>\n",
       "      <td>-0.001071</td>\n",
       "      <td>1.015223</td>\n",
       "      <td>NaN</td>\n",
       "      <td>NaN</td>\n",
       "      <td>NaN</td>\n",
       "      <td>NaN</td>\n",
       "    </tr>\n",
       "    <tr>\n",
       "      <th>4</th>\n",
       "      <td>2023-01-06</td>\n",
       "      <td>3300.000000</td>\n",
       "      <td>3301.550049</td>\n",
       "      <td>3200.000000</td>\n",
       "      <td>3211.550049</td>\n",
       "      <td>3111.695801</td>\n",
       "      <td>2488376</td>\n",
       "      <td>-0.030066</td>\n",
       "      <td>0.984700</td>\n",
       "      <td>3282.020020</td>\n",
       "      <td>3268.659900</td>\n",
       "      <td>NaN</td>\n",
       "      <td>NaN</td>\n",
       "    </tr>\n",
       "    <tr>\n",
       "      <th>...</th>\n",
       "      <td>...</td>\n",
       "      <td>...</td>\n",
       "      <td>...</td>\n",
       "      <td>...</td>\n",
       "      <td>...</td>\n",
       "      <td>...</td>\n",
       "      <td>...</td>\n",
       "      <td>...</td>\n",
       "      <td>...</td>\n",
       "      <td>...</td>\n",
       "      <td>...</td>\n",
       "      <td>...</td>\n",
       "      <td>...</td>\n",
       "    </tr>\n",
       "    <tr>\n",
       "      <th>261</th>\n",
       "      <td>2024-01-24</td>\n",
       "      <td>3880.000000</td>\n",
       "      <td>3883.649902</td>\n",
       "      <td>3805.600098</td>\n",
       "      <td>3841.800049</td>\n",
       "      <td>3795.979980</td>\n",
       "      <td>2657709</td>\n",
       "      <td>-0.004264</td>\n",
       "      <td>1.201243</td>\n",
       "      <td>3886.060059</td>\n",
       "      <td>3867.899986</td>\n",
       "      <td>3862.091904</td>\n",
       "      <td>3804.566844</td>\n",
       "    </tr>\n",
       "    <tr>\n",
       "      <th>262</th>\n",
       "      <td>2024-01-25</td>\n",
       "      <td>3839.899902</td>\n",
       "      <td>3861.000000</td>\n",
       "      <td>3778.699951</td>\n",
       "      <td>3810.300049</td>\n",
       "      <td>3764.855713</td>\n",
       "      <td>2205154</td>\n",
       "      <td>-0.008199</td>\n",
       "      <td>1.191393</td>\n",
       "      <td>3871.200049</td>\n",
       "      <td>3848.700007</td>\n",
       "      <td>3849.143940</td>\n",
       "      <td>3805.088044</td>\n",
       "    </tr>\n",
       "    <tr>\n",
       "      <th>263</th>\n",
       "      <td>2024-01-29</td>\n",
       "      <td>3800.800049</td>\n",
       "      <td>3820.000000</td>\n",
       "      <td>3780.850098</td>\n",
       "      <td>3801.000000</td>\n",
       "      <td>3755.666504</td>\n",
       "      <td>1646747</td>\n",
       "      <td>-0.002441</td>\n",
       "      <td>1.188485</td>\n",
       "      <td>3850.880029</td>\n",
       "      <td>3832.800005</td>\n",
       "      <td>3837.107955</td>\n",
       "      <td>3804.716404</td>\n",
       "    </tr>\n",
       "    <tr>\n",
       "      <th>264</th>\n",
       "      <td>2024-01-30</td>\n",
       "      <td>3807.449951</td>\n",
       "      <td>3847.800049</td>\n",
       "      <td>3787.000000</td>\n",
       "      <td>3800.550049</td>\n",
       "      <td>3755.222168</td>\n",
       "      <td>1411621</td>\n",
       "      <td>-0.000118</td>\n",
       "      <td>1.188345</td>\n",
       "      <td>3822.380029</td>\n",
       "      <td>3822.050019</td>\n",
       "      <td>3827.968479</td>\n",
       "      <td>3804.337644</td>\n",
       "    </tr>\n",
       "    <tr>\n",
       "      <th>265</th>\n",
       "      <td>2024-01-31</td>\n",
       "      <td>3811.199951</td>\n",
       "      <td>3834.000000</td>\n",
       "      <td>3796.449951</td>\n",
       "      <td>3815.949951</td>\n",
       "      <td>3770.438232</td>\n",
       "      <td>2459358</td>\n",
       "      <td>0.004052</td>\n",
       "      <td>1.193160</td>\n",
       "      <td>3813.920020</td>\n",
       "      <td>3820.016663</td>\n",
       "      <td>3824.963847</td>\n",
       "      <td>3805.393308</td>\n",
       "    </tr>\n",
       "  </tbody>\n",
       "</table>\n",
       "<p>266 rows × 13 columns</p>\n",
       "</div>"
      ],
      "text/plain": [
       "          Date         Open         High          Low        Close  \\\n",
       "0   2023-01-02  3261.000000  3266.850098  3235.199951  3261.449951   \n",
       "1   2023-01-03  3252.000000  3320.000000  3245.300049  3311.350098   \n",
       "2   2023-01-04  3306.699951  3327.350098  3286.199951  3314.649902   \n",
       "3   2023-01-05  3330.199951  3337.300049  3281.949951  3311.100098   \n",
       "4   2023-01-06  3300.000000  3301.550049  3200.000000  3211.550049   \n",
       "..         ...          ...          ...          ...          ...   \n",
       "261 2024-01-24  3880.000000  3883.649902  3805.600098  3841.800049   \n",
       "262 2024-01-25  3839.899902  3861.000000  3778.699951  3810.300049   \n",
       "263 2024-01-29  3800.800049  3820.000000  3780.850098  3801.000000   \n",
       "264 2024-01-30  3807.449951  3847.800049  3787.000000  3800.550049   \n",
       "265 2024-01-31  3811.199951  3834.000000  3796.449951  3815.949951   \n",
       "\n",
       "       Adj Close   Volume  daily_return  cum_return  SIMPLE_MA_5  \\\n",
       "0    3160.044434   709547           NaN         NaN          NaN   \n",
       "1    3208.393311  1245178      0.015300    1.015300          NaN   \n",
       "2    3211.590576  1231668      0.000997    1.016312          NaN   \n",
       "3    3208.151123  1826057     -0.001071    1.015223          NaN   \n",
       "4    3111.695801  2488376     -0.030066    0.984700  3282.020020   \n",
       "..           ...      ...           ...         ...          ...   \n",
       "261  3795.979980  2657709     -0.004264    1.201243  3886.060059   \n",
       "262  3764.855713  2205154     -0.008199    1.191393  3871.200049   \n",
       "263  3755.666504  1646747     -0.002441    1.188485  3850.880029   \n",
       "264  3755.222168  1411621     -0.000118    1.188345  3822.380029   \n",
       "265  3770.438232  2459358      0.004052    1.193160  3813.920020   \n",
       "\n",
       "     EXPONENTIAL_MA_5  EXPONENTIAL_MA_7  EXPONENTIAL_MA_21  \n",
       "0                 NaN               NaN                NaN  \n",
       "1                 NaN               NaN                NaN  \n",
       "2                 NaN               NaN                NaN  \n",
       "3                 NaN               NaN                NaN  \n",
       "4         3268.659900               NaN                NaN  \n",
       "..                ...               ...                ...  \n",
       "261       3867.899986       3862.091904        3804.566844  \n",
       "262       3848.700007       3849.143940        3805.088044  \n",
       "263       3832.800005       3837.107955        3804.716404  \n",
       "264       3822.050019       3827.968479        3804.337644  \n",
       "265       3820.016663       3824.963847        3805.393308  \n",
       "\n",
       "[266 rows x 13 columns]"
      ]
     },
     "execution_count": 44,
     "metadata": {},
     "output_type": "execute_result"
    }
   ],
   "source": [
    "ema_21"
   ]
  },
  {
   "cell_type": "markdown",
   "metadata": {},
   "source": [
    "# Entry Exit Indicator using EMA\n",
    "\n",
    "1] when fast EMA cuts slow EMA from the bottom the signal is \"buy\"\n",
    "\n",
    "2] when fast EMA cuts slow EMA from the above the signal is \"sell\"\n",
    "\n",
    "Note: you can use other pairs of EMA also"
   ]
  },
  {
   "cell_type": "code",
   "execution_count": 45,
   "metadata": {},
   "outputs": [
    {
     "data": {
      "application/vnd.plotly.v1+json": {
       "config": {
        "plotlyServerURL": "https://plot.ly"
       },
       "data": [
        {
         "close": [
          3261.449951171875,
          3311.35009765625,
          3314.64990234375,
          3311.10009765625,
          3211.550048828125,
          3319.949951171875,
          3286.39990234375,
          3328.699951171875,
          3334.35009765625,
          3374.550048828125,
          3334.050048828125,
          3378.39990234375,
          3390,
          3373.10009765625,
          3363.10009765625,
          3414.89990234375,
          3436.300048828125,
          3429.75,
          3411.050048828125,
          3433.64990234375,
          3358.699951171875,
          3408.35009765625,
          3460.39990234375,
          3482.300048828125,
          3459.949951171875,
          3472.550048828125,
          3520.10009765625,
          3540.85009765625,
          3537.550048828125,
          3482.39990234375,
          3500.10009765625,
          3520.64990234375,
          3558.050048828125,
          3501.14990234375,
          3487.300048828125,
          3451,
          3401.550048828125,
          3413.800048828125,
          3400.449951171875,
          3331.85009765625,
          3312.85009765625,
          3385.699951171875,
          3321.449951171875,
          3342.14990234375,
          3371.85009765625,
          3390.39990234375,
          3336.85009765625,
          3331,
          3281.949951171875,
          3214.949951171875,
          3198.89990234375,
          3185,
          3179.300048828125,
          3143.300048828125,
          3106.10009765625,
          3130.800048828125,
          3124.64990234375,
          3120.5,
          3122.300048828125,
          3115.89990234375,
          3138.89990234375,
          3205.89990234375,
          3200,
          3239.800048828125,
          3220.699951171875,
          3263.39990234375,
          3213.800048828125,
          3241.64990234375,
          3188.85009765625,
          3139.5,
          3130.75,
          3089.60009765625,
          3104.800048828125,
          3160.85009765625,
          3174.800048828125,
          3176,
          3198.14990234375,
          3187.949951171875,
          3219.25,
          3219.39990234375,
          3179.89990234375,
          3220.699951171875,
          3230.699951171875,
          3250.60009765625,
          3283.25,
          3286.800048828125,
          3282.14990234375,
          3274.300048828125,
          3255.050048828125,
          3258.14990234375,
          3208.699951171875,
          3199.85009765625,
          3222.85009765625,
          3298.699951171875,
          3297.050048828125,
          3303.35009765625,
          3293.5,
          3328.89990234375,
          3320.35009765625,
          3316.199951171875,
          3289.5,
          3324,
          3305.60009765625,
          3288.89990234375,
          3232.300048828125,
          3274.89990234375,
          3236.449951171875,
          3209.300048828125,
          3246.89990234375,
          3243.699951171875,
          3251.050048828125,
          3216.300048828125,
          3174.89990234375,
          3210.39990234375,
          3227.699951171875,
          3258.199951171875,
          3238.5,
          3216.35009765625,
          3189.64990234375,
          3197.35009765625,
          3215.449951171875,
          3302.25,
          3272.300048828125,
          3308.85009765625,
          3319.949951171875,
          3322.89990234375,
          3329.25,
          3271.949951171875,
          3272.39990234375,
          3259.89990234375,
          3340.550048828125,
          3514.64990234375,
          3491.699951171875,
          3496.85009765625,
          3470.050048828125,
          3463.300048828125,
          3368.300048828125,
          3394.75,
          3399.14990234375,
          3388.300048828125,
          3396.89990234375,
          3355.39990234375,
          3421.449951171875,
          3452.050048828125,
          3440.64990234375,
          3399.949951171875,
          3443.550048828125,
          3484.050048828125,
          3470.60009765625,
          3462.5,
          3442.10009765625,
          3448.800048828125,
          3449.85009765625,
          3458.39990234375,
          3435.75,
          3367.10009765625,
          3401.64990234375,
          3382.14990234375,
          3398.25,
          3387.75,
          3381.300048828125,
          3375.550048828125,
          3376.14990234375,
          3390.949951171875,
          3356.800048828125,
          3379.199951171875,
          3418.5,
          3429.35009765625,
          3429.89990234375,
          3455.25,
          3441.89990234375,
          3480.64990234375,
          3580.800048828125,
          3567.85009765625,
          3560.050048828125,
          3598.300048828125,
          3606.14990234375,
          3606.050048828125,
          3585.300048828125,
          3603.64990234375,
          3577.14990234375,
          3585.699951171875,
          3589.300048828125,
          3536.75,
          3528.60009765625,
          3513.85009765625,
          3537.75,
          3589.35009765625,
          3621.39990234375,
          3638.35009765625,
          3628.89990234375,
          3609.89990234375,
          3542.550048828125,
          3570.85009765625,
          3524.050048828125,
          3507.050048828125,
          3487.25,
          3455.64990234375,
          3494.550048828125,
          3410.14990234375,
          3390.10009765625,
          3336.75,
          3350.949951171875,
          3378.550048828125,
          3368.75,
          3330.64990234375,
          3360.10009765625,
          3350.89990234375,
          3380.25,
          3370.449951171875,
          3381.550048828125,
          3347.449951171875,
          3333.449951171875,
          3331.550048828125,
          3404.300048828125,
          3497.85009765625,
          3502.449951171875,
          3519.60009765625,
          3510.199951171875,
          3530.14990234375,
          3508.25,
          3457.10009765625,
          3470.14990234375,
          3513.75,
          3487.60009765625,
          3511.64990234375,
          3512.449951171875,
          3531.60009765625,
          3604.10009765625,
          3614.89990234375,
          3626.699951171875,
          3642.89990234375,
          3672.10009765625,
          3593.550048828125,
          3667.25,
          3861,
          3859.199951171875,
          3816.199951171875,
          3780.050048828125,
          3787.5,
          3824,
          3795.550048828125,
          3811.199951171875,
          3799.89990234375,
          3793.39990234375,
          3811.10009765625,
          3783.199951171875,
          3691.75,
          3666.800048828125,
          3737.89990234375,
          3678.300048828125,
          3689.89990234375,
          3713.050048828125,
          3735.550048828125,
          3882.800048828125,
          3903.800048828125,
          3861.300048828125,
          3884.60009765625,
          3902.60009765625,
          3943.050048828125,
          3858.25,
          3841.800048828125,
          3810.300048828125,
          3801,
          3800.550048828125,
          3815.949951171875
         ],
         "high": [
          3266.85009765625,
          3320,
          3327.35009765625,
          3337.300048828125,
          3301.550048828125,
          3327,
          3298,
          3349.5,
          3350,
          3379,
          3353,
          3381.800048828125,
          3408.949951171875,
          3387,
          3394.64990234375,
          3419,
          3451.949951171875,
          3435,
          3446,
          3458.449951171875,
          3449,
          3419,
          3469,
          3504,
          3473.14990234375,
          3493,
          3539.89990234375,
          3547.60009765625,
          3542.35009765625,
          3549,
          3524.85009765625,
          3526,
          3575,
          3538.89990234375,
          3522,
          3508.89990234375,
          3447,
          3452.39990234375,
          3433.949951171875,
          3390,
          3392,
          3389,
          3369.89990234375,
          3358,
          3404.949951171875,
          3396,
          3385,
          3337.25,
          3369.800048828125,
          3304.39990234375,
          3260.35009765625,
          3219.800048828125,
          3221.39990234375,
          3169.64990234375,
          3156.75,
          3143.5,
          3146.35009765625,
          3170,
          3152.75,
          3149.550048828125,
          3150,
          3213,
          3224.949951171875,
          3264.35009765625,
          3257.35009765625,
          3272,
          3272.949951171875,
          3260.949951171875,
          3230,
          3163.39990234375,
          3156.85009765625,
          3140,
          3113,
          3164.449951171875,
          3180.949951171875,
          3191.199951171875,
          3208.39990234375,
          3199.199951171875,
          3227.25,
          3235,
          3216,
          3224.449951171875,
          3244,
          3254.85009765625,
          3298,
          3306.5,
          3309.699951171875,
          3290,
          3292,
          3285,
          3280,
          3228.949951171875,
          3234.5,
          3308.449951171875,
          3327.949951171875,
          3317.199951171875,
          3306,
          3338.64990234375,
          3372,
          3326.949951171875,
          3327.699951171875,
          3340,
          3335.89990234375,
          3327,
          3288.85009765625,
          3278.85009765625,
          3270,
          3250,
          3254.39990234375,
          3265,
          3255.85009765625,
          3247.449951171875,
          3199.39990234375,
          3214.89990234375,
          3232.5,
          3261.39990234375,
          3267.64990234375,
          3249.39990234375,
          3213.89990234375,
          3209.64990234375,
          3230.949951171875,
          3310,
          3318.800048828125,
          3315,
          3329,
          3328.449951171875,
          3356.89990234375,
          3324.75,
          3295,
          3289.14990234375,
          3367.449951171875,
          3524.85009765625,
          3549.89990234375,
          3524,
          3516.85009765625,
          3478.89990234375,
          3434.89990234375,
          3413.449951171875,
          3406.800048828125,
          3420.85009765625,
          3411.64990234375,
          3393.699951171875,
          3426.64990234375,
          3460,
          3446.39990234375,
          3433.25,
          3471,
          3488,
          3489.949951171875,
          3467,
          3464.89990234375,
          3466.64990234375,
          3455,
          3466,
          3460.800048828125,
          3410,
          3409.75,
          3411,
          3402,
          3413.050048828125,
          3385.800048828125,
          3394,
          3389.550048828125,
          3408.10009765625,
          3417.39990234375,
          3389,
          3432.85009765625,
          3447,
          3443.89990234375,
          3460,
          3465,
          3485.699951171875,
          3589.89990234375,
          3588.85009765625,
          3597.699951171875,
          3607.35009765625,
          3619.300048828125,
          3625,
          3605,
          3633.75,
          3620,
          3594.949951171875,
          3614,
          3602.800048828125,
          3568.449951171875,
          3534.199951171875,
          3548,
          3624,
          3634.949951171875,
          3679,
          3648,
          3650,
          3588.64990234375,
          3577,
          3574.64990234375,
          3534.14990234375,
          3522.699951171875,
          3476.85009765625,
          3499.5,
          3478.949951171875,
          3425,
          3373.699951171875,
          3362,
          3382.85009765625,
          3399,
          3371.60009765625,
          3375.949951171875,
          3387.89990234375,
          3392.300048828125,
          3404.14990234375,
          3401.949951171875,
          3391.5,
          3347.449951171875,
          3356,
          3413,
          3529.35009765625,
          3524.5,
          3533.89990234375,
          3539.050048828125,
          3532.64990234375,
          3544,
          3504.550048828125,
          3481.25,
          3518,
          3516.64990234375,
          3516.949951171875,
          3547.800048828125,
          3538,
          3612.85009765625,
          3630.550048828125,
          3645,
          3653,
          3698.39990234375,
          3650,
          3678,
          3895.949951171875,
          3929,
          3855.10009765625,
          3898.800048828125,
          3806.699951171875,
          3845.949951171875,
          3834,
          3818.199951171875,
          3838,
          3822.60009765625,
          3832,
          3811.10009765625,
          3771.85009765625,
          3719,
          3747.75,
          3739.75,
          3752.35009765625,
          3729.25,
          3773,
          3905.25,
          3965,
          3899,
          3909.949951171875,
          3908.800048828125,
          3963.550048828125,
          3933.89990234375,
          3883.64990234375,
          3861,
          3820,
          3847.800048828125,
          3834
         ],
         "low": [
          3235.199951171875,
          3245.300048828125,
          3286.199951171875,
          3281.949951171875,
          3200,
          3221.14990234375,
          3230.10009765625,
          3271.14990234375,
          3315.550048828125,
          3305,
          3298.050048828125,
          3321,
          3372.25,
          3361,
          3355.60009765625,
          3355.60009765625,
          3417.300048828125,
          3405,
          3382.300048828125,
          3385.550048828125,
          3351,
          3355,
          3420.10009765625,
          3452.89990234375,
          3436.85009765625,
          3461.39990234375,
          3478.050048828125,
          3505.300048828125,
          3508.14990234375,
          3473.39990234375,
          3495,
          3460.14990234375,
          3527,
          3490,
          3475.050048828125,
          3444.75,
          3395,
          3408,
          3382.300048828125,
          3316,
          3299.89990234375,
          3315,
          3318,
          3331.10009765625,
          3359,
          3330.85009765625,
          3330.85009765625,
          3290,
          3272,
          3209.39990234375,
          3192,
          3172,
          3144,
          3095.050048828125,
          3097.449951171875,
          3106.10009765625,
          3101,
          3106,
          3106,
          3110.14990234375,
          3104.10009765625,
          3152,
          3173.75,
          3185.5,
          3215,
          3215,
          3192.14990234375,
          3199,
          3180,
          3070.25,
          3110.60009765625,
          3071.5,
          3078,
          3100.800048828125,
          3126.14990234375,
          3147.5,
          3181,
          3170.64990234375,
          3196.25,
          3210,
          3173.14990234375,
          3178,
          3210.050048828125,
          3231.300048828125,
          3246,
          3266.050048828125,
          3272,
          3260,
          3248.35009765625,
          3250.449951171875,
          3198.25,
          3195,
          3203.050048828125,
          3217.050048828125,
          3290.10009765625,
          3276,
          3267.10009765625,
          3291,
          3312,
          3301.35009765625,
          3265.14990234375,
          3297.5,
          3297.449951171875,
          3285.050048828125,
          3220.60009765625,
          3241,
          3233,
          3205.35009765625,
          3211,
          3239,
          3225.85009765625,
          3210,
          3156,
          3175,
          3201.050048828125,
          3223.949951171875,
          3230.10009765625,
          3209.14990234375,
          3173,
          3182.300048828125,
          3193.39990234375,
          3214.10009765625,
          3268.75,
          3277.300048828125,
          3305,
          3302,
          3302,
          3265.199951171875,
          3260.800048828125,
          3250.10009765625,
          3272.75,
          3352,
          3477.050048828125,
          3465,
          3445.64990234375,
          3436.050048828125,
          3359.050048828125,
          3372.10009765625,
          3380.199951171875,
          3385,
          3385.050048828125,
          3331,
          3360.89990234375,
          3415,
          3413.60009765625,
          3368,
          3401.25,
          3441.25,
          3456.60009765625,
          3425.050048828125,
          3430.050048828125,
          3414,
          3411,
          3435.199951171875,
          3413.199951171875,
          3356.5,
          3372,
          3365.050048828125,
          3376,
          3378.10009765625,
          3350.25,
          3360.10009765625,
          3365,
          3383.050048828125,
          3343.64990234375,
          3356.800048828125,
          3370.050048828125,
          3405.14990234375,
          3398.10009765625,
          3422.300048828125,
          3435.050048828125,
          3445,
          3483,
          3545,
          3545.60009765625,
          3562.449951171875,
          3575.25,
          3580,
          3528,
          3565.050048828125,
          3558.64990234375,
          3536,
          3555.699951171875,
          3527.35009765625,
          3505.550048828125,
          3480.10009765625,
          3477.300048828125,
          3551.199951171875,
          3575.050048828125,
          3631,
          3601.35009765625,
          3605,
          3538.10009765625,
          3525,
          3519.10009765625,
          3503.35009765625,
          3484,
          3451.89990234375,
          3444.050048828125,
          3401.300048828125,
          3377.199951171875,
          3330,
          3337,
          3333.75,
          3350.050048828125,
          3311,
          3343.199951171875,
          3344.300048828125,
          3359,
          3366,
          3369.550048828125,
          3342.050048828125,
          3322.35009765625,
          3327,
          3356.050048828125,
          3414.199951171875,
          3492.550048828125,
          3491.25,
          3501,
          3481.10009765625,
          3500,
          3453,
          3433,
          3475.800048828125,
          3481,
          3490.050048828125,
          3498,
          3502.800048828125,
          3525.14990234375,
          3591.699951171875,
          3602.050048828125,
          3615,
          3631,
          3563,
          3627.60009765625,
          3666.699951171875,
          3830.14990234375,
          3790,
          3766.550048828125,
          3743.35009765625,
          3762,
          3790.14990234375,
          3768,
          3792.10009765625,
          3765.39990234375,
          3773,
          3767.25,
          3687.050048828125,
          3651,
          3674.85009765625,
          3672.39990234375,
          3682.75,
          3688,
          3707,
          3821.60009765625,
          3885,
          3855.550048828125,
          3812.550048828125,
          3862,
          3915.050048828125,
          3842.75,
          3805.60009765625,
          3778.699951171875,
          3780.85009765625,
          3787,
          3796.449951171875
         ],
         "name": "OHLC",
         "open": [
          3261,
          3252,
          3306.699951171875,
          3330.199951171875,
          3300,
          3229,
          3285,
          3290.10009765625,
          3329,
          3342.89990234375,
          3317,
          3330,
          3380,
          3380,
          3365,
          3388,
          3425,
          3425.300048828125,
          3426,
          3420,
          3449,
          3363,
          3427,
          3504,
          3473.14990234375,
          3468.89990234375,
          3478.050048828125,
          3515,
          3520,
          3549,
          3505,
          3487,
          3527.199951171875,
          3526.14990234375,
          3502,
          3494,
          3414.949951171875,
          3421,
          3422.5,
          3390,
          3328.5,
          3323,
          3361,
          3354,
          3361.89990234375,
          3364,
          3385,
          3312.89990234375,
          3333,
          3280,
          3250,
          3208,
          3150.5,
          3169.64990234375,
          3143.300048828125,
          3130.050048828125,
          3114.89990234375,
          3148.89990234375,
          3135,
          3127,
          3129,
          3189.949951171875,
          3224.949951171875,
          3185.5,
          3225,
          3220,
          3264,
          3227.949951171875,
          3210,
          3134.10009765625,
          3154.949951171875,
          3130.75,
          3090,
          3110,
          3151.10009765625,
          3183,
          3181,
          3185,
          3200.39990234375,
          3235,
          3216,
          3180.14990234375,
          3220,
          3245,
          3252.60009765625,
          3290,
          3309,
          3279.14990234375,
          3284,
          3256.199951171875,
          3255.949951171875,
          3225.949951171875,
          3210,
          3230,
          3306,
          3276,
          3294,
          3293.5,
          3360.800048828125,
          3315,
          3309,
          3314,
          3326.25,
          3315,
          3280,
          3253,
          3261,
          3245,
          3215,
          3260,
          3243.699951171875,
          3245.300048828125,
          3197,
          3190,
          3214,
          3250,
          3260,
          3237.300048828125,
          3205,
          3202,
          3208,
          3220,
          3314.300048828125,
          3290,
          3320,
          3306.550048828125,
          3302,
          3324.75,
          3295,
          3280.949951171875,
          3284,
          3365,
          3510,
          3476,
          3500,
          3453.10009765625,
          3404.050048828125,
          3381,
          3397.5,
          3400.35009765625,
          3394.949951171875,
          3385,
          3364.39990234375,
          3415,
          3434.949951171875,
          3420,
          3401.25,
          3453.949951171875,
          3484.050048828125,
          3464.89990234375,
          3450,
          3438.10009765625,
          3440.699951171875,
          3450,
          3455,
          3410,
          3375,
          3400,
          3388,
          3408,
          3375,
          3394,
          3381.050048828125,
          3398,
          3401,
          3366,
          3378,
          3420,
          3434,
          3430.800048828125,
          3455.25,
          3462,
          3492,
          3571.10009765625,
          3570.050048828125,
          3567.85009765625,
          3580.050048828125,
          3580,
          3588.550048828125,
          3584,
          3602.5,
          3567.60009765625,
          3590,
          3600,
          3537.199951171875,
          3534.199951171875,
          3486.300048828125,
          3554,
          3591,
          3645.050048828125,
          3640.050048828125,
          3650,
          3575,
          3530,
          3566,
          3530,
          3511,
          3469.5,
          3450.39990234375,
          3473,
          3390.5,
          3368.050048828125,
          3350,
          3350,
          3399,
          3355,
          3343.199951171875,
          3382,
          3375,
          3378,
          3371.449951171875,
          3390.10009765625,
          3338,
          3356,
          3383.10009765625,
          3430.050048828125,
          3497.85009765625,
          3491.25,
          3519.60009765625,
          3500,
          3530,
          3494.25,
          3457.10009765625,
          3481,
          3499.449951171875,
          3500,
          3544.64990234375,
          3538,
          3532.60009765625,
          3605,
          3633,
          3622.89990234375,
          3638.949951171875,
          3643.550048828125,
          3630,
          3666.699951171875,
          3858.10009765625,
          3845,
          3827.25,
          3756.25,
          3800,
          3819.85009765625,
          3799,
          3824,
          3792,
          3790,
          3811.10009765625,
          3767,
          3701.75,
          3675,
          3737.89990234375,
          3709.949951171875,
          3690,
          3724,
          3848,
          3960,
          3899,
          3819,
          3898,
          3945,
          3900,
          3880,
          3839.89990234375,
          3800.800048828125,
          3807.449951171875,
          3811.199951171875
         ],
         "type": "candlestick",
         "x": [
          "2023-01-02T00:00:00",
          "2023-01-03T00:00:00",
          "2023-01-04T00:00:00",
          "2023-01-05T00:00:00",
          "2023-01-06T00:00:00",
          "2023-01-09T00:00:00",
          "2023-01-10T00:00:00",
          "2023-01-11T00:00:00",
          "2023-01-12T00:00:00",
          "2023-01-13T00:00:00",
          "2023-01-16T00:00:00",
          "2023-01-17T00:00:00",
          "2023-01-18T00:00:00",
          "2023-01-19T00:00:00",
          "2023-01-20T00:00:00",
          "2023-01-23T00:00:00",
          "2023-01-24T00:00:00",
          "2023-01-25T00:00:00",
          "2023-01-27T00:00:00",
          "2023-01-30T00:00:00",
          "2023-01-31T00:00:00",
          "2023-02-01T00:00:00",
          "2023-02-02T00:00:00",
          "2023-02-03T00:00:00",
          "2023-02-06T00:00:00",
          "2023-02-07T00:00:00",
          "2023-02-08T00:00:00",
          "2023-02-09T00:00:00",
          "2023-02-10T00:00:00",
          "2023-02-13T00:00:00",
          "2023-02-14T00:00:00",
          "2023-02-15T00:00:00",
          "2023-02-16T00:00:00",
          "2023-02-17T00:00:00",
          "2023-02-20T00:00:00",
          "2023-02-21T00:00:00",
          "2023-02-22T00:00:00",
          "2023-02-23T00:00:00",
          "2023-02-24T00:00:00",
          "2023-02-27T00:00:00",
          "2023-02-28T00:00:00",
          "2023-03-01T00:00:00",
          "2023-03-02T00:00:00",
          "2023-03-03T00:00:00",
          "2023-03-06T00:00:00",
          "2023-03-08T00:00:00",
          "2023-03-09T00:00:00",
          "2023-03-10T00:00:00",
          "2023-03-13T00:00:00",
          "2023-03-14T00:00:00",
          "2023-03-15T00:00:00",
          "2023-03-16T00:00:00",
          "2023-03-17T00:00:00",
          "2023-03-20T00:00:00",
          "2023-03-21T00:00:00",
          "2023-03-22T00:00:00",
          "2023-03-23T00:00:00",
          "2023-03-24T00:00:00",
          "2023-03-27T00:00:00",
          "2023-03-28T00:00:00",
          "2023-03-29T00:00:00",
          "2023-03-31T00:00:00",
          "2023-04-03T00:00:00",
          "2023-04-05T00:00:00",
          "2023-04-06T00:00:00",
          "2023-04-10T00:00:00",
          "2023-04-11T00:00:00",
          "2023-04-12T00:00:00",
          "2023-04-13T00:00:00",
          "2023-04-17T00:00:00",
          "2023-04-18T00:00:00",
          "2023-04-19T00:00:00",
          "2023-04-20T00:00:00",
          "2023-04-21T00:00:00",
          "2023-04-24T00:00:00",
          "2023-04-25T00:00:00",
          "2023-04-26T00:00:00",
          "2023-04-27T00:00:00",
          "2023-04-28T00:00:00",
          "2023-05-02T00:00:00",
          "2023-05-03T00:00:00",
          "2023-05-04T00:00:00",
          "2023-05-05T00:00:00",
          "2023-05-08T00:00:00",
          "2023-05-09T00:00:00",
          "2023-05-10T00:00:00",
          "2023-05-11T00:00:00",
          "2023-05-12T00:00:00",
          "2023-05-15T00:00:00",
          "2023-05-16T00:00:00",
          "2023-05-17T00:00:00",
          "2023-05-18T00:00:00",
          "2023-05-19T00:00:00",
          "2023-05-22T00:00:00",
          "2023-05-23T00:00:00",
          "2023-05-24T00:00:00",
          "2023-05-25T00:00:00",
          "2023-05-26T00:00:00",
          "2023-05-29T00:00:00",
          "2023-05-30T00:00:00",
          "2023-05-31T00:00:00",
          "2023-06-01T00:00:00",
          "2023-06-02T00:00:00",
          "2023-06-05T00:00:00",
          "2023-06-06T00:00:00",
          "2023-06-07T00:00:00",
          "2023-06-08T00:00:00",
          "2023-06-09T00:00:00",
          "2023-06-12T00:00:00",
          "2023-06-13T00:00:00",
          "2023-06-14T00:00:00",
          "2023-06-15T00:00:00",
          "2023-06-16T00:00:00",
          "2023-06-19T00:00:00",
          "2023-06-20T00:00:00",
          "2023-06-21T00:00:00",
          "2023-06-22T00:00:00",
          "2023-06-23T00:00:00",
          "2023-06-26T00:00:00",
          "2023-06-27T00:00:00",
          "2023-06-28T00:00:00",
          "2023-06-30T00:00:00",
          "2023-07-03T00:00:00",
          "2023-07-04T00:00:00",
          "2023-07-05T00:00:00",
          "2023-07-06T00:00:00",
          "2023-07-07T00:00:00",
          "2023-07-10T00:00:00",
          "2023-07-11T00:00:00",
          "2023-07-12T00:00:00",
          "2023-07-13T00:00:00",
          "2023-07-14T00:00:00",
          "2023-07-17T00:00:00",
          "2023-07-18T00:00:00",
          "2023-07-19T00:00:00",
          "2023-07-20T00:00:00",
          "2023-07-21T00:00:00",
          "2023-07-24T00:00:00",
          "2023-07-25T00:00:00",
          "2023-07-26T00:00:00",
          "2023-07-27T00:00:00",
          "2023-07-28T00:00:00",
          "2023-07-31T00:00:00",
          "2023-08-01T00:00:00",
          "2023-08-02T00:00:00",
          "2023-08-03T00:00:00",
          "2023-08-04T00:00:00",
          "2023-08-07T00:00:00",
          "2023-08-08T00:00:00",
          "2023-08-09T00:00:00",
          "2023-08-10T00:00:00",
          "2023-08-11T00:00:00",
          "2023-08-14T00:00:00",
          "2023-08-16T00:00:00",
          "2023-08-17T00:00:00",
          "2023-08-18T00:00:00",
          "2023-08-21T00:00:00",
          "2023-08-22T00:00:00",
          "2023-08-23T00:00:00",
          "2023-08-24T00:00:00",
          "2023-08-25T00:00:00",
          "2023-08-28T00:00:00",
          "2023-08-29T00:00:00",
          "2023-08-30T00:00:00",
          "2023-08-31T00:00:00",
          "2023-09-01T00:00:00",
          "2023-09-04T00:00:00",
          "2023-09-05T00:00:00",
          "2023-09-06T00:00:00",
          "2023-09-07T00:00:00",
          "2023-09-08T00:00:00",
          "2023-09-11T00:00:00",
          "2023-09-12T00:00:00",
          "2023-09-13T00:00:00",
          "2023-09-14T00:00:00",
          "2023-09-15T00:00:00",
          "2023-09-18T00:00:00",
          "2023-09-20T00:00:00",
          "2023-09-21T00:00:00",
          "2023-09-22T00:00:00",
          "2023-09-25T00:00:00",
          "2023-09-26T00:00:00",
          "2023-09-27T00:00:00",
          "2023-09-28T00:00:00",
          "2023-09-29T00:00:00",
          "2023-10-03T00:00:00",
          "2023-10-04T00:00:00",
          "2023-10-05T00:00:00",
          "2023-10-06T00:00:00",
          "2023-10-09T00:00:00",
          "2023-10-10T00:00:00",
          "2023-10-11T00:00:00",
          "2023-10-12T00:00:00",
          "2023-10-13T00:00:00",
          "2023-10-16T00:00:00",
          "2023-10-17T00:00:00",
          "2023-10-18T00:00:00",
          "2023-10-19T00:00:00",
          "2023-10-20T00:00:00",
          "2023-10-23T00:00:00",
          "2023-10-25T00:00:00",
          "2023-10-26T00:00:00",
          "2023-10-27T00:00:00",
          "2023-10-30T00:00:00",
          "2023-10-31T00:00:00",
          "2023-11-01T00:00:00",
          "2023-11-02T00:00:00",
          "2023-11-03T00:00:00",
          "2023-11-06T00:00:00",
          "2023-11-07T00:00:00",
          "2023-11-08T00:00:00",
          "2023-11-09T00:00:00",
          "2023-11-10T00:00:00",
          "2023-11-13T00:00:00",
          "2023-11-15T00:00:00",
          "2023-11-16T00:00:00",
          "2023-11-17T00:00:00",
          "2023-11-20T00:00:00",
          "2023-11-21T00:00:00",
          "2023-11-22T00:00:00",
          "2023-11-23T00:00:00",
          "2023-11-24T00:00:00",
          "2023-11-28T00:00:00",
          "2023-11-29T00:00:00",
          "2023-11-30T00:00:00",
          "2023-12-01T00:00:00",
          "2023-12-04T00:00:00",
          "2023-12-05T00:00:00",
          "2023-12-06T00:00:00",
          "2023-12-07T00:00:00",
          "2023-12-08T00:00:00",
          "2023-12-11T00:00:00",
          "2023-12-12T00:00:00",
          "2023-12-13T00:00:00",
          "2023-12-14T00:00:00",
          "2023-12-15T00:00:00",
          "2023-12-18T00:00:00",
          "2023-12-19T00:00:00",
          "2023-12-20T00:00:00",
          "2023-12-21T00:00:00",
          "2023-12-22T00:00:00",
          "2023-12-26T00:00:00",
          "2023-12-27T00:00:00",
          "2023-12-28T00:00:00",
          "2023-12-29T00:00:00",
          "2024-01-01T00:00:00",
          "2024-01-02T00:00:00",
          "2024-01-03T00:00:00",
          "2024-01-04T00:00:00",
          "2024-01-05T00:00:00",
          "2024-01-08T00:00:00",
          "2024-01-09T00:00:00",
          "2024-01-10T00:00:00",
          "2024-01-11T00:00:00",
          "2024-01-12T00:00:00",
          "2024-01-15T00:00:00",
          "2024-01-16T00:00:00",
          "2024-01-17T00:00:00",
          "2024-01-18T00:00:00",
          "2024-01-19T00:00:00",
          "2024-01-23T00:00:00",
          "2024-01-24T00:00:00",
          "2024-01-25T00:00:00",
          "2024-01-29T00:00:00",
          "2024-01-30T00:00:00",
          "2024-01-31T00:00:00"
         ]
        },
        {
         "line": {
          "color": "black"
         },
         "mode": "lines",
         "name": "7 days",
         "type": "scatter",
         "x": [
          "2023-01-02T00:00:00",
          "2023-01-03T00:00:00",
          "2023-01-04T00:00:00",
          "2023-01-05T00:00:00",
          "2023-01-06T00:00:00",
          "2023-01-09T00:00:00",
          "2023-01-10T00:00:00",
          "2023-01-11T00:00:00",
          "2023-01-12T00:00:00",
          "2023-01-13T00:00:00",
          "2023-01-16T00:00:00",
          "2023-01-17T00:00:00",
          "2023-01-18T00:00:00",
          "2023-01-19T00:00:00",
          "2023-01-20T00:00:00",
          "2023-01-23T00:00:00",
          "2023-01-24T00:00:00",
          "2023-01-25T00:00:00",
          "2023-01-27T00:00:00",
          "2023-01-30T00:00:00",
          "2023-01-31T00:00:00",
          "2023-02-01T00:00:00",
          "2023-02-02T00:00:00",
          "2023-02-03T00:00:00",
          "2023-02-06T00:00:00",
          "2023-02-07T00:00:00",
          "2023-02-08T00:00:00",
          "2023-02-09T00:00:00",
          "2023-02-10T00:00:00",
          "2023-02-13T00:00:00",
          "2023-02-14T00:00:00",
          "2023-02-15T00:00:00",
          "2023-02-16T00:00:00",
          "2023-02-17T00:00:00",
          "2023-02-20T00:00:00",
          "2023-02-21T00:00:00",
          "2023-02-22T00:00:00",
          "2023-02-23T00:00:00",
          "2023-02-24T00:00:00",
          "2023-02-27T00:00:00",
          "2023-02-28T00:00:00",
          "2023-03-01T00:00:00",
          "2023-03-02T00:00:00",
          "2023-03-03T00:00:00",
          "2023-03-06T00:00:00",
          "2023-03-08T00:00:00",
          "2023-03-09T00:00:00",
          "2023-03-10T00:00:00",
          "2023-03-13T00:00:00",
          "2023-03-14T00:00:00",
          "2023-03-15T00:00:00",
          "2023-03-16T00:00:00",
          "2023-03-17T00:00:00",
          "2023-03-20T00:00:00",
          "2023-03-21T00:00:00",
          "2023-03-22T00:00:00",
          "2023-03-23T00:00:00",
          "2023-03-24T00:00:00",
          "2023-03-27T00:00:00",
          "2023-03-28T00:00:00",
          "2023-03-29T00:00:00",
          "2023-03-31T00:00:00",
          "2023-04-03T00:00:00",
          "2023-04-05T00:00:00",
          "2023-04-06T00:00:00",
          "2023-04-10T00:00:00",
          "2023-04-11T00:00:00",
          "2023-04-12T00:00:00",
          "2023-04-13T00:00:00",
          "2023-04-17T00:00:00",
          "2023-04-18T00:00:00",
          "2023-04-19T00:00:00",
          "2023-04-20T00:00:00",
          "2023-04-21T00:00:00",
          "2023-04-24T00:00:00",
          "2023-04-25T00:00:00",
          "2023-04-26T00:00:00",
          "2023-04-27T00:00:00",
          "2023-04-28T00:00:00",
          "2023-05-02T00:00:00",
          "2023-05-03T00:00:00",
          "2023-05-04T00:00:00",
          "2023-05-05T00:00:00",
          "2023-05-08T00:00:00",
          "2023-05-09T00:00:00",
          "2023-05-10T00:00:00",
          "2023-05-11T00:00:00",
          "2023-05-12T00:00:00",
          "2023-05-15T00:00:00",
          "2023-05-16T00:00:00",
          "2023-05-17T00:00:00",
          "2023-05-18T00:00:00",
          "2023-05-19T00:00:00",
          "2023-05-22T00:00:00",
          "2023-05-23T00:00:00",
          "2023-05-24T00:00:00",
          "2023-05-25T00:00:00",
          "2023-05-26T00:00:00",
          "2023-05-29T00:00:00",
          "2023-05-30T00:00:00",
          "2023-05-31T00:00:00",
          "2023-06-01T00:00:00",
          "2023-06-02T00:00:00",
          "2023-06-05T00:00:00",
          "2023-06-06T00:00:00",
          "2023-06-07T00:00:00",
          "2023-06-08T00:00:00",
          "2023-06-09T00:00:00",
          "2023-06-12T00:00:00",
          "2023-06-13T00:00:00",
          "2023-06-14T00:00:00",
          "2023-06-15T00:00:00",
          "2023-06-16T00:00:00",
          "2023-06-19T00:00:00",
          "2023-06-20T00:00:00",
          "2023-06-21T00:00:00",
          "2023-06-22T00:00:00",
          "2023-06-23T00:00:00",
          "2023-06-26T00:00:00",
          "2023-06-27T00:00:00",
          "2023-06-28T00:00:00",
          "2023-06-30T00:00:00",
          "2023-07-03T00:00:00",
          "2023-07-04T00:00:00",
          "2023-07-05T00:00:00",
          "2023-07-06T00:00:00",
          "2023-07-07T00:00:00",
          "2023-07-10T00:00:00",
          "2023-07-11T00:00:00",
          "2023-07-12T00:00:00",
          "2023-07-13T00:00:00",
          "2023-07-14T00:00:00",
          "2023-07-17T00:00:00",
          "2023-07-18T00:00:00",
          "2023-07-19T00:00:00",
          "2023-07-20T00:00:00",
          "2023-07-21T00:00:00",
          "2023-07-24T00:00:00",
          "2023-07-25T00:00:00",
          "2023-07-26T00:00:00",
          "2023-07-27T00:00:00",
          "2023-07-28T00:00:00",
          "2023-07-31T00:00:00",
          "2023-08-01T00:00:00",
          "2023-08-02T00:00:00",
          "2023-08-03T00:00:00",
          "2023-08-04T00:00:00",
          "2023-08-07T00:00:00",
          "2023-08-08T00:00:00",
          "2023-08-09T00:00:00",
          "2023-08-10T00:00:00",
          "2023-08-11T00:00:00",
          "2023-08-14T00:00:00",
          "2023-08-16T00:00:00",
          "2023-08-17T00:00:00",
          "2023-08-18T00:00:00",
          "2023-08-21T00:00:00",
          "2023-08-22T00:00:00",
          "2023-08-23T00:00:00",
          "2023-08-24T00:00:00",
          "2023-08-25T00:00:00",
          "2023-08-28T00:00:00",
          "2023-08-29T00:00:00",
          "2023-08-30T00:00:00",
          "2023-08-31T00:00:00",
          "2023-09-01T00:00:00",
          "2023-09-04T00:00:00",
          "2023-09-05T00:00:00",
          "2023-09-06T00:00:00",
          "2023-09-07T00:00:00",
          "2023-09-08T00:00:00",
          "2023-09-11T00:00:00",
          "2023-09-12T00:00:00",
          "2023-09-13T00:00:00",
          "2023-09-14T00:00:00",
          "2023-09-15T00:00:00",
          "2023-09-18T00:00:00",
          "2023-09-20T00:00:00",
          "2023-09-21T00:00:00",
          "2023-09-22T00:00:00",
          "2023-09-25T00:00:00",
          "2023-09-26T00:00:00",
          "2023-09-27T00:00:00",
          "2023-09-28T00:00:00",
          "2023-09-29T00:00:00",
          "2023-10-03T00:00:00",
          "2023-10-04T00:00:00",
          "2023-10-05T00:00:00",
          "2023-10-06T00:00:00",
          "2023-10-09T00:00:00",
          "2023-10-10T00:00:00",
          "2023-10-11T00:00:00",
          "2023-10-12T00:00:00",
          "2023-10-13T00:00:00",
          "2023-10-16T00:00:00",
          "2023-10-17T00:00:00",
          "2023-10-18T00:00:00",
          "2023-10-19T00:00:00",
          "2023-10-20T00:00:00",
          "2023-10-23T00:00:00",
          "2023-10-25T00:00:00",
          "2023-10-26T00:00:00",
          "2023-10-27T00:00:00",
          "2023-10-30T00:00:00",
          "2023-10-31T00:00:00",
          "2023-11-01T00:00:00",
          "2023-11-02T00:00:00",
          "2023-11-03T00:00:00",
          "2023-11-06T00:00:00",
          "2023-11-07T00:00:00",
          "2023-11-08T00:00:00",
          "2023-11-09T00:00:00",
          "2023-11-10T00:00:00",
          "2023-11-13T00:00:00",
          "2023-11-15T00:00:00",
          "2023-11-16T00:00:00",
          "2023-11-17T00:00:00",
          "2023-11-20T00:00:00",
          "2023-11-21T00:00:00",
          "2023-11-22T00:00:00",
          "2023-11-23T00:00:00",
          "2023-11-24T00:00:00",
          "2023-11-28T00:00:00",
          "2023-11-29T00:00:00",
          "2023-11-30T00:00:00",
          "2023-12-01T00:00:00",
          "2023-12-04T00:00:00",
          "2023-12-05T00:00:00",
          "2023-12-06T00:00:00",
          "2023-12-07T00:00:00",
          "2023-12-08T00:00:00",
          "2023-12-11T00:00:00",
          "2023-12-12T00:00:00",
          "2023-12-13T00:00:00",
          "2023-12-14T00:00:00",
          "2023-12-15T00:00:00",
          "2023-12-18T00:00:00",
          "2023-12-19T00:00:00",
          "2023-12-20T00:00:00",
          "2023-12-21T00:00:00",
          "2023-12-22T00:00:00",
          "2023-12-26T00:00:00",
          "2023-12-27T00:00:00",
          "2023-12-28T00:00:00",
          "2023-12-29T00:00:00",
          "2024-01-01T00:00:00",
          "2024-01-02T00:00:00",
          "2024-01-03T00:00:00",
          "2024-01-04T00:00:00",
          "2024-01-05T00:00:00",
          "2024-01-08T00:00:00",
          "2024-01-09T00:00:00",
          "2024-01-10T00:00:00",
          "2024-01-11T00:00:00",
          "2024-01-12T00:00:00",
          "2024-01-15T00:00:00",
          "2024-01-16T00:00:00",
          "2024-01-17T00:00:00",
          "2024-01-18T00:00:00",
          "2024-01-19T00:00:00",
          "2024-01-23T00:00:00",
          "2024-01-24T00:00:00",
          "2024-01-25T00:00:00",
          "2024-01-29T00:00:00",
          "2024-01-30T00:00:00",
          "2024-01-31T00:00:00"
         ],
         "y": [
          null,
          null,
          null,
          null,
          null,
          null,
          3284.0441380143166,
          3295.208091303706,
          3304.993592891842,
          3322.382706875913,
          3325.299542363966,
          3338.574632358912,
          3351.430974269184,
          3356.8482551159505,
          3358.4112157510253,
          3372.5333873992067,
          3388.4750527564365,
          3398.7937895673276,
          3401.857854382527,
          3409.8058663728325,
          3397.029387572593,
          3399.859565093507,
          3414.9946494060678,
          3431.820999261582,
          3438.8532372391555,
          3447.2774401363977,
          3465.483104516361,
          3484.3248528013332,
          3497.631151808031,
          3493.823339441961,
          3495.392528995533,
          3501.7068723325874,
          3515.792666456472,
          3512.1319754282913,
          3505.9239937782495,
          3492.192995333687,
          3469.5322587072965,
          3455.5992062375035,
          3441.811892471096,
          3414.3214437673846,
          3388.953607239601,
          3388.1401932226695,
          3371.467632709971,
          3364.1382001184156,
          3366.066174502874,
          3372.1496064630933,
          3363.3247292613823,
          3355.243546946037,
          3336.9201480024967,
          3306.4275987948413,
          3279.5456746820682,
          3255.9092560115514,
          3236.756954215695,
          3213.3927278688025,
          3186.5695703156644,
          3172.6271899437797,
          3160.6328680437723,
          3150.599651032829,
          3143.524750481653,
          3136.6185384471773,
          3137.1888794213205,
          3154.3666351519278,
          3165.774976363946,
          3184.2812444799906,
          3193.3859211529616,
          3210.8894164506587,
          3211.6170745450254,
          3219.1252814947065,
          3211.556485535092,
          3193.542364151319,
          3177.844273113489,
          3155.7832292491794,
          3143.0374341439156,
          3147.490600021999,
          3154.3179622235302,
          3159.738471667648,
          3169.3413293366734,
          3173.9934847954737,
          3185.3076135966053,
          3193.8306857833913,
          3190.347989923481,
          3197.9359802355793,
          3206.1269729696533,
          3217.245254141302,
          3233.7464406059767,
          3247.0098426615136,
          3255.794857582073,
          3260.4211553935857,
          3259.0783787522205,
          3258.846259650103,
          3246.309682530546,
          3234.694786311972,
          3231.733614148042,
          3248.4751984040004,
          3260.6189110100313,
          3271.301707671586,
          3276.8512807536895,
          3289.8634361512045,
          3297.4851015274658,
          3302.163813938568,
          3298.997860453926,
          3305.2483953404444,
          3305.336320919396,
          3301.2272162754844,
          3283.9954244136443,
          3281.7215438961707,
          3270.403645715097,
          3255.1277464933537,
          3253.070785455953,
          3250.728076884933,
          3250.808569870731,
          3242.1814396100795,
          3225.361055293497,
          3221.6207670560602,
          3223.140563085014,
          3231.9054101067295,
          3233.554057580047,
          3229.2530675990974,
          3219.352276285261,
          3213.851731628008,
          3214.2512865139747,
          3236.250964885481,
          3245.263235871142,
          3261.159951317419,
          3275.8574512810333,
          3287.6180640467123,
          3298.0260480350344,
          3291.5070238192448,
          3286.730243450371,
          3280.0226581737156,
          3295.154505837318,
          3350.028354963926,
          3385.4462540159134,
          3413.2972149259977,
          3427.4854234015293,
          3436.439079758178,
          3419.404322025665,
          3413.240741519249,
          3409.718031725374,
          3404.363536001062,
          3402.497627586734,
          3390.723196275988,
          3398.40488499996,
          3411.816175957001,
          3419.0246075536884,
          3414.255943458235,
          3421.5794698007076,
          3437.1971145575617,
          3445.5478603322335,
          3449.785895249175,
          3447.864445850944,
          3448.098346595239,
          3448.5362843604917,
          3451.002188856306,
          3447.1891416422295,
          3427.1668806457346,
          3420.7876360702385,
          3411.128202638616,
          3407.908651978962,
          3402.8689889842217,
          3397.4767539451977,
          3391.99507766593,
          3388.033783835385,
          3388.7628256695075,
          3380.7721314591618,
          3380.37908638734,
          3389.909314790505,
          3399.7695105069415,
          3407.3021084661436,
          3419.289081349608,
          3424.941786598143,
          3438.868815534545,
          3474.35162385794,
          3497.7262423075176,
          3513.3071939376696,
          3534.5554076602834,
          3552.45403133115,
          3565.8530357053937,
          3570.7147889860767,
          3578.948567325495,
          3578.4989010800587,
          3580.299163603013,
          3582.549384909291,
          3571.099538681968,
          3560.4746784255385,
          3548.8185332332164,
          3546.0513999249124,
          3556.876074357747,
          3573.0070313542474,
          3589.342797929748,
          3599.2320740332484,
          3601.8990311108737,
          3587.0617855401865,
          3583.0088635692023,
          3568.269159883933,
          3552.9643821199807,
          3536.5357865899855,
          3516.3143155284265,
          3510.873248853351,
          3485.6924122259506,
          3461.7943335835253,
          3430.5332501876437,
          3410.6374254337015,
          3402.615581282307,
          3394.1491859617304,
          3378.274365057235,
          3373.7307982069888,
          3368.023074241179,
          3371.0798056808844,
          3370.922342053632,
          3373.579268747255,
          3367.04693935341,
          3358.6476923080263,
          3351.873281438051,
          3364.9799732855695,
          3398.1975043782395,
          3424.260616076648,
          3448.0954864715486,
          3463.62160264663,
          3480.25367757091,
          3487.2527581781824,
          3479.714593047699,
          3477.323420371712,
          3486.4300652787842,
          3486.7225733731507,
          3492.9544056158006,
          3497.828292004819,
          3506.271243417677,
          3530.72845697732,
          3551.7713183189276,
          3570.5034765321643,
          3588.6025829850605,
          3609.476961652858,
          3605.495233446675,
          3620.933925085006,
          3680.9504438137546,
          3725.5128206532845,
          3748.184603282932,
          3756.1509646692302,
          3763.9882235019227,
          3778.991167626442,
          3783.1308879268627,
          3790.148153738116,
          3792.5860908895247,
          3792.789543753081,
          3797.3671822288734,
          3793.8253744646236,
          3768.3065308484674,
          3742.929910343382,
          3741.6724083434738,
          3725.8293184646363,
          3716.846964434415,
          3715.8977355328425,
          3720.810813856663,
          3761.3081225995284,
          3796.9311041566775,
          3813.0233403245393,
          3830.9175296574667,
          3848.8381716571625,
          3872.3911409499033,
          3868.8558557124275,
          3862.091903991352,
          3849.1439402005453,
          3837.107955150409,
          3827.968478569838,
          3824.9638467203476
         ]
        },
        {
         "line": {
          "color": "red"
         },
         "mode": "lines",
         "name": "21 days",
         "type": "scatter",
         "x": [
          "2023-01-02T00:00:00",
          "2023-01-03T00:00:00",
          "2023-01-04T00:00:00",
          "2023-01-05T00:00:00",
          "2023-01-06T00:00:00",
          "2023-01-09T00:00:00",
          "2023-01-10T00:00:00",
          "2023-01-11T00:00:00",
          "2023-01-12T00:00:00",
          "2023-01-13T00:00:00",
          "2023-01-16T00:00:00",
          "2023-01-17T00:00:00",
          "2023-01-18T00:00:00",
          "2023-01-19T00:00:00",
          "2023-01-20T00:00:00",
          "2023-01-23T00:00:00",
          "2023-01-24T00:00:00",
          "2023-01-25T00:00:00",
          "2023-01-27T00:00:00",
          "2023-01-30T00:00:00",
          "2023-01-31T00:00:00",
          "2023-02-01T00:00:00",
          "2023-02-02T00:00:00",
          "2023-02-03T00:00:00",
          "2023-02-06T00:00:00",
          "2023-02-07T00:00:00",
          "2023-02-08T00:00:00",
          "2023-02-09T00:00:00",
          "2023-02-10T00:00:00",
          "2023-02-13T00:00:00",
          "2023-02-14T00:00:00",
          "2023-02-15T00:00:00",
          "2023-02-16T00:00:00",
          "2023-02-17T00:00:00",
          "2023-02-20T00:00:00",
          "2023-02-21T00:00:00",
          "2023-02-22T00:00:00",
          "2023-02-23T00:00:00",
          "2023-02-24T00:00:00",
          "2023-02-27T00:00:00",
          "2023-02-28T00:00:00",
          "2023-03-01T00:00:00",
          "2023-03-02T00:00:00",
          "2023-03-03T00:00:00",
          "2023-03-06T00:00:00",
          "2023-03-08T00:00:00",
          "2023-03-09T00:00:00",
          "2023-03-10T00:00:00",
          "2023-03-13T00:00:00",
          "2023-03-14T00:00:00",
          "2023-03-15T00:00:00",
          "2023-03-16T00:00:00",
          "2023-03-17T00:00:00",
          "2023-03-20T00:00:00",
          "2023-03-21T00:00:00",
          "2023-03-22T00:00:00",
          "2023-03-23T00:00:00",
          "2023-03-24T00:00:00",
          "2023-03-27T00:00:00",
          "2023-03-28T00:00:00",
          "2023-03-29T00:00:00",
          "2023-03-31T00:00:00",
          "2023-04-03T00:00:00",
          "2023-04-05T00:00:00",
          "2023-04-06T00:00:00",
          "2023-04-10T00:00:00",
          "2023-04-11T00:00:00",
          "2023-04-12T00:00:00",
          "2023-04-13T00:00:00",
          "2023-04-17T00:00:00",
          "2023-04-18T00:00:00",
          "2023-04-19T00:00:00",
          "2023-04-20T00:00:00",
          "2023-04-21T00:00:00",
          "2023-04-24T00:00:00",
          "2023-04-25T00:00:00",
          "2023-04-26T00:00:00",
          "2023-04-27T00:00:00",
          "2023-04-28T00:00:00",
          "2023-05-02T00:00:00",
          "2023-05-03T00:00:00",
          "2023-05-04T00:00:00",
          "2023-05-05T00:00:00",
          "2023-05-08T00:00:00",
          "2023-05-09T00:00:00",
          "2023-05-10T00:00:00",
          "2023-05-11T00:00:00",
          "2023-05-12T00:00:00",
          "2023-05-15T00:00:00",
          "2023-05-16T00:00:00",
          "2023-05-17T00:00:00",
          "2023-05-18T00:00:00",
          "2023-05-19T00:00:00",
          "2023-05-22T00:00:00",
          "2023-05-23T00:00:00",
          "2023-05-24T00:00:00",
          "2023-05-25T00:00:00",
          "2023-05-26T00:00:00",
          "2023-05-29T00:00:00",
          "2023-05-30T00:00:00",
          "2023-05-31T00:00:00",
          "2023-06-01T00:00:00",
          "2023-06-02T00:00:00",
          "2023-06-05T00:00:00",
          "2023-06-06T00:00:00",
          "2023-06-07T00:00:00",
          "2023-06-08T00:00:00",
          "2023-06-09T00:00:00",
          "2023-06-12T00:00:00",
          "2023-06-13T00:00:00",
          "2023-06-14T00:00:00",
          "2023-06-15T00:00:00",
          "2023-06-16T00:00:00",
          "2023-06-19T00:00:00",
          "2023-06-20T00:00:00",
          "2023-06-21T00:00:00",
          "2023-06-22T00:00:00",
          "2023-06-23T00:00:00",
          "2023-06-26T00:00:00",
          "2023-06-27T00:00:00",
          "2023-06-28T00:00:00",
          "2023-06-30T00:00:00",
          "2023-07-03T00:00:00",
          "2023-07-04T00:00:00",
          "2023-07-05T00:00:00",
          "2023-07-06T00:00:00",
          "2023-07-07T00:00:00",
          "2023-07-10T00:00:00",
          "2023-07-11T00:00:00",
          "2023-07-12T00:00:00",
          "2023-07-13T00:00:00",
          "2023-07-14T00:00:00",
          "2023-07-17T00:00:00",
          "2023-07-18T00:00:00",
          "2023-07-19T00:00:00",
          "2023-07-20T00:00:00",
          "2023-07-21T00:00:00",
          "2023-07-24T00:00:00",
          "2023-07-25T00:00:00",
          "2023-07-26T00:00:00",
          "2023-07-27T00:00:00",
          "2023-07-28T00:00:00",
          "2023-07-31T00:00:00",
          "2023-08-01T00:00:00",
          "2023-08-02T00:00:00",
          "2023-08-03T00:00:00",
          "2023-08-04T00:00:00",
          "2023-08-07T00:00:00",
          "2023-08-08T00:00:00",
          "2023-08-09T00:00:00",
          "2023-08-10T00:00:00",
          "2023-08-11T00:00:00",
          "2023-08-14T00:00:00",
          "2023-08-16T00:00:00",
          "2023-08-17T00:00:00",
          "2023-08-18T00:00:00",
          "2023-08-21T00:00:00",
          "2023-08-22T00:00:00",
          "2023-08-23T00:00:00",
          "2023-08-24T00:00:00",
          "2023-08-25T00:00:00",
          "2023-08-28T00:00:00",
          "2023-08-29T00:00:00",
          "2023-08-30T00:00:00",
          "2023-08-31T00:00:00",
          "2023-09-01T00:00:00",
          "2023-09-04T00:00:00",
          "2023-09-05T00:00:00",
          "2023-09-06T00:00:00",
          "2023-09-07T00:00:00",
          "2023-09-08T00:00:00",
          "2023-09-11T00:00:00",
          "2023-09-12T00:00:00",
          "2023-09-13T00:00:00",
          "2023-09-14T00:00:00",
          "2023-09-15T00:00:00",
          "2023-09-18T00:00:00",
          "2023-09-20T00:00:00",
          "2023-09-21T00:00:00",
          "2023-09-22T00:00:00",
          "2023-09-25T00:00:00",
          "2023-09-26T00:00:00",
          "2023-09-27T00:00:00",
          "2023-09-28T00:00:00",
          "2023-09-29T00:00:00",
          "2023-10-03T00:00:00",
          "2023-10-04T00:00:00",
          "2023-10-05T00:00:00",
          "2023-10-06T00:00:00",
          "2023-10-09T00:00:00",
          "2023-10-10T00:00:00",
          "2023-10-11T00:00:00",
          "2023-10-12T00:00:00",
          "2023-10-13T00:00:00",
          "2023-10-16T00:00:00",
          "2023-10-17T00:00:00",
          "2023-10-18T00:00:00",
          "2023-10-19T00:00:00",
          "2023-10-20T00:00:00",
          "2023-10-23T00:00:00",
          "2023-10-25T00:00:00",
          "2023-10-26T00:00:00",
          "2023-10-27T00:00:00",
          "2023-10-30T00:00:00",
          "2023-10-31T00:00:00",
          "2023-11-01T00:00:00",
          "2023-11-02T00:00:00",
          "2023-11-03T00:00:00",
          "2023-11-06T00:00:00",
          "2023-11-07T00:00:00",
          "2023-11-08T00:00:00",
          "2023-11-09T00:00:00",
          "2023-11-10T00:00:00",
          "2023-11-13T00:00:00",
          "2023-11-15T00:00:00",
          "2023-11-16T00:00:00",
          "2023-11-17T00:00:00",
          "2023-11-20T00:00:00",
          "2023-11-21T00:00:00",
          "2023-11-22T00:00:00",
          "2023-11-23T00:00:00",
          "2023-11-24T00:00:00",
          "2023-11-28T00:00:00",
          "2023-11-29T00:00:00",
          "2023-11-30T00:00:00",
          "2023-12-01T00:00:00",
          "2023-12-04T00:00:00",
          "2023-12-05T00:00:00",
          "2023-12-06T00:00:00",
          "2023-12-07T00:00:00",
          "2023-12-08T00:00:00",
          "2023-12-11T00:00:00",
          "2023-12-12T00:00:00",
          "2023-12-13T00:00:00",
          "2023-12-14T00:00:00",
          "2023-12-15T00:00:00",
          "2023-12-18T00:00:00",
          "2023-12-19T00:00:00",
          "2023-12-20T00:00:00",
          "2023-12-21T00:00:00",
          "2023-12-22T00:00:00",
          "2023-12-26T00:00:00",
          "2023-12-27T00:00:00",
          "2023-12-28T00:00:00",
          "2023-12-29T00:00:00",
          "2024-01-01T00:00:00",
          "2024-01-02T00:00:00",
          "2024-01-03T00:00:00",
          "2024-01-04T00:00:00",
          "2024-01-05T00:00:00",
          "2024-01-08T00:00:00",
          "2024-01-09T00:00:00",
          "2024-01-10T00:00:00",
          "2024-01-11T00:00:00",
          "2024-01-12T00:00:00",
          "2024-01-15T00:00:00",
          "2024-01-16T00:00:00",
          "2024-01-17T00:00:00",
          "2024-01-18T00:00:00",
          "2024-01-19T00:00:00",
          "2024-01-23T00:00:00",
          "2024-01-24T00:00:00",
          "2024-01-25T00:00:00",
          "2024-01-29T00:00:00",
          "2024-01-30T00:00:00",
          "2024-01-31T00:00:00"
         ],
         "y": [
          null,
          null,
          null,
          null,
          null,
          null,
          null,
          null,
          null,
          null,
          null,
          null,
          null,
          null,
          null,
          null,
          null,
          null,
          null,
          null,
          3360.5798818391017,
          3364.9226287315696,
          3373.6023808781315,
          3383.4839870554033,
          3390.4354383387185,
          3397.9004029286643,
          3409.0094660857176,
          3420.994978046675,
          3431.5908935722614,
          3436.2098943696697,
          3442.0180946684495,
          3449.1664408207494,
          3459.0649506396016,
          3462.8908553399788,
          3465.10987292981,
          3463.827157208918,
          3458.1656019015727,
          3454.1323698039864,
          3449.2521499283403,
          3438.579236085423,
          3427.149314410043,
          3423.3811904793006,
          3414.1147141786255,
          3407.5724585572734,
          3404.324971202635,
          3403.0590558518275,
          3397.0400596522295,
          3391.036417865663,
          3381.119466348046,
          3366.013146786576,
          3350.82103365541,
          3335.7463942321906,
          3321.5239991954572,
          3305.321821889336,
          3287.2107560499644,
          3272.991600847979,
          3259.505991893049,
          3246.8690835391353,
          3235.5446258381344,
          3224.6678327931904,
          3216.8707482068776,
          3215.8733985829567,
          3214.4303623481424,
          3216.736697482686,
          3217.096993272612,
          3221.3063486427154,
          3220.62395775048,
          3222.535407258959,
          3219.4731063859854,
          3212.2028239872593,
          3204.7980218065995,
          3194.3254832474768,
          3186.186807391172,
          3183.8834701425426,
          3183.057704568505,
          3182.4160950622772,
          3183.8464411787745,
          3184.2194875417836,
          3187.4040795834394,
          3190.3127907434678,
          3189.366164525312,
          3192.21469058409,
          3195.713350637525,
          3200.7030549119545,
          3208.207322647231,
          3215.352115936403,
          3221.424641973435,
          3226.2314971420433,
          3228.851365477142,
          3231.5148688286513,
          3229.440785405308,
          3226.750722882666,
          3226.3961205893556,
          3232.9691960968576,
          3238.794728163336,
          3244.663398117237,
          3249.1030891974883,
          3256.357344938058,
          3262.174867912439,
          3267.086239117842,
          3269.123853743493,
          3274.112594312266,
          3276.975094616265,
          3278.059168046036,
          3273.899248117135,
          3273.9902166831907,
          3270.577465273071,
          3265.0067910508033,
          3263.360710259253,
          3261.5733685240366,
          3260.6167030971355,
          3256.5879163454074,
          3249.161733254348,
          3245.6379304442935,
          3244.007205055892,
          3245.2974547027993,
          3244.679504275272,
          3242.104103673543,
          3237.335539916289,
          3233.7004997108306,
          3232.041358934562,
          3238.4239626677836,
          3241.503606864178,
          3247.6260151180027,
          3254.2009183956275,
          3260.44628057273,
          3266.701164157027,
          3267.1783266129223,
          3267.6530153157246,
          3266.9481868637267,
          3273.6392652241266,
          3295.5493231440923,
          3313.3811984193453,
          3330.060189259064,
          3342.7865401289787,
          3353.742313647083,
          3355.065744118087,
          3358.6734037437154,
          3362.3530854346277,
          3364.7119002885815,
          3367.6380822935967,
          3366.525520479974,
          3371.518650542874,
          3378.8396867506244,
          3384.4587972590907,
          3385.8670839784345,
          3391.110989873861,
          3399.559995233339,
          3406.018186362695,
          3411.1528966933593,
          3413.9662785990768,
          3417.1329849835356,
          3420.107267953782,
          3423.588416534688,
          3424.694015031534,
          3419.4582043610535,
          3417.839267814026,
          3414.594780044001,
          3413.1088909490913,
          3410.8035372264467,
          3408.121401917508,
          3405.1603698184736,
          3402.5230545934987,
          3401.470954282442,
          3397.4099628775043,
          3395.7545072679013,
          3397.8222793344557,
          3400.688444636437,
          3403.344031700738,
          3408.06275609158,
          3411.1388602963225,
          3417.4580459369977,
          3432.3073189271,
          3444.6293897206588,
          3455.1221769122462,
          3468.138347086417,
          3480.684852109811,
          3492.0816881751125,
          3500.5560845981136,
          3509.928249847717,
          3516.039309165538,
          3522.3720948024775,
          3528.4564542593544,
          3529.2104129630493,
          3529.15492975334,
          3527.7635813808774,
          3528.6714376189793,
          3534.1876794405493,
          3542.1160633408404,
          3550.8646119149685,
          3557.9587292266756,
          3562.6806540555003,
          3560.85059903483,
          3561.7596443640496,
          3558.3314993153294,
          3553.669549271038,
          3547.631408428216,
          3539.269453329628,
          3535.2040529204005,
          3523.8354937770687,
          3511.6777304933576,
          3495.7752095394158,
          3482.6092769605484,
          3473.149347130328,
          3463.658497391207,
          3451.5668069323474,
          3443.2516515436114,
          3434.856037979988,
          3429.8918527090796,
          3424.4880434784245,
          3420.584589419306,
          3413.935985942267,
          3406.619073690413,
          3399.7946168847507,
          3400.2042016068754,
          3409.0811012477275,
          3417.569178513559,
          3426.84471661744,
          3434.4224652132975,
          3443.124959497884,
          3449.0454177253487,
          3449.7776613554306,
          3451.62968326346,
          3457.276984784963,
          3460.0336314096257,
          3464.726019676364,
          3469.0645589032288,
          3474.7496078807762,
          3486.50874331491,
          3498.1806668629865,
          3509.864238163794,
          3521.958389452881,
          3535.607635653187,
          3540.8751277599995,
          3552.3637525090903,
          3580.421593190082,
          3605.765080279336,
          3624.8955230877486,
          3639.0004799732374,
          3652.500436339307,
          3668.091305763006,
          3679.678464223471,
          3691.6349630369623,
          3701.47723024667,
          3709.83383680095,
          3719.039860515068,
          3724.872596029323,
          3721.8614509357485,
          3716.8558689259644,
          3718.768962873036,
          3715.0899706871346,
          3712.7999644740994,
          3712.8226994153742,
          3714.8888220892604,
          3730.1534790655205,
          3745.9395308621206,
          3756.4268506772114,
          3768.078964038942,
          3780.3081580041517,
          3795.1028753517858,
          3800.8435230470777,
          3804.5668435726275,
          3805.0880440503997,
          3804.7164036821814,
          3804.3376441499945,
          3805.393308424711
         ]
        }
       ],
       "layout": {
        "template": {
         "data": {
          "bar": [
           {
            "error_x": {
             "color": "#2a3f5f"
            },
            "error_y": {
             "color": "#2a3f5f"
            },
            "marker": {
             "line": {
              "color": "#E5ECF6",
              "width": 0.5
             },
             "pattern": {
              "fillmode": "overlay",
              "size": 10,
              "solidity": 0.2
             }
            },
            "type": "bar"
           }
          ],
          "barpolar": [
           {
            "marker": {
             "line": {
              "color": "#E5ECF6",
              "width": 0.5
             },
             "pattern": {
              "fillmode": "overlay",
              "size": 10,
              "solidity": 0.2
             }
            },
            "type": "barpolar"
           }
          ],
          "carpet": [
           {
            "aaxis": {
             "endlinecolor": "#2a3f5f",
             "gridcolor": "white",
             "linecolor": "white",
             "minorgridcolor": "white",
             "startlinecolor": "#2a3f5f"
            },
            "baxis": {
             "endlinecolor": "#2a3f5f",
             "gridcolor": "white",
             "linecolor": "white",
             "minorgridcolor": "white",
             "startlinecolor": "#2a3f5f"
            },
            "type": "carpet"
           }
          ],
          "choropleth": [
           {
            "colorbar": {
             "outlinewidth": 0,
             "ticks": ""
            },
            "type": "choropleth"
           }
          ],
          "contour": [
           {
            "colorbar": {
             "outlinewidth": 0,
             "ticks": ""
            },
            "colorscale": [
             [
              0,
              "#0d0887"
             ],
             [
              0.1111111111111111,
              "#46039f"
             ],
             [
              0.2222222222222222,
              "#7201a8"
             ],
             [
              0.3333333333333333,
              "#9c179e"
             ],
             [
              0.4444444444444444,
              "#bd3786"
             ],
             [
              0.5555555555555556,
              "#d8576b"
             ],
             [
              0.6666666666666666,
              "#ed7953"
             ],
             [
              0.7777777777777778,
              "#fb9f3a"
             ],
             [
              0.8888888888888888,
              "#fdca26"
             ],
             [
              1,
              "#f0f921"
             ]
            ],
            "type": "contour"
           }
          ],
          "contourcarpet": [
           {
            "colorbar": {
             "outlinewidth": 0,
             "ticks": ""
            },
            "type": "contourcarpet"
           }
          ],
          "heatmap": [
           {
            "colorbar": {
             "outlinewidth": 0,
             "ticks": ""
            },
            "colorscale": [
             [
              0,
              "#0d0887"
             ],
             [
              0.1111111111111111,
              "#46039f"
             ],
             [
              0.2222222222222222,
              "#7201a8"
             ],
             [
              0.3333333333333333,
              "#9c179e"
             ],
             [
              0.4444444444444444,
              "#bd3786"
             ],
             [
              0.5555555555555556,
              "#d8576b"
             ],
             [
              0.6666666666666666,
              "#ed7953"
             ],
             [
              0.7777777777777778,
              "#fb9f3a"
             ],
             [
              0.8888888888888888,
              "#fdca26"
             ],
             [
              1,
              "#f0f921"
             ]
            ],
            "type": "heatmap"
           }
          ],
          "heatmapgl": [
           {
            "colorbar": {
             "outlinewidth": 0,
             "ticks": ""
            },
            "colorscale": [
             [
              0,
              "#0d0887"
             ],
             [
              0.1111111111111111,
              "#46039f"
             ],
             [
              0.2222222222222222,
              "#7201a8"
             ],
             [
              0.3333333333333333,
              "#9c179e"
             ],
             [
              0.4444444444444444,
              "#bd3786"
             ],
             [
              0.5555555555555556,
              "#d8576b"
             ],
             [
              0.6666666666666666,
              "#ed7953"
             ],
             [
              0.7777777777777778,
              "#fb9f3a"
             ],
             [
              0.8888888888888888,
              "#fdca26"
             ],
             [
              1,
              "#f0f921"
             ]
            ],
            "type": "heatmapgl"
           }
          ],
          "histogram": [
           {
            "marker": {
             "pattern": {
              "fillmode": "overlay",
              "size": 10,
              "solidity": 0.2
             }
            },
            "type": "histogram"
           }
          ],
          "histogram2d": [
           {
            "colorbar": {
             "outlinewidth": 0,
             "ticks": ""
            },
            "colorscale": [
             [
              0,
              "#0d0887"
             ],
             [
              0.1111111111111111,
              "#46039f"
             ],
             [
              0.2222222222222222,
              "#7201a8"
             ],
             [
              0.3333333333333333,
              "#9c179e"
             ],
             [
              0.4444444444444444,
              "#bd3786"
             ],
             [
              0.5555555555555556,
              "#d8576b"
             ],
             [
              0.6666666666666666,
              "#ed7953"
             ],
             [
              0.7777777777777778,
              "#fb9f3a"
             ],
             [
              0.8888888888888888,
              "#fdca26"
             ],
             [
              1,
              "#f0f921"
             ]
            ],
            "type": "histogram2d"
           }
          ],
          "histogram2dcontour": [
           {
            "colorbar": {
             "outlinewidth": 0,
             "ticks": ""
            },
            "colorscale": [
             [
              0,
              "#0d0887"
             ],
             [
              0.1111111111111111,
              "#46039f"
             ],
             [
              0.2222222222222222,
              "#7201a8"
             ],
             [
              0.3333333333333333,
              "#9c179e"
             ],
             [
              0.4444444444444444,
              "#bd3786"
             ],
             [
              0.5555555555555556,
              "#d8576b"
             ],
             [
              0.6666666666666666,
              "#ed7953"
             ],
             [
              0.7777777777777778,
              "#fb9f3a"
             ],
             [
              0.8888888888888888,
              "#fdca26"
             ],
             [
              1,
              "#f0f921"
             ]
            ],
            "type": "histogram2dcontour"
           }
          ],
          "mesh3d": [
           {
            "colorbar": {
             "outlinewidth": 0,
             "ticks": ""
            },
            "type": "mesh3d"
           }
          ],
          "parcoords": [
           {
            "line": {
             "colorbar": {
              "outlinewidth": 0,
              "ticks": ""
             }
            },
            "type": "parcoords"
           }
          ],
          "pie": [
           {
            "automargin": true,
            "type": "pie"
           }
          ],
          "scatter": [
           {
            "fillpattern": {
             "fillmode": "overlay",
             "size": 10,
             "solidity": 0.2
            },
            "type": "scatter"
           }
          ],
          "scatter3d": [
           {
            "line": {
             "colorbar": {
              "outlinewidth": 0,
              "ticks": ""
             }
            },
            "marker": {
             "colorbar": {
              "outlinewidth": 0,
              "ticks": ""
             }
            },
            "type": "scatter3d"
           }
          ],
          "scattercarpet": [
           {
            "marker": {
             "colorbar": {
              "outlinewidth": 0,
              "ticks": ""
             }
            },
            "type": "scattercarpet"
           }
          ],
          "scattergeo": [
           {
            "marker": {
             "colorbar": {
              "outlinewidth": 0,
              "ticks": ""
             }
            },
            "type": "scattergeo"
           }
          ],
          "scattergl": [
           {
            "marker": {
             "colorbar": {
              "outlinewidth": 0,
              "ticks": ""
             }
            },
            "type": "scattergl"
           }
          ],
          "scattermapbox": [
           {
            "marker": {
             "colorbar": {
              "outlinewidth": 0,
              "ticks": ""
             }
            },
            "type": "scattermapbox"
           }
          ],
          "scatterpolar": [
           {
            "marker": {
             "colorbar": {
              "outlinewidth": 0,
              "ticks": ""
             }
            },
            "type": "scatterpolar"
           }
          ],
          "scatterpolargl": [
           {
            "marker": {
             "colorbar": {
              "outlinewidth": 0,
              "ticks": ""
             }
            },
            "type": "scatterpolargl"
           }
          ],
          "scatterternary": [
           {
            "marker": {
             "colorbar": {
              "outlinewidth": 0,
              "ticks": ""
             }
            },
            "type": "scatterternary"
           }
          ],
          "surface": [
           {
            "colorbar": {
             "outlinewidth": 0,
             "ticks": ""
            },
            "colorscale": [
             [
              0,
              "#0d0887"
             ],
             [
              0.1111111111111111,
              "#46039f"
             ],
             [
              0.2222222222222222,
              "#7201a8"
             ],
             [
              0.3333333333333333,
              "#9c179e"
             ],
             [
              0.4444444444444444,
              "#bd3786"
             ],
             [
              0.5555555555555556,
              "#d8576b"
             ],
             [
              0.6666666666666666,
              "#ed7953"
             ],
             [
              0.7777777777777778,
              "#fb9f3a"
             ],
             [
              0.8888888888888888,
              "#fdca26"
             ],
             [
              1,
              "#f0f921"
             ]
            ],
            "type": "surface"
           }
          ],
          "table": [
           {
            "cells": {
             "fill": {
              "color": "#EBF0F8"
             },
             "line": {
              "color": "white"
             }
            },
            "header": {
             "fill": {
              "color": "#C8D4E3"
             },
             "line": {
              "color": "white"
             }
            },
            "type": "table"
           }
          ]
         },
         "layout": {
          "annotationdefaults": {
           "arrowcolor": "#2a3f5f",
           "arrowhead": 0,
           "arrowwidth": 1
          },
          "autotypenumbers": "strict",
          "coloraxis": {
           "colorbar": {
            "outlinewidth": 0,
            "ticks": ""
           }
          },
          "colorscale": {
           "diverging": [
            [
             0,
             "#8e0152"
            ],
            [
             0.1,
             "#c51b7d"
            ],
            [
             0.2,
             "#de77ae"
            ],
            [
             0.3,
             "#f1b6da"
            ],
            [
             0.4,
             "#fde0ef"
            ],
            [
             0.5,
             "#f7f7f7"
            ],
            [
             0.6,
             "#e6f5d0"
            ],
            [
             0.7,
             "#b8e186"
            ],
            [
             0.8,
             "#7fbc41"
            ],
            [
             0.9,
             "#4d9221"
            ],
            [
             1,
             "#276419"
            ]
           ],
           "sequential": [
            [
             0,
             "#0d0887"
            ],
            [
             0.1111111111111111,
             "#46039f"
            ],
            [
             0.2222222222222222,
             "#7201a8"
            ],
            [
             0.3333333333333333,
             "#9c179e"
            ],
            [
             0.4444444444444444,
             "#bd3786"
            ],
            [
             0.5555555555555556,
             "#d8576b"
            ],
            [
             0.6666666666666666,
             "#ed7953"
            ],
            [
             0.7777777777777778,
             "#fb9f3a"
            ],
            [
             0.8888888888888888,
             "#fdca26"
            ],
            [
             1,
             "#f0f921"
            ]
           ],
           "sequentialminus": [
            [
             0,
             "#0d0887"
            ],
            [
             0.1111111111111111,
             "#46039f"
            ],
            [
             0.2222222222222222,
             "#7201a8"
            ],
            [
             0.3333333333333333,
             "#9c179e"
            ],
            [
             0.4444444444444444,
             "#bd3786"
            ],
            [
             0.5555555555555556,
             "#d8576b"
            ],
            [
             0.6666666666666666,
             "#ed7953"
            ],
            [
             0.7777777777777778,
             "#fb9f3a"
            ],
            [
             0.8888888888888888,
             "#fdca26"
            ],
            [
             1,
             "#f0f921"
            ]
           ]
          },
          "colorway": [
           "#636efa",
           "#EF553B",
           "#00cc96",
           "#ab63fa",
           "#FFA15A",
           "#19d3f3",
           "#FF6692",
           "#B6E880",
           "#FF97FF",
           "#FECB52"
          ],
          "font": {
           "color": "#2a3f5f"
          },
          "geo": {
           "bgcolor": "white",
           "lakecolor": "white",
           "landcolor": "#E5ECF6",
           "showlakes": true,
           "showland": true,
           "subunitcolor": "white"
          },
          "hoverlabel": {
           "align": "left"
          },
          "hovermode": "closest",
          "mapbox": {
           "style": "light"
          },
          "paper_bgcolor": "white",
          "plot_bgcolor": "#E5ECF6",
          "polar": {
           "angularaxis": {
            "gridcolor": "white",
            "linecolor": "white",
            "ticks": ""
           },
           "bgcolor": "#E5ECF6",
           "radialaxis": {
            "gridcolor": "white",
            "linecolor": "white",
            "ticks": ""
           }
          },
          "scene": {
           "xaxis": {
            "backgroundcolor": "#E5ECF6",
            "gridcolor": "white",
            "gridwidth": 2,
            "linecolor": "white",
            "showbackground": true,
            "ticks": "",
            "zerolinecolor": "white"
           },
           "yaxis": {
            "backgroundcolor": "#E5ECF6",
            "gridcolor": "white",
            "gridwidth": 2,
            "linecolor": "white",
            "showbackground": true,
            "ticks": "",
            "zerolinecolor": "white"
           },
           "zaxis": {
            "backgroundcolor": "#E5ECF6",
            "gridcolor": "white",
            "gridwidth": 2,
            "linecolor": "white",
            "showbackground": true,
            "ticks": "",
            "zerolinecolor": "white"
           }
          },
          "shapedefaults": {
           "line": {
            "color": "#2a3f5f"
           }
          },
          "ternary": {
           "aaxis": {
            "gridcolor": "white",
            "linecolor": "white",
            "ticks": ""
           },
           "baxis": {
            "gridcolor": "white",
            "linecolor": "white",
            "ticks": ""
           },
           "bgcolor": "#E5ECF6",
           "caxis": {
            "gridcolor": "white",
            "linecolor": "white",
            "ticks": ""
           }
          },
          "title": {
           "x": 0.05
          },
          "xaxis": {
           "automargin": true,
           "gridcolor": "white",
           "linecolor": "white",
           "ticks": "",
           "title": {
            "standoff": 15
           },
           "zerolinecolor": "white",
           "zerolinewidth": 2
          },
          "yaxis": {
           "automargin": true,
           "gridcolor": "white",
           "linecolor": "white",
           "ticks": "",
           "title": {
            "standoff": 15
           },
           "zerolinecolor": "white",
           "zerolinewidth": 2
          }
         }
        },
        "title": {
         "text": "Moving Average 7 days vs 21 days"
        },
        "xaxis": {
         "rangeslider": {
          "visible": false
         },
         "title": {
          "text": "Date"
         }
        },
        "yaxis": {
         "title": {
          "text": "Close"
         }
        }
       }
      },
      "text/html": [
       "<div>                            <div id=\"04709078-41c8-41b5-95bc-8198e00e79a0\" class=\"plotly-graph-div\" style=\"height:525px; width:100%;\"></div>            <script type=\"text/javascript\">                require([\"plotly\"], function(Plotly) {                    window.PLOTLYENV=window.PLOTLYENV || {};                                    if (document.getElementById(\"04709078-41c8-41b5-95bc-8198e00e79a0\")) {                    Plotly.newPlot(                        \"04709078-41c8-41b5-95bc-8198e00e79a0\",                        [{\"close\":[3261.449951171875,3311.35009765625,3314.64990234375,3311.10009765625,3211.550048828125,3319.949951171875,3286.39990234375,3328.699951171875,3334.35009765625,3374.550048828125,3334.050048828125,3378.39990234375,3390.0,3373.10009765625,3363.10009765625,3414.89990234375,3436.300048828125,3429.75,3411.050048828125,3433.64990234375,3358.699951171875,3408.35009765625,3460.39990234375,3482.300048828125,3459.949951171875,3472.550048828125,3520.10009765625,3540.85009765625,3537.550048828125,3482.39990234375,3500.10009765625,3520.64990234375,3558.050048828125,3501.14990234375,3487.300048828125,3451.0,3401.550048828125,3413.800048828125,3400.449951171875,3331.85009765625,3312.85009765625,3385.699951171875,3321.449951171875,3342.14990234375,3371.85009765625,3390.39990234375,3336.85009765625,3331.0,3281.949951171875,3214.949951171875,3198.89990234375,3185.0,3179.300048828125,3143.300048828125,3106.10009765625,3130.800048828125,3124.64990234375,3120.5,3122.300048828125,3115.89990234375,3138.89990234375,3205.89990234375,3200.0,3239.800048828125,3220.699951171875,3263.39990234375,3213.800048828125,3241.64990234375,3188.85009765625,3139.5,3130.75,3089.60009765625,3104.800048828125,3160.85009765625,3174.800048828125,3176.0,3198.14990234375,3187.949951171875,3219.25,3219.39990234375,3179.89990234375,3220.699951171875,3230.699951171875,3250.60009765625,3283.25,3286.800048828125,3282.14990234375,3274.300048828125,3255.050048828125,3258.14990234375,3208.699951171875,3199.85009765625,3222.85009765625,3298.699951171875,3297.050048828125,3303.35009765625,3293.5,3328.89990234375,3320.35009765625,3316.199951171875,3289.5,3324.0,3305.60009765625,3288.89990234375,3232.300048828125,3274.89990234375,3236.449951171875,3209.300048828125,3246.89990234375,3243.699951171875,3251.050048828125,3216.300048828125,3174.89990234375,3210.39990234375,3227.699951171875,3258.199951171875,3238.5,3216.35009765625,3189.64990234375,3197.35009765625,3215.449951171875,3302.25,3272.300048828125,3308.85009765625,3319.949951171875,3322.89990234375,3329.25,3271.949951171875,3272.39990234375,3259.89990234375,3340.550048828125,3514.64990234375,3491.699951171875,3496.85009765625,3470.050048828125,3463.300048828125,3368.300048828125,3394.75,3399.14990234375,3388.300048828125,3396.89990234375,3355.39990234375,3421.449951171875,3452.050048828125,3440.64990234375,3399.949951171875,3443.550048828125,3484.050048828125,3470.60009765625,3462.5,3442.10009765625,3448.800048828125,3449.85009765625,3458.39990234375,3435.75,3367.10009765625,3401.64990234375,3382.14990234375,3398.25,3387.75,3381.300048828125,3375.550048828125,3376.14990234375,3390.949951171875,3356.800048828125,3379.199951171875,3418.5,3429.35009765625,3429.89990234375,3455.25,3441.89990234375,3480.64990234375,3580.800048828125,3567.85009765625,3560.050048828125,3598.300048828125,3606.14990234375,3606.050048828125,3585.300048828125,3603.64990234375,3577.14990234375,3585.699951171875,3589.300048828125,3536.75,3528.60009765625,3513.85009765625,3537.75,3589.35009765625,3621.39990234375,3638.35009765625,3628.89990234375,3609.89990234375,3542.550048828125,3570.85009765625,3524.050048828125,3507.050048828125,3487.25,3455.64990234375,3494.550048828125,3410.14990234375,3390.10009765625,3336.75,3350.949951171875,3378.550048828125,3368.75,3330.64990234375,3360.10009765625,3350.89990234375,3380.25,3370.449951171875,3381.550048828125,3347.449951171875,3333.449951171875,3331.550048828125,3404.300048828125,3497.85009765625,3502.449951171875,3519.60009765625,3510.199951171875,3530.14990234375,3508.25,3457.10009765625,3470.14990234375,3513.75,3487.60009765625,3511.64990234375,3512.449951171875,3531.60009765625,3604.10009765625,3614.89990234375,3626.699951171875,3642.89990234375,3672.10009765625,3593.550048828125,3667.25,3861.0,3859.199951171875,3816.199951171875,3780.050048828125,3787.5,3824.0,3795.550048828125,3811.199951171875,3799.89990234375,3793.39990234375,3811.10009765625,3783.199951171875,3691.75,3666.800048828125,3737.89990234375,3678.300048828125,3689.89990234375,3713.050048828125,3735.550048828125,3882.800048828125,3903.800048828125,3861.300048828125,3884.60009765625,3902.60009765625,3943.050048828125,3858.25,3841.800048828125,3810.300048828125,3801.0,3800.550048828125,3815.949951171875],\"high\":[3266.85009765625,3320.0,3327.35009765625,3337.300048828125,3301.550048828125,3327.0,3298.0,3349.5,3350.0,3379.0,3353.0,3381.800048828125,3408.949951171875,3387.0,3394.64990234375,3419.0,3451.949951171875,3435.0,3446.0,3458.449951171875,3449.0,3419.0,3469.0,3504.0,3473.14990234375,3493.0,3539.89990234375,3547.60009765625,3542.35009765625,3549.0,3524.85009765625,3526.0,3575.0,3538.89990234375,3522.0,3508.89990234375,3447.0,3452.39990234375,3433.949951171875,3390.0,3392.0,3389.0,3369.89990234375,3358.0,3404.949951171875,3396.0,3385.0,3337.25,3369.800048828125,3304.39990234375,3260.35009765625,3219.800048828125,3221.39990234375,3169.64990234375,3156.75,3143.5,3146.35009765625,3170.0,3152.75,3149.550048828125,3150.0,3213.0,3224.949951171875,3264.35009765625,3257.35009765625,3272.0,3272.949951171875,3260.949951171875,3230.0,3163.39990234375,3156.85009765625,3140.0,3113.0,3164.449951171875,3180.949951171875,3191.199951171875,3208.39990234375,3199.199951171875,3227.25,3235.0,3216.0,3224.449951171875,3244.0,3254.85009765625,3298.0,3306.5,3309.699951171875,3290.0,3292.0,3285.0,3280.0,3228.949951171875,3234.5,3308.449951171875,3327.949951171875,3317.199951171875,3306.0,3338.64990234375,3372.0,3326.949951171875,3327.699951171875,3340.0,3335.89990234375,3327.0,3288.85009765625,3278.85009765625,3270.0,3250.0,3254.39990234375,3265.0,3255.85009765625,3247.449951171875,3199.39990234375,3214.89990234375,3232.5,3261.39990234375,3267.64990234375,3249.39990234375,3213.89990234375,3209.64990234375,3230.949951171875,3310.0,3318.800048828125,3315.0,3329.0,3328.449951171875,3356.89990234375,3324.75,3295.0,3289.14990234375,3367.449951171875,3524.85009765625,3549.89990234375,3524.0,3516.85009765625,3478.89990234375,3434.89990234375,3413.449951171875,3406.800048828125,3420.85009765625,3411.64990234375,3393.699951171875,3426.64990234375,3460.0,3446.39990234375,3433.25,3471.0,3488.0,3489.949951171875,3467.0,3464.89990234375,3466.64990234375,3455.0,3466.0,3460.800048828125,3410.0,3409.75,3411.0,3402.0,3413.050048828125,3385.800048828125,3394.0,3389.550048828125,3408.10009765625,3417.39990234375,3389.0,3432.85009765625,3447.0,3443.89990234375,3460.0,3465.0,3485.699951171875,3589.89990234375,3588.85009765625,3597.699951171875,3607.35009765625,3619.300048828125,3625.0,3605.0,3633.75,3620.0,3594.949951171875,3614.0,3602.800048828125,3568.449951171875,3534.199951171875,3548.0,3624.0,3634.949951171875,3679.0,3648.0,3650.0,3588.64990234375,3577.0,3574.64990234375,3534.14990234375,3522.699951171875,3476.85009765625,3499.5,3478.949951171875,3425.0,3373.699951171875,3362.0,3382.85009765625,3399.0,3371.60009765625,3375.949951171875,3387.89990234375,3392.300048828125,3404.14990234375,3401.949951171875,3391.5,3347.449951171875,3356.0,3413.0,3529.35009765625,3524.5,3533.89990234375,3539.050048828125,3532.64990234375,3544.0,3504.550048828125,3481.25,3518.0,3516.64990234375,3516.949951171875,3547.800048828125,3538.0,3612.85009765625,3630.550048828125,3645.0,3653.0,3698.39990234375,3650.0,3678.0,3895.949951171875,3929.0,3855.10009765625,3898.800048828125,3806.699951171875,3845.949951171875,3834.0,3818.199951171875,3838.0,3822.60009765625,3832.0,3811.10009765625,3771.85009765625,3719.0,3747.75,3739.75,3752.35009765625,3729.25,3773.0,3905.25,3965.0,3899.0,3909.949951171875,3908.800048828125,3963.550048828125,3933.89990234375,3883.64990234375,3861.0,3820.0,3847.800048828125,3834.0],\"low\":[3235.199951171875,3245.300048828125,3286.199951171875,3281.949951171875,3200.0,3221.14990234375,3230.10009765625,3271.14990234375,3315.550048828125,3305.0,3298.050048828125,3321.0,3372.25,3361.0,3355.60009765625,3355.60009765625,3417.300048828125,3405.0,3382.300048828125,3385.550048828125,3351.0,3355.0,3420.10009765625,3452.89990234375,3436.85009765625,3461.39990234375,3478.050048828125,3505.300048828125,3508.14990234375,3473.39990234375,3495.0,3460.14990234375,3527.0,3490.0,3475.050048828125,3444.75,3395.0,3408.0,3382.300048828125,3316.0,3299.89990234375,3315.0,3318.0,3331.10009765625,3359.0,3330.85009765625,3330.85009765625,3290.0,3272.0,3209.39990234375,3192.0,3172.0,3144.0,3095.050048828125,3097.449951171875,3106.10009765625,3101.0,3106.0,3106.0,3110.14990234375,3104.10009765625,3152.0,3173.75,3185.5,3215.0,3215.0,3192.14990234375,3199.0,3180.0,3070.25,3110.60009765625,3071.5,3078.0,3100.800048828125,3126.14990234375,3147.5,3181.0,3170.64990234375,3196.25,3210.0,3173.14990234375,3178.0,3210.050048828125,3231.300048828125,3246.0,3266.050048828125,3272.0,3260.0,3248.35009765625,3250.449951171875,3198.25,3195.0,3203.050048828125,3217.050048828125,3290.10009765625,3276.0,3267.10009765625,3291.0,3312.0,3301.35009765625,3265.14990234375,3297.5,3297.449951171875,3285.050048828125,3220.60009765625,3241.0,3233.0,3205.35009765625,3211.0,3239.0,3225.85009765625,3210.0,3156.0,3175.0,3201.050048828125,3223.949951171875,3230.10009765625,3209.14990234375,3173.0,3182.300048828125,3193.39990234375,3214.10009765625,3268.75,3277.300048828125,3305.0,3302.0,3302.0,3265.199951171875,3260.800048828125,3250.10009765625,3272.75,3352.0,3477.050048828125,3465.0,3445.64990234375,3436.050048828125,3359.050048828125,3372.10009765625,3380.199951171875,3385.0,3385.050048828125,3331.0,3360.89990234375,3415.0,3413.60009765625,3368.0,3401.25,3441.25,3456.60009765625,3425.050048828125,3430.050048828125,3414.0,3411.0,3435.199951171875,3413.199951171875,3356.5,3372.0,3365.050048828125,3376.0,3378.10009765625,3350.25,3360.10009765625,3365.0,3383.050048828125,3343.64990234375,3356.800048828125,3370.050048828125,3405.14990234375,3398.10009765625,3422.300048828125,3435.050048828125,3445.0,3483.0,3545.0,3545.60009765625,3562.449951171875,3575.25,3580.0,3528.0,3565.050048828125,3558.64990234375,3536.0,3555.699951171875,3527.35009765625,3505.550048828125,3480.10009765625,3477.300048828125,3551.199951171875,3575.050048828125,3631.0,3601.35009765625,3605.0,3538.10009765625,3525.0,3519.10009765625,3503.35009765625,3484.0,3451.89990234375,3444.050048828125,3401.300048828125,3377.199951171875,3330.0,3337.0,3333.75,3350.050048828125,3311.0,3343.199951171875,3344.300048828125,3359.0,3366.0,3369.550048828125,3342.050048828125,3322.35009765625,3327.0,3356.050048828125,3414.199951171875,3492.550048828125,3491.25,3501.0,3481.10009765625,3500.0,3453.0,3433.0,3475.800048828125,3481.0,3490.050048828125,3498.0,3502.800048828125,3525.14990234375,3591.699951171875,3602.050048828125,3615.0,3631.0,3563.0,3627.60009765625,3666.699951171875,3830.14990234375,3790.0,3766.550048828125,3743.35009765625,3762.0,3790.14990234375,3768.0,3792.10009765625,3765.39990234375,3773.0,3767.25,3687.050048828125,3651.0,3674.85009765625,3672.39990234375,3682.75,3688.0,3707.0,3821.60009765625,3885.0,3855.550048828125,3812.550048828125,3862.0,3915.050048828125,3842.75,3805.60009765625,3778.699951171875,3780.85009765625,3787.0,3796.449951171875],\"name\":\"OHLC\",\"open\":[3261.0,3252.0,3306.699951171875,3330.199951171875,3300.0,3229.0,3285.0,3290.10009765625,3329.0,3342.89990234375,3317.0,3330.0,3380.0,3380.0,3365.0,3388.0,3425.0,3425.300048828125,3426.0,3420.0,3449.0,3363.0,3427.0,3504.0,3473.14990234375,3468.89990234375,3478.050048828125,3515.0,3520.0,3549.0,3505.0,3487.0,3527.199951171875,3526.14990234375,3502.0,3494.0,3414.949951171875,3421.0,3422.5,3390.0,3328.5,3323.0,3361.0,3354.0,3361.89990234375,3364.0,3385.0,3312.89990234375,3333.0,3280.0,3250.0,3208.0,3150.5,3169.64990234375,3143.300048828125,3130.050048828125,3114.89990234375,3148.89990234375,3135.0,3127.0,3129.0,3189.949951171875,3224.949951171875,3185.5,3225.0,3220.0,3264.0,3227.949951171875,3210.0,3134.10009765625,3154.949951171875,3130.75,3090.0,3110.0,3151.10009765625,3183.0,3181.0,3185.0,3200.39990234375,3235.0,3216.0,3180.14990234375,3220.0,3245.0,3252.60009765625,3290.0,3309.0,3279.14990234375,3284.0,3256.199951171875,3255.949951171875,3225.949951171875,3210.0,3230.0,3306.0,3276.0,3294.0,3293.5,3360.800048828125,3315.0,3309.0,3314.0,3326.25,3315.0,3280.0,3253.0,3261.0,3245.0,3215.0,3260.0,3243.699951171875,3245.300048828125,3197.0,3190.0,3214.0,3250.0,3260.0,3237.300048828125,3205.0,3202.0,3208.0,3220.0,3314.300048828125,3290.0,3320.0,3306.550048828125,3302.0,3324.75,3295.0,3280.949951171875,3284.0,3365.0,3510.0,3476.0,3500.0,3453.10009765625,3404.050048828125,3381.0,3397.5,3400.35009765625,3394.949951171875,3385.0,3364.39990234375,3415.0,3434.949951171875,3420.0,3401.25,3453.949951171875,3484.050048828125,3464.89990234375,3450.0,3438.10009765625,3440.699951171875,3450.0,3455.0,3410.0,3375.0,3400.0,3388.0,3408.0,3375.0,3394.0,3381.050048828125,3398.0,3401.0,3366.0,3378.0,3420.0,3434.0,3430.800048828125,3455.25,3462.0,3492.0,3571.10009765625,3570.050048828125,3567.85009765625,3580.050048828125,3580.0,3588.550048828125,3584.0,3602.5,3567.60009765625,3590.0,3600.0,3537.199951171875,3534.199951171875,3486.300048828125,3554.0,3591.0,3645.050048828125,3640.050048828125,3650.0,3575.0,3530.0,3566.0,3530.0,3511.0,3469.5,3450.39990234375,3473.0,3390.5,3368.050048828125,3350.0,3350.0,3399.0,3355.0,3343.199951171875,3382.0,3375.0,3378.0,3371.449951171875,3390.10009765625,3338.0,3356.0,3383.10009765625,3430.050048828125,3497.85009765625,3491.25,3519.60009765625,3500.0,3530.0,3494.25,3457.10009765625,3481.0,3499.449951171875,3500.0,3544.64990234375,3538.0,3532.60009765625,3605.0,3633.0,3622.89990234375,3638.949951171875,3643.550048828125,3630.0,3666.699951171875,3858.10009765625,3845.0,3827.25,3756.25,3800.0,3819.85009765625,3799.0,3824.0,3792.0,3790.0,3811.10009765625,3767.0,3701.75,3675.0,3737.89990234375,3709.949951171875,3690.0,3724.0,3848.0,3960.0,3899.0,3819.0,3898.0,3945.0,3900.0,3880.0,3839.89990234375,3800.800048828125,3807.449951171875,3811.199951171875],\"x\":[\"2023-01-02T00:00:00\",\"2023-01-03T00:00:00\",\"2023-01-04T00:00:00\",\"2023-01-05T00:00:00\",\"2023-01-06T00:00:00\",\"2023-01-09T00:00:00\",\"2023-01-10T00:00:00\",\"2023-01-11T00:00:00\",\"2023-01-12T00:00:00\",\"2023-01-13T00:00:00\",\"2023-01-16T00:00:00\",\"2023-01-17T00:00:00\",\"2023-01-18T00:00:00\",\"2023-01-19T00:00:00\",\"2023-01-20T00:00:00\",\"2023-01-23T00:00:00\",\"2023-01-24T00:00:00\",\"2023-01-25T00:00:00\",\"2023-01-27T00:00:00\",\"2023-01-30T00:00:00\",\"2023-01-31T00:00:00\",\"2023-02-01T00:00:00\",\"2023-02-02T00:00:00\",\"2023-02-03T00:00:00\",\"2023-02-06T00:00:00\",\"2023-02-07T00:00:00\",\"2023-02-08T00:00:00\",\"2023-02-09T00:00:00\",\"2023-02-10T00:00:00\",\"2023-02-13T00:00:00\",\"2023-02-14T00:00:00\",\"2023-02-15T00:00:00\",\"2023-02-16T00:00:00\",\"2023-02-17T00:00:00\",\"2023-02-20T00:00:00\",\"2023-02-21T00:00:00\",\"2023-02-22T00:00:00\",\"2023-02-23T00:00:00\",\"2023-02-24T00:00:00\",\"2023-02-27T00:00:00\",\"2023-02-28T00:00:00\",\"2023-03-01T00:00:00\",\"2023-03-02T00:00:00\",\"2023-03-03T00:00:00\",\"2023-03-06T00:00:00\",\"2023-03-08T00:00:00\",\"2023-03-09T00:00:00\",\"2023-03-10T00:00:00\",\"2023-03-13T00:00:00\",\"2023-03-14T00:00:00\",\"2023-03-15T00:00:00\",\"2023-03-16T00:00:00\",\"2023-03-17T00:00:00\",\"2023-03-20T00:00:00\",\"2023-03-21T00:00:00\",\"2023-03-22T00:00:00\",\"2023-03-23T00:00:00\",\"2023-03-24T00:00:00\",\"2023-03-27T00:00:00\",\"2023-03-28T00:00:00\",\"2023-03-29T00:00:00\",\"2023-03-31T00:00:00\",\"2023-04-03T00:00:00\",\"2023-04-05T00:00:00\",\"2023-04-06T00:00:00\",\"2023-04-10T00:00:00\",\"2023-04-11T00:00:00\",\"2023-04-12T00:00:00\",\"2023-04-13T00:00:00\",\"2023-04-17T00:00:00\",\"2023-04-18T00:00:00\",\"2023-04-19T00:00:00\",\"2023-04-20T00:00:00\",\"2023-04-21T00:00:00\",\"2023-04-24T00:00:00\",\"2023-04-25T00:00:00\",\"2023-04-26T00:00:00\",\"2023-04-27T00:00:00\",\"2023-04-28T00:00:00\",\"2023-05-02T00:00:00\",\"2023-05-03T00:00:00\",\"2023-05-04T00:00:00\",\"2023-05-05T00:00:00\",\"2023-05-08T00:00:00\",\"2023-05-09T00:00:00\",\"2023-05-10T00:00:00\",\"2023-05-11T00:00:00\",\"2023-05-12T00:00:00\",\"2023-05-15T00:00:00\",\"2023-05-16T00:00:00\",\"2023-05-17T00:00:00\",\"2023-05-18T00:00:00\",\"2023-05-19T00:00:00\",\"2023-05-22T00:00:00\",\"2023-05-23T00:00:00\",\"2023-05-24T00:00:00\",\"2023-05-25T00:00:00\",\"2023-05-26T00:00:00\",\"2023-05-29T00:00:00\",\"2023-05-30T00:00:00\",\"2023-05-31T00:00:00\",\"2023-06-01T00:00:00\",\"2023-06-02T00:00:00\",\"2023-06-05T00:00:00\",\"2023-06-06T00:00:00\",\"2023-06-07T00:00:00\",\"2023-06-08T00:00:00\",\"2023-06-09T00:00:00\",\"2023-06-12T00:00:00\",\"2023-06-13T00:00:00\",\"2023-06-14T00:00:00\",\"2023-06-15T00:00:00\",\"2023-06-16T00:00:00\",\"2023-06-19T00:00:00\",\"2023-06-20T00:00:00\",\"2023-06-21T00:00:00\",\"2023-06-22T00:00:00\",\"2023-06-23T00:00:00\",\"2023-06-26T00:00:00\",\"2023-06-27T00:00:00\",\"2023-06-28T00:00:00\",\"2023-06-30T00:00:00\",\"2023-07-03T00:00:00\",\"2023-07-04T00:00:00\",\"2023-07-05T00:00:00\",\"2023-07-06T00:00:00\",\"2023-07-07T00:00:00\",\"2023-07-10T00:00:00\",\"2023-07-11T00:00:00\",\"2023-07-12T00:00:00\",\"2023-07-13T00:00:00\",\"2023-07-14T00:00:00\",\"2023-07-17T00:00:00\",\"2023-07-18T00:00:00\",\"2023-07-19T00:00:00\",\"2023-07-20T00:00:00\",\"2023-07-21T00:00:00\",\"2023-07-24T00:00:00\",\"2023-07-25T00:00:00\",\"2023-07-26T00:00:00\",\"2023-07-27T00:00:00\",\"2023-07-28T00:00:00\",\"2023-07-31T00:00:00\",\"2023-08-01T00:00:00\",\"2023-08-02T00:00:00\",\"2023-08-03T00:00:00\",\"2023-08-04T00:00:00\",\"2023-08-07T00:00:00\",\"2023-08-08T00:00:00\",\"2023-08-09T00:00:00\",\"2023-08-10T00:00:00\",\"2023-08-11T00:00:00\",\"2023-08-14T00:00:00\",\"2023-08-16T00:00:00\",\"2023-08-17T00:00:00\",\"2023-08-18T00:00:00\",\"2023-08-21T00:00:00\",\"2023-08-22T00:00:00\",\"2023-08-23T00:00:00\",\"2023-08-24T00:00:00\",\"2023-08-25T00:00:00\",\"2023-08-28T00:00:00\",\"2023-08-29T00:00:00\",\"2023-08-30T00:00:00\",\"2023-08-31T00:00:00\",\"2023-09-01T00:00:00\",\"2023-09-04T00:00:00\",\"2023-09-05T00:00:00\",\"2023-09-06T00:00:00\",\"2023-09-07T00:00:00\",\"2023-09-08T00:00:00\",\"2023-09-11T00:00:00\",\"2023-09-12T00:00:00\",\"2023-09-13T00:00:00\",\"2023-09-14T00:00:00\",\"2023-09-15T00:00:00\",\"2023-09-18T00:00:00\",\"2023-09-20T00:00:00\",\"2023-09-21T00:00:00\",\"2023-09-22T00:00:00\",\"2023-09-25T00:00:00\",\"2023-09-26T00:00:00\",\"2023-09-27T00:00:00\",\"2023-09-28T00:00:00\",\"2023-09-29T00:00:00\",\"2023-10-03T00:00:00\",\"2023-10-04T00:00:00\",\"2023-10-05T00:00:00\",\"2023-10-06T00:00:00\",\"2023-10-09T00:00:00\",\"2023-10-10T00:00:00\",\"2023-10-11T00:00:00\",\"2023-10-12T00:00:00\",\"2023-10-13T00:00:00\",\"2023-10-16T00:00:00\",\"2023-10-17T00:00:00\",\"2023-10-18T00:00:00\",\"2023-10-19T00:00:00\",\"2023-10-20T00:00:00\",\"2023-10-23T00:00:00\",\"2023-10-25T00:00:00\",\"2023-10-26T00:00:00\",\"2023-10-27T00:00:00\",\"2023-10-30T00:00:00\",\"2023-10-31T00:00:00\",\"2023-11-01T00:00:00\",\"2023-11-02T00:00:00\",\"2023-11-03T00:00:00\",\"2023-11-06T00:00:00\",\"2023-11-07T00:00:00\",\"2023-11-08T00:00:00\",\"2023-11-09T00:00:00\",\"2023-11-10T00:00:00\",\"2023-11-13T00:00:00\",\"2023-11-15T00:00:00\",\"2023-11-16T00:00:00\",\"2023-11-17T00:00:00\",\"2023-11-20T00:00:00\",\"2023-11-21T00:00:00\",\"2023-11-22T00:00:00\",\"2023-11-23T00:00:00\",\"2023-11-24T00:00:00\",\"2023-11-28T00:00:00\",\"2023-11-29T00:00:00\",\"2023-11-30T00:00:00\",\"2023-12-01T00:00:00\",\"2023-12-04T00:00:00\",\"2023-12-05T00:00:00\",\"2023-12-06T00:00:00\",\"2023-12-07T00:00:00\",\"2023-12-08T00:00:00\",\"2023-12-11T00:00:00\",\"2023-12-12T00:00:00\",\"2023-12-13T00:00:00\",\"2023-12-14T00:00:00\",\"2023-12-15T00:00:00\",\"2023-12-18T00:00:00\",\"2023-12-19T00:00:00\",\"2023-12-20T00:00:00\",\"2023-12-21T00:00:00\",\"2023-12-22T00:00:00\",\"2023-12-26T00:00:00\",\"2023-12-27T00:00:00\",\"2023-12-28T00:00:00\",\"2023-12-29T00:00:00\",\"2024-01-01T00:00:00\",\"2024-01-02T00:00:00\",\"2024-01-03T00:00:00\",\"2024-01-04T00:00:00\",\"2024-01-05T00:00:00\",\"2024-01-08T00:00:00\",\"2024-01-09T00:00:00\",\"2024-01-10T00:00:00\",\"2024-01-11T00:00:00\",\"2024-01-12T00:00:00\",\"2024-01-15T00:00:00\",\"2024-01-16T00:00:00\",\"2024-01-17T00:00:00\",\"2024-01-18T00:00:00\",\"2024-01-19T00:00:00\",\"2024-01-23T00:00:00\",\"2024-01-24T00:00:00\",\"2024-01-25T00:00:00\",\"2024-01-29T00:00:00\",\"2024-01-30T00:00:00\",\"2024-01-31T00:00:00\"],\"type\":\"candlestick\"},{\"line\":{\"color\":\"black\"},\"mode\":\"lines\",\"name\":\"7 days\",\"x\":[\"2023-01-02T00:00:00\",\"2023-01-03T00:00:00\",\"2023-01-04T00:00:00\",\"2023-01-05T00:00:00\",\"2023-01-06T00:00:00\",\"2023-01-09T00:00:00\",\"2023-01-10T00:00:00\",\"2023-01-11T00:00:00\",\"2023-01-12T00:00:00\",\"2023-01-13T00:00:00\",\"2023-01-16T00:00:00\",\"2023-01-17T00:00:00\",\"2023-01-18T00:00:00\",\"2023-01-19T00:00:00\",\"2023-01-20T00:00:00\",\"2023-01-23T00:00:00\",\"2023-01-24T00:00:00\",\"2023-01-25T00:00:00\",\"2023-01-27T00:00:00\",\"2023-01-30T00:00:00\",\"2023-01-31T00:00:00\",\"2023-02-01T00:00:00\",\"2023-02-02T00:00:00\",\"2023-02-03T00:00:00\",\"2023-02-06T00:00:00\",\"2023-02-07T00:00:00\",\"2023-02-08T00:00:00\",\"2023-02-09T00:00:00\",\"2023-02-10T00:00:00\",\"2023-02-13T00:00:00\",\"2023-02-14T00:00:00\",\"2023-02-15T00:00:00\",\"2023-02-16T00:00:00\",\"2023-02-17T00:00:00\",\"2023-02-20T00:00:00\",\"2023-02-21T00:00:00\",\"2023-02-22T00:00:00\",\"2023-02-23T00:00:00\",\"2023-02-24T00:00:00\",\"2023-02-27T00:00:00\",\"2023-02-28T00:00:00\",\"2023-03-01T00:00:00\",\"2023-03-02T00:00:00\",\"2023-03-03T00:00:00\",\"2023-03-06T00:00:00\",\"2023-03-08T00:00:00\",\"2023-03-09T00:00:00\",\"2023-03-10T00:00:00\",\"2023-03-13T00:00:00\",\"2023-03-14T00:00:00\",\"2023-03-15T00:00:00\",\"2023-03-16T00:00:00\",\"2023-03-17T00:00:00\",\"2023-03-20T00:00:00\",\"2023-03-21T00:00:00\",\"2023-03-22T00:00:00\",\"2023-03-23T00:00:00\",\"2023-03-24T00:00:00\",\"2023-03-27T00:00:00\",\"2023-03-28T00:00:00\",\"2023-03-29T00:00:00\",\"2023-03-31T00:00:00\",\"2023-04-03T00:00:00\",\"2023-04-05T00:00:00\",\"2023-04-06T00:00:00\",\"2023-04-10T00:00:00\",\"2023-04-11T00:00:00\",\"2023-04-12T00:00:00\",\"2023-04-13T00:00:00\",\"2023-04-17T00:00:00\",\"2023-04-18T00:00:00\",\"2023-04-19T00:00:00\",\"2023-04-20T00:00:00\",\"2023-04-21T00:00:00\",\"2023-04-24T00:00:00\",\"2023-04-25T00:00:00\",\"2023-04-26T00:00:00\",\"2023-04-27T00:00:00\",\"2023-04-28T00:00:00\",\"2023-05-02T00:00:00\",\"2023-05-03T00:00:00\",\"2023-05-04T00:00:00\",\"2023-05-05T00:00:00\",\"2023-05-08T00:00:00\",\"2023-05-09T00:00:00\",\"2023-05-10T00:00:00\",\"2023-05-11T00:00:00\",\"2023-05-12T00:00:00\",\"2023-05-15T00:00:00\",\"2023-05-16T00:00:00\",\"2023-05-17T00:00:00\",\"2023-05-18T00:00:00\",\"2023-05-19T00:00:00\",\"2023-05-22T00:00:00\",\"2023-05-23T00:00:00\",\"2023-05-24T00:00:00\",\"2023-05-25T00:00:00\",\"2023-05-26T00:00:00\",\"2023-05-29T00:00:00\",\"2023-05-30T00:00:00\",\"2023-05-31T00:00:00\",\"2023-06-01T00:00:00\",\"2023-06-02T00:00:00\",\"2023-06-05T00:00:00\",\"2023-06-06T00:00:00\",\"2023-06-07T00:00:00\",\"2023-06-08T00:00:00\",\"2023-06-09T00:00:00\",\"2023-06-12T00:00:00\",\"2023-06-13T00:00:00\",\"2023-06-14T00:00:00\",\"2023-06-15T00:00:00\",\"2023-06-16T00:00:00\",\"2023-06-19T00:00:00\",\"2023-06-20T00:00:00\",\"2023-06-21T00:00:00\",\"2023-06-22T00:00:00\",\"2023-06-23T00:00:00\",\"2023-06-26T00:00:00\",\"2023-06-27T00:00:00\",\"2023-06-28T00:00:00\",\"2023-06-30T00:00:00\",\"2023-07-03T00:00:00\",\"2023-07-04T00:00:00\",\"2023-07-05T00:00:00\",\"2023-07-06T00:00:00\",\"2023-07-07T00:00:00\",\"2023-07-10T00:00:00\",\"2023-07-11T00:00:00\",\"2023-07-12T00:00:00\",\"2023-07-13T00:00:00\",\"2023-07-14T00:00:00\",\"2023-07-17T00:00:00\",\"2023-07-18T00:00:00\",\"2023-07-19T00:00:00\",\"2023-07-20T00:00:00\",\"2023-07-21T00:00:00\",\"2023-07-24T00:00:00\",\"2023-07-25T00:00:00\",\"2023-07-26T00:00:00\",\"2023-07-27T00:00:00\",\"2023-07-28T00:00:00\",\"2023-07-31T00:00:00\",\"2023-08-01T00:00:00\",\"2023-08-02T00:00:00\",\"2023-08-03T00:00:00\",\"2023-08-04T00:00:00\",\"2023-08-07T00:00:00\",\"2023-08-08T00:00:00\",\"2023-08-09T00:00:00\",\"2023-08-10T00:00:00\",\"2023-08-11T00:00:00\",\"2023-08-14T00:00:00\",\"2023-08-16T00:00:00\",\"2023-08-17T00:00:00\",\"2023-08-18T00:00:00\",\"2023-08-21T00:00:00\",\"2023-08-22T00:00:00\",\"2023-08-23T00:00:00\",\"2023-08-24T00:00:00\",\"2023-08-25T00:00:00\",\"2023-08-28T00:00:00\",\"2023-08-29T00:00:00\",\"2023-08-30T00:00:00\",\"2023-08-31T00:00:00\",\"2023-09-01T00:00:00\",\"2023-09-04T00:00:00\",\"2023-09-05T00:00:00\",\"2023-09-06T00:00:00\",\"2023-09-07T00:00:00\",\"2023-09-08T00:00:00\",\"2023-09-11T00:00:00\",\"2023-09-12T00:00:00\",\"2023-09-13T00:00:00\",\"2023-09-14T00:00:00\",\"2023-09-15T00:00:00\",\"2023-09-18T00:00:00\",\"2023-09-20T00:00:00\",\"2023-09-21T00:00:00\",\"2023-09-22T00:00:00\",\"2023-09-25T00:00:00\",\"2023-09-26T00:00:00\",\"2023-09-27T00:00:00\",\"2023-09-28T00:00:00\",\"2023-09-29T00:00:00\",\"2023-10-03T00:00:00\",\"2023-10-04T00:00:00\",\"2023-10-05T00:00:00\",\"2023-10-06T00:00:00\",\"2023-10-09T00:00:00\",\"2023-10-10T00:00:00\",\"2023-10-11T00:00:00\",\"2023-10-12T00:00:00\",\"2023-10-13T00:00:00\",\"2023-10-16T00:00:00\",\"2023-10-17T00:00:00\",\"2023-10-18T00:00:00\",\"2023-10-19T00:00:00\",\"2023-10-20T00:00:00\",\"2023-10-23T00:00:00\",\"2023-10-25T00:00:00\",\"2023-10-26T00:00:00\",\"2023-10-27T00:00:00\",\"2023-10-30T00:00:00\",\"2023-10-31T00:00:00\",\"2023-11-01T00:00:00\",\"2023-11-02T00:00:00\",\"2023-11-03T00:00:00\",\"2023-11-06T00:00:00\",\"2023-11-07T00:00:00\",\"2023-11-08T00:00:00\",\"2023-11-09T00:00:00\",\"2023-11-10T00:00:00\",\"2023-11-13T00:00:00\",\"2023-11-15T00:00:00\",\"2023-11-16T00:00:00\",\"2023-11-17T00:00:00\",\"2023-11-20T00:00:00\",\"2023-11-21T00:00:00\",\"2023-11-22T00:00:00\",\"2023-11-23T00:00:00\",\"2023-11-24T00:00:00\",\"2023-11-28T00:00:00\",\"2023-11-29T00:00:00\",\"2023-11-30T00:00:00\",\"2023-12-01T00:00:00\",\"2023-12-04T00:00:00\",\"2023-12-05T00:00:00\",\"2023-12-06T00:00:00\",\"2023-12-07T00:00:00\",\"2023-12-08T00:00:00\",\"2023-12-11T00:00:00\",\"2023-12-12T00:00:00\",\"2023-12-13T00:00:00\",\"2023-12-14T00:00:00\",\"2023-12-15T00:00:00\",\"2023-12-18T00:00:00\",\"2023-12-19T00:00:00\",\"2023-12-20T00:00:00\",\"2023-12-21T00:00:00\",\"2023-12-22T00:00:00\",\"2023-12-26T00:00:00\",\"2023-12-27T00:00:00\",\"2023-12-28T00:00:00\",\"2023-12-29T00:00:00\",\"2024-01-01T00:00:00\",\"2024-01-02T00:00:00\",\"2024-01-03T00:00:00\",\"2024-01-04T00:00:00\",\"2024-01-05T00:00:00\",\"2024-01-08T00:00:00\",\"2024-01-09T00:00:00\",\"2024-01-10T00:00:00\",\"2024-01-11T00:00:00\",\"2024-01-12T00:00:00\",\"2024-01-15T00:00:00\",\"2024-01-16T00:00:00\",\"2024-01-17T00:00:00\",\"2024-01-18T00:00:00\",\"2024-01-19T00:00:00\",\"2024-01-23T00:00:00\",\"2024-01-24T00:00:00\",\"2024-01-25T00:00:00\",\"2024-01-29T00:00:00\",\"2024-01-30T00:00:00\",\"2024-01-31T00:00:00\"],\"y\":[null,null,null,null,null,null,3284.0441380143166,3295.208091303706,3304.993592891842,3322.382706875913,3325.299542363966,3338.574632358912,3351.430974269184,3356.8482551159505,3358.4112157510253,3372.5333873992067,3388.4750527564365,3398.7937895673276,3401.857854382527,3409.8058663728325,3397.029387572593,3399.859565093507,3414.9946494060678,3431.820999261582,3438.8532372391555,3447.2774401363977,3465.483104516361,3484.3248528013332,3497.631151808031,3493.823339441961,3495.392528995533,3501.7068723325874,3515.792666456472,3512.1319754282913,3505.9239937782495,3492.192995333687,3469.5322587072965,3455.5992062375035,3441.811892471096,3414.3214437673846,3388.953607239601,3388.1401932226695,3371.467632709971,3364.1382001184156,3366.066174502874,3372.1496064630933,3363.3247292613823,3355.243546946037,3336.9201480024967,3306.4275987948413,3279.5456746820682,3255.9092560115514,3236.756954215695,3213.3927278688025,3186.5695703156644,3172.6271899437797,3160.6328680437723,3150.599651032829,3143.524750481653,3136.6185384471773,3137.1888794213205,3154.3666351519278,3165.774976363946,3184.2812444799906,3193.3859211529616,3210.8894164506587,3211.6170745450254,3219.1252814947065,3211.556485535092,3193.542364151319,3177.844273113489,3155.7832292491794,3143.0374341439156,3147.490600021999,3154.3179622235302,3159.738471667648,3169.3413293366734,3173.9934847954737,3185.3076135966053,3193.8306857833913,3190.347989923481,3197.9359802355793,3206.1269729696533,3217.245254141302,3233.7464406059767,3247.0098426615136,3255.794857582073,3260.4211553935857,3259.0783787522205,3258.846259650103,3246.309682530546,3234.694786311972,3231.733614148042,3248.4751984040004,3260.6189110100313,3271.301707671586,3276.8512807536895,3289.8634361512045,3297.4851015274658,3302.163813938568,3298.997860453926,3305.2483953404444,3305.336320919396,3301.2272162754844,3283.9954244136443,3281.7215438961707,3270.403645715097,3255.1277464933537,3253.070785455953,3250.728076884933,3250.808569870731,3242.1814396100795,3225.361055293497,3221.6207670560602,3223.140563085014,3231.9054101067295,3233.554057580047,3229.2530675990974,3219.352276285261,3213.851731628008,3214.2512865139747,3236.250964885481,3245.263235871142,3261.159951317419,3275.8574512810333,3287.6180640467123,3298.0260480350344,3291.5070238192448,3286.730243450371,3280.0226581737156,3295.154505837318,3350.028354963926,3385.4462540159134,3413.2972149259977,3427.4854234015293,3436.439079758178,3419.404322025665,3413.240741519249,3409.718031725374,3404.363536001062,3402.497627586734,3390.723196275988,3398.40488499996,3411.816175957001,3419.0246075536884,3414.255943458235,3421.5794698007076,3437.1971145575617,3445.5478603322335,3449.785895249175,3447.864445850944,3448.098346595239,3448.5362843604917,3451.002188856306,3447.1891416422295,3427.1668806457346,3420.7876360702385,3411.128202638616,3407.908651978962,3402.8689889842217,3397.4767539451977,3391.99507766593,3388.033783835385,3388.7628256695075,3380.7721314591618,3380.37908638734,3389.909314790505,3399.7695105069415,3407.3021084661436,3419.289081349608,3424.941786598143,3438.868815534545,3474.35162385794,3497.7262423075176,3513.3071939376696,3534.5554076602834,3552.45403133115,3565.8530357053937,3570.7147889860767,3578.948567325495,3578.4989010800587,3580.299163603013,3582.549384909291,3571.099538681968,3560.4746784255385,3548.8185332332164,3546.0513999249124,3556.876074357747,3573.0070313542474,3589.342797929748,3599.2320740332484,3601.8990311108737,3587.0617855401865,3583.0088635692023,3568.269159883933,3552.9643821199807,3536.5357865899855,3516.3143155284265,3510.873248853351,3485.6924122259506,3461.7943335835253,3430.5332501876437,3410.6374254337015,3402.615581282307,3394.1491859617304,3378.274365057235,3373.7307982069888,3368.023074241179,3371.0798056808844,3370.922342053632,3373.579268747255,3367.04693935341,3358.6476923080263,3351.873281438051,3364.9799732855695,3398.1975043782395,3424.260616076648,3448.0954864715486,3463.62160264663,3480.25367757091,3487.2527581781824,3479.714593047699,3477.323420371712,3486.4300652787842,3486.7225733731507,3492.9544056158006,3497.828292004819,3506.271243417677,3530.72845697732,3551.7713183189276,3570.5034765321643,3588.6025829850605,3609.476961652858,3605.495233446675,3620.933925085006,3680.9504438137546,3725.5128206532845,3748.184603282932,3756.1509646692302,3763.9882235019227,3778.991167626442,3783.1308879268627,3790.148153738116,3792.5860908895247,3792.789543753081,3797.3671822288734,3793.8253744646236,3768.3065308484674,3742.929910343382,3741.6724083434738,3725.8293184646363,3716.846964434415,3715.8977355328425,3720.810813856663,3761.3081225995284,3796.9311041566775,3813.0233403245393,3830.9175296574667,3848.8381716571625,3872.3911409499033,3868.8558557124275,3862.091903991352,3849.1439402005453,3837.107955150409,3827.968478569838,3824.9638467203476],\"type\":\"scatter\"},{\"line\":{\"color\":\"red\"},\"mode\":\"lines\",\"name\":\"21 days\",\"x\":[\"2023-01-02T00:00:00\",\"2023-01-03T00:00:00\",\"2023-01-04T00:00:00\",\"2023-01-05T00:00:00\",\"2023-01-06T00:00:00\",\"2023-01-09T00:00:00\",\"2023-01-10T00:00:00\",\"2023-01-11T00:00:00\",\"2023-01-12T00:00:00\",\"2023-01-13T00:00:00\",\"2023-01-16T00:00:00\",\"2023-01-17T00:00:00\",\"2023-01-18T00:00:00\",\"2023-01-19T00:00:00\",\"2023-01-20T00:00:00\",\"2023-01-23T00:00:00\",\"2023-01-24T00:00:00\",\"2023-01-25T00:00:00\",\"2023-01-27T00:00:00\",\"2023-01-30T00:00:00\",\"2023-01-31T00:00:00\",\"2023-02-01T00:00:00\",\"2023-02-02T00:00:00\",\"2023-02-03T00:00:00\",\"2023-02-06T00:00:00\",\"2023-02-07T00:00:00\",\"2023-02-08T00:00:00\",\"2023-02-09T00:00:00\",\"2023-02-10T00:00:00\",\"2023-02-13T00:00:00\",\"2023-02-14T00:00:00\",\"2023-02-15T00:00:00\",\"2023-02-16T00:00:00\",\"2023-02-17T00:00:00\",\"2023-02-20T00:00:00\",\"2023-02-21T00:00:00\",\"2023-02-22T00:00:00\",\"2023-02-23T00:00:00\",\"2023-02-24T00:00:00\",\"2023-02-27T00:00:00\",\"2023-02-28T00:00:00\",\"2023-03-01T00:00:00\",\"2023-03-02T00:00:00\",\"2023-03-03T00:00:00\",\"2023-03-06T00:00:00\",\"2023-03-08T00:00:00\",\"2023-03-09T00:00:00\",\"2023-03-10T00:00:00\",\"2023-03-13T00:00:00\",\"2023-03-14T00:00:00\",\"2023-03-15T00:00:00\",\"2023-03-16T00:00:00\",\"2023-03-17T00:00:00\",\"2023-03-20T00:00:00\",\"2023-03-21T00:00:00\",\"2023-03-22T00:00:00\",\"2023-03-23T00:00:00\",\"2023-03-24T00:00:00\",\"2023-03-27T00:00:00\",\"2023-03-28T00:00:00\",\"2023-03-29T00:00:00\",\"2023-03-31T00:00:00\",\"2023-04-03T00:00:00\",\"2023-04-05T00:00:00\",\"2023-04-06T00:00:00\",\"2023-04-10T00:00:00\",\"2023-04-11T00:00:00\",\"2023-04-12T00:00:00\",\"2023-04-13T00:00:00\",\"2023-04-17T00:00:00\",\"2023-04-18T00:00:00\",\"2023-04-19T00:00:00\",\"2023-04-20T00:00:00\",\"2023-04-21T00:00:00\",\"2023-04-24T00:00:00\",\"2023-04-25T00:00:00\",\"2023-04-26T00:00:00\",\"2023-04-27T00:00:00\",\"2023-04-28T00:00:00\",\"2023-05-02T00:00:00\",\"2023-05-03T00:00:00\",\"2023-05-04T00:00:00\",\"2023-05-05T00:00:00\",\"2023-05-08T00:00:00\",\"2023-05-09T00:00:00\",\"2023-05-10T00:00:00\",\"2023-05-11T00:00:00\",\"2023-05-12T00:00:00\",\"2023-05-15T00:00:00\",\"2023-05-16T00:00:00\",\"2023-05-17T00:00:00\",\"2023-05-18T00:00:00\",\"2023-05-19T00:00:00\",\"2023-05-22T00:00:00\",\"2023-05-23T00:00:00\",\"2023-05-24T00:00:00\",\"2023-05-25T00:00:00\",\"2023-05-26T00:00:00\",\"2023-05-29T00:00:00\",\"2023-05-30T00:00:00\",\"2023-05-31T00:00:00\",\"2023-06-01T00:00:00\",\"2023-06-02T00:00:00\",\"2023-06-05T00:00:00\",\"2023-06-06T00:00:00\",\"2023-06-07T00:00:00\",\"2023-06-08T00:00:00\",\"2023-06-09T00:00:00\",\"2023-06-12T00:00:00\",\"2023-06-13T00:00:00\",\"2023-06-14T00:00:00\",\"2023-06-15T00:00:00\",\"2023-06-16T00:00:00\",\"2023-06-19T00:00:00\",\"2023-06-20T00:00:00\",\"2023-06-21T00:00:00\",\"2023-06-22T00:00:00\",\"2023-06-23T00:00:00\",\"2023-06-26T00:00:00\",\"2023-06-27T00:00:00\",\"2023-06-28T00:00:00\",\"2023-06-30T00:00:00\",\"2023-07-03T00:00:00\",\"2023-07-04T00:00:00\",\"2023-07-05T00:00:00\",\"2023-07-06T00:00:00\",\"2023-07-07T00:00:00\",\"2023-07-10T00:00:00\",\"2023-07-11T00:00:00\",\"2023-07-12T00:00:00\",\"2023-07-13T00:00:00\",\"2023-07-14T00:00:00\",\"2023-07-17T00:00:00\",\"2023-07-18T00:00:00\",\"2023-07-19T00:00:00\",\"2023-07-20T00:00:00\",\"2023-07-21T00:00:00\",\"2023-07-24T00:00:00\",\"2023-07-25T00:00:00\",\"2023-07-26T00:00:00\",\"2023-07-27T00:00:00\",\"2023-07-28T00:00:00\",\"2023-07-31T00:00:00\",\"2023-08-01T00:00:00\",\"2023-08-02T00:00:00\",\"2023-08-03T00:00:00\",\"2023-08-04T00:00:00\",\"2023-08-07T00:00:00\",\"2023-08-08T00:00:00\",\"2023-08-09T00:00:00\",\"2023-08-10T00:00:00\",\"2023-08-11T00:00:00\",\"2023-08-14T00:00:00\",\"2023-08-16T00:00:00\",\"2023-08-17T00:00:00\",\"2023-08-18T00:00:00\",\"2023-08-21T00:00:00\",\"2023-08-22T00:00:00\",\"2023-08-23T00:00:00\",\"2023-08-24T00:00:00\",\"2023-08-25T00:00:00\",\"2023-08-28T00:00:00\",\"2023-08-29T00:00:00\",\"2023-08-30T00:00:00\",\"2023-08-31T00:00:00\",\"2023-09-01T00:00:00\",\"2023-09-04T00:00:00\",\"2023-09-05T00:00:00\",\"2023-09-06T00:00:00\",\"2023-09-07T00:00:00\",\"2023-09-08T00:00:00\",\"2023-09-11T00:00:00\",\"2023-09-12T00:00:00\",\"2023-09-13T00:00:00\",\"2023-09-14T00:00:00\",\"2023-09-15T00:00:00\",\"2023-09-18T00:00:00\",\"2023-09-20T00:00:00\",\"2023-09-21T00:00:00\",\"2023-09-22T00:00:00\",\"2023-09-25T00:00:00\",\"2023-09-26T00:00:00\",\"2023-09-27T00:00:00\",\"2023-09-28T00:00:00\",\"2023-09-29T00:00:00\",\"2023-10-03T00:00:00\",\"2023-10-04T00:00:00\",\"2023-10-05T00:00:00\",\"2023-10-06T00:00:00\",\"2023-10-09T00:00:00\",\"2023-10-10T00:00:00\",\"2023-10-11T00:00:00\",\"2023-10-12T00:00:00\",\"2023-10-13T00:00:00\",\"2023-10-16T00:00:00\",\"2023-10-17T00:00:00\",\"2023-10-18T00:00:00\",\"2023-10-19T00:00:00\",\"2023-10-20T00:00:00\",\"2023-10-23T00:00:00\",\"2023-10-25T00:00:00\",\"2023-10-26T00:00:00\",\"2023-10-27T00:00:00\",\"2023-10-30T00:00:00\",\"2023-10-31T00:00:00\",\"2023-11-01T00:00:00\",\"2023-11-02T00:00:00\",\"2023-11-03T00:00:00\",\"2023-11-06T00:00:00\",\"2023-11-07T00:00:00\",\"2023-11-08T00:00:00\",\"2023-11-09T00:00:00\",\"2023-11-10T00:00:00\",\"2023-11-13T00:00:00\",\"2023-11-15T00:00:00\",\"2023-11-16T00:00:00\",\"2023-11-17T00:00:00\",\"2023-11-20T00:00:00\",\"2023-11-21T00:00:00\",\"2023-11-22T00:00:00\",\"2023-11-23T00:00:00\",\"2023-11-24T00:00:00\",\"2023-11-28T00:00:00\",\"2023-11-29T00:00:00\",\"2023-11-30T00:00:00\",\"2023-12-01T00:00:00\",\"2023-12-04T00:00:00\",\"2023-12-05T00:00:00\",\"2023-12-06T00:00:00\",\"2023-12-07T00:00:00\",\"2023-12-08T00:00:00\",\"2023-12-11T00:00:00\",\"2023-12-12T00:00:00\",\"2023-12-13T00:00:00\",\"2023-12-14T00:00:00\",\"2023-12-15T00:00:00\",\"2023-12-18T00:00:00\",\"2023-12-19T00:00:00\",\"2023-12-20T00:00:00\",\"2023-12-21T00:00:00\",\"2023-12-22T00:00:00\",\"2023-12-26T00:00:00\",\"2023-12-27T00:00:00\",\"2023-12-28T00:00:00\",\"2023-12-29T00:00:00\",\"2024-01-01T00:00:00\",\"2024-01-02T00:00:00\",\"2024-01-03T00:00:00\",\"2024-01-04T00:00:00\",\"2024-01-05T00:00:00\",\"2024-01-08T00:00:00\",\"2024-01-09T00:00:00\",\"2024-01-10T00:00:00\",\"2024-01-11T00:00:00\",\"2024-01-12T00:00:00\",\"2024-01-15T00:00:00\",\"2024-01-16T00:00:00\",\"2024-01-17T00:00:00\",\"2024-01-18T00:00:00\",\"2024-01-19T00:00:00\",\"2024-01-23T00:00:00\",\"2024-01-24T00:00:00\",\"2024-01-25T00:00:00\",\"2024-01-29T00:00:00\",\"2024-01-30T00:00:00\",\"2024-01-31T00:00:00\"],\"y\":[null,null,null,null,null,null,null,null,null,null,null,null,null,null,null,null,null,null,null,null,3360.5798818391017,3364.9226287315696,3373.6023808781315,3383.4839870554033,3390.4354383387185,3397.9004029286643,3409.0094660857176,3420.994978046675,3431.5908935722614,3436.2098943696697,3442.0180946684495,3449.1664408207494,3459.0649506396016,3462.8908553399788,3465.10987292981,3463.827157208918,3458.1656019015727,3454.1323698039864,3449.2521499283403,3438.579236085423,3427.149314410043,3423.3811904793006,3414.1147141786255,3407.5724585572734,3404.324971202635,3403.0590558518275,3397.0400596522295,3391.036417865663,3381.119466348046,3366.013146786576,3350.82103365541,3335.7463942321906,3321.5239991954572,3305.321821889336,3287.2107560499644,3272.991600847979,3259.505991893049,3246.8690835391353,3235.5446258381344,3224.6678327931904,3216.8707482068776,3215.8733985829567,3214.4303623481424,3216.736697482686,3217.096993272612,3221.3063486427154,3220.62395775048,3222.535407258959,3219.4731063859854,3212.2028239872593,3204.7980218065995,3194.3254832474768,3186.186807391172,3183.8834701425426,3183.057704568505,3182.4160950622772,3183.8464411787745,3184.2194875417836,3187.4040795834394,3190.3127907434678,3189.366164525312,3192.21469058409,3195.713350637525,3200.7030549119545,3208.207322647231,3215.352115936403,3221.424641973435,3226.2314971420433,3228.851365477142,3231.5148688286513,3229.440785405308,3226.750722882666,3226.3961205893556,3232.9691960968576,3238.794728163336,3244.663398117237,3249.1030891974883,3256.357344938058,3262.174867912439,3267.086239117842,3269.123853743493,3274.112594312266,3276.975094616265,3278.059168046036,3273.899248117135,3273.9902166831907,3270.577465273071,3265.0067910508033,3263.360710259253,3261.5733685240366,3260.6167030971355,3256.5879163454074,3249.161733254348,3245.6379304442935,3244.007205055892,3245.2974547027993,3244.679504275272,3242.104103673543,3237.335539916289,3233.7004997108306,3232.041358934562,3238.4239626677836,3241.503606864178,3247.6260151180027,3254.2009183956275,3260.44628057273,3266.701164157027,3267.1783266129223,3267.6530153157246,3266.9481868637267,3273.6392652241266,3295.5493231440923,3313.3811984193453,3330.060189259064,3342.7865401289787,3353.742313647083,3355.065744118087,3358.6734037437154,3362.3530854346277,3364.7119002885815,3367.6380822935967,3366.525520479974,3371.518650542874,3378.8396867506244,3384.4587972590907,3385.8670839784345,3391.110989873861,3399.559995233339,3406.018186362695,3411.1528966933593,3413.9662785990768,3417.1329849835356,3420.107267953782,3423.588416534688,3424.694015031534,3419.4582043610535,3417.839267814026,3414.594780044001,3413.1088909490913,3410.8035372264467,3408.121401917508,3405.1603698184736,3402.5230545934987,3401.470954282442,3397.4099628775043,3395.7545072679013,3397.8222793344557,3400.688444636437,3403.344031700738,3408.06275609158,3411.1388602963225,3417.4580459369977,3432.3073189271,3444.6293897206588,3455.1221769122462,3468.138347086417,3480.684852109811,3492.0816881751125,3500.5560845981136,3509.928249847717,3516.039309165538,3522.3720948024775,3528.4564542593544,3529.2104129630493,3529.15492975334,3527.7635813808774,3528.6714376189793,3534.1876794405493,3542.1160633408404,3550.8646119149685,3557.9587292266756,3562.6806540555003,3560.85059903483,3561.7596443640496,3558.3314993153294,3553.669549271038,3547.631408428216,3539.269453329628,3535.2040529204005,3523.8354937770687,3511.6777304933576,3495.7752095394158,3482.6092769605484,3473.149347130328,3463.658497391207,3451.5668069323474,3443.2516515436114,3434.856037979988,3429.8918527090796,3424.4880434784245,3420.584589419306,3413.935985942267,3406.619073690413,3399.7946168847507,3400.2042016068754,3409.0811012477275,3417.569178513559,3426.84471661744,3434.4224652132975,3443.124959497884,3449.0454177253487,3449.7776613554306,3451.62968326346,3457.276984784963,3460.0336314096257,3464.726019676364,3469.0645589032288,3474.7496078807762,3486.50874331491,3498.1806668629865,3509.864238163794,3521.958389452881,3535.607635653187,3540.8751277599995,3552.3637525090903,3580.421593190082,3605.765080279336,3624.8955230877486,3639.0004799732374,3652.500436339307,3668.091305763006,3679.678464223471,3691.6349630369623,3701.47723024667,3709.83383680095,3719.039860515068,3724.872596029323,3721.8614509357485,3716.8558689259644,3718.768962873036,3715.0899706871346,3712.7999644740994,3712.8226994153742,3714.8888220892604,3730.1534790655205,3745.9395308621206,3756.4268506772114,3768.078964038942,3780.3081580041517,3795.1028753517858,3800.8435230470777,3804.5668435726275,3805.0880440503997,3804.7164036821814,3804.3376441499945,3805.393308424711],\"type\":\"scatter\"}],                        {\"template\":{\"data\":{\"histogram2dcontour\":[{\"type\":\"histogram2dcontour\",\"colorbar\":{\"outlinewidth\":0,\"ticks\":\"\"},\"colorscale\":[[0.0,\"#0d0887\"],[0.1111111111111111,\"#46039f\"],[0.2222222222222222,\"#7201a8\"],[0.3333333333333333,\"#9c179e\"],[0.4444444444444444,\"#bd3786\"],[0.5555555555555556,\"#d8576b\"],[0.6666666666666666,\"#ed7953\"],[0.7777777777777778,\"#fb9f3a\"],[0.8888888888888888,\"#fdca26\"],[1.0,\"#f0f921\"]]}],\"choropleth\":[{\"type\":\"choropleth\",\"colorbar\":{\"outlinewidth\":0,\"ticks\":\"\"}}],\"histogram2d\":[{\"type\":\"histogram2d\",\"colorbar\":{\"outlinewidth\":0,\"ticks\":\"\"},\"colorscale\":[[0.0,\"#0d0887\"],[0.1111111111111111,\"#46039f\"],[0.2222222222222222,\"#7201a8\"],[0.3333333333333333,\"#9c179e\"],[0.4444444444444444,\"#bd3786\"],[0.5555555555555556,\"#d8576b\"],[0.6666666666666666,\"#ed7953\"],[0.7777777777777778,\"#fb9f3a\"],[0.8888888888888888,\"#fdca26\"],[1.0,\"#f0f921\"]]}],\"heatmap\":[{\"type\":\"heatmap\",\"colorbar\":{\"outlinewidth\":0,\"ticks\":\"\"},\"colorscale\":[[0.0,\"#0d0887\"],[0.1111111111111111,\"#46039f\"],[0.2222222222222222,\"#7201a8\"],[0.3333333333333333,\"#9c179e\"],[0.4444444444444444,\"#bd3786\"],[0.5555555555555556,\"#d8576b\"],[0.6666666666666666,\"#ed7953\"],[0.7777777777777778,\"#fb9f3a\"],[0.8888888888888888,\"#fdca26\"],[1.0,\"#f0f921\"]]}],\"heatmapgl\":[{\"type\":\"heatmapgl\",\"colorbar\":{\"outlinewidth\":0,\"ticks\":\"\"},\"colorscale\":[[0.0,\"#0d0887\"],[0.1111111111111111,\"#46039f\"],[0.2222222222222222,\"#7201a8\"],[0.3333333333333333,\"#9c179e\"],[0.4444444444444444,\"#bd3786\"],[0.5555555555555556,\"#d8576b\"],[0.6666666666666666,\"#ed7953\"],[0.7777777777777778,\"#fb9f3a\"],[0.8888888888888888,\"#fdca26\"],[1.0,\"#f0f921\"]]}],\"contourcarpet\":[{\"type\":\"contourcarpet\",\"colorbar\":{\"outlinewidth\":0,\"ticks\":\"\"}}],\"contour\":[{\"type\":\"contour\",\"colorbar\":{\"outlinewidth\":0,\"ticks\":\"\"},\"colorscale\":[[0.0,\"#0d0887\"],[0.1111111111111111,\"#46039f\"],[0.2222222222222222,\"#7201a8\"],[0.3333333333333333,\"#9c179e\"],[0.4444444444444444,\"#bd3786\"],[0.5555555555555556,\"#d8576b\"],[0.6666666666666666,\"#ed7953\"],[0.7777777777777778,\"#fb9f3a\"],[0.8888888888888888,\"#fdca26\"],[1.0,\"#f0f921\"]]}],\"surface\":[{\"type\":\"surface\",\"colorbar\":{\"outlinewidth\":0,\"ticks\":\"\"},\"colorscale\":[[0.0,\"#0d0887\"],[0.1111111111111111,\"#46039f\"],[0.2222222222222222,\"#7201a8\"],[0.3333333333333333,\"#9c179e\"],[0.4444444444444444,\"#bd3786\"],[0.5555555555555556,\"#d8576b\"],[0.6666666666666666,\"#ed7953\"],[0.7777777777777778,\"#fb9f3a\"],[0.8888888888888888,\"#fdca26\"],[1.0,\"#f0f921\"]]}],\"mesh3d\":[{\"type\":\"mesh3d\",\"colorbar\":{\"outlinewidth\":0,\"ticks\":\"\"}}],\"scatter\":[{\"fillpattern\":{\"fillmode\":\"overlay\",\"size\":10,\"solidity\":0.2},\"type\":\"scatter\"}],\"parcoords\":[{\"type\":\"parcoords\",\"line\":{\"colorbar\":{\"outlinewidth\":0,\"ticks\":\"\"}}}],\"scatterpolargl\":[{\"type\":\"scatterpolargl\",\"marker\":{\"colorbar\":{\"outlinewidth\":0,\"ticks\":\"\"}}}],\"bar\":[{\"error_x\":{\"color\":\"#2a3f5f\"},\"error_y\":{\"color\":\"#2a3f5f\"},\"marker\":{\"line\":{\"color\":\"#E5ECF6\",\"width\":0.5},\"pattern\":{\"fillmode\":\"overlay\",\"size\":10,\"solidity\":0.2}},\"type\":\"bar\"}],\"scattergeo\":[{\"type\":\"scattergeo\",\"marker\":{\"colorbar\":{\"outlinewidth\":0,\"ticks\":\"\"}}}],\"scatterpolar\":[{\"type\":\"scatterpolar\",\"marker\":{\"colorbar\":{\"outlinewidth\":0,\"ticks\":\"\"}}}],\"histogram\":[{\"marker\":{\"pattern\":{\"fillmode\":\"overlay\",\"size\":10,\"solidity\":0.2}},\"type\":\"histogram\"}],\"scattergl\":[{\"type\":\"scattergl\",\"marker\":{\"colorbar\":{\"outlinewidth\":0,\"ticks\":\"\"}}}],\"scatter3d\":[{\"type\":\"scatter3d\",\"line\":{\"colorbar\":{\"outlinewidth\":0,\"ticks\":\"\"}},\"marker\":{\"colorbar\":{\"outlinewidth\":0,\"ticks\":\"\"}}}],\"scattermapbox\":[{\"type\":\"scattermapbox\",\"marker\":{\"colorbar\":{\"outlinewidth\":0,\"ticks\":\"\"}}}],\"scatterternary\":[{\"type\":\"scatterternary\",\"marker\":{\"colorbar\":{\"outlinewidth\":0,\"ticks\":\"\"}}}],\"scattercarpet\":[{\"type\":\"scattercarpet\",\"marker\":{\"colorbar\":{\"outlinewidth\":0,\"ticks\":\"\"}}}],\"carpet\":[{\"aaxis\":{\"endlinecolor\":\"#2a3f5f\",\"gridcolor\":\"white\",\"linecolor\":\"white\",\"minorgridcolor\":\"white\",\"startlinecolor\":\"#2a3f5f\"},\"baxis\":{\"endlinecolor\":\"#2a3f5f\",\"gridcolor\":\"white\",\"linecolor\":\"white\",\"minorgridcolor\":\"white\",\"startlinecolor\":\"#2a3f5f\"},\"type\":\"carpet\"}],\"table\":[{\"cells\":{\"fill\":{\"color\":\"#EBF0F8\"},\"line\":{\"color\":\"white\"}},\"header\":{\"fill\":{\"color\":\"#C8D4E3\"},\"line\":{\"color\":\"white\"}},\"type\":\"table\"}],\"barpolar\":[{\"marker\":{\"line\":{\"color\":\"#E5ECF6\",\"width\":0.5},\"pattern\":{\"fillmode\":\"overlay\",\"size\":10,\"solidity\":0.2}},\"type\":\"barpolar\"}],\"pie\":[{\"automargin\":true,\"type\":\"pie\"}]},\"layout\":{\"autotypenumbers\":\"strict\",\"colorway\":[\"#636efa\",\"#EF553B\",\"#00cc96\",\"#ab63fa\",\"#FFA15A\",\"#19d3f3\",\"#FF6692\",\"#B6E880\",\"#FF97FF\",\"#FECB52\"],\"font\":{\"color\":\"#2a3f5f\"},\"hovermode\":\"closest\",\"hoverlabel\":{\"align\":\"left\"},\"paper_bgcolor\":\"white\",\"plot_bgcolor\":\"#E5ECF6\",\"polar\":{\"bgcolor\":\"#E5ECF6\",\"angularaxis\":{\"gridcolor\":\"white\",\"linecolor\":\"white\",\"ticks\":\"\"},\"radialaxis\":{\"gridcolor\":\"white\",\"linecolor\":\"white\",\"ticks\":\"\"}},\"ternary\":{\"bgcolor\":\"#E5ECF6\",\"aaxis\":{\"gridcolor\":\"white\",\"linecolor\":\"white\",\"ticks\":\"\"},\"baxis\":{\"gridcolor\":\"white\",\"linecolor\":\"white\",\"ticks\":\"\"},\"caxis\":{\"gridcolor\":\"white\",\"linecolor\":\"white\",\"ticks\":\"\"}},\"coloraxis\":{\"colorbar\":{\"outlinewidth\":0,\"ticks\":\"\"}},\"colorscale\":{\"sequential\":[[0.0,\"#0d0887\"],[0.1111111111111111,\"#46039f\"],[0.2222222222222222,\"#7201a8\"],[0.3333333333333333,\"#9c179e\"],[0.4444444444444444,\"#bd3786\"],[0.5555555555555556,\"#d8576b\"],[0.6666666666666666,\"#ed7953\"],[0.7777777777777778,\"#fb9f3a\"],[0.8888888888888888,\"#fdca26\"],[1.0,\"#f0f921\"]],\"sequentialminus\":[[0.0,\"#0d0887\"],[0.1111111111111111,\"#46039f\"],[0.2222222222222222,\"#7201a8\"],[0.3333333333333333,\"#9c179e\"],[0.4444444444444444,\"#bd3786\"],[0.5555555555555556,\"#d8576b\"],[0.6666666666666666,\"#ed7953\"],[0.7777777777777778,\"#fb9f3a\"],[0.8888888888888888,\"#fdca26\"],[1.0,\"#f0f921\"]],\"diverging\":[[0,\"#8e0152\"],[0.1,\"#c51b7d\"],[0.2,\"#de77ae\"],[0.3,\"#f1b6da\"],[0.4,\"#fde0ef\"],[0.5,\"#f7f7f7\"],[0.6,\"#e6f5d0\"],[0.7,\"#b8e186\"],[0.8,\"#7fbc41\"],[0.9,\"#4d9221\"],[1,\"#276419\"]]},\"xaxis\":{\"gridcolor\":\"white\",\"linecolor\":\"white\",\"ticks\":\"\",\"title\":{\"standoff\":15},\"zerolinecolor\":\"white\",\"automargin\":true,\"zerolinewidth\":2},\"yaxis\":{\"gridcolor\":\"white\",\"linecolor\":\"white\",\"ticks\":\"\",\"title\":{\"standoff\":15},\"zerolinecolor\":\"white\",\"automargin\":true,\"zerolinewidth\":2},\"scene\":{\"xaxis\":{\"backgroundcolor\":\"#E5ECF6\",\"gridcolor\":\"white\",\"linecolor\":\"white\",\"showbackground\":true,\"ticks\":\"\",\"zerolinecolor\":\"white\",\"gridwidth\":2},\"yaxis\":{\"backgroundcolor\":\"#E5ECF6\",\"gridcolor\":\"white\",\"linecolor\":\"white\",\"showbackground\":true,\"ticks\":\"\",\"zerolinecolor\":\"white\",\"gridwidth\":2},\"zaxis\":{\"backgroundcolor\":\"#E5ECF6\",\"gridcolor\":\"white\",\"linecolor\":\"white\",\"showbackground\":true,\"ticks\":\"\",\"zerolinecolor\":\"white\",\"gridwidth\":2}},\"shapedefaults\":{\"line\":{\"color\":\"#2a3f5f\"}},\"annotationdefaults\":{\"arrowcolor\":\"#2a3f5f\",\"arrowhead\":0,\"arrowwidth\":1},\"geo\":{\"bgcolor\":\"white\",\"landcolor\":\"#E5ECF6\",\"subunitcolor\":\"white\",\"showland\":true,\"showlakes\":true,\"lakecolor\":\"white\"},\"title\":{\"x\":0.05},\"mapbox\":{\"style\":\"light\"}}},\"xaxis\":{\"rangeslider\":{\"visible\":false},\"title\":{\"text\":\"Date\"}},\"title\":{\"text\":\"Moving Average 7 days vs 21 days\"},\"yaxis\":{\"title\":{\"text\":\"Close\"}}},                        {\"responsive\": true}                    ).then(function(){\n",
       "                            \n",
       "var gd = document.getElementById('04709078-41c8-41b5-95bc-8198e00e79a0');\n",
       "var x = new MutationObserver(function (mutations, observer) {{\n",
       "        var display = window.getComputedStyle(gd).display;\n",
       "        if (!display || display === 'none') {{\n",
       "            console.log([gd, 'removed!']);\n",
       "            Plotly.purge(gd);\n",
       "            observer.disconnect();\n",
       "        }}\n",
       "}});\n",
       "\n",
       "// Listen for the removal of the full notebook cells\n",
       "var notebookContainer = gd.closest('#notebook-container');\n",
       "if (notebookContainer) {{\n",
       "    x.observe(notebookContainer, {childList: true});\n",
       "}}\n",
       "\n",
       "// Listen for the clearing of the current output cell\n",
       "var outputEl = gd.closest('.output');\n",
       "if (outputEl) {{\n",
       "    x.observe(outputEl, {childList: true});\n",
       "}}\n",
       "\n",
       "                        })                };                });            </script>        </div>"
      ]
     },
     "metadata": {},
     "output_type": "display_data"
    }
   ],
   "source": [
    "# ohlc plot with fast and slow EMA\n",
    "fn.ohlc_ma_chart(dataframe=df,ma_feature1='EXPONENTIAL_MA_7',ma_feature2='EXPONENTIAL_MA_21',name1='7 days',name2='21 days',color1='black',color2='red')"
   ]
  },
  {
   "cell_type": "markdown",
   "metadata": {},
   "source": [
    "# Quaterly Year Analysis using Gemini"
   ]
  },
  {
   "cell_type": "code",
   "execution_count": 48,
   "metadata": {},
   "outputs": [
    {
     "ename": "ModuleNotFoundError",
     "evalue": "No module named 'PyPDF2'",
     "output_type": "error",
     "traceback": [
      "\u001b[1;31m---------------------------------------------------------------------------\u001b[0m",
      "\u001b[1;31mModuleNotFoundError\u001b[0m                       Traceback (most recent call last)",
      "Cell \u001b[1;32mIn[48], line 1\u001b[0m\n\u001b[1;32m----> 1\u001b[0m \u001b[38;5;28;01mfrom\u001b[39;00m \u001b[38;5;21;01mfinancial_statements\u001b[39;00m \u001b[38;5;28;01mimport\u001b[39;00m FinancialStatus\n\u001b[0;32m      2\u001b[0m company_name \u001b[38;5;241m=\u001b[39m \u001b[38;5;124m'\u001b[39m\u001b[38;5;124mTCS\u001b[39m\u001b[38;5;124m'\u001b[39m \u001b[38;5;66;03m# ticker name\u001b[39;00m\n\u001b[0;32m      3\u001b[0m re \u001b[38;5;241m=\u001b[39m FinancialStatus(symbol\u001b[38;5;241m=\u001b[39m\u001b[38;5;124m'\u001b[39m\u001b[38;5;124m./TCS.pdf\u001b[39m\u001b[38;5;124m'\u001b[39m) \u001b[38;5;66;03m# file\u001b[39;00m\n",
      "File \u001b[1;32me:\\Python_for_finance\\financial_statements.py:2\u001b[0m\n\u001b[0;32m      1\u001b[0m \u001b[38;5;28;01mimport\u001b[39;00m \u001b[38;5;21;01mos\u001b[39;00m  \u001b[38;5;66;03m# Importing the 'os' module for operating system related functionalities\u001b[39;00m\n\u001b[1;32m----> 2\u001b[0m \u001b[38;5;28;01mfrom\u001b[39;00m \u001b[38;5;21;01mPyPDF2\u001b[39;00m \u001b[38;5;28;01mimport\u001b[39;00m PdfReader  \u001b[38;5;66;03m# Importing PdfReader class from PyPDF2 library for reading PDF files\u001b[39;00m\n\u001b[0;32m      3\u001b[0m \u001b[38;5;28;01mfrom\u001b[39;00m \u001b[38;5;21;01mlangchain\u001b[39;00m\u001b[38;5;21;01m.\u001b[39;00m\u001b[38;5;21;01mchains\u001b[39;00m\u001b[38;5;21;01m.\u001b[39;00m\u001b[38;5;21;01mquestion_answering\u001b[39;00m \u001b[38;5;28;01mimport\u001b[39;00m load_qa_chain  \u001b[38;5;66;03m# Importing the function load_qa_chain from langchain library for question answering\u001b[39;00m\n\u001b[0;32m      4\u001b[0m \u001b[38;5;28;01mimport\u001b[39;00m \u001b[38;5;21;01mgoogle\u001b[39;00m\u001b[38;5;21;01m.\u001b[39;00m\u001b[38;5;21;01mgenerativeai\u001b[39;00m \u001b[38;5;28;01mas\u001b[39;00m \u001b[38;5;21;01mgenai\u001b[39;00m  \u001b[38;5;66;03m# Importing the Google Generative AI module from the google package\u001b[39;00m\n",
      "\u001b[1;31mModuleNotFoundError\u001b[0m: No module named 'PyPDF2'"
     ]
    }
   ],
   "source": [
    "from financial_statements import FinancialStatus\n",
    "company_name = 'TCS' # ticker name\n",
    "re = FinancialStatus(symbol='./TCS.pdf') # file\n",
    "\n",
    "# financial result\n",
    "financialresult = re.get_result(chunksize=1000,overlap=300,model=\"models/embedding-001\",type='stuff',user_question=f'should i invest in {company_name}?')\n",
    "   \n",
    "print(financialresult)"
   ]
  },
  {
   "cell_type": "markdown",
   "metadata": {},
   "source": [
    "# Balance Sheet Analysis"
   ]
  },
  {
   "cell_type": "code",
   "execution_count": null,
   "metadata": {},
   "outputs": [],
   "source": [
    "re = FinancialStatus(symbol='./INFY_balance_sheet.txt') # ticker file\n",
    "# financial result\n",
    "financialresult = re.get_result(chunksize=1000,overlap=300,model=\"models/embedding-001\",type='stuff',user_question=f'should i invest in {company_name}?')\n",
    "   \n",
    "print(financialresult)"
   ]
  },
  {
   "cell_type": "markdown",
   "metadata": {},
   "source": [
    "# Cash Flow Analysis"
   ]
  },
  {
   "cell_type": "code",
   "execution_count": null,
   "metadata": {},
   "outputs": [],
   "source": [
    "df"
   ]
  },
  {
   "cell_type": "code",
   "execution_count": null,
   "metadata": {},
   "outputs": [],
   "source": [
    "re = FinancialStatus(symbol='./INFY_cash_flow.txt') # ticker file\n",
    "# financial result\n",
    "financialresult = re.get_result(chunksize=1000,overlap=300,model=\"models/embedding-001\",type='stuff',user_question=f'should i invest in {company_name} only on the basis of last five years performane?')\n",
    "   \n",
    "print(financialresult)"
   ]
  }
 ],
 "metadata": {
  "kernelspec": {
   "display_name": "Python 3",
   "language": "python",
   "name": "python3"
  },
  "language_info": {
   "codemirror_mode": {
    "name": "ipython",
    "version": 3
   },
   "file_extension": ".py",
   "mimetype": "text/x-python",
   "name": "python",
   "nbconvert_exporter": "python",
   "pygments_lexer": "ipython3",
   "version": "3.12.4"
  }
 },
 "nbformat": 4,
 "nbformat_minor": 2
}
